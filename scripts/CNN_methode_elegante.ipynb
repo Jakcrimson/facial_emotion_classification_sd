{
 "cells": [
  {
   "cell_type": "markdown",
   "metadata": {},
   "source": [
    "# Approche Deep Learning"
   ]
  },
  {
   "cell_type": "markdown",
   "metadata": {},
   "source": [
    "Nous proposons une approche élégante en utilisant les réseaux de neurones convolutionnels directements appliqués aux images issues des plot des landmarks.\n",
    "Cette approche élégante sera conduite de manière la plus optimisée possible.\n",
    "\n",
    "Il y a aura  deux types d'images :\n",
    "- les plot avec des points noirs\n",
    "- les plot avec les points colorés délimitant les différentes zones du visage (annotation manuelle des images)\n",
    "\n",
    "Ce notebook comprendra une approche directe (pas d'augmentation, pas/peu d'optimisation d'hyperparametres) et un approche avancée (data augmentation, architecture optimisée) et si le temps le permet du fine tuning ou transfert learning vers d'autres backbones plus avancés."
   ]
  },
  {
   "cell_type": "markdown",
   "metadata": {},
   "source": [
    "## Librairies"
   ]
  },
  {
   "cell_type": "code",
   "execution_count": 1,
   "metadata": {},
   "outputs": [],
   "source": [
    "from keras.models import Sequential\n",
    "from keras.layers import Conv2D, MaxPool2D, Flatten, Dense, Dropout, BatchNormalization\n",
    "from keras.preprocessing.image import ImageDataGenerator\n",
    "from keras.optimizers import Adam"
   ]
  },
  {
   "cell_type": "markdown",
   "metadata": {},
   "source": [
    "### Data generation and preprocessing"
   ]
  },
  {
   "cell_type": "code",
   "execution_count": 2,
   "metadata": {},
   "outputs": [
    {
     "name": "stdout",
     "output_type": "stream",
     "text": [
      "Found 298 images belonging to 6 classes.\n",
      "Found 15 images belonging to 6 classes.\n"
     ]
    }
   ],
   "source": [
    "# Data Preparation and augmentation\n",
    "train_datagen_augmented =         ImageDataGenerator(rescale=1./255,\n",
    "                                        shear_range=0.2,\n",
    "                                        zoom_range=0.2,\n",
    "                                        horizontal_flip=True,\n",
    "                                        rotation_range=15,\n",
    "                                        width_shift_range=0.1,\n",
    "                                        height_shift_range=0.1)\n",
    "\n",
    "test_datagen =          ImageDataGenerator(rescale=1./255)\n",
    "\n",
    "train_generator_augmented =       train_datagen_augmented.flow_from_directory(\n",
    "                        r'../CK+_lands/images/train/',\n",
    "                        target_size=(150, 150),\n",
    "                        batch_size=32,\n",
    "                        class_mode='categorical')\n",
    "\n",
    "validation_generator =  test_datagen.flow_from_directory(\n",
    "                        r'../CK+_lands/images/val/',\n",
    "                        target_size=(150, 150),\n",
    "                        batch_size=32,\n",
    "                        class_mode='categorical')"
   ]
  },
  {
   "cell_type": "code",
   "execution_count": 3,
   "metadata": {},
   "outputs": [
    {
     "name": "stdout",
     "output_type": "stream",
     "text": [
      "Found 298 images belonging to 6 classes.\n"
     ]
    },
    {
     "name": "stdout",
     "output_type": "stream",
     "text": [
      "Found 15 images belonging to 6 classes.\n"
     ]
    }
   ],
   "source": [
    "# Data Preparation NO AUGMENTATION\n",
    "train_datagen =         ImageDataGenerator(rescale=1./255)\n",
    "test_datagen =          ImageDataGenerator(rescale=1./255)\n",
    "\n",
    "train_generator =       train_datagen.flow_from_directory(\n",
    "                        r'../CK+_lands/images/train/',\n",
    "                        target_size=(150, 150),\n",
    "                        batch_size=32,\n",
    "                        class_mode='categorical')\n",
    "\n",
    "validation_generator =  test_datagen.flow_from_directory(\n",
    "                        r'../CK+_lands/images/val/',\n",
    "                        target_size=(150, 150),\n",
    "                        batch_size=32,\n",
    "                        class_mode='categorical')"
   ]
  },
  {
   "cell_type": "markdown",
   "metadata": {},
   "source": [
    "### Building / Compiling / Fitting model"
   ]
  },
  {
   "cell_type": "code",
   "execution_count": 4,
   "metadata": {},
   "outputs": [
    {
     "name": "stdout",
     "output_type": "stream",
     "text": [
      "Model: \"sequential\"\n",
      "_________________________________________________________________\n",
      " Layer (type)                Output Shape              Param #   \n",
      "=================================================================\n",
      " conv2d (Conv2D)             (None, 148, 148, 32)      896       \n",
      "                                                                 \n",
      " max_pooling2d (MaxPooling2  (None, 74, 74, 32)        0         \n",
      " D)                                                              \n",
      "                                                                 \n",
      " conv2d_1 (Conv2D)           (None, 72, 72, 64)        18496     \n",
      "                                                                 \n",
      " max_pooling2d_1 (MaxPoolin  (None, 36, 36, 64)        0         \n",
      " g2D)                                                            \n",
      "                                                                 \n",
      " conv2d_2 (Conv2D)           (None, 34, 34, 128)       73856     \n",
      "                                                                 \n",
      " max_pooling2d_2 (MaxPoolin  (None, 17, 17, 128)       0         \n",
      " g2D)                                                            \n",
      "                                                                 \n",
      " conv2d_3 (Conv2D)           (None, 15, 15, 256)       295168    \n",
      "                                                                 \n",
      " max_pooling2d_3 (MaxPoolin  (None, 7, 7, 256)         0         \n",
      " g2D)                                                            \n",
      "                                                                 \n",
      " flatten (Flatten)           (None, 12544)             0         \n",
      "                                                                 \n",
      " dense (Dense)               (None, 256)               3211520   \n",
      "                                                                 \n",
      " dropout (Dropout)           (None, 256)               0         \n",
      "                                                                 \n",
      " dense_1 (Dense)             (None, 6)                 1542      \n",
      "                                                                 \n",
      "=================================================================\n",
      "Total params: 3601478 (13.74 MB)\n",
      "Trainable params: 3601478 (13.74 MB)\n",
      "Non-trainable params: 0 (0.00 Byte)\n",
      "_________________________________________________________________\n"
     ]
    }
   ],
   "source": [
    "# Model Building\n",
    "model =     Sequential()\n",
    "model.add(Conv2D(32, kernel_size=(3, 3), activation='relu', input_shape=(150, 150, 3)))\n",
    "model.add(MaxPool2D(pool_size=2, strides=2, padding=\"valid\"))\n",
    "model.add(Conv2D(64, kernel_size=(3, 3), activation='relu'))\n",
    "model.add(MaxPool2D(pool_size=2, strides=2, padding=\"valid\"))\n",
    "model.add(Conv2D(128, kernel_size=(3, 3), activation='relu'))\n",
    "model.add(MaxPool2D(pool_size=2, strides=2, padding=\"valid\"))\n",
    "model.add(Conv2D(256, kernel_size=(3, 3), activation='relu'))\n",
    "model.add(MaxPool2D(pool_size=2, strides=2, padding=\"valid\"))\n",
    "model.add(Flatten())\n",
    "model.add(Dense(256, activation='relu'))\n",
    "model.add(Dropout(0.5))\n",
    "model.add(Dense(6, activation='softmax'))\n",
    "\n",
    "# Compilation\n",
    "model.compile(optimizer='adam', loss='categorical_crossentropy', metrics=['accuracy'])\n",
    "\n",
    "model.summary()"
   ]
  },
  {
   "cell_type": "code",
   "execution_count": 5,
   "metadata": {},
   "outputs": [
    {
     "data": {
      "image/png": "[encoded data removed]",
      "text/plain": [
       "<PIL.Image.Image image mode=RGBA size=801x234>"
      ]
     },
     "execution_count": 5,
     "metadata": {},
     "output_type": "execute_result"
    }
   ],
   "source": [
    "import visualkeras\n",
    "visualkeras.layered_view(model, legend=True, scale_xy=1)"
   ]
  },
  {
   "cell_type": "markdown",
   "metadata": {},
   "source": [
    "### Fitting model"
   ]
  },
  {
   "cell_type": "code",
   "execution_count": 6,
   "metadata": {},
   "outputs": [
    {
     "name": "stdout",
     "output_type": "stream",
     "text": [
      "Epoch 1/100\n",
      "10/10 [==============================] - 10s 787ms/step - loss: 1.8990 - accuracy: 0.2215 - val_loss: 1.7441 - val_accuracy: 0.2667\n",
      "Epoch 2/100\n",
      "10/10 [==============================] - 8s 745ms/step - loss: 1.7639 - accuracy: 0.2248 - val_loss: 1.7522 - val_accuracy: 0.2000\n",
      "Epoch 3/100\n",
      "10/10 [==============================] - 8s 733ms/step - loss: 1.7532 - accuracy: 0.2450 - val_loss: 1.7291 - val_accuracy: 0.2667\n",
      "Epoch 4/100\n",
      "10/10 [==============================] - 8s 762ms/step - loss: 1.7516 - accuracy: 0.2550 - val_loss: 1.7262 - val_accuracy: 0.2667\n",
      "Epoch 5/100\n",
      "10/10 [==============================] - 8s 843ms/step - loss: 1.7425 - accuracy: 0.2685 - val_loss: 1.7386 - val_accuracy: 0.2667\n",
      "Epoch 6/100\n",
      "10/10 [==============================] - 8s 742ms/step - loss: 1.7528 - accuracy: 0.2282 - val_loss: 1.7522 - val_accuracy: 0.2667\n",
      "Epoch 7/100\n",
      "10/10 [==============================] - 8s 729ms/step - loss: 1.7640 - accuracy: 0.2315 - val_loss: 1.7464 - val_accuracy: 0.2000\n",
      "Epoch 8/100\n",
      "10/10 [==============================] - 8s 826ms/step - loss: 1.7426 - accuracy: 0.2450 - val_loss: 1.7413 - val_accuracy: 0.2667\n",
      "Epoch 9/100\n",
      "10/10 [==============================] - 9s 885ms/step - loss: 1.7433 - accuracy: 0.2685 - val_loss: 1.7422 - val_accuracy: 0.2667\n",
      "Epoch 10/100\n",
      "10/10 [==============================] - 10s 946ms/step - loss: 1.7387 - accuracy: 0.2517 - val_loss: 1.7406 - val_accuracy: 0.2667\n",
      "Epoch 11/100\n",
      "10/10 [==============================] - 9s 904ms/step - loss: 1.7585 - accuracy: 0.2282 - val_loss: 1.7414 - val_accuracy: 0.2667\n",
      "Epoch 12/100\n",
      "10/10 [==============================] - 9s 902ms/step - loss: 1.7466 - accuracy: 0.2450 - val_loss: 1.7304 - val_accuracy: 0.2667\n",
      "Epoch 13/100\n",
      "10/10 [==============================] - 9s 803ms/step - loss: 1.7530 - accuracy: 0.2483 - val_loss: 1.7298 - val_accuracy: 0.2667\n",
      "Epoch 14/100\n",
      "10/10 [==============================] - 8s 795ms/step - loss: 1.7355 - accuracy: 0.2651 - val_loss: 1.7320 - val_accuracy: 0.2667\n",
      "Epoch 15/100\n",
      "10/10 [==============================] - 8s 800ms/step - loss: 1.7413 - accuracy: 0.2517 - val_loss: 1.7248 - val_accuracy: 0.2667\n",
      "Epoch 16/100\n",
      "10/10 [==============================] - 8s 804ms/step - loss: 1.7434 - accuracy: 0.2617 - val_loss: 1.7281 - val_accuracy: 0.2667\n",
      "Epoch 17/100\n",
      "10/10 [==============================] - 8s 888ms/step - loss: 1.7526 - accuracy: 0.2617 - val_loss: 1.7277 - val_accuracy: 0.2667\n",
      "Epoch 18/100\n",
      "10/10 [==============================] - 8s 795ms/step - loss: 1.7444 - accuracy: 0.2416 - val_loss: 1.7242 - val_accuracy: 0.2667\n",
      "Epoch 19/100\n",
      "10/10 [==============================] - 9s 845ms/step - loss: 1.7363 - accuracy: 0.2383 - val_loss: 1.7223 - val_accuracy: 0.2667\n",
      "Epoch 20/100\n",
      "10/10 [==============================] - 9s 830ms/step - loss: 1.7390 - accuracy: 0.2718 - val_loss: 1.7128 - val_accuracy: 0.2667\n",
      "Epoch 21/100\n",
      "10/10 [==============================] - 8s 821ms/step - loss: 1.7403 - accuracy: 0.2752 - val_loss: 1.7440 - val_accuracy: 0.2667\n",
      "Epoch 22/100\n",
      "10/10 [==============================] - 8s 819ms/step - loss: 1.7348 - accuracy: 0.2718 - val_loss: 1.7001 - val_accuracy: 0.2667\n",
      "Epoch 23/100\n",
      "10/10 [==============================] - 8s 758ms/step - loss: 1.7206 - accuracy: 0.2651 - val_loss: 1.6816 - val_accuracy: 0.2667\n",
      "Epoch 24/100\n",
      "10/10 [==============================] - 8s 846ms/step - loss: 1.7232 - accuracy: 0.2919 - val_loss: 1.6486 - val_accuracy: 0.2667\n",
      "Epoch 25/100\n",
      "10/10 [==============================] - 9s 839ms/step - loss: 1.6704 - accuracy: 0.2550 - val_loss: 1.5436 - val_accuracy: 0.2667\n",
      "Epoch 26/100\n",
      "10/10 [==============================] - 8s 812ms/step - loss: 1.6331 - accuracy: 0.2919 - val_loss: 1.4277 - val_accuracy: 0.4667\n",
      "Epoch 27/100\n",
      "10/10 [==============================] - 8s 781ms/step - loss: 1.5823 - accuracy: 0.3624 - val_loss: 1.3854 - val_accuracy: 0.6000\n",
      "Epoch 28/100\n",
      "10/10 [==============================] - 8s 754ms/step - loss: 1.5831 - accuracy: 0.3188 - val_loss: 1.3923 - val_accuracy: 0.6000\n",
      "Epoch 29/100\n",
      "10/10 [==============================] - 8s 768ms/step - loss: 1.5405 - accuracy: 0.3792 - val_loss: 1.2588 - val_accuracy: 0.4667\n",
      "Epoch 30/100\n",
      "10/10 [==============================] - 8s 829ms/step - loss: 1.5975 - accuracy: 0.3591 - val_loss: 1.2258 - val_accuracy: 0.6000\n",
      "Epoch 31/100\n",
      "10/10 [==============================] - 8s 801ms/step - loss: 1.5080 - accuracy: 0.4228 - val_loss: 1.1271 - val_accuracy: 0.6000\n",
      "Epoch 32/100\n",
      "10/10 [==============================] - 8s 766ms/step - loss: 1.4518 - accuracy: 0.4430 - val_loss: 1.1142 - val_accuracy: 0.6000\n",
      "Epoch 33/100\n",
      "10/10 [==============================] - 8s 780ms/step - loss: 1.3805 - accuracy: 0.4564 - val_loss: 0.9002 - val_accuracy: 0.6667\n",
      "Epoch 34/100\n",
      "10/10 [==============================] - 8s 750ms/step - loss: 1.4351 - accuracy: 0.4195 - val_loss: 0.8848 - val_accuracy: 0.6667\n",
      "Epoch 35/100\n",
      "10/10 [==============================] - 8s 777ms/step - loss: 1.3195 - accuracy: 0.4966 - val_loss: 0.9734 - val_accuracy: 0.6000\n",
      "Epoch 36/100\n",
      "10/10 [==============================] - 8s 735ms/step - loss: 1.2619 - accuracy: 0.5336 - val_loss: 1.0992 - val_accuracy: 0.4667\n",
      "Epoch 37/100\n",
      "10/10 [==============================] - 7s 703ms/step - loss: 1.2511 - accuracy: 0.5168 - val_loss: 0.8094 - val_accuracy: 0.6667\n",
      "Epoch 38/100\n",
      "10/10 [==============================] - 8s 755ms/step - loss: 1.1968 - accuracy: 0.5201 - val_loss: 0.6892 - val_accuracy: 0.6667\n",
      "Epoch 39/100\n",
      "10/10 [==============================] - 8s 832ms/step - loss: 1.2240 - accuracy: 0.5302 - val_loss: 0.8662 - val_accuracy: 0.6000\n",
      "Epoch 40/100\n",
      "10/10 [==============================] - 8s 812ms/step - loss: 1.2044 - accuracy: 0.5201 - val_loss: 0.6535 - val_accuracy: 0.6667\n",
      "Epoch 41/100\n",
      "10/10 [==============================] - 8s 799ms/step - loss: 1.1551 - accuracy: 0.5671 - val_loss: 0.6232 - val_accuracy: 0.6667\n",
      "Epoch 42/100\n",
      "10/10 [==============================] - 8s 760ms/step - loss: 1.0956 - accuracy: 0.5772 - val_loss: 0.8090 - val_accuracy: 0.6667\n",
      "Epoch 43/100\n",
      "10/10 [==============================] - 8s 781ms/step - loss: 1.1028 - accuracy: 0.5503 - val_loss: 0.5476 - val_accuracy: 0.7333\n",
      "Epoch 44/100\n",
      "10/10 [==============================] - 8s 764ms/step - loss: 0.9919 - accuracy: 0.5872 - val_loss: 0.5200 - val_accuracy: 0.7333\n",
      "Epoch 45/100\n",
      "10/10 [==============================] - 8s 740ms/step - loss: 0.9538 - accuracy: 0.6208 - val_loss: 0.4711 - val_accuracy: 0.8000\n",
      "Epoch 46/100\n",
      "10/10 [==============================] - 8s 745ms/step - loss: 1.0686 - accuracy: 0.5503 - val_loss: 0.5699 - val_accuracy: 0.7333\n",
      "Epoch 47/100\n",
      "10/10 [==============================] - 7s 691ms/step - loss: 1.0123 - accuracy: 0.5839 - val_loss: 0.5341 - val_accuracy: 0.6667\n",
      "Epoch 48/100\n",
      "10/10 [==============================] - 7s 710ms/step - loss: 0.9386 - accuracy: 0.6242 - val_loss: 0.4904 - val_accuracy: 0.8667\n",
      "Epoch 49/100\n",
      "10/10 [==============================] - 7s 700ms/step - loss: 0.9099 - accuracy: 0.6644 - val_loss: 0.3827 - val_accuracy: 0.8667\n",
      "Epoch 50/100\n",
      "10/10 [==============================] - 7s 764ms/step - loss: 0.9714 - accuracy: 0.6141 - val_loss: 0.4413 - val_accuracy: 0.9333\n",
      "Epoch 51/100\n",
      "10/10 [==============================] - 8s 770ms/step - loss: 0.8690 - accuracy: 0.6678 - val_loss: 0.3853 - val_accuracy: 0.8667\n",
      "Epoch 52/100\n",
      "10/10 [==============================] - 7s 713ms/step - loss: 0.8350 - accuracy: 0.6879 - val_loss: 0.3974 - val_accuracy: 0.8000\n",
      "Epoch 53/100\n",
      "10/10 [==============================] - 7s 694ms/step - loss: 0.8871 - accuracy: 0.6544 - val_loss: 0.3688 - val_accuracy: 0.9333\n",
      "Epoch 54/100\n",
      "10/10 [==============================] - 7s 776ms/step - loss: 0.8662 - accuracy: 0.6879 - val_loss: 0.3984 - val_accuracy: 0.8667\n",
      "Epoch 55/100\n",
      "10/10 [==============================] - 7s 720ms/step - loss: 0.8062 - accuracy: 0.6946 - val_loss: 0.3923 - val_accuracy: 0.8667\n",
      "Epoch 56/100\n",
      "10/10 [==============================] - 8s 742ms/step - loss: 0.8735 - accuracy: 0.6544 - val_loss: 0.3231 - val_accuracy: 0.9333\n",
      "Epoch 57/100\n",
      "10/10 [==============================] - 7s 724ms/step - loss: 0.7707 - accuracy: 0.7114 - val_loss: 0.2730 - val_accuracy: 0.9333\n",
      "Epoch 58/100\n",
      "10/10 [==============================] - 8s 740ms/step - loss: 0.7095 - accuracy: 0.7550 - val_loss: 0.2610 - val_accuracy: 0.9333\n",
      "Epoch 59/100\n",
      "10/10 [==============================] - 7s 727ms/step - loss: 0.7903 - accuracy: 0.7349 - val_loss: 0.3485 - val_accuracy: 0.9333\n",
      "Epoch 60/100\n",
      "10/10 [==============================] - 7s 716ms/step - loss: 0.7956 - accuracy: 0.7047 - val_loss: 0.3740 - val_accuracy: 0.9333\n",
      "Epoch 61/100\n",
      "10/10 [==============================] - 8s 767ms/step - loss: 0.7643 - accuracy: 0.7181 - val_loss: 0.2752 - val_accuracy: 0.8667\n",
      "Epoch 62/100\n",
      "10/10 [==============================] - 8s 754ms/step - loss: 0.7891 - accuracy: 0.6946 - val_loss: 0.3057 - val_accuracy: 1.0000\n",
      "Epoch 63/100\n",
      "10/10 [==============================] - 8s 728ms/step - loss: 0.7532 - accuracy: 0.7215 - val_loss: 0.2785 - val_accuracy: 1.0000\n",
      "Epoch 64/100\n",
      "10/10 [==============================] - 7s 722ms/step - loss: 0.7544 - accuracy: 0.7181 - val_loss: 0.2942 - val_accuracy: 0.9333\n",
      "Epoch 65/100\n",
      "10/10 [==============================] - 8s 768ms/step - loss: 0.8099 - accuracy: 0.6779 - val_loss: 0.3523 - val_accuracy: 0.9333\n",
      "Epoch 66/100\n",
      "10/10 [==============================] - 8s 728ms/step - loss: 0.8063 - accuracy: 0.7248 - val_loss: 0.3197 - val_accuracy: 0.9333\n",
      "Epoch 67/100\n",
      "10/10 [==============================] - 8s 745ms/step - loss: 0.7538 - accuracy: 0.7081 - val_loss: 0.2982 - val_accuracy: 0.9333\n",
      "Epoch 68/100\n",
      "10/10 [==============================] - 8s 734ms/step - loss: 0.7294 - accuracy: 0.7215 - val_loss: 0.2544 - val_accuracy: 0.9333\n",
      "Epoch 69/100\n",
      "10/10 [==============================] - 8s 751ms/step - loss: 0.6733 - accuracy: 0.7349 - val_loss: 0.2352 - val_accuracy: 0.9333\n",
      "Epoch 70/100\n",
      "10/10 [==============================] - 8s 758ms/step - loss: 0.6781 - accuracy: 0.7517 - val_loss: 0.2648 - val_accuracy: 1.0000\n",
      "Epoch 71/100\n",
      "10/10 [==============================] - 8s 768ms/step - loss: 0.7321 - accuracy: 0.7181 - val_loss: 0.2602 - val_accuracy: 0.9333\n",
      "Epoch 72/100\n",
      "10/10 [==============================] - 8s 752ms/step - loss: 0.6735 - accuracy: 0.7383 - val_loss: 0.3114 - val_accuracy: 0.9333\n",
      "Epoch 73/100\n",
      "10/10 [==============================] - 8s 751ms/step - loss: 0.8092 - accuracy: 0.6846 - val_loss: 0.3250 - val_accuracy: 1.0000\n",
      "Epoch 74/100\n",
      "10/10 [==============================] - 8s 731ms/step - loss: 0.6575 - accuracy: 0.7483 - val_loss: 0.2378 - val_accuracy: 0.9333\n",
      "Epoch 75/100\n",
      "10/10 [==============================] - 7s 718ms/step - loss: 0.6231 - accuracy: 0.7953 - val_loss: 0.3533 - val_accuracy: 0.8667\n",
      "Epoch 76/100\n",
      "10/10 [==============================] - 8s 806ms/step - loss: 0.6235 - accuracy: 0.7550 - val_loss: 0.2317 - val_accuracy: 1.0000\n",
      "Epoch 77/100\n",
      "10/10 [==============================] - 8s 731ms/step - loss: 0.7027 - accuracy: 0.7450 - val_loss: 0.1843 - val_accuracy: 0.9333\n",
      "Epoch 78/100\n",
      "10/10 [==============================] - 8s 746ms/step - loss: 0.6832 - accuracy: 0.7550 - val_loss: 0.1784 - val_accuracy: 1.0000\n",
      "Epoch 79/100\n",
      "10/10 [==============================] - 8s 753ms/step - loss: 0.6669 - accuracy: 0.7450 - val_loss: 0.1596 - val_accuracy: 1.0000\n",
      "Epoch 80/100\n",
      "10/10 [==============================] - 7s 719ms/step - loss: 0.6078 - accuracy: 0.7819 - val_loss: 0.1316 - val_accuracy: 1.0000\n",
      "Epoch 81/100\n",
      "10/10 [==============================] - 8s 733ms/step - loss: 0.6413 - accuracy: 0.7919 - val_loss: 0.2774 - val_accuracy: 0.9333\n",
      "Epoch 82/100\n",
      "10/10 [==============================] - 7s 709ms/step - loss: 0.5941 - accuracy: 0.7483 - val_loss: 0.1914 - val_accuracy: 1.0000\n",
      "Epoch 83/100\n",
      "10/10 [==============================] - 7s 688ms/step - loss: 0.6559 - accuracy: 0.7617 - val_loss: 0.1640 - val_accuracy: 0.9333\n",
      "Epoch 84/100\n",
      "10/10 [==============================] - 7s 715ms/step - loss: 0.6343 - accuracy: 0.7785 - val_loss: 0.1897 - val_accuracy: 0.9333\n",
      "Epoch 85/100\n",
      "10/10 [==============================] - 7s 708ms/step - loss: 0.6096 - accuracy: 0.7617 - val_loss: 0.1998 - val_accuracy: 0.9333\n",
      "Epoch 86/100\n",
      "10/10 [==============================] - 7s 711ms/step - loss: 0.6798 - accuracy: 0.7685 - val_loss: 0.2162 - val_accuracy: 1.0000\n",
      "Epoch 87/100\n",
      "10/10 [==============================] - 7s 705ms/step - loss: 0.6220 - accuracy: 0.7584 - val_loss: 0.2350 - val_accuracy: 0.8667\n",
      "Epoch 88/100\n",
      "10/10 [==============================] - 7s 710ms/step - loss: 0.5915 - accuracy: 0.7416 - val_loss: 0.1597 - val_accuracy: 0.9333\n",
      "Epoch 89/100\n",
      "10/10 [==============================] - 7s 707ms/step - loss: 0.5894 - accuracy: 0.7819 - val_loss: 0.1642 - val_accuracy: 1.0000\n",
      "Epoch 90/100\n",
      "10/10 [==============================] - 7s 708ms/step - loss: 0.5591 - accuracy: 0.7987 - val_loss: 0.1319 - val_accuracy: 1.0000\n",
      "Epoch 91/100\n",
      "10/10 [==============================] - 7s 717ms/step - loss: 0.6636 - accuracy: 0.7550 - val_loss: 0.1277 - val_accuracy: 1.0000\n",
      "Epoch 92/100\n",
      "10/10 [==============================] - 7s 723ms/step - loss: 0.5682 - accuracy: 0.8054 - val_loss: 0.1495 - val_accuracy: 0.9333\n",
      "Epoch 93/100\n",
      "10/10 [==============================] - 7s 715ms/step - loss: 0.5373 - accuracy: 0.8087 - val_loss: 0.0930 - val_accuracy: 1.0000\n",
      "Epoch 94/100\n",
      "10/10 [==============================] - 7s 708ms/step - loss: 0.5574 - accuracy: 0.7886 - val_loss: 0.1356 - val_accuracy: 1.0000\n",
      "Epoch 95/100\n",
      "10/10 [==============================] - 7s 705ms/step - loss: 0.6476 - accuracy: 0.7752 - val_loss: 0.1544 - val_accuracy: 1.0000\n",
      "Epoch 96/100\n",
      "10/10 [==============================] - 7s 717ms/step - loss: 0.5609 - accuracy: 0.7718 - val_loss: 0.1329 - val_accuracy: 1.0000\n",
      "Epoch 97/100\n",
      "10/10 [==============================] - 7s 782ms/step - loss: 0.6633 - accuracy: 0.7852 - val_loss: 0.1531 - val_accuracy: 1.0000\n",
      "Epoch 98/100\n",
      "10/10 [==============================] - 7s 710ms/step - loss: 0.5919 - accuracy: 0.7617 - val_loss: 0.2681 - val_accuracy: 0.8667\n",
      "Epoch 99/100\n",
      "10/10 [==============================] - 7s 709ms/step - loss: 0.5271 - accuracy: 0.8054 - val_loss: 0.1192 - val_accuracy: 1.0000\n",
      "Epoch 100/100\n",
      "10/10 [==============================] - 7s 716ms/step - loss: 0.5771 - accuracy: 0.7919 - val_loss: 0.2453 - val_accuracy: 0.8667\n"
     ]
    }
   ],
   "source": [
    "history = model.fit(train_generator_augmented, epochs=100, validation_data=validation_generator)"
   ]
  },
  {
   "cell_type": "code",
   "execution_count": 7,
   "metadata": {},
   "outputs": [
    {
     "name": "stderr",
     "output_type": "stream",
     "text": [
      "c:\\Work\\Deep-RL-class\\deep-rl-class-main\\deep-rl-class-main\\.conda\\lib\\site-packages\\keras\\src\\engine\\training.py:3000: UserWarning: You are saving your model as an HDF5 file via `model.save()`. This file format is considered legacy. We recommend using instead the native Keras format, e.g. `model.save('my_model.keras')`.\n",
      "  saving_api.save_model(\n"
     ]
    }
   ],
   "source": [
    "model.save('emotion_classifier_model.h5')  "
   ]
  },
  {
   "cell_type": "code",
   "execution_count": 19,
   "metadata": {},
   "outputs": [
    {
     "data": {
      "image/png": "[encoded data removed]",
      "text/plain": [
       "<Figure size 640x480 with 2 Axes>"
      ]
     },
     "metadata": {},
     "output_type": "display_data"
    }
   ],
   "source": [
    "import matplotlib.pyplot as plt\n",
    "\n",
    "plt.subplot(1, 2, 1)\n",
    "plt.plot(history.history['accuracy'], label='accuracy')\n",
    "plt.xlabel('epochs')\n",
    "plt.ylabel('unit')\n",
    "plt.legend()\n",
    "plt.plot(history.history['loss'], label='loss')\n",
    "plt.legend()\n",
    "\n",
    "\n",
    "plt.subplot(1, 2, 2)\n",
    "plt.plot(history.history['val_accuracy'], label='val_accuracy')\n",
    "plt.xlabel('epochs')\n",
    "plt.ylabel('unit')\n",
    "plt.legend()\n",
    "plt.plot(history.history['val_loss'], label='val_loss')\n",
    "plt.legend()\n",
    "plt.tight_layout()\n",
    "\n"
   ]
  },
  {
   "cell_type": "code",
   "execution_count": 11,
   "metadata": {},
   "outputs": [
    {
     "name": "stdout",
     "output_type": "stream",
     "text": [
      "Found 15 images belonging to 6 classes.\n"
     ]
    },
    {
     "name": "stdout",
     "output_type": "stream",
     "text": [
      "15/15 [==============================] - 0s 15ms/step - loss: 0.3009 - accuracy: 0.8667\n",
      "Test Loss: 0.30093246698379517\n",
      "Test Accuracy: 0.8666666746139526\n"
     ]
    }
   ],
   "source": [
    "test_datagen =          ImageDataGenerator(rescale=1./255)\n",
    "\n",
    "test_generator =        test_datagen.flow_from_directory(\n",
    "                        r'../CK+_lands/images/test/',\n",
    "                        target_size=(150, 150),\n",
    "                        batch_size=1,\n",
    "                        class_mode='categorical')\n",
    "\n",
    "evaluation =            model.evaluate(test_generator)\n",
    "\n",
    "print(\"Test Loss:\", evaluation[0])\n",
    "print(\"Test Accuracy:\", evaluation[1])"
   ]
  }
 ],
 "metadata": {
  "kernelspec": {
   "display_name": "Python 3",
   "language": "python",
   "name": "python3"
  },
  "language_info": {
   "codemirror_mode": {
    "name": "ipython",
    "version": 3
   },
   "file_extension": ".py",
   "mimetype": "text/x-python",
   "name": "python",
   "nbconvert_exporter": "python",
   "pygments_lexer": "ipython3",
   "version": "3.8.18"
  }
 },
 "nbformat": 4,
 "nbformat_minor": 2
}
