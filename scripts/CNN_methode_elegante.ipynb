{
 "cells": [
  {
   "cell_type": "markdown",
   "metadata": {},
   "source": [
    "# Approche Deep Learning"
   ]
  },
  {
   "cell_type": "markdown",
   "metadata": {},
   "source": [
    "Nous proposons une approche élégante en utilisant les réseaux de neurones convolutionnels directements appliqués aux images issues des plot des landmarks.\n",
    "Cette approche élégante sera conduite de manière la plus optimisée possible.\n",
    "\n",
    "Il y a aura  deux types d'images :\n",
    "- les plot avec des points noirs\n",
    "- les plot avec les points colorés délimitant les différentes zones du visage (annotation manuelle des images)\n",
    "\n",
    "Ce notebook comprendra une approche directe (pas d'augmentation, pas/peu d'optimisation d'hyperparametres) et un approche avancée (data augmentation, architecture optimisée) et si le temps le permet du fine tuning ou transfert learning vers d'autres backbones plus avancés."
   ]
  },
  {
   "cell_type": "markdown",
   "metadata": {},
   "source": [
    "## Librairies"
   ]
  },
  {
   "cell_type": "code",
   "execution_count": 13,
   "metadata": {},
   "outputs": [],
   "source": [
    "from keras.models import Sequential\n",
    "from keras.layers import Conv2D, MaxPool2D, Flatten, Dense, Dropout, BatchNormalization\n",
    "from keras.preprocessing.image import ImageDataGenerator\n",
    "from keras.optimizers import Adam\n",
    "\n",
    "from scikeras.wrappers import KerasClassifier"
   ]
  },
  {
   "cell_type": "markdown",
   "metadata": {},
   "source": [
    "### Data generation and preprocessing"
   ]
  },
  {
   "cell_type": "code",
   "execution_count": 14,
   "metadata": {},
   "outputs": [
    {
     "name": "stdout",
     "output_type": "stream",
     "text": [
      "Found 302 images belonging to 6 classes.\n",
      "Found 15 images belonging to 6 classes.\n"
     ]
    }
   ],
   "source": [
    "# Data Preparation and augmentation\n",
    "train_datagen_augmented =         ImageDataGenerator(rescale=1./255,\n",
    "                                        shear_range=0.2,\n",
    "                                        zoom_range=0.2,\n",
    "                                        horizontal_flip=True,\n",
    "                                        rotation_range=15,\n",
    "                                        width_shift_range=0.1,\n",
    "                                        height_shift_range=0.1)\n",
    "\n",
    "test_datagen =          ImageDataGenerator(rescale=1./255)\n",
    "\n",
    "train_generator_augmented =       train_datagen_augmented.flow_from_directory(\n",
    "                        r'../CK+_lands/images/train/',\n",
    "                        target_size=(150, 150),\n",
    "                        batch_size=32,\n",
    "                        class_mode='categorical')\n",
    "\n",
    "validation_generator =  test_datagen.flow_from_directory(\n",
    "                        r'../CK+_lands/images/val/',\n",
    "                        target_size=(150, 150),\n",
    "                        batch_size=32,\n",
    "                        class_mode='categorical')"
   ]
  },
  {
   "cell_type": "code",
   "execution_count": 15,
   "metadata": {},
   "outputs": [
    {
     "name": "stdout",
     "output_type": "stream",
     "text": [
      "Found 302 images belonging to 6 classes.\n",
      "Found 15 images belonging to 6 classes.\n"
     ]
    }
   ],
   "source": [
    "# Data Preparation NO AUGMENTATION\n",
    "train_datagen =         ImageDataGenerator(rescale=1./255)\n",
    "test_datagen =          ImageDataGenerator(rescale=1./255)\n",
    "\n",
    "train_generator =       train_datagen.flow_from_directory(\n",
    "                        r'../CK+_lands/images/train/',\n",
    "                        target_size=(150, 150),\n",
    "                        batch_size=32,\n",
    "                        class_mode='categorical')\n",
    "\n",
    "validation_generator =  test_datagen.flow_from_directory(\n",
    "                        r'../CK+_lands/images/val/',\n",
    "                        target_size=(150, 150),\n",
    "                        batch_size=32,\n",
    "                        class_mode='categorical')"
   ]
  },
  {
   "cell_type": "markdown",
   "metadata": {},
   "source": [
    "### Building / Compiling / Fitting model"
   ]
  },
  {
   "cell_type": "code",
   "execution_count": 16,
   "metadata": {},
   "outputs": [
    {
     "name": "stdout",
     "output_type": "stream",
     "text": [
      "Model: \"sequential_4\"\n",
      "_________________________________________________________________\n",
      " Layer (type)                Output Shape              Param #   \n",
      "=================================================================\n",
      " conv2d_16 (Conv2D)          (None, 148, 148, 32)      896       \n",
      "                                                                 \n",
      " max_pooling2d_16 (MaxPooli  (None, 74, 74, 32)        0         \n",
      " ng2D)                                                           \n",
      "                                                                 \n",
      " conv2d_17 (Conv2D)          (None, 72, 72, 64)        18496     \n",
      "                                                                 \n",
      " max_pooling2d_17 (MaxPooli  (None, 36, 36, 64)        0         \n",
      " ng2D)                                                           \n",
      "                                                                 \n",
      " conv2d_18 (Conv2D)          (None, 34, 34, 128)       73856     \n",
      "                                                                 \n",
      " max_pooling2d_18 (MaxPooli  (None, 17, 17, 128)       0         \n",
      " ng2D)                                                           \n",
      "                                                                 \n",
      " conv2d_19 (Conv2D)          (None, 15, 15, 256)       295168    \n",
      "                                                                 \n",
      " max_pooling2d_19 (MaxPooli  (None, 7, 7, 256)         0         \n",
      " ng2D)                                                           \n",
      "                                                                 \n",
      " flatten_4 (Flatten)         (None, 12544)             0         \n",
      "                                                                 \n",
      " dense_8 (Dense)             (None, 256)               3211520   \n",
      "                                                                 \n",
      " dropout_4 (Dropout)         (None, 256)               0         \n",
      "                                                                 \n",
      " dense_9 (Dense)             (None, 6)                 1542      \n",
      "                                                                 \n",
      "=================================================================\n",
      "Total params: 3601478 (13.74 MB)\n",
      "Trainable params: 3601478 (13.74 MB)\n",
      "Non-trainable params: 0 (0.00 Byte)\n",
      "_________________________________________________________________\n"
     ]
    }
   ],
   "source": [
    "# Model Building\n",
    "model =     Sequential()\n",
    "model.add(Conv2D(32, kernel_size=(3, 3), activation='relu', input_shape=(150, 150, 3)))\n",
    "model.add(MaxPool2D(pool_size=2, strides=2, padding=\"valid\"))\n",
    "model.add(Conv2D(64, kernel_size=(3, 3), activation='relu'))\n",
    "model.add(MaxPool2D(pool_size=2, strides=2, padding=\"valid\"))\n",
    "model.add(Conv2D(128, kernel_size=(3, 3), activation='relu'))\n",
    "model.add(MaxPool2D(pool_size=2, strides=2, padding=\"valid\"))\n",
    "model.add(Conv2D(256, kernel_size=(3, 3), activation='relu'))\n",
    "model.add(MaxPool2D(pool_size=2, strides=2, padding=\"valid\"))\n",
    "model.add(Flatten())\n",
    "model.add(Dense(256, activation='relu'))\n",
    "model.add(Dropout(0.5))\n",
    "model.add(Dense(6, activation='softmax'))\n",
    "\n",
    "# Compilation\n",
    "model.compile(optimizer='adam', loss='categorical_crossentropy', metrics=['accuracy'])\n",
    "\n",
    "model.summary()"
   ]
  },
  {
   "cell_type": "markdown",
   "metadata": {},
   "source": [
    "### Fitting model"
   ]
  },
  {
   "cell_type": "code",
   "execution_count": 17,
   "metadata": {},
   "outputs": [
    {
     "name": "stdout",
     "output_type": "stream",
     "text": [
      "Epoch 1/30\n",
      "10/10 [==============================] - 9s 654ms/step - loss: 1.8309 - accuracy: 0.1821 - val_loss: 1.7507 - val_accuracy: 0.2667\n",
      "Epoch 2/30\n",
      "10/10 [==============================] - 7s 672ms/step - loss: 1.7556 - accuracy: 0.2483 - val_loss: 1.7520 - val_accuracy: 0.2667\n",
      "Epoch 3/30\n",
      "10/10 [==============================] - 7s 655ms/step - loss: 1.7321 - accuracy: 0.2848 - val_loss: 1.7111 - val_accuracy: 0.2667\n",
      "Epoch 4/30\n",
      "10/10 [==============================] - 6s 607ms/step - loss: 1.6881 - accuracy: 0.3179 - val_loss: 1.5816 - val_accuracy: 0.4000\n",
      "Epoch 5/30\n",
      "10/10 [==============================] - 7s 685ms/step - loss: 1.3511 - accuracy: 0.5033 - val_loss: 0.9659 - val_accuracy: 0.6667\n",
      "Epoch 6/30\n",
      "10/10 [==============================] - 6s 633ms/step - loss: 0.9466 - accuracy: 0.6291 - val_loss: 0.7289 - val_accuracy: 0.8000\n",
      "Epoch 7/30\n",
      "10/10 [==============================] - 6s 594ms/step - loss: 0.7086 - accuracy: 0.7649 - val_loss: 0.6254 - val_accuracy: 0.8000\n",
      "Epoch 8/30\n",
      "10/10 [==============================] - 6s 605ms/step - loss: 0.6175 - accuracy: 0.7682 - val_loss: 0.5978 - val_accuracy: 0.8000\n",
      "Epoch 9/30\n",
      "10/10 [==============================] - 6s 620ms/step - loss: 0.5380 - accuracy: 0.7947 - val_loss: 0.4938 - val_accuracy: 0.8000\n",
      "Epoch 10/30\n",
      "10/10 [==============================] - 7s 644ms/step - loss: 0.4418 - accuracy: 0.8377 - val_loss: 0.4593 - val_accuracy: 0.8000\n",
      "Epoch 11/30\n",
      "10/10 [==============================] - 6s 596ms/step - loss: 0.4474 - accuracy: 0.8411 - val_loss: 0.5280 - val_accuracy: 0.8667\n",
      "Epoch 12/30\n",
      "10/10 [==============================] - 6s 595ms/step - loss: 0.3831 - accuracy: 0.8543 - val_loss: 0.5288 - val_accuracy: 0.8000\n",
      "Epoch 13/30\n",
      "10/10 [==============================] - 6s 601ms/step - loss: 0.3027 - accuracy: 0.8907 - val_loss: 0.5781 - val_accuracy: 0.7333\n",
      "Epoch 14/30\n",
      "10/10 [==============================] - 6s 595ms/step - loss: 0.3145 - accuracy: 0.8477 - val_loss: 0.5264 - val_accuracy: 0.8000\n",
      "Epoch 15/30\n",
      "10/10 [==============================] - 6s 602ms/step - loss: 0.2773 - accuracy: 0.9073 - val_loss: 0.4782 - val_accuracy: 0.8000\n",
      "Epoch 16/30\n",
      "10/10 [==============================] - 6s 612ms/step - loss: 0.2083 - accuracy: 0.9172 - val_loss: 0.4908 - val_accuracy: 0.8000\n",
      "Epoch 17/30\n",
      "10/10 [==============================] - 6s 597ms/step - loss: 0.1709 - accuracy: 0.9470 - val_loss: 0.7444 - val_accuracy: 0.8000\n",
      "Epoch 18/30\n",
      "10/10 [==============================] - 6s 662ms/step - loss: 0.1852 - accuracy: 0.9338 - val_loss: 0.4371 - val_accuracy: 0.9333\n",
      "Epoch 19/30\n",
      "10/10 [==============================] - 6s 620ms/step - loss: 0.1660 - accuracy: 0.9470 - val_loss: 0.4345 - val_accuracy: 0.9333\n",
      "Epoch 20/30\n",
      "10/10 [==============================] - 6s 605ms/step - loss: 0.1162 - accuracy: 0.9570 - val_loss: 0.4493 - val_accuracy: 0.9333\n",
      "Epoch 21/30\n",
      "10/10 [==============================] - 6s 603ms/step - loss: 0.0940 - accuracy: 0.9669 - val_loss: 0.5328 - val_accuracy: 0.8667\n",
      "Epoch 22/30\n",
      "10/10 [==============================] - 6s 609ms/step - loss: 0.0668 - accuracy: 0.9834 - val_loss: 0.6552 - val_accuracy: 0.8667\n",
      "Epoch 23/30\n",
      "10/10 [==============================] - 6s 600ms/step - loss: 0.0634 - accuracy: 0.9801 - val_loss: 0.5548 - val_accuracy: 0.9333\n",
      "Epoch 24/30\n",
      "10/10 [==============================] - 6s 604ms/step - loss: 0.1050 - accuracy: 0.9603 - val_loss: 0.5075 - val_accuracy: 0.9333\n",
      "Epoch 25/30\n",
      "10/10 [==============================] - 6s 595ms/step - loss: 0.0850 - accuracy: 0.9768 - val_loss: 0.6020 - val_accuracy: 0.8667\n",
      "Epoch 26/30\n",
      "10/10 [==============================] - 6s 597ms/step - loss: 0.1144 - accuracy: 0.9603 - val_loss: 0.5384 - val_accuracy: 0.9333\n",
      "Epoch 27/30\n",
      "10/10 [==============================] - 6s 591ms/step - loss: 0.0491 - accuracy: 0.9901 - val_loss: 0.7564 - val_accuracy: 0.9333\n",
      "Epoch 28/30\n",
      "10/10 [==============================] - 6s 600ms/step - loss: 0.0395 - accuracy: 0.9901 - val_loss: 0.6876 - val_accuracy: 0.9333\n",
      "Epoch 29/30\n",
      "10/10 [==============================] - 6s 594ms/step - loss: 0.0409 - accuracy: 0.9834 - val_loss: 0.9000 - val_accuracy: 0.9333\n",
      "Epoch 30/30\n",
      "10/10 [==============================] - 6s 598ms/step - loss: 0.0449 - accuracy: 0.9834 - val_loss: 0.5734 - val_accuracy: 0.9333\n"
     ]
    }
   ],
   "source": [
    "history = model.fit(train_generator, epochs=30, validation_data=validation_generator)"
   ]
  },
  {
   "cell_type": "code",
   "execution_count": 18,
   "metadata": {},
   "outputs": [],
   "source": [
    "# model.save('emotion_classifier_model.h5')  "
   ]
  },
  {
   "cell_type": "code",
   "execution_count": 19,
   "metadata": {},
   "outputs": [
    {
     "data": {
      "text/plain": [
       "<matplotlib.legend.Legend at 0x16fa8c7afa0>"
      ]
     },
     "execution_count": 19,
     "metadata": {},
     "output_type": "execute_result"
    },
    {
     "data": {
      "image/png": "[encoded data removed]",
      "text/plain": [
       "<Figure size 640x480 with 1 Axes>"
      ]
     },
     "metadata": {},
     "output_type": "display_data"
    }
   ],
   "source": [
    "import matplotlib.pyplot as plt\n",
    "\n",
    "plt.plot(history.history['val_accuracy'], label='val accuracy')\n",
    "plt.xlabel('epochs')\n",
    "plt.ylabel('unit')\n",
    "plt.legend()\n",
    "plt.plot(history.history['val_loss'], label='val loss')\n",
    "plt.title('Loss and Accuracy (no data augmentation)')\n",
    "plt.legend()"
   ]
  },
  {
   "cell_type": "code",
   "execution_count": 20,
   "metadata": {},
   "outputs": [
    {
     "name": "stdout",
     "output_type": "stream",
     "text": [
      "Found 15 images belonging to 6 classes.\n"
     ]
    },
    {
     "name": "stdout",
     "output_type": "stream",
     "text": [
      "1/1 [==============================] - 0s 230ms/step - loss: 0.6274 - accuracy: 0.8000\n",
      "Test Loss: 0.6273911595344543\n",
      "Test Accuracy: 0.800000011920929\n"
     ]
    }
   ],
   "source": [
    "test_datagen =          ImageDataGenerator(rescale=1./255)\n",
    "\n",
    "test_generator =        train_datagen.flow_from_directory(\n",
    "                        r'../CK+_lands/images/test/',\n",
    "                        target_size=(150, 150),\n",
    "                        batch_size=32,\n",
    "                        class_mode='categorical')\n",
    "\n",
    "evaluation =            model.evaluate(test_generator)\n",
    "\n",
    "print(\"Test Loss:\", evaluation[0])\n",
    "print(\"Test Accuracy:\", evaluation[1])"
   ]
  }
 ],
 "metadata": {
  "kernelspec": {
   "display_name": "Python 3",
   "language": "python",
   "name": "python3"
  },
  "language_info": {
   "codemirror_mode": {
    "name": "ipython",
    "version": 3
   },
   "file_extension": ".py",
   "mimetype": "text/x-python",
   "name": "python",
   "nbconvert_exporter": "python",
   "pygments_lexer": "ipython3",
   "version": "3.8.18"
  }
 },
 "nbformat": 4,
 "nbformat_minor": 2
}
