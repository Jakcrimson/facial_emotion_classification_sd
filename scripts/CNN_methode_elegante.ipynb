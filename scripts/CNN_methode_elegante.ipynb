{
 "cells": [
  {
   "cell_type": "markdown",
   "metadata": {},
   "source": [
    "# Approche Deep Learning"
   ]
  },
  {
   "cell_type": "markdown",
   "metadata": {},
   "source": [
    "Nous proposons une approche élégante en utilisant les réseaux de neurones convolutionnels directements appliqués aux images issues des plot des landmarks.\n",
    "Cette approche élégante sera conduite de manière la plus optimisée possible.\n",
    "\n",
    "Il y a aura  deux types d'images :\n",
    "- les plot avec des points noirs\n",
    "- les plot avec les points colorés délimitant les différentes zones du visage (annotation manuelle des images)\n",
    "\n",
    "Ce notebook comprendra une approche directe (pas d'augmentation, pas/peu d'optimisation d'hyperparametres) et un approche avancée (data augmentation, architecture optimisée) et si le temps le permet du fine tuning ou transfert learning vers d'autres backbones plus avancés."
   ]
  },
  {
   "cell_type": "markdown",
   "metadata": {},
   "source": [
    "## Librairies"
   ]
  },
  {
   "cell_type": "code",
   "execution_count": 12,
   "metadata": {},
   "outputs": [],
   "source": [
    "from keras.models import Sequential\n",
    "from keras.layers import Conv2D, MaxPool2D, Flatten, Dense, Dropout, BatchNormalization\n",
    "from keras.preprocessing.image import ImageDataGenerator\n",
    "from keras.optimizers import Adam\n",
    "\n",
    "from scikeras.wrappers import KerasClassifier"
   ]
  },
  {
   "cell_type": "markdown",
   "metadata": {},
   "source": [
    "### Data generation and preprocessing"
   ]
  },
  {
   "cell_type": "code",
   "execution_count": 13,
   "metadata": {},
   "outputs": [
    {
     "name": "stdout",
     "output_type": "stream",
     "text": [
      "Found 298 images belonging to 6 classes.\n",
      "Found 15 images belonging to 6 classes.\n"
     ]
    }
   ],
   "source": [
    "# Data Preparation and augmentation\n",
    "train_datagen_augmented =         ImageDataGenerator(rescale=1./255,\n",
    "                                        shear_range=0.2,\n",
    "                                        zoom_range=0.2,\n",
    "                                        horizontal_flip=True,\n",
    "                                        rotation_range=15,\n",
    "                                        width_shift_range=0.1,\n",
    "                                        height_shift_range=0.1)\n",
    "\n",
    "test_datagen =          ImageDataGenerator(rescale=1./255)\n",
    "\n",
    "train_generator_augmented =       train_datagen_augmented.flow_from_directory(\n",
    "                        r'../CK+_lands/images/train/',\n",
    "                        target_size=(150, 150),\n",
    "                        batch_size=32,\n",
    "                        class_mode='categorical')\n",
    "\n",
    "validation_generator =  test_datagen.flow_from_directory(\n",
    "                        r'../CK+_lands/images/val/',\n",
    "                        target_size=(150, 150),\n",
    "                        batch_size=32,\n",
    "                        class_mode='categorical')"
   ]
  },
  {
   "cell_type": "code",
   "execution_count": 14,
   "metadata": {},
   "outputs": [
    {
     "name": "stdout",
     "output_type": "stream",
     "text": [
      "Found 298 images belonging to 6 classes.\n",
      "Found 15 images belonging to 6 classes.\n"
     ]
    }
   ],
   "source": [
    "# Data Preparation NO AUGMENTATION\n",
    "train_datagen =         ImageDataGenerator(rescale=1./255)\n",
    "test_datagen =          ImageDataGenerator(rescale=1./255)\n",
    "\n",
    "train_generator =       train_datagen.flow_from_directory(\n",
    "                        r'../CK+_lands/images/train/',\n",
    "                        target_size=(150, 150),\n",
    "                        batch_size=32,\n",
    "                        class_mode='categorical')\n",
    "\n",
    "validation_generator =  test_datagen.flow_from_directory(\n",
    "                        r'../CK+_lands/images/val/',\n",
    "                        target_size=(150, 150),\n",
    "                        batch_size=32,\n",
    "                        class_mode='categorical')"
   ]
  },
  {
   "cell_type": "markdown",
   "metadata": {},
   "source": [
    "### Building / Compiling / Fitting model"
   ]
  },
  {
   "cell_type": "code",
   "execution_count": 15,
   "metadata": {},
   "outputs": [
    {
     "name": "stdout",
     "output_type": "stream",
     "text": [
      "Model: \"sequential_1\"\n",
      "_________________________________________________________________\n",
      " Layer (type)                Output Shape              Param #   \n",
      "=================================================================\n",
      " conv2d_4 (Conv2D)           (None, 148, 148, 32)      896       \n",
      "                                                                 \n",
      " max_pooling2d_4 (MaxPoolin  (None, 74, 74, 32)        0         \n",
      " g2D)                                                            \n",
      "                                                                 \n",
      " conv2d_5 (Conv2D)           (None, 72, 72, 64)        18496     \n",
      "                                                                 \n",
      " max_pooling2d_5 (MaxPoolin  (None, 36, 36, 64)        0         \n",
      " g2D)                                                            \n",
      "                                                                 \n",
      " conv2d_6 (Conv2D)           (None, 34, 34, 128)       73856     \n",
      "                                                                 \n",
      " max_pooling2d_6 (MaxPoolin  (None, 17, 17, 128)       0         \n",
      " g2D)                                                            \n",
      "                                                                 \n",
      " conv2d_7 (Conv2D)           (None, 15, 15, 256)       295168    \n",
      "                                                                 \n",
      " max_pooling2d_7 (MaxPoolin  (None, 7, 7, 256)         0         \n",
      " g2D)                                                            \n",
      "                                                                 \n",
      " flatten_1 (Flatten)         (None, 12544)             0         \n",
      "                                                                 \n",
      " dense_2 (Dense)             (None, 256)               3211520   \n",
      "                                                                 \n",
      " dropout_1 (Dropout)         (None, 256)               0         \n",
      "                                                                 \n",
      " dense_3 (Dense)             (None, 6)                 1542      \n",
      "                                                                 \n",
      "=================================================================\n",
      "Total params: 3601478 (13.74 MB)\n",
      "Trainable params: 3601478 (13.74 MB)\n",
      "Non-trainable params: 0 (0.00 Byte)\n",
      "_________________________________________________________________\n"
     ]
    }
   ],
   "source": [
    "# Model Building\n",
    "model =     Sequential()\n",
    "model.add(Conv2D(32, kernel_size=(3, 3), activation='relu', input_shape=(150, 150, 3)))\n",
    "model.add(MaxPool2D(pool_size=2, strides=2, padding=\"valid\"))\n",
    "model.add(Conv2D(64, kernel_size=(3, 3), activation='relu'))\n",
    "model.add(MaxPool2D(pool_size=2, strides=2, padding=\"valid\"))\n",
    "model.add(Conv2D(128, kernel_size=(3, 3), activation='relu'))\n",
    "model.add(MaxPool2D(pool_size=2, strides=2, padding=\"valid\"))\n",
    "model.add(Conv2D(256, kernel_size=(3, 3), activation='relu'))\n",
    "model.add(MaxPool2D(pool_size=2, strides=2, padding=\"valid\"))\n",
    "model.add(Flatten())\n",
    "model.add(Dense(256, activation='relu'))\n",
    "model.add(Dropout(0.5))\n",
    "model.add(Dense(6, activation='softmax'))\n",
    "\n",
    "# Compilation\n",
    "model.compile(optimizer='adam', loss='categorical_crossentropy', metrics=['accuracy'])\n",
    "\n",
    "model.summary()"
   ]
  },
  {
   "cell_type": "code",
   "execution_count": 16,
   "metadata": {},
   "outputs": [
    {
     "data": {
      "image/png": "[encoded data removed]",
      "text/plain": [
       "<PIL.Image.Image image mode=RGBA size=801x234>"
      ]
     },
     "execution_count": 16,
     "metadata": {},
     "output_type": "execute_result"
    }
   ],
   "source": [
    "import visualkeras\n",
    "visualkeras.layered_view(model, legend=True, scale_xy=1)"
   ]
  },
  {
   "cell_type": "markdown",
   "metadata": {},
   "source": [
    "### Fitting model"
   ]
  },
  {
   "cell_type": "code",
   "execution_count": 17,
   "metadata": {},
   "outputs": [
    {
     "name": "stdout",
     "output_type": "stream",
     "text": [
      "Epoch 1/30\n",
      "10/10 [==============================] - 9s 689ms/step - loss: 1.8498 - accuracy: 0.2114 - val_loss: 1.7317 - val_accuracy: 0.2667\n",
      "Epoch 2/30\n",
      "10/10 [==============================] - 7s 651ms/step - loss: 1.7429 - accuracy: 0.2114 - val_loss: 1.7467 - val_accuracy: 0.2667\n",
      "Epoch 3/30\n",
      "10/10 [==============================] - 7s 664ms/step - loss: 1.7643 - accuracy: 0.2349 - val_loss: 1.7629 - val_accuracy: 0.2667\n",
      "Epoch 4/30\n",
      "10/10 [==============================] - 7s 653ms/step - loss: 1.7778 - accuracy: 0.2416 - val_loss: 1.7342 - val_accuracy: 0.2667\n",
      "Epoch 5/30\n",
      "10/10 [==============================] - 7s 634ms/step - loss: 1.7607 - accuracy: 0.2483 - val_loss: 1.7371 - val_accuracy: 0.2667\n",
      "Epoch 6/30\n",
      "10/10 [==============================] - 6s 617ms/step - loss: 1.7525 - accuracy: 0.2517 - val_loss: 1.7430 - val_accuracy: 0.2667\n",
      "Epoch 7/30\n",
      "10/10 [==============================] - 6s 670ms/step - loss: 1.7550 - accuracy: 0.2517 - val_loss: 1.7487 - val_accuracy: 0.2667\n",
      "Epoch 8/30\n",
      "10/10 [==============================] - 6s 614ms/step - loss: 1.7564 - accuracy: 0.2550 - val_loss: 1.7510 - val_accuracy: 0.2667\n",
      "Epoch 9/30\n",
      "10/10 [==============================] - 6s 614ms/step - loss: 1.7465 - accuracy: 0.2617 - val_loss: 1.7397 - val_accuracy: 0.2667\n",
      "Epoch 10/30\n",
      "10/10 [==============================] - 6s 668ms/step - loss: 1.7405 - accuracy: 0.2584 - val_loss: 1.7352 - val_accuracy: 0.2667\n",
      "Epoch 11/30\n",
      "10/10 [==============================] - 7s 653ms/step - loss: 1.7589 - accuracy: 0.2617 - val_loss: 1.7519 - val_accuracy: 0.2667\n",
      "Epoch 12/30\n",
      "10/10 [==============================] - 6s 601ms/step - loss: 1.7462 - accuracy: 0.2886 - val_loss: 1.7329 - val_accuracy: 0.2667\n",
      "Epoch 13/30\n",
      "10/10 [==============================] - 6s 597ms/step - loss: 1.7504 - accuracy: 0.2416 - val_loss: 1.7445 - val_accuracy: 0.2667\n",
      "Epoch 14/30\n",
      "10/10 [==============================] - 6s 613ms/step - loss: 1.7327 - accuracy: 0.2886 - val_loss: 1.7295 - val_accuracy: 0.2667\n",
      "Epoch 15/30\n",
      "10/10 [==============================] - 6s 603ms/step - loss: 1.7549 - accuracy: 0.2450 - val_loss: 1.7366 - val_accuracy: 0.2667\n",
      "Epoch 16/30\n",
      "10/10 [==============================] - 6s 599ms/step - loss: 1.7412 - accuracy: 0.2718 - val_loss: 1.7133 - val_accuracy: 0.2667\n",
      "Epoch 17/30\n",
      "10/10 [==============================] - 6s 627ms/step - loss: 1.7082 - accuracy: 0.3020 - val_loss: 1.6810 - val_accuracy: 0.4667\n",
      "Epoch 18/30\n",
      "10/10 [==============================] - 6s 660ms/step - loss: 1.6612 - accuracy: 0.3658 - val_loss: 1.5579 - val_accuracy: 0.4667\n",
      "Epoch 19/30\n",
      "10/10 [==============================] - 6s 646ms/step - loss: 1.3808 - accuracy: 0.4765 - val_loss: 0.9748 - val_accuracy: 0.6000\n",
      "Epoch 20/30\n",
      "10/10 [==============================] - 6s 617ms/step - loss: 1.0785 - accuracy: 0.5906 - val_loss: 0.7693 - val_accuracy: 0.6667\n",
      "Epoch 21/30\n",
      "10/10 [==============================] - 6s 630ms/step - loss: 0.8960 - accuracy: 0.6577 - val_loss: 0.4525 - val_accuracy: 0.8667\n",
      "Epoch 22/30\n",
      "10/10 [==============================] - 6s 603ms/step - loss: 0.7032 - accuracy: 0.7215 - val_loss: 0.3746 - val_accuracy: 1.0000\n",
      "Epoch 23/30\n",
      "10/10 [==============================] - 6s 606ms/step - loss: 0.6275 - accuracy: 0.7517 - val_loss: 0.3258 - val_accuracy: 0.9333\n",
      "Epoch 24/30\n",
      "10/10 [==============================] - 6s 611ms/step - loss: 0.5667 - accuracy: 0.7785 - val_loss: 0.3152 - val_accuracy: 0.8000\n",
      "Epoch 25/30\n",
      "10/10 [==============================] - 6s 608ms/step - loss: 0.5368 - accuracy: 0.8121 - val_loss: 0.3687 - val_accuracy: 0.8000\n",
      "Epoch 26/30\n",
      "10/10 [==============================] - 6s 589ms/step - loss: 0.4212 - accuracy: 0.8289 - val_loss: 0.3248 - val_accuracy: 0.8667\n",
      "Epoch 27/30\n",
      "10/10 [==============================] - 6s 611ms/step - loss: 0.3578 - accuracy: 0.8926 - val_loss: 0.2917 - val_accuracy: 0.8000\n",
      "Epoch 28/30\n",
      "10/10 [==============================] - 6s 608ms/step - loss: 0.3697 - accuracy: 0.8557 - val_loss: 0.2800 - val_accuracy: 0.8667\n",
      "Epoch 29/30\n",
      "10/10 [==============================] - 6s 651ms/step - loss: 0.2881 - accuracy: 0.9060 - val_loss: 0.4145 - val_accuracy: 0.8667\n",
      "Epoch 30/30\n",
      "10/10 [==============================] - 6s 618ms/step - loss: 0.3084 - accuracy: 0.8960 - val_loss: 0.3942 - val_accuracy: 0.8667\n"
     ]
    }
   ],
   "source": [
    "history = model.fit(train_generator, epochs=50, validation_data=validation_generator)"
   ]
  },
  {
   "cell_type": "code",
   "execution_count": 18,
   "metadata": {},
   "outputs": [
    {
     "name": "stderr",
     "output_type": "stream",
     "text": [
      "c:\\Work\\Deep-RL-class\\deep-rl-class-main\\deep-rl-class-main\\.conda\\lib\\site-packages\\keras\\src\\engine\\training.py:3000: UserWarning: You are saving your model as an HDF5 file via `model.save()`. This file format is considered legacy. We recommend using instead the native Keras format, e.g. `model.save('my_model.keras')`.\n",
      "  saving_api.save_model(\n"
     ]
    }
   ],
   "source": [
    "model.save('emotion_classifier_model.h5')  "
   ]
  },
  {
   "cell_type": "code",
   "execution_count": 19,
   "metadata": {},
   "outputs": [
    {
     "data": {
      "text/plain": [
       "<matplotlib.legend.Legend at 0x265d0f858e0>"
      ]
     },
     "execution_count": 19,
     "metadata": {},
     "output_type": "execute_result"
    },
    {
     "data": {
      "image/png": "[encoded data removed]",
      "text/plain": [
       "<Figure size 640x480 with 1 Axes>"
      ]
     },
     "metadata": {},
     "output_type": "display_data"
    }
   ],
   "source": [
    "import matplotlib.pyplot as plt\n",
    "\n",
    "plt.plot(history.history['accuracy'], label='accuracy')\n",
    "plt.xlabel('epochs')\n",
    "plt.ylabel('unit')\n",
    "plt.legend()\n",
    "plt.plot(history.history['loss'], label='loss')\n",
    "plt.title('Loss and Accuracy (no data augmentation)')\n",
    "plt.legend()"
   ]
  },
  {
   "cell_type": "code",
   "execution_count": 20,
   "metadata": {},
   "outputs": [
    {
     "name": "stdout",
     "output_type": "stream",
     "text": [
      "Found 15 images belonging to 6 classes.\n"
     ]
    },
    {
     "name": "stdout",
     "output_type": "stream",
     "text": [
      "15/15 [==============================] - 0s 15ms/step - loss: 0.3180 - accuracy: 0.8667\n",
      "Test Loss: 0.3180190622806549\n",
      "Test Accuracy: 0.8666666746139526\n"
     ]
    }
   ],
   "source": [
    "test_datagen =          ImageDataGenerator(rescale=1./255)\n",
    "\n",
    "test_generator =        train_datagen.flow_from_directory(\n",
    "                        r'../CK+_lands/images/test/',\n",
    "                        target_size=(150, 150),\n",
    "                        batch_size=1,\n",
    "                        class_mode='categorical')\n",
    "\n",
    "evaluation =            model.evaluate(test_generator)\n",
    "\n",
    "print(\"Test Loss:\", evaluation[0])\n",
    "print(\"Test Accuracy:\", evaluation[1])"
   ]
  }
 ],
 "metadata": {
  "kernelspec": {
   "display_name": "Python 3",
   "language": "python",
   "name": "python3"
  },
  "language_info": {
   "codemirror_mode": {
    "name": "ipython",
    "version": 3
   },
   "file_extension": ".py",
   "mimetype": "text/x-python",
   "name": "python",
   "nbconvert_exporter": "python",
   "pygments_lexer": "ipython3",
   "version": "3.8.18"
  }
 },
 "nbformat": 4,
 "nbformat_minor": 2
}
