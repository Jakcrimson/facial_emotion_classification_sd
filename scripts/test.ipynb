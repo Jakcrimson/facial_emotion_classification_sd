{
 "cells": [
  {
   "cell_type": "code",
   "execution_count": 300,
   "metadata": {},
   "outputs": [],
   "source": [
    "import os\n",
    "from tqdm import tqdm\n",
    "from pprint import pprint\n",
    "\n",
    "import numpy as np\n",
    "import pandas as pd\n",
    "import matplotlib.pyplot as plt\n",
    "\n",
    "from sklearn.model_selection import train_test_split\n",
    "from sklearn.tree import DecisionTreeClassifier, plot_tree\n",
    "from sklearn.neural_network import MLPClassifier\n",
    "from sklearn.ensemble import RandomForestClassifier\n",
    "from sklearn.linear_model import LogisticRegression\n",
    "from sklearn.svm import SVC\n",
    "from sklearn.model_selection import cross_val_score, GridSearchCV\n",
    "from sklearn.metrics import confusion_matrix, ConfusionMatrixDisplay\n",
    "\n",
    "import warnings\n",
    "warnings.filterwarnings('ignore')"
   ]
  },
  {
   "cell_type": "code",
   "execution_count": 2,
   "metadata": {},
   "outputs": [],
   "source": [
    "PATH_TO_DATA = \"CK+_lands/CK+_centered\"\n",
    "PATH_TO_LABEL = \"CK+_lands/CK+/emotion.csv\""
   ]
  },
  {
   "cell_type": "code",
   "execution_count": 3,
   "metadata": {},
   "outputs": [],
   "source": [
    "os.chdir(\"..\")"
   ]
  },
  {
   "cell_type": "code",
   "execution_count": 4,
   "metadata": {},
   "outputs": [],
   "source": [
    "def load_last_faces(data, labels, only_labelled=True):\n",
    "    def fuse_df(base_df, visage_dir, tmp_id, data, target=-1):\n",
    "        coords = {str(i):x for i, x in enumerate(data.to_numpy())}\n",
    "        new_line = {\n",
    "            \"subject\": visage_dir,\n",
    "            \"file\": tmp_id,\n",
    "        }\n",
    "        new_line = new_line | coords\n",
    "        new_line = pd.DataFrame(new_line, index=[0])\n",
    "\n",
    "        # new_line[\"coords\"] = new_line.iloc[:, 2:].to_numpy().tolist()\n",
    "\n",
    "        # new_line = new_line.drop([str(i) for i in range(136)], axis=1)\n",
    "        return pd.concat([base_df, new_line])\n",
    "\n",
    "    last_faces = pd.DataFrame()\n",
    "    labels = pd.read_csv(labels, delimiter=\";\")\n",
    "\n",
    "    for visage_dir in os.listdir(data):\n",
    "        visage_data = pd.read_csv(os.path.join(data, visage_dir, \"omlands.csv\"), delimiter=\";\", header=None)\n",
    "        tmp_id = visage_data.iloc[0, 0]\n",
    "        for row_id in visage_data.index:\n",
    "            if visage_data.iloc[row_id, 0] != tmp_id:\n",
    "                last_faces = fuse_df(last_faces, visage_dir, tmp_id, visage_data.iloc[row_id-1, 1:])\n",
    "                tmp_id = visage_data.iloc[row_id, 0]\n",
    "        last_faces = fuse_df(last_faces, visage_dir, tmp_id, visage_data.iloc[row_id-1, 1:])\n",
    "\n",
    "\n",
    "    last_faces = pd.merge(last_faces, labels, on=[\"subject\", \"file\"], how=\"inner\" if only_labelled else \"outer\")\n",
    "    \n",
    "    return last_faces"
   ]
  },
  {
   "cell_type": "code",
   "execution_count": 5,
   "metadata": {},
   "outputs": [],
   "source": [
    "def create_data(data:pd.DataFrame, final_number:int, random_range=2):\n",
    "    new_faces_nb = final_number // len(data[\"emotion\"].value_counts()) + 1\n",
    "    new_data = []\n",
    "    new_faces_count = {}\n",
    "    while len(data)+len(new_data) < final_number:\n",
    "        for emotion in data[\"emotion\"].unique():\n",
    "            if emotion not in new_faces_count:\n",
    "                new_faces_count[emotion] = 0\n",
    "\n",
    "            if len(data.where(data[\"emotion\"] == emotion).dropna()) + new_faces_count[emotion] < new_faces_nb:\n",
    "                new_faces_count[emotion] += 1\n",
    "                new_line = data.where(data[\"emotion\"] == emotion).dropna().sample()\n",
    "                for i in range(136):\n",
    "                    new_line[str(i)] = new_line[str(i)] + np.random.uniform(-random_range, random_range)\n",
    "                new_data.append(new_line.to_numpy().tolist()[0])\n",
    "    return pd.concat([data, pd.DataFrame(new_data, columns=data.columns)], ignore_index=True)"
   ]
  },
  {
   "cell_type": "code",
   "execution_count": 7,
   "metadata": {},
   "outputs": [],
   "source": [
    "facial_points = load_last_faces(PATH_TO_DATA, PATH_TO_LABEL)"
   ]
  },
  {
   "cell_type": "code",
   "execution_count": 183,
   "metadata": {},
   "outputs": [
    {
     "data": {
      "text/html": [
       "<div>\n",
       "<style scoped>\n",
       "    .dataframe tbody tr th:only-of-type {\n",
       "        vertical-align: middle;\n",
       "    }\n",
       "\n",
       "    .dataframe tbody tr th {\n",
       "        vertical-align: top;\n",
       "    }\n",
       "\n",
       "    .dataframe thead th {\n",
       "        text-align: right;\n",
       "    }\n",
       "</style>\n",
       "<table border=\"1\" class=\"dataframe\">\n",
       "  <thead>\n",
       "    <tr style=\"text-align: right;\">\n",
       "      <th></th>\n",
       "      <th>subject</th>\n",
       "      <th>file</th>\n",
       "      <th>0</th>\n",
       "      <th>1</th>\n",
       "      <th>2</th>\n",
       "      <th>3</th>\n",
       "      <th>4</th>\n",
       "      <th>5</th>\n",
       "      <th>6</th>\n",
       "      <th>7</th>\n",
       "      <th>...</th>\n",
       "      <th>127</th>\n",
       "      <th>128</th>\n",
       "      <th>129</th>\n",
       "      <th>130</th>\n",
       "      <th>131</th>\n",
       "      <th>132</th>\n",
       "      <th>133</th>\n",
       "      <th>134</th>\n",
       "      <th>135</th>\n",
       "      <th>emotion</th>\n",
       "    </tr>\n",
       "  </thead>\n",
       "  <tbody>\n",
       "    <tr>\n",
       "      <th>0</th>\n",
       "      <td>S095</td>\n",
       "      <td>1</td>\n",
       "      <td>-239.50</td>\n",
       "      <td>409.0</td>\n",
       "      <td>-232.50</td>\n",
       "      <td>475.0</td>\n",
       "      <td>-220.50</td>\n",
       "      <td>539.0</td>\n",
       "      <td>-205.50</td>\n",
       "      <td>603.0</td>\n",
       "      <td>...</td>\n",
       "      <td>575.0</td>\n",
       "      <td>61.50</td>\n",
       "      <td>619.0</td>\n",
       "      <td>24.50</td>\n",
       "      <td>649.0</td>\n",
       "      <td>2.50</td>\n",
       "      <td>652.0</td>\n",
       "      <td>-19.50</td>\n",
       "      <td>649.0</td>\n",
       "      <td>3</td>\n",
       "    </tr>\n",
       "    <tr>\n",
       "      <th>1</th>\n",
       "      <td>S095</td>\n",
       "      <td>2</td>\n",
       "      <td>-241.25</td>\n",
       "      <td>412.0</td>\n",
       "      <td>-235.25</td>\n",
       "      <td>470.0</td>\n",
       "      <td>-227.25</td>\n",
       "      <td>527.0</td>\n",
       "      <td>-215.25</td>\n",
       "      <td>586.0</td>\n",
       "      <td>...</td>\n",
       "      <td>564.0</td>\n",
       "      <td>72.75</td>\n",
       "      <td>588.0</td>\n",
       "      <td>23.75</td>\n",
       "      <td>600.0</td>\n",
       "      <td>-2.25</td>\n",
       "      <td>602.0</td>\n",
       "      <td>-27.25</td>\n",
       "      <td>599.0</td>\n",
       "      <td>2</td>\n",
       "    </tr>\n",
       "    <tr>\n",
       "      <th>2</th>\n",
       "      <td>S095</td>\n",
       "      <td>6</td>\n",
       "      <td>-242.00</td>\n",
       "      <td>406.0</td>\n",
       "      <td>-236.00</td>\n",
       "      <td>464.0</td>\n",
       "      <td>-228.00</td>\n",
       "      <td>520.0</td>\n",
       "      <td>-218.00</td>\n",
       "      <td>577.0</td>\n",
       "      <td>...</td>\n",
       "      <td>560.0</td>\n",
       "      <td>64.00</td>\n",
       "      <td>573.0</td>\n",
       "      <td>22.00</td>\n",
       "      <td>565.0</td>\n",
       "      <td>0.00</td>\n",
       "      <td>566.0</td>\n",
       "      <td>-23.00</td>\n",
       "      <td>563.0</td>\n",
       "      <td>5</td>\n",
       "    </tr>\n",
       "    <tr>\n",
       "      <th>3</th>\n",
       "      <td>S095</td>\n",
       "      <td>7</td>\n",
       "      <td>-246.25</td>\n",
       "      <td>397.0</td>\n",
       "      <td>-242.25</td>\n",
       "      <td>453.0</td>\n",
       "      <td>-235.25</td>\n",
       "      <td>509.0</td>\n",
       "      <td>-226.25</td>\n",
       "      <td>569.0</td>\n",
       "      <td>...</td>\n",
       "      <td>558.0</td>\n",
       "      <td>81.75</td>\n",
       "      <td>571.0</td>\n",
       "      <td>22.75</td>\n",
       "      <td>596.0</td>\n",
       "      <td>-5.25</td>\n",
       "      <td>598.0</td>\n",
       "      <td>-34.25</td>\n",
       "      <td>593.0</td>\n",
       "      <td>1</td>\n",
       "    </tr>\n",
       "    <tr>\n",
       "      <th>4</th>\n",
       "      <td>S037</td>\n",
       "      <td>1</td>\n",
       "      <td>-207.75</td>\n",
       "      <td>455.0</td>\n",
       "      <td>-203.75</td>\n",
       "      <td>514.0</td>\n",
       "      <td>-194.75</td>\n",
       "      <td>575.0</td>\n",
       "      <td>-178.75</td>\n",
       "      <td>633.0</td>\n",
       "      <td>...</td>\n",
       "      <td>634.0</td>\n",
       "      <td>53.25</td>\n",
       "      <td>673.0</td>\n",
       "      <td>16.25</td>\n",
       "      <td>718.0</td>\n",
       "      <td>-6.75</td>\n",
       "      <td>722.0</td>\n",
       "      <td>-28.75</td>\n",
       "      <td>717.0</td>\n",
       "      <td>3</td>\n",
       "    </tr>\n",
       "    <tr>\n",
       "      <th>...</th>\n",
       "      <td>...</td>\n",
       "      <td>...</td>\n",
       "      <td>...</td>\n",
       "      <td>...</td>\n",
       "      <td>...</td>\n",
       "      <td>...</td>\n",
       "      <td>...</td>\n",
       "      <td>...</td>\n",
       "      <td>...</td>\n",
       "      <td>...</td>\n",
       "      <td>...</td>\n",
       "      <td>...</td>\n",
       "      <td>...</td>\n",
       "      <td>...</td>\n",
       "      <td>...</td>\n",
       "      <td>...</td>\n",
       "      <td>...</td>\n",
       "      <td>...</td>\n",
       "      <td>...</td>\n",
       "      <td>...</td>\n",
       "      <td>...</td>\n",
       "    </tr>\n",
       "    <tr>\n",
       "      <th>352</th>\n",
       "      <td>S102</td>\n",
       "      <td>6</td>\n",
       "      <td>-202.25</td>\n",
       "      <td>320.0</td>\n",
       "      <td>-195.25</td>\n",
       "      <td>378.0</td>\n",
       "      <td>-184.25</td>\n",
       "      <td>433.0</td>\n",
       "      <td>-173.25</td>\n",
       "      <td>489.0</td>\n",
       "      <td>...</td>\n",
       "      <td>531.0</td>\n",
       "      <td>60.75</td>\n",
       "      <td>539.0</td>\n",
       "      <td>21.75</td>\n",
       "      <td>533.0</td>\n",
       "      <td>3.75</td>\n",
       "      <td>534.0</td>\n",
       "      <td>-11.25</td>\n",
       "      <td>533.0</td>\n",
       "      <td>6</td>\n",
       "    </tr>\n",
       "    <tr>\n",
       "      <th>353</th>\n",
       "      <td>S102</td>\n",
       "      <td>8</td>\n",
       "      <td>-205.75</td>\n",
       "      <td>326.0</td>\n",
       "      <td>-198.75</td>\n",
       "      <td>386.0</td>\n",
       "      <td>-187.75</td>\n",
       "      <td>446.0</td>\n",
       "      <td>-175.75</td>\n",
       "      <td>503.0</td>\n",
       "      <td>...</td>\n",
       "      <td>505.0</td>\n",
       "      <td>65.25</td>\n",
       "      <td>540.0</td>\n",
       "      <td>24.25</td>\n",
       "      <td>562.0</td>\n",
       "      <td>4.25</td>\n",
       "      <td>564.0</td>\n",
       "      <td>-13.75</td>\n",
       "      <td>561.0</td>\n",
       "      <td>3</td>\n",
       "    </tr>\n",
       "    <tr>\n",
       "      <th>354</th>\n",
       "      <td>S102</td>\n",
       "      <td>9</td>\n",
       "      <td>-206.25</td>\n",
       "      <td>320.0</td>\n",
       "      <td>-199.25</td>\n",
       "      <td>376.0</td>\n",
       "      <td>-189.25</td>\n",
       "      <td>430.0</td>\n",
       "      <td>-178.25</td>\n",
       "      <td>483.0</td>\n",
       "      <td>...</td>\n",
       "      <td>478.0</td>\n",
       "      <td>69.75</td>\n",
       "      <td>481.0</td>\n",
       "      <td>26.75</td>\n",
       "      <td>478.0</td>\n",
       "      <td>6.75</td>\n",
       "      <td>480.0</td>\n",
       "      <td>-13.25</td>\n",
       "      <td>479.0</td>\n",
       "      <td>5</td>\n",
       "    </tr>\n",
       "    <tr>\n",
       "      <th>355</th>\n",
       "      <td>S120</td>\n",
       "      <td>1</td>\n",
       "      <td>-218.25</td>\n",
       "      <td>407.0</td>\n",
       "      <td>-211.25</td>\n",
       "      <td>473.0</td>\n",
       "      <td>-201.25</td>\n",
       "      <td>537.0</td>\n",
       "      <td>-190.25</td>\n",
       "      <td>597.0</td>\n",
       "      <td>...</td>\n",
       "      <td>608.0</td>\n",
       "      <td>69.75</td>\n",
       "      <td>630.0</td>\n",
       "      <td>23.75</td>\n",
       "      <td>605.0</td>\n",
       "      <td>0.75</td>\n",
       "      <td>606.0</td>\n",
       "      <td>-20.25</td>\n",
       "      <td>604.0</td>\n",
       "      <td>6</td>\n",
       "    </tr>\n",
       "    <tr>\n",
       "      <th>356</th>\n",
       "      <td>S120</td>\n",
       "      <td>2</td>\n",
       "      <td>-224.25</td>\n",
       "      <td>387.0</td>\n",
       "      <td>-217.25</td>\n",
       "      <td>450.0</td>\n",
       "      <td>-207.25</td>\n",
       "      <td>513.0</td>\n",
       "      <td>-197.25</td>\n",
       "      <td>576.0</td>\n",
       "      <td>...</td>\n",
       "      <td>611.0</td>\n",
       "      <td>60.75</td>\n",
       "      <td>621.0</td>\n",
       "      <td>16.75</td>\n",
       "      <td>613.0</td>\n",
       "      <td>-5.25</td>\n",
       "      <td>615.0</td>\n",
       "      <td>-27.25</td>\n",
       "      <td>612.0</td>\n",
       "      <td>4</td>\n",
       "    </tr>\n",
       "  </tbody>\n",
       "</table>\n",
       "<p>357 rows × 139 columns</p>\n",
       "</div>"
      ],
      "text/plain": [
       "    subject  file       0      1       2      3       4      5       6      7  \\\n",
       "0      S095     1 -239.50  409.0 -232.50  475.0 -220.50  539.0 -205.50  603.0   \n",
       "1      S095     2 -241.25  412.0 -235.25  470.0 -227.25  527.0 -215.25  586.0   \n",
       "2      S095     6 -242.00  406.0 -236.00  464.0 -228.00  520.0 -218.00  577.0   \n",
       "3      S095     7 -246.25  397.0 -242.25  453.0 -235.25  509.0 -226.25  569.0   \n",
       "4      S037     1 -207.75  455.0 -203.75  514.0 -194.75  575.0 -178.75  633.0   \n",
       "..      ...   ...     ...    ...     ...    ...     ...    ...     ...    ...   \n",
       "352    S102     6 -202.25  320.0 -195.25  378.0 -184.25  433.0 -173.25  489.0   \n",
       "353    S102     8 -205.75  326.0 -198.75  386.0 -187.75  446.0 -175.75  503.0   \n",
       "354    S102     9 -206.25  320.0 -199.25  376.0 -189.25  430.0 -178.25  483.0   \n",
       "355    S120     1 -218.25  407.0 -211.25  473.0 -201.25  537.0 -190.25  597.0   \n",
       "356    S120     2 -224.25  387.0 -217.25  450.0 -207.25  513.0 -197.25  576.0   \n",
       "\n",
       "     ...    127    128    129    130    131   132    133    134    135  \\\n",
       "0    ...  575.0  61.50  619.0  24.50  649.0  2.50  652.0 -19.50  649.0   \n",
       "1    ...  564.0  72.75  588.0  23.75  600.0 -2.25  602.0 -27.25  599.0   \n",
       "2    ...  560.0  64.00  573.0  22.00  565.0  0.00  566.0 -23.00  563.0   \n",
       "3    ...  558.0  81.75  571.0  22.75  596.0 -5.25  598.0 -34.25  593.0   \n",
       "4    ...  634.0  53.25  673.0  16.25  718.0 -6.75  722.0 -28.75  717.0   \n",
       "..   ...    ...    ...    ...    ...    ...   ...    ...    ...    ...   \n",
       "352  ...  531.0  60.75  539.0  21.75  533.0  3.75  534.0 -11.25  533.0   \n",
       "353  ...  505.0  65.25  540.0  24.25  562.0  4.25  564.0 -13.75  561.0   \n",
       "354  ...  478.0  69.75  481.0  26.75  478.0  6.75  480.0 -13.25  479.0   \n",
       "355  ...  608.0  69.75  630.0  23.75  605.0  0.75  606.0 -20.25  604.0   \n",
       "356  ...  611.0  60.75  621.0  16.75  613.0 -5.25  615.0 -27.25  612.0   \n",
       "\n",
       "     emotion  \n",
       "0          3  \n",
       "1          2  \n",
       "2          5  \n",
       "3          1  \n",
       "4          3  \n",
       "..       ...  \n",
       "352        6  \n",
       "353        3  \n",
       "354        5  \n",
       "355        6  \n",
       "356        4  \n",
       "\n",
       "[357 rows x 139 columns]"
      ]
     },
     "execution_count": 183,
     "metadata": {},
     "output_type": "execute_result"
    }
   ],
   "source": [
    "facial_points"
   ]
  },
  {
   "cell_type": "code",
   "execution_count": 166,
   "metadata": {},
   "outputs": [],
   "source": [
    "X_train, X_test, y_train, y_test = train_test_split(facial_points.loc[:, \"0\":\"135\"], facial_points[\"emotion\"], test_size=0.333)"
   ]
  },
  {
   "cell_type": "markdown",
   "metadata": {},
   "source": [
    "# Unoptimised models"
   ]
  },
  {
   "cell_type": "markdown",
   "metadata": {},
   "source": [
    "## Decision Tree"
   ]
  },
  {
   "cell_type": "code",
   "execution_count": 19,
   "metadata": {},
   "outputs": [
    {
     "data": {
      "text/plain": [
       "0.56554856743536"
      ]
     },
     "execution_count": 19,
     "metadata": {},
     "output_type": "execute_result"
    }
   ],
   "source": [
    "cross_val_score(DecisionTreeClassifier(), X_train, y_train, cv=5).mean()"
   ]
  },
  {
   "cell_type": "code",
   "execution_count": 26,
   "metadata": {},
   "outputs": [
    {
     "data": {
      "text/plain": [
       "0.5126050420168067"
      ]
     },
     "execution_count": 26,
     "metadata": {},
     "output_type": "execute_result"
    }
   ],
   "source": [
    "tree = DecisionTreeClassifier().fit(X_train, y_train)\n",
    "tree.score(X_test, y_test)"
   ]
  },
  {
   "cell_type": "markdown",
   "metadata": {},
   "source": [
    "## Random Forest"
   ]
  },
  {
   "cell_type": "code",
   "execution_count": 20,
   "metadata": {},
   "outputs": [
    {
     "data": {
      "text/plain": [
       "0.6105520614954577"
      ]
     },
     "execution_count": 20,
     "metadata": {},
     "output_type": "execute_result"
    }
   ],
   "source": [
    "cross_val_score(RandomForestClassifier(), X_train, y_train, cv=5).mean()"
   ]
  },
  {
   "cell_type": "code",
   "execution_count": 27,
   "metadata": {},
   "outputs": [
    {
     "data": {
      "text/plain": [
       "0.6050420168067226"
      ]
     },
     "execution_count": 27,
     "metadata": {},
     "output_type": "execute_result"
    }
   ],
   "source": [
    "rd_forest = RandomForestClassifier().fit(X_train, y_train)\n",
    "rd_forest.score(X_test, y_test)"
   ]
  },
  {
   "cell_type": "markdown",
   "metadata": {},
   "source": [
    "## MLP Classifier"
   ]
  },
  {
   "cell_type": "code",
   "execution_count": 21,
   "metadata": {},
   "outputs": [
    {
     "data": {
      "text/plain": [
       "0.3603074772886094"
      ]
     },
     "execution_count": 21,
     "metadata": {},
     "output_type": "execute_result"
    }
   ],
   "source": [
    "cross_val_score(MLPClassifier(), X_train, y_train, cv=5).mean()"
   ]
  },
  {
   "cell_type": "code",
   "execution_count": 28,
   "metadata": {},
   "outputs": [
    {
     "data": {
      "text/plain": [
       "0.31932773109243695"
      ]
     },
     "execution_count": 28,
     "metadata": {},
     "output_type": "execute_result"
    }
   ],
   "source": [
    "mlp = MLPClassifier().fit(X_train, y_train)\n",
    "mlp.score(X_test, y_test)"
   ]
  },
  {
   "cell_type": "markdown",
   "metadata": {},
   "source": [
    "## Logistic Regression"
   ]
  },
  {
   "cell_type": "code",
   "execution_count": 22,
   "metadata": {},
   "outputs": [
    {
     "data": {
      "text/plain": [
       "0.8240391334730959"
      ]
     },
     "execution_count": 22,
     "metadata": {},
     "output_type": "execute_result"
    }
   ],
   "source": [
    "cross_val_score(LogisticRegression(), X_train, y_train, cv=5).mean()"
   ]
  },
  {
   "cell_type": "code",
   "execution_count": 29,
   "metadata": {},
   "outputs": [
    {
     "data": {
      "text/plain": [
       "0.8151260504201681"
      ]
     },
     "execution_count": 29,
     "metadata": {},
     "output_type": "execute_result"
    }
   ],
   "source": [
    "lr = LogisticRegression().fit(X_train, y_train)\n",
    "lr.score(X_test, y_test)"
   ]
  },
  {
   "cell_type": "markdown",
   "metadata": {},
   "source": [
    "## SVC"
   ]
  },
  {
   "cell_type": "code",
   "execution_count": 34,
   "metadata": {},
   "outputs": [
    {
     "data": {
      "text/plain": [
       "0.36968085106382975"
      ]
     },
     "execution_count": 34,
     "metadata": {},
     "output_type": "execute_result"
    }
   ],
   "source": [
    "cross_val_score(SVC(), X_train, y_train, cv=5).mean()"
   ]
  },
  {
   "cell_type": "code",
   "execution_count": 35,
   "metadata": {},
   "outputs": [
    {
     "data": {
      "text/plain": [
       "0.3697478991596639"
      ]
     },
     "execution_count": 35,
     "metadata": {},
     "output_type": "execute_result"
    }
   ],
   "source": [
    "svc = SVC().fit(X_train, y_train)\n",
    "svc.score(X_test, y_test)"
   ]
  },
  {
   "cell_type": "markdown",
   "metadata": {},
   "source": [
    "# Grid Searched Model"
   ]
  },
  {
   "cell_type": "markdown",
   "metadata": {},
   "source": [
    "## Decision Tree"
   ]
  },
  {
   "cell_type": "code",
   "execution_count": 167,
   "metadata": {},
   "outputs": [],
   "source": [
    "tree = DecisionTreeClassifier(criterion='log_loss', max_depth=13, max_leaf_nodes=100,\n",
    "                                min_samples_leaf=5, min_samples_split=6)"
   ]
  },
  {
   "cell_type": "code",
   "execution_count": 168,
   "metadata": {},
   "outputs": [
    {
     "data": {
      "text/plain": [
       "0.4242907801418439"
      ]
     },
     "execution_count": 168,
     "metadata": {},
     "output_type": "execute_result"
    }
   ],
   "source": [
    "cross_val_score(tree, X_train, y_train, cv=5).mean()"
   ]
  },
  {
   "cell_type": "code",
   "execution_count": 169,
   "metadata": {},
   "outputs": [
    {
     "data": {
      "text/plain": [
       "0.5294117647058824"
      ]
     },
     "execution_count": 169,
     "metadata": {},
     "output_type": "execute_result"
    }
   ],
   "source": [
    "tree.fit(X_train, y_train)\n",
    "tree.score(X_test, y_test)"
   ]
  },
  {
   "cell_type": "markdown",
   "metadata": {},
   "source": [
    "## Random Forest"
   ]
  },
  {
   "cell_type": "code",
   "execution_count": 90,
   "metadata": {},
   "outputs": [],
   "source": [
    "params = {\n",
    "    \"n_estimators\": [100, 200, 300],\n",
    "    \"criterion\": [\"gini\", \"entropy\", \"log_loss\"],\n",
    "    \"max_depth\": [x for x in range(3, 15, 3)],\n",
    "    \"max_features\": [\"sqrt\", \"log2\", None]\n",
    "}"
   ]
  },
  {
   "cell_type": "code",
   "execution_count": 91,
   "metadata": {},
   "outputs": [
    {
     "data": {
      "text/html": [
       "<style>#sk-container-id-1 {color: black;}#sk-container-id-1 pre{padding: 0;}#sk-container-id-1 div.sk-toggleable {background-color: white;}#sk-container-id-1 label.sk-toggleable__label {cursor: pointer;display: block;width: 100%;margin-bottom: 0;padding: 0.3em;box-sizing: border-box;text-align: center;}#sk-container-id-1 label.sk-toggleable__label-arrow:before {content: \"▸\";float: left;margin-right: 0.25em;color: #696969;}#sk-container-id-1 label.sk-toggleable__label-arrow:hover:before {color: black;}#sk-container-id-1 div.sk-estimator:hover label.sk-toggleable__label-arrow:before {color: black;}#sk-container-id-1 div.sk-toggleable__content {max-height: 0;max-width: 0;overflow: hidden;text-align: left;background-color: #f0f8ff;}#sk-container-id-1 div.sk-toggleable__content pre {margin: 0.2em;color: black;border-radius: 0.25em;background-color: #f0f8ff;}#sk-container-id-1 input.sk-toggleable__control:checked~div.sk-toggleable__content {max-height: 200px;max-width: 100%;overflow: auto;}#sk-container-id-1 input.sk-toggleable__control:checked~label.sk-toggleable__label-arrow:before {content: \"▾\";}#sk-container-id-1 div.sk-estimator input.sk-toggleable__control:checked~label.sk-toggleable__label {background-color: #d4ebff;}#sk-container-id-1 div.sk-label input.sk-toggleable__control:checked~label.sk-toggleable__label {background-color: #d4ebff;}#sk-container-id-1 input.sk-hidden--visually {border: 0;clip: rect(1px 1px 1px 1px);clip: rect(1px, 1px, 1px, 1px);height: 1px;margin: -1px;overflow: hidden;padding: 0;position: absolute;width: 1px;}#sk-container-id-1 div.sk-estimator {font-family: monospace;background-color: #f0f8ff;border: 1px dotted black;border-radius: 0.25em;box-sizing: border-box;margin-bottom: 0.5em;}#sk-container-id-1 div.sk-estimator:hover {background-color: #d4ebff;}#sk-container-id-1 div.sk-parallel-item::after {content: \"\";width: 100%;border-bottom: 1px solid gray;flex-grow: 1;}#sk-container-id-1 div.sk-label:hover label.sk-toggleable__label {background-color: #d4ebff;}#sk-container-id-1 div.sk-serial::before {content: \"\";position: absolute;border-left: 1px solid gray;box-sizing: border-box;top: 0;bottom: 0;left: 50%;z-index: 0;}#sk-container-id-1 div.sk-serial {display: flex;flex-direction: column;align-items: center;background-color: white;padding-right: 0.2em;padding-left: 0.2em;position: relative;}#sk-container-id-1 div.sk-item {position: relative;z-index: 1;}#sk-container-id-1 div.sk-parallel {display: flex;align-items: stretch;justify-content: center;background-color: white;position: relative;}#sk-container-id-1 div.sk-item::before, #sk-container-id-1 div.sk-parallel-item::before {content: \"\";position: absolute;border-left: 1px solid gray;box-sizing: border-box;top: 0;bottom: 0;left: 50%;z-index: -1;}#sk-container-id-1 div.sk-parallel-item {display: flex;flex-direction: column;z-index: 1;position: relative;background-color: white;}#sk-container-id-1 div.sk-parallel-item:first-child::after {align-self: flex-end;width: 50%;}#sk-container-id-1 div.sk-parallel-item:last-child::after {align-self: flex-start;width: 50%;}#sk-container-id-1 div.sk-parallel-item:only-child::after {width: 0;}#sk-container-id-1 div.sk-dashed-wrapped {border: 1px dashed gray;margin: 0 0.4em 0.5em 0.4em;box-sizing: border-box;padding-bottom: 0.4em;background-color: white;}#sk-container-id-1 div.sk-label label {font-family: monospace;font-weight: bold;display: inline-block;line-height: 1.2em;}#sk-container-id-1 div.sk-label-container {text-align: center;}#sk-container-id-1 div.sk-container {/* jupyter's `normalize.less` sets `[hidden] { display: none; }` but bootstrap.min.css set `[hidden] { display: none !important; }` so we also need the `!important` here to be able to override the default hidden behavior on the sphinx rendered scikit-learn.org. See: https://github.com/scikit-learn/scikit-learn/issues/21755 */display: inline-block !important;position: relative;}#sk-container-id-1 div.sk-text-repr-fallback {display: none;}</style><div id=\"sk-container-id-1\" class=\"sk-top-container\"><div class=\"sk-text-repr-fallback\"><pre>GridSearchCV(estimator=RandomForestClassifier(),\n",
       "             param_grid={&#x27;criterion&#x27;: [&#x27;gini&#x27;, &#x27;entropy&#x27;, &#x27;log_loss&#x27;],\n",
       "                         &#x27;max_depth&#x27;: [3, 6, 9, 12],\n",
       "                         &#x27;max_features&#x27;: [&#x27;sqrt&#x27;, &#x27;log2&#x27;, None],\n",
       "                         &#x27;n_estimators&#x27;: [100, 200, 300]})</pre><b>In a Jupyter environment, please rerun this cell to show the HTML representation or trust the notebook. <br />On GitHub, the HTML representation is unable to render, please try loading this page with nbviewer.org.</b></div><div class=\"sk-container\" hidden><div class=\"sk-item sk-dashed-wrapped\"><div class=\"sk-label-container\"><div class=\"sk-label sk-toggleable\"><input class=\"sk-toggleable__control sk-hidden--visually\" id=\"sk-estimator-id-1\" type=\"checkbox\" ><label for=\"sk-estimator-id-1\" class=\"sk-toggleable__label sk-toggleable__label-arrow\">GridSearchCV</label><div class=\"sk-toggleable__content\"><pre>GridSearchCV(estimator=RandomForestClassifier(),\n",
       "             param_grid={&#x27;criterion&#x27;: [&#x27;gini&#x27;, &#x27;entropy&#x27;, &#x27;log_loss&#x27;],\n",
       "                         &#x27;max_depth&#x27;: [3, 6, 9, 12],\n",
       "                         &#x27;max_features&#x27;: [&#x27;sqrt&#x27;, &#x27;log2&#x27;, None],\n",
       "                         &#x27;n_estimators&#x27;: [100, 200, 300]})</pre></div></div></div><div class=\"sk-parallel\"><div class=\"sk-parallel-item\"><div class=\"sk-item\"><div class=\"sk-label-container\"><div class=\"sk-label sk-toggleable\"><input class=\"sk-toggleable__control sk-hidden--visually\" id=\"sk-estimator-id-2\" type=\"checkbox\" ><label for=\"sk-estimator-id-2\" class=\"sk-toggleable__label sk-toggleable__label-arrow\">estimator: RandomForestClassifier</label><div class=\"sk-toggleable__content\"><pre>RandomForestClassifier()</pre></div></div></div><div class=\"sk-serial\"><div class=\"sk-item\"><div class=\"sk-estimator sk-toggleable\"><input class=\"sk-toggleable__control sk-hidden--visually\" id=\"sk-estimator-id-3\" type=\"checkbox\" ><label for=\"sk-estimator-id-3\" class=\"sk-toggleable__label sk-toggleable__label-arrow\">RandomForestClassifier</label><div class=\"sk-toggleable__content\"><pre>RandomForestClassifier()</pre></div></div></div></div></div></div></div></div></div></div>"
      ],
      "text/plain": [
       "GridSearchCV(estimator=RandomForestClassifier(),\n",
       "             param_grid={'criterion': ['gini', 'entropy', 'log_loss'],\n",
       "                         'max_depth': [3, 6, 9, 12],\n",
       "                         'max_features': ['sqrt', 'log2', None],\n",
       "                         'n_estimators': [100, 200, 300]})"
      ]
     },
     "execution_count": 91,
     "metadata": {},
     "output_type": "execute_result"
    }
   ],
   "source": [
    "grid_search_rd_forest = GridSearchCV(RandomForestClassifier(), param_grid=params)\n",
    "grid_search_rd_forest.fit(X_train, y_train)"
   ]
  },
  {
   "cell_type": "code",
   "execution_count": 94,
   "metadata": {},
   "outputs": [
    {
     "data": {
      "text/html": [
       "<style>#sk-container-id-2 {color: black;}#sk-container-id-2 pre{padding: 0;}#sk-container-id-2 div.sk-toggleable {background-color: white;}#sk-container-id-2 label.sk-toggleable__label {cursor: pointer;display: block;width: 100%;margin-bottom: 0;padding: 0.3em;box-sizing: border-box;text-align: center;}#sk-container-id-2 label.sk-toggleable__label-arrow:before {content: \"▸\";float: left;margin-right: 0.25em;color: #696969;}#sk-container-id-2 label.sk-toggleable__label-arrow:hover:before {color: black;}#sk-container-id-2 div.sk-estimator:hover label.sk-toggleable__label-arrow:before {color: black;}#sk-container-id-2 div.sk-toggleable__content {max-height: 0;max-width: 0;overflow: hidden;text-align: left;background-color: #f0f8ff;}#sk-container-id-2 div.sk-toggleable__content pre {margin: 0.2em;color: black;border-radius: 0.25em;background-color: #f0f8ff;}#sk-container-id-2 input.sk-toggleable__control:checked~div.sk-toggleable__content {max-height: 200px;max-width: 100%;overflow: auto;}#sk-container-id-2 input.sk-toggleable__control:checked~label.sk-toggleable__label-arrow:before {content: \"▾\";}#sk-container-id-2 div.sk-estimator input.sk-toggleable__control:checked~label.sk-toggleable__label {background-color: #d4ebff;}#sk-container-id-2 div.sk-label input.sk-toggleable__control:checked~label.sk-toggleable__label {background-color: #d4ebff;}#sk-container-id-2 input.sk-hidden--visually {border: 0;clip: rect(1px 1px 1px 1px);clip: rect(1px, 1px, 1px, 1px);height: 1px;margin: -1px;overflow: hidden;padding: 0;position: absolute;width: 1px;}#sk-container-id-2 div.sk-estimator {font-family: monospace;background-color: #f0f8ff;border: 1px dotted black;border-radius: 0.25em;box-sizing: border-box;margin-bottom: 0.5em;}#sk-container-id-2 div.sk-estimator:hover {background-color: #d4ebff;}#sk-container-id-2 div.sk-parallel-item::after {content: \"\";width: 100%;border-bottom: 1px solid gray;flex-grow: 1;}#sk-container-id-2 div.sk-label:hover label.sk-toggleable__label {background-color: #d4ebff;}#sk-container-id-2 div.sk-serial::before {content: \"\";position: absolute;border-left: 1px solid gray;box-sizing: border-box;top: 0;bottom: 0;left: 50%;z-index: 0;}#sk-container-id-2 div.sk-serial {display: flex;flex-direction: column;align-items: center;background-color: white;padding-right: 0.2em;padding-left: 0.2em;position: relative;}#sk-container-id-2 div.sk-item {position: relative;z-index: 1;}#sk-container-id-2 div.sk-parallel {display: flex;align-items: stretch;justify-content: center;background-color: white;position: relative;}#sk-container-id-2 div.sk-item::before, #sk-container-id-2 div.sk-parallel-item::before {content: \"\";position: absolute;border-left: 1px solid gray;box-sizing: border-box;top: 0;bottom: 0;left: 50%;z-index: -1;}#sk-container-id-2 div.sk-parallel-item {display: flex;flex-direction: column;z-index: 1;position: relative;background-color: white;}#sk-container-id-2 div.sk-parallel-item:first-child::after {align-self: flex-end;width: 50%;}#sk-container-id-2 div.sk-parallel-item:last-child::after {align-self: flex-start;width: 50%;}#sk-container-id-2 div.sk-parallel-item:only-child::after {width: 0;}#sk-container-id-2 div.sk-dashed-wrapped {border: 1px dashed gray;margin: 0 0.4em 0.5em 0.4em;box-sizing: border-box;padding-bottom: 0.4em;background-color: white;}#sk-container-id-2 div.sk-label label {font-family: monospace;font-weight: bold;display: inline-block;line-height: 1.2em;}#sk-container-id-2 div.sk-label-container {text-align: center;}#sk-container-id-2 div.sk-container {/* jupyter's `normalize.less` sets `[hidden] { display: none; }` but bootstrap.min.css set `[hidden] { display: none !important; }` so we also need the `!important` here to be able to override the default hidden behavior on the sphinx rendered scikit-learn.org. See: https://github.com/scikit-learn/scikit-learn/issues/21755 */display: inline-block !important;position: relative;}#sk-container-id-2 div.sk-text-repr-fallback {display: none;}</style><div id=\"sk-container-id-2\" class=\"sk-top-container\"><div class=\"sk-text-repr-fallback\"><pre>RandomForestClassifier(criterion=&#x27;log_loss&#x27;, max_depth=9, max_features=None)</pre><b>In a Jupyter environment, please rerun this cell to show the HTML representation or trust the notebook. <br />On GitHub, the HTML representation is unable to render, please try loading this page with nbviewer.org.</b></div><div class=\"sk-container\" hidden><div class=\"sk-item\"><div class=\"sk-estimator sk-toggleable\"><input class=\"sk-toggleable__control sk-hidden--visually\" id=\"sk-estimator-id-4\" type=\"checkbox\" checked><label for=\"sk-estimator-id-4\" class=\"sk-toggleable__label sk-toggleable__label-arrow\">RandomForestClassifier</label><div class=\"sk-toggleable__content\"><pre>RandomForestClassifier(criterion=&#x27;log_loss&#x27;, max_depth=9, max_features=None)</pre></div></div></div></div></div>"
      ],
      "text/plain": [
       "RandomForestClassifier(criterion='log_loss', max_depth=9, max_features=None)"
      ]
     },
     "execution_count": 94,
     "metadata": {},
     "output_type": "execute_result"
    }
   ],
   "source": [
    "grid_search_rd_forest.best_estimator_"
   ]
  },
  {
   "cell_type": "code",
   "execution_count": 170,
   "metadata": {},
   "outputs": [],
   "source": [
    "rd_forest = RandomForestClassifier(criterion=\"log_loss\", max_depth=9, max_features=None)"
   ]
  },
  {
   "cell_type": "code",
   "execution_count": 171,
   "metadata": {},
   "outputs": [
    {
     "data": {
      "text/plain": [
       "0.5882978723404255"
      ]
     },
     "execution_count": 171,
     "metadata": {},
     "output_type": "execute_result"
    }
   ],
   "source": [
    "cross_val_score(rd_forest, X_train, y_train, cv=5).mean()"
   ]
  },
  {
   "cell_type": "code",
   "execution_count": 172,
   "metadata": {},
   "outputs": [
    {
     "data": {
      "text/plain": [
       "0.6470588235294118"
      ]
     },
     "execution_count": 172,
     "metadata": {},
     "output_type": "execute_result"
    }
   ],
   "source": [
    "rd_forest.fit(X_train, y_train)\n",
    "rd_forest.score(X_test, y_test)"
   ]
  },
  {
   "cell_type": "markdown",
   "metadata": {},
   "source": [
    "## MLP"
   ]
  },
  {
   "cell_type": "code",
   "execution_count": 148,
   "metadata": {},
   "outputs": [],
   "source": [
    "params_mlp = {\n",
    "    \"hidden_layer_sizes\": [100, 500, 1000],\n",
    "    \"activation\": [\"identity\", \"logistic\", \"tanh\", \"relu\"],\n",
    "    \"solver\": [\"lbfgs\", \"sgd\", \"adam\"],\n",
    "    \"max_iter\": [200, 500, 1000]\n",
    "}"
   ]
  },
  {
   "cell_type": "code",
   "execution_count": 151,
   "metadata": {},
   "outputs": [
    {
     "name": "stdout",
     "output_type": "stream",
     "text": [
      "Fitting 5 folds for each of 108 candidates, totalling 540 fits\n"
     ]
    },
    {
     "name": "stderr",
     "output_type": "stream",
     "text": [
      "/usr/lib/python3/dist-packages/scipy/__init__.py:146: UserWarning: A NumPy version >=1.17.3 and <1.25.0 is required for this version of SciPy (detected version 1.26.0\n",
      "  warnings.warn(f\"A NumPy version >={np_minversion} and <{np_maxversion}\"\n",
      "/usr/lib/python3/dist-packages/scipy/__init__.py:146: UserWarning: A NumPy version >=1.17.3 and <1.25.0 is required for this version of SciPy (detected version 1.26.0\n",
      "  warnings.warn(f\"A NumPy version >={np_minversion} and <{np_maxversion}\"\n",
      "/usr/lib/python3/dist-packages/scipy/__init__.py:146: UserWarning: A NumPy version >=1.17.3 and <1.25.0 is required for this version of SciPy (detected version 1.26.0\n",
      "  warnings.warn(f\"A NumPy version >={np_minversion} and <{np_maxversion}\"\n",
      "/usr/lib/python3/dist-packages/scipy/__init__.py:146: UserWarning: A NumPy version >=1.17.3 and <1.25.0 is required for this version of SciPy (detected version 1.26.0\n",
      "  warnings.warn(f\"A NumPy version >={np_minversion} and <{np_maxversion}\"\n",
      "/usr/lib/python3/dist-packages/scipy/__init__.py:146: UserWarning: A NumPy version >=1.17.3 and <1.25.0 is required for this version of SciPy (detected version 1.26.0\n",
      "  warnings.warn(f\"A NumPy version >={np_minversion} and <{np_maxversion}\"\n",
      "/usr/lib/python3/dist-packages/scipy/__init__.py:146: UserWarning: A NumPy version >=1.17.3 and <1.25.0 is required for this version of SciPy (detected version 1.26.0\n",
      "  warnings.warn(f\"A NumPy version >={np_minversion} and <{np_maxversion}\"\n",
      "/usr/lib/python3/dist-packages/scipy/__init__.py:146: UserWarning: A NumPy version >=1.17.3 and <1.25.0 is required for this version of SciPy (detected version 1.26.0\n",
      "  warnings.warn(f\"A NumPy version >={np_minversion} and <{np_maxversion}\"\n",
      "/usr/lib/python3/dist-packages/scipy/__init__.py:146: UserWarning: A NumPy version >=1.17.3 and <1.25.0 is required for this version of SciPy (detected version 1.26.0\n",
      "  warnings.warn(f\"A NumPy version >={np_minversion} and <{np_maxversion}\"\n"
     ]
    },
    {
     "name": "stdout",
     "output_type": "stream",
     "text": [
      "[CV 1/5; 1/108] START activation=identity, hidden_layer_sizes=100, max_iter=200, solver=lbfgs[CV 3/5; 1/108] START activation=identity, hidden_layer_sizes=100, max_iter=200, solver=lbfgs\n",
      "[CV 4/5; 1/108] START activation=identity, hidden_layer_sizes=100, max_iter=200, solver=lbfgs\n",
      "[CV 2/5; 1/108] START activation=identity, hidden_layer_sizes=100, max_iter=200, solver=lbfgs\n",
      "[CV 5/5; 1/108] START activation=identity, hidden_layer_sizes=100, max_iter=200, solver=lbfgs\n",
      "\n",
      "[CV 3/5; 2/108] START activation=identity, hidden_layer_sizes=100, max_iter=200, solver=sgd\n",
      "[CV 2/5; 2/108] START activation=identity, hidden_layer_sizes=100, max_iter=200, solver=sgd\n",
      "[CV 1/5; 2/108] START activation=identity, hidden_layer_sizes=100, max_iter=200, solver=sgd\n",
      "[CV 3/5; 2/108] END activation=identity, hidden_layer_sizes=100, max_iter=200, solver=sgd;, score=0.292 total time=   0.0s\n",
      "[CV 1/5; 2/108] END activation=identity, hidden_layer_sizes=100, max_iter=200, solver=sgd;, score=0.292 total time=   0.0s\n",
      "[CV 2/5; 2/108] END activation=identity, hidden_layer_sizes=100, max_iter=200, solver=sgd;, score=0.146 total time=   0.1s\n",
      "[CV 4/5; 2/108] START activation=identity, hidden_layer_sizes=100, max_iter=200, solver=sgd\n",
      "[CV 5/5; 2/108] START activation=identity, hidden_layer_sizes=100, max_iter=200, solver=sgd\n",
      "[CV 1/5; 3/108] START activation=identity, hidden_layer_sizes=100, max_iter=200, solver=adam\n",
      "[CV 4/5; 2/108] END activation=identity, hidden_layer_sizes=100, max_iter=200, solver=sgd;, score=0.191 total time=   0.1s\n",
      "[CV 2/5; 3/108] START activation=identity, hidden_layer_sizes=100, max_iter=200, solver=adam\n",
      "[CV 2/5; 1/108] END activation=identity, hidden_layer_sizes=100, max_iter=200, solver=lbfgs;, score=0.292 total time=   0.2s\n",
      "[CV 5/5; 1/108] END activation=identity, hidden_layer_sizes=100, max_iter=200, solver=lbfgs;, score=0.170 total time=   0.2s\n"
     ]
    },
    {
     "name": "stderr",
     "output_type": "stream",
     "text": [
      "/home/franzele/.local/lib/python3.10/site-packages/sklearn/neural_network/_multilayer_perceptron.py:546: ConvergenceWarning: lbfgs failed to converge (status=2):\n",
      "ABNORMAL_TERMINATION_IN_LNSRCH.\n",
      "\n",
      "Increase the number of iterations (max_iter) or scale the data as shown in:\n",
      "    https://scikit-learn.org/stable/modules/preprocessing.html\n",
      "  self.n_iter_ = _check_optimize_result(\"lbfgs\", opt_res, self.max_iter)\n",
      "/home/franzele/.local/lib/python3.10/site-packages/sklearn/neural_network/_multilayer_perceptron.py:546: ConvergenceWarning: lbfgs failed to converge (status=2):\n",
      "ABNORMAL_TERMINATION_IN_LNSRCH.\n",
      "\n",
      "Increase the number of iterations (max_iter) or scale the data as shown in:\n",
      "    https://scikit-learn.org/stable/modules/preprocessing.html\n",
      "  self.n_iter_ = _check_optimize_result(\"lbfgs\", opt_res, self.max_iter)\n",
      "/home/franzele/.local/lib/python3.10/site-packages/sklearn/neural_network/_multilayer_perceptron.py:546: ConvergenceWarning: lbfgs failed to converge (status=2):\n",
      "ABNORMAL_TERMINATION_IN_LNSRCH.\n",
      "\n",
      "Increase the number of iterations (max_iter) or scale the data as shown in:\n",
      "    https://scikit-learn.org/stable/modules/preprocessing.html\n",
      "  self.n_iter_ = _check_optimize_result(\"lbfgs\", opt_res, self.max_iter)\n"
     ]
    },
    {
     "name": "stdout",
     "output_type": "stream",
     "text": [
      "[CV 4/5; 1/108] END activation=identity, hidden_layer_sizes=100, max_iter=200, solver=lbfgs;, score=0.298 total time=   0.2s\n",
      "[CV 5/5; 2/108] END activation=identity, hidden_layer_sizes=100, max_iter=200, solver=sgd;, score=0.106 total time=   0.1s\n",
      "[CV 3/5; 3/108] START activation=identity, hidden_layer_sizes=100, max_iter=200, solver=adam\n",
      "[CV 4/5; 3/108] START activation=identity, hidden_layer_sizes=100, max_iter=200, solver=adam\n",
      "[CV 5/5; 3/108] START activation=identity, hidden_layer_sizes=100, max_iter=200, solver=adam\n",
      "[CV 2/5; 3/108] END activation=identity, hidden_layer_sizes=100, max_iter=200, solver=adam;, score=0.250 total time=   0.1s\n",
      "[CV 4/5; 3/108] END activation=identity, hidden_layer_sizes=100, max_iter=200, solver=adam;, score=0.085 total time=   0.0s[CV 1/5; 4/108] START activation=identity, hidden_layer_sizes=100, max_iter=500, solver=lbfgs\n",
      "\n",
      "[CV 2/5; 4/108] START activation=identity, hidden_layer_sizes=100, max_iter=500, solver=lbfgs\n",
      "[CV 3/5; 4/108] START activation=identity, hidden_layer_sizes=100, max_iter=500, solver=lbfgs\n"
     ]
    },
    {
     "name": "stderr",
     "output_type": "stream",
     "text": [
      "/home/franzele/.local/lib/python3.10/site-packages/sklearn/neural_network/_multilayer_perceptron.py:546: ConvergenceWarning: lbfgs failed to converge (status=2):\n",
      "ABNORMAL_TERMINATION_IN_LNSRCH.\n",
      "\n",
      "Increase the number of iterations (max_iter) or scale the data as shown in:\n",
      "    https://scikit-learn.org/stable/modules/preprocessing.html\n",
      "  self.n_iter_ = _check_optimize_result(\"lbfgs\", opt_res, self.max_iter)\n",
      "/home/franzele/.local/lib/python3.10/site-packages/sklearn/neural_network/_multilayer_perceptron.py:546: ConvergenceWarning: lbfgs failed to converge (status=2):\n",
      "ABNORMAL_TERMINATION_IN_LNSRCH.\n",
      "\n",
      "Increase the number of iterations (max_iter) or scale the data as shown in:\n",
      "    https://scikit-learn.org/stable/modules/preprocessing.html\n",
      "  self.n_iter_ = _check_optimize_result(\"lbfgs\", opt_res, self.max_iter)\n",
      "/home/franzele/.local/lib/python3.10/site-packages/sklearn/neural_network/_multilayer_perceptron.py:546: ConvergenceWarning: lbfgs failed to converge (status=2):\n",
      "ABNORMAL_TERMINATION_IN_LNSRCH.\n",
      "\n",
      "Increase the number of iterations (max_iter) or scale the data as shown in:\n",
      "    https://scikit-learn.org/stable/modules/preprocessing.html\n",
      "  self.n_iter_ = _check_optimize_result(\"lbfgs\", opt_res, self.max_iter)\n",
      "/home/franzele/.local/lib/python3.10/site-packages/sklearn/neural_network/_multilayer_perceptron.py:546: ConvergenceWarning: lbfgs failed to converge (status=2):\n",
      "ABNORMAL_TERMINATION_IN_LNSRCH.\n",
      "\n",
      "Increase the number of iterations (max_iter) or scale the data as shown in:\n",
      "    https://scikit-learn.org/stable/modules/preprocessing.html\n",
      "  self.n_iter_ = _check_optimize_result(\"lbfgs\", opt_res, self.max_iter)\n",
      "/home/franzele/.local/lib/python3.10/site-packages/sklearn/neural_network/_multilayer_perceptron.py:546: ConvergenceWarning: lbfgs failed to converge (status=2):\n",
      "ABNORMAL_TERMINATION_IN_LNSRCH.\n",
      "\n",
      "Increase the number of iterations (max_iter) or scale the data as shown in:\n",
      "    https://scikit-learn.org/stable/modules/preprocessing.html\n",
      "  self.n_iter_ = _check_optimize_result(\"lbfgs\", opt_res, self.max_iter)\n"
     ]
    },
    {
     "name": "stdout",
     "output_type": "stream",
     "text": [
      "[CV 3/5; 1/108] END activation=identity, hidden_layer_sizes=100, max_iter=200, solver=lbfgs;, score=0.292 total time=   0.4s\n",
      "[CV 5/5; 3/108] END activation=identity, hidden_layer_sizes=100, max_iter=200, solver=adam;, score=0.340 total time=   0.1s\n",
      "[CV 4/5; 4/108] START activation=identity, hidden_layer_sizes=100, max_iter=500, solver=lbfgs\n",
      "[CV 3/5; 3/108] END activation=identity, hidden_layer_sizes=100, max_iter=200, solver=adam;, score=0.375 total time=   0.2s\n",
      "[CV 5/5; 4/108] START activation=identity, hidden_layer_sizes=100, max_iter=500, solver=lbfgs\n",
      "[CV 3/5; 4/108] END activation=identity, hidden_layer_sizes=100, max_iter=500, solver=lbfgs;, score=0.292 total time=   0.1s[CV 2/5; 4/108] END activation=identity, hidden_layer_sizes=100, max_iter=500, solver=lbfgs;, score=0.188 total time=   0.2s\n",
      "[CV 1/5; 1/108] END activation=identity, hidden_layer_sizes=100, max_iter=200, solver=lbfgs;, score=0.292 total time=   0.5s\n",
      "[CV 1/5; 5/108] START activation=identity, hidden_layer_sizes=100, max_iter=500, solver=sgd\n",
      "\n",
      "[CV 2/5; 5/108] START activation=identity, hidden_layer_sizes=100, max_iter=500, solver=sgd\n",
      "[CV 1/5; 5/108] END activation=identity, hidden_layer_sizes=100, max_iter=500, solver=sgd;, score=0.292 total time=   0.0s\n",
      "[CV 3/5; 5/108] START activation=identity, hidden_layer_sizes=100, max_iter=500, solver=sgd\n",
      "[CV 4/5; 5/108] START activation=identity, hidden_layer_sizes=100, max_iter=500, solver=sgd\n",
      "[CV 5/5; 5/108] START activation=identity, hidden_layer_sizes=100, max_iter=500, solver=sgd\n",
      "[CV 2/5; 5/108] END activation=identity, hidden_layer_sizes=100, max_iter=500, solver=sgd;, score=0.292 total time=   0.1s\n",
      "[CV 1/5; 6/108] START activation=identity, hidden_layer_sizes=100, max_iter=500, solver=adam\n",
      "[CV 3/5; 5/108] END activation=identity, hidden_layer_sizes=100, max_iter=500, solver=sgd;, score=0.167 total time=   0.0s\n",
      "[CV 2/5; 6/108] START activation=identity, hidden_layer_sizes=100, max_iter=500, solver=adam\n",
      "[CV 5/5; 4/108] END activation=identity, hidden_layer_sizes=100, max_iter=500, solver=lbfgs;, score=0.319 total time=   0.1s\n",
      "[CV 3/5; 6/108] START activation=identity, hidden_layer_sizes=100, max_iter=500, solver=adam\n",
      "[CV 5/5; 5/108] END activation=identity, hidden_layer_sizes=100, max_iter=500, solver=sgd;, score=0.298 total time=   0.0s\n",
      "[CV 1/5; 3/108] END activation=identity, hidden_layer_sizes=100, max_iter=200, solver=adam;, score=0.333 total time=   0.4s\n",
      "[CV 4/5; 6/108] START activation=identity, hidden_layer_sizes=100, max_iter=500, solver=adam\n",
      "[CV 5/5; 6/108] START activation=identity, hidden_layer_sizes=100, max_iter=500, solver=adam\n",
      "[CV 3/5; 6/108] END activation=identity, hidden_layer_sizes=100, max_iter=500, solver=adam;, score=0.208 total time=   0.0s\n",
      "[CV 1/5; 7/108] START activation=identity, hidden_layer_sizes=100, max_iter=1000, solver=lbfgs\n"
     ]
    },
    {
     "name": "stderr",
     "output_type": "stream",
     "text": [
      "/home/franzele/.local/lib/python3.10/site-packages/sklearn/neural_network/_multilayer_perceptron.py:546: ConvergenceWarning: lbfgs failed to converge (status=2):\n",
      "ABNORMAL_TERMINATION_IN_LNSRCH.\n",
      "\n",
      "Increase the number of iterations (max_iter) or scale the data as shown in:\n",
      "    https://scikit-learn.org/stable/modules/preprocessing.html\n",
      "  self.n_iter_ = _check_optimize_result(\"lbfgs\", opt_res, self.max_iter)\n",
      "/home/franzele/.local/lib/python3.10/site-packages/sklearn/neural_network/_multilayer_perceptron.py:546: ConvergenceWarning: lbfgs failed to converge (status=2):\n",
      "ABNORMAL_TERMINATION_IN_LNSRCH.\n",
      "\n",
      "Increase the number of iterations (max_iter) or scale the data as shown in:\n",
      "    https://scikit-learn.org/stable/modules/preprocessing.html\n",
      "  self.n_iter_ = _check_optimize_result(\"lbfgs\", opt_res, self.max_iter)\n",
      "/home/franzele/.local/lib/python3.10/site-packages/sklearn/neural_network/_multilayer_perceptron.py:546: ConvergenceWarning: lbfgs failed to converge (status=2):\n",
      "ABNORMAL_TERMINATION_IN_LNSRCH.\n",
      "\n",
      "Increase the number of iterations (max_iter) or scale the data as shown in:\n",
      "    https://scikit-learn.org/stable/modules/preprocessing.html\n",
      "  self.n_iter_ = _check_optimize_result(\"lbfgs\", opt_res, self.max_iter)\n",
      "/home/franzele/.local/lib/python3.10/site-packages/sklearn/neural_network/_multilayer_perceptron.py:546: ConvergenceWarning: lbfgs failed to converge (status=2):\n",
      "ABNORMAL_TERMINATION_IN_LNSRCH.\n",
      "\n",
      "Increase the number of iterations (max_iter) or scale the data as shown in:\n",
      "    https://scikit-learn.org/stable/modules/preprocessing.html\n",
      "  self.n_iter_ = _check_optimize_result(\"lbfgs\", opt_res, self.max_iter)\n",
      "/home/franzele/.local/lib/python3.10/site-packages/sklearn/neural_network/_multilayer_perceptron.py:546: ConvergenceWarning: lbfgs failed to converge (status=2):\n",
      "ABNORMAL_TERMINATION_IN_LNSRCH.\n",
      "\n",
      "Increase the number of iterations (max_iter) or scale the data as shown in:\n",
      "    https://scikit-learn.org/stable/modules/preprocessing.html\n",
      "  self.n_iter_ = _check_optimize_result(\"lbfgs\", opt_res, self.max_iter)\n"
     ]
    },
    {
     "name": "stdout",
     "output_type": "stream",
     "text": [
      "[CV 4/5; 5/108] END activation=identity, hidden_layer_sizes=100, max_iter=500, solver=sgd;, score=0.128 total time=   0.1s\n",
      "[CV 4/5; 4/108] END activation=identity, hidden_layer_sizes=100, max_iter=500, solver=lbfgs;, score=0.234 total time=   0.2s\n",
      "[CV 2/5; 6/108] END activation=identity, hidden_layer_sizes=100, max_iter=500, solver=adam;, score=0.312 total time=   0.1s\n",
      "[CV 3/5; 7/108] START activation=identity, hidden_layer_sizes=100, max_iter=1000, solver=lbfgs\n",
      "[CV 2/5; 7/108] START activation=identity, hidden_layer_sizes=100, max_iter=1000, solver=lbfgs\n",
      "[CV 4/5; 7/108] START activation=identity, hidden_layer_sizes=100, max_iter=1000, solver=lbfgs\n",
      "[CV 4/5; 6/108] END activation=identity, hidden_layer_sizes=100, max_iter=500, solver=adam;, score=0.234 total time=   0.1s\n",
      "[CV 5/5; 7/108] START activation=identity, hidden_layer_sizes=100, max_iter=1000, solver=lbfgs\n",
      "[CV 1/5; 4/108] END activation=identity, hidden_layer_sizes=100, max_iter=500, solver=lbfgs;, score=0.292 total time=   0.4s\n",
      "[CV 1/5; 8/108] START activation=identity, hidden_layer_sizes=100, max_iter=1000, solver=sgd\n",
      "[CV 1/5; 7/108] END activation=identity, hidden_layer_sizes=100, max_iter=1000, solver=lbfgs;, score=0.292 total time=   0.1s\n",
      "[CV 2/5; 8/108] START activation=identity, hidden_layer_sizes=100, max_iter=1000, solver=sgd\n",
      "[CV 3/5; 7/108] END activation=identity, hidden_layer_sizes=100, max_iter=1000, solver=lbfgs;, score=0.292 total time=   0.1s\n",
      "[CV 3/5; 8/108] START activation=identity, hidden_layer_sizes=100, max_iter=1000, solver=sgd\n",
      "[CV 4/5; 7/108] END activation=identity, hidden_layer_sizes=100, max_iter=1000, solver=lbfgs;, score=0.277 total time=   0.1s\n",
      "[CV 4/5; 8/108] START activation=identity, hidden_layer_sizes=100, max_iter=1000, solver=sgd\n",
      "[CV 3/5; 8/108] END activation=identity, hidden_layer_sizes=100, max_iter=1000, solver=sgd;, score=0.188 total time=   0.0s\n",
      "[CV 5/5; 8/108] START activation=identity, hidden_layer_sizes=100, max_iter=1000, solver=sgd\n",
      "[CV 2/5; 8/108] END activation=identity, hidden_layer_sizes=100, max_iter=1000, solver=sgd;, score=0.146 total time=   0.1s\n",
      "[CV 4/5; 8/108] END activation=identity, hidden_layer_sizes=100, max_iter=1000, solver=sgd;, score=0.277 total time=   0.0s\n",
      "[CV 1/5; 9/108] START activation=identity, hidden_layer_sizes=100, max_iter=1000, solver=adam\n",
      "[CV 2/5; 9/108] START activation=identity, hidden_layer_sizes=100, max_iter=1000, solver=adam\n",
      "[CV 1/5; 8/108] END activation=identity, hidden_layer_sizes=100, max_iter=1000, solver=sgd;, score=0.208 total time=   0.2s\n",
      "[CV 3/5; 9/108] START activation=identity, hidden_layer_sizes=100, max_iter=1000, solver=adam\n",
      "[CV 5/5; 8/108] END activation=identity, hidden_layer_sizes=100, max_iter=1000, solver=sgd;, score=0.106 total time=   0.0s\n",
      "[CV 4/5; 9/108] START activation=identity, hidden_layer_sizes=100, max_iter=1000, solver=adam\n",
      "[CV 1/5; 6/108] END activation=identity, hidden_layer_sizes=100, max_iter=500, solver=adam;, score=0.542 total time=   0.4s\n",
      "[CV 5/5; 9/108] START activation=identity, hidden_layer_sizes=100, max_iter=1000, solver=adam\n",
      "[CV 1/5; 9/108] END activation=identity, hidden_layer_sizes=100, max_iter=1000, solver=adam;, score=0.312 total time=   0.1s\n",
      "[CV 1/5; 10/108] START activation=identity, hidden_layer_sizes=500, max_iter=200, solver=lbfgs\n",
      "[CV 5/5; 6/108] END activation=identity, hidden_layer_sizes=100, max_iter=500, solver=adam;, score=0.553 total time=   0.4s\n",
      "[CV 2/5; 10/108] START activation=identity, hidden_layer_sizes=500, max_iter=200, solver=lbfgs\n",
      "[CV 5/5; 9/108] END activation=identity, hidden_layer_sizes=100, max_iter=1000, solver=adam;, score=0.234 total time=   0.1s\n",
      "[CV 3/5; 10/108] START activation=identity, hidden_layer_sizes=500, max_iter=200, solver=lbfgs\n",
      "[CV 4/5; 9/108] END activation=identity, hidden_layer_sizes=100, max_iter=1000, solver=adam;, score=0.128 total time=   0.2s\n",
      "[CV 4/5; 10/108] START activation=identity, hidden_layer_sizes=500, max_iter=200, solver=lbfgs\n",
      "[CV 5/5; 7/108] END activation=identity, hidden_layer_sizes=100, max_iter=1000, solver=lbfgs;, score=0.277 total time=   0.4s\n",
      "[CV 5/5; 10/108] START activation=identity, hidden_layer_sizes=500, max_iter=200, solver=lbfgs\n",
      "[CV 2/5; 7/108] END activation=identity, hidden_layer_sizes=100, max_iter=1000, solver=lbfgs;, score=0.250 total time=   0.5s\n",
      "[CV 1/5; 11/108] START activation=identity, hidden_layer_sizes=500, max_iter=200, solver=sgd\n",
      "[CV 2/5; 9/108] END activation=identity, hidden_layer_sizes=100, max_iter=1000, solver=adam;, score=0.479 total time=   0.4s\n",
      "[CV 2/5; 11/108] START activation=identity, hidden_layer_sizes=500, max_iter=200, solver=sgd"
     ]
    },
    {
     "name": "stderr",
     "output_type": "stream",
     "text": [
      "/home/franzele/.local/lib/python3.10/site-packages/sklearn/neural_network/_multilayer_perceptron.py:546: ConvergenceWarning: lbfgs failed to converge (status=2):\n",
      "ABNORMAL_TERMINATION_IN_LNSRCH.\n",
      "\n",
      "Increase the number of iterations (max_iter) or scale the data as shown in:\n",
      "    https://scikit-learn.org/stable/modules/preprocessing.html\n",
      "  self.n_iter_ = _check_optimize_result(\"lbfgs\", opt_res, self.max_iter)\n",
      "/home/franzele/.local/lib/python3.10/site-packages/sklearn/neural_network/_multilayer_perceptron.py:546: ConvergenceWarning: lbfgs failed to converge (status=2):\n",
      "ABNORMAL_TERMINATION_IN_LNSRCH.\n",
      "\n",
      "Increase the number of iterations (max_iter) or scale the data as shown in:\n",
      "    https://scikit-learn.org/stable/modules/preprocessing.html\n",
      "  self.n_iter_ = _check_optimize_result(\"lbfgs\", opt_res, self.max_iter)\n"
     ]
    },
    {
     "name": "stdout",
     "output_type": "stream",
     "text": [
      "\n",
      "[CV 1/5; 11/108] END activation=identity, hidden_layer_sizes=500, max_iter=200, solver=sgd;, score=0.104 total time=   0.2s\n",
      "[CV 3/5; 11/108] START activation=identity, hidden_layer_sizes=500, max_iter=200, solver=sgd\n",
      "[CV 2/5; 11/108] END activation=identity, hidden_layer_sizes=500, max_iter=200, solver=sgd;, score=0.167 total time=   0.1s\n",
      "[CV 4/5; 11/108] START activation=identity, hidden_layer_sizes=500, max_iter=200, solver=sgd\n",
      "[CV 3/5; 9/108] END activation=identity, hidden_layer_sizes=100, max_iter=1000, solver=adam;, score=0.521 total time=   0.6s\n",
      "[CV 5/5; 11/108] START activation=identity, hidden_layer_sizes=500, max_iter=200, solver=sgd\n",
      "[CV 3/5; 11/108] END activation=identity, hidden_layer_sizes=500, max_iter=200, solver=sgd;, score=0.292 total time=   0.2s\n",
      "[CV 1/5; 12/108] START activation=identity, hidden_layer_sizes=500, max_iter=200, solver=adam\n",
      "[CV 4/5; 11/108] END activation=identity, hidden_layer_sizes=500, max_iter=200, solver=sgd;, score=0.128 total time=   0.3s\n",
      "[CV 2/5; 12/108] START activation=identity, hidden_layer_sizes=500, max_iter=200, solver=adam\n",
      "[CV 5/5; 11/108] END activation=identity, hidden_layer_sizes=500, max_iter=200, solver=sgd;, score=0.149 total time=   0.2s\n",
      "[CV 3/5; 12/108] START activation=identity, hidden_layer_sizes=500, max_iter=200, solver=adam\n",
      "[CV 2/5; 10/108] END activation=identity, hidden_layer_sizes=500, max_iter=200, solver=lbfgs;, score=0.292 total time=   0.8s\n",
      "[CV 4/5; 12/108] START activation=identity, hidden_layer_sizes=500, max_iter=200, solver=adam\n",
      "[CV 4/5; 10/108] END activation=identity, hidden_layer_sizes=500, max_iter=200, solver=lbfgs;, score=0.277 total time=   0.8s\n",
      "[CV 5/5; 12/108] START activation=identity, hidden_layer_sizes=500, max_iter=200, solver=adam\n"
     ]
    },
    {
     "name": "stderr",
     "output_type": "stream",
     "text": [
      "/home/franzele/.local/lib/python3.10/site-packages/sklearn/neural_network/_multilayer_perceptron.py:546: ConvergenceWarning: lbfgs failed to converge (status=2):\n",
      "ABNORMAL_TERMINATION_IN_LNSRCH.\n",
      "\n",
      "Increase the number of iterations (max_iter) or scale the data as shown in:\n",
      "    https://scikit-learn.org/stable/modules/preprocessing.html\n",
      "  self.n_iter_ = _check_optimize_result(\"lbfgs\", opt_res, self.max_iter)\n",
      "/home/franzele/.local/lib/python3.10/site-packages/sklearn/neural_network/_multilayer_perceptron.py:546: ConvergenceWarning: lbfgs failed to converge (status=2):\n",
      "ABNORMAL_TERMINATION_IN_LNSRCH.\n",
      "\n",
      "Increase the number of iterations (max_iter) or scale the data as shown in:\n",
      "    https://scikit-learn.org/stable/modules/preprocessing.html\n",
      "  self.n_iter_ = _check_optimize_result(\"lbfgs\", opt_res, self.max_iter)\n"
     ]
    },
    {
     "name": "stdout",
     "output_type": "stream",
     "text": [
      "[CV 2/5; 12/108] END activation=identity, hidden_layer_sizes=500, max_iter=200, solver=adam;, score=0.292 total time=   0.2s\n",
      "[CV 1/5; 13/108] START activation=identity, hidden_layer_sizes=500, max_iter=500, solver=lbfgs\n",
      "[CV 3/5; 12/108] END activation=identity, hidden_layer_sizes=500, max_iter=200, solver=adam;, score=0.104 total time=   0.2s\n",
      "[CV 2/5; 13/108] START activation=identity, hidden_layer_sizes=500, max_iter=500, solver=lbfgs\n",
      "[CV 4/5; 12/108] END activation=identity, hidden_layer_sizes=500, max_iter=200, solver=adam;, score=0.128 total time=   0.2s\n",
      "[CV 3/5; 13/108] START activation=identity, hidden_layer_sizes=500, max_iter=500, solver=lbfgs\n",
      "[CV 5/5; 12/108] END activation=identity, hidden_layer_sizes=500, max_iter=200, solver=adam;, score=0.298 total time=   0.3s\n",
      "[CV 1/5; 12/108] END activation=identity, hidden_layer_sizes=500, max_iter=200, solver=adam;, score=0.208 total time=   0.6s\n",
      "[CV 4/5; 13/108] START activation=identity, hidden_layer_sizes=500, max_iter=500, solver=lbfgs\n",
      "[CV 5/5; 13/108] START activation=identity, hidden_layer_sizes=500, max_iter=500, solver=lbfgs\n"
     ]
    },
    {
     "name": "stderr",
     "output_type": "stream",
     "text": [
      "/home/franzele/.local/lib/python3.10/site-packages/sklearn/neural_network/_multilayer_perceptron.py:546: ConvergenceWarning: lbfgs failed to converge (status=2):\n",
      "ABNORMAL_TERMINATION_IN_LNSRCH.\n",
      "\n",
      "Increase the number of iterations (max_iter) or scale the data as shown in:\n",
      "    https://scikit-learn.org/stable/modules/preprocessing.html\n",
      "  self.n_iter_ = _check_optimize_result(\"lbfgs\", opt_res, self.max_iter)\n",
      "/home/franzele/.local/lib/python3.10/site-packages/sklearn/neural_network/_multilayer_perceptron.py:546: ConvergenceWarning: lbfgs failed to converge (status=2):\n",
      "ABNORMAL_TERMINATION_IN_LNSRCH.\n",
      "\n",
      "Increase the number of iterations (max_iter) or scale the data as shown in:\n",
      "    https://scikit-learn.org/stable/modules/preprocessing.html\n",
      "  self.n_iter_ = _check_optimize_result(\"lbfgs\", opt_res, self.max_iter)\n",
      "/home/franzele/.local/lib/python3.10/site-packages/sklearn/neural_network/_multilayer_perceptron.py:546: ConvergenceWarning: lbfgs failed to converge (status=2):\n",
      "ABNORMAL_TERMINATION_IN_LNSRCH.\n",
      "\n",
      "Increase the number of iterations (max_iter) or scale the data as shown in:\n",
      "    https://scikit-learn.org/stable/modules/preprocessing.html\n",
      "  self.n_iter_ = _check_optimize_result(\"lbfgs\", opt_res, self.max_iter)\n"
     ]
    },
    {
     "name": "stdout",
     "output_type": "stream",
     "text": [
      "[CV 3/5; 13/108] END activation=identity, hidden_layer_sizes=500, max_iter=500, solver=lbfgs;, score=0.292 total time=   0.6s\n",
      "[CV 1/5; 14/108] START activation=identity, hidden_layer_sizes=500, max_iter=500, solver=sgd\n",
      "[CV 1/5; 14/108] END activation=identity, hidden_layer_sizes=500, max_iter=500, solver=sgd;, score=0.292 total time=   0.1s\n",
      "[CV 2/5; 14/108] START activation=identity, hidden_layer_sizes=500, max_iter=500, solver=sgd\n",
      "[CV 1/5; 10/108] END activation=identity, hidden_layer_sizes=500, max_iter=200, solver=lbfgs;, score=0.333 total time=   1.8s\n",
      "[CV 3/5; 14/108] START activation=identity, hidden_layer_sizes=500, max_iter=500, solver=sgd\n",
      "[CV 5/5; 10/108] END activation=identity, hidden_layer_sizes=500, max_iter=200, solver=lbfgs;, score=0.277 total time=   1.6s[CV 2/5; 14/108] END activation=identity, hidden_layer_sizes=500, max_iter=500, solver=sgd;, score=0.146 total time=   0.1s\n",
      "[CV 4/5; 14/108] START activation=identity, hidden_layer_sizes=500, max_iter=500, solver=sgd\n",
      "\n",
      "[CV 5/5; 14/108] START activation=identity, hidden_layer_sizes=500, max_iter=500, solver=sgd\n",
      "[CV 3/5; 14/108] END activation=identity, hidden_layer_sizes=500, max_iter=500, solver=sgd;, score=0.146 total time=   0.2s\n",
      "[CV 4/5; 14/108] END activation=identity, hidden_layer_sizes=500, max_iter=500, solver=sgd;, score=0.277 total time=   0.2s\n",
      "[CV 1/5; 15/108] START activation=identity, hidden_layer_sizes=500, max_iter=500, solver=adam\n",
      "[CV 2/5; 15/108] START activation=identity, hidden_layer_sizes=500, max_iter=500, solver=adam\n",
      "[CV 5/5; 14/108] END activation=identity, hidden_layer_sizes=500, max_iter=500, solver=sgd;, score=0.106 total time=   0.2s\n",
      "[CV 3/5; 15/108] START activation=identity, hidden_layer_sizes=500, max_iter=500, solver=adam\n",
      "[CV 3/5; 10/108] END activation=identity, hidden_layer_sizes=500, max_iter=200, solver=lbfgs;, score=0.229 total time=   2.1s\n",
      "[CV 4/5; 15/108] START activation=identity, hidden_layer_sizes=500, max_iter=500, solver=adam\n"
     ]
    },
    {
     "name": "stderr",
     "output_type": "stream",
     "text": [
      "/home/franzele/.local/lib/python3.10/site-packages/sklearn/neural_network/_multilayer_perceptron.py:546: ConvergenceWarning: lbfgs failed to converge (status=2):\n",
      "ABNORMAL_TERMINATION_IN_LNSRCH.\n",
      "\n",
      "Increase the number of iterations (max_iter) or scale the data as shown in:\n",
      "    https://scikit-learn.org/stable/modules/preprocessing.html\n",
      "  self.n_iter_ = _check_optimize_result(\"lbfgs\", opt_res, self.max_iter)\n"
     ]
    },
    {
     "name": "stdout",
     "output_type": "stream",
     "text": [
      "[CV 4/5; 15/108] END activation=identity, hidden_layer_sizes=500, max_iter=500, solver=adam;, score=0.277 total time=   0.2s\n",
      "[CV 5/5; 15/108] START activation=identity, hidden_layer_sizes=500, max_iter=500, solver=adam\n",
      "[CV 2/5; 13/108] END activation=identity, hidden_layer_sizes=500, max_iter=500, solver=lbfgs;, score=0.292 total time=   1.4s\n",
      "[CV 1/5; 16/108] START activation=identity, hidden_layer_sizes=500, max_iter=1000, solver=lbfgs\n",
      "[CV 3/5; 15/108] END activation=identity, hidden_layer_sizes=500, max_iter=500, solver=adam;, score=0.312 total time=   0.3s\n",
      "[CV 2/5; 16/108] START activation=identity, hidden_layer_sizes=500, max_iter=1000, solver=lbfgs\n",
      "[CV 5/5; 13/108] END activation=identity, hidden_layer_sizes=500, max_iter=500, solver=lbfgs;, score=0.298 total time=   1.2s\n",
      "[CV 3/5; 16/108] START activation=identity, hidden_layer_sizes=500, max_iter=1000, solver=lbfgs\n",
      "[CV 4/5; 13/108] END activation=identity, hidden_layer_sizes=500, max_iter=500, solver=lbfgs;, score=0.277 total time=   1.3s\n",
      "[CV 4/5; 16/108] START activation=identity, hidden_layer_sizes=500, max_iter=1000, solver=lbfgs\n"
     ]
    },
    {
     "name": "stderr",
     "output_type": "stream",
     "text": [
      "/home/franzele/.local/lib/python3.10/site-packages/sklearn/neural_network/_multilayer_perceptron.py:546: ConvergenceWarning: lbfgs failed to converge (status=2):\n",
      "ABNORMAL_TERMINATION_IN_LNSRCH.\n",
      "\n",
      "Increase the number of iterations (max_iter) or scale the data as shown in:\n",
      "    https://scikit-learn.org/stable/modules/preprocessing.html\n",
      "  self.n_iter_ = _check_optimize_result(\"lbfgs\", opt_res, self.max_iter)\n",
      "/home/franzele/.local/lib/python3.10/site-packages/sklearn/neural_network/_multilayer_perceptron.py:546: ConvergenceWarning: lbfgs failed to converge (status=2):\n",
      "ABNORMAL_TERMINATION_IN_LNSRCH.\n",
      "\n",
      "Increase the number of iterations (max_iter) or scale the data as shown in:\n",
      "    https://scikit-learn.org/stable/modules/preprocessing.html\n",
      "  self.n_iter_ = _check_optimize_result(\"lbfgs\", opt_res, self.max_iter)\n",
      "/home/franzele/.local/lib/python3.10/site-packages/sklearn/neural_network/_multilayer_perceptron.py:546: ConvergenceWarning: lbfgs failed to converge (status=2):\n",
      "ABNORMAL_TERMINATION_IN_LNSRCH.\n",
      "\n",
      "Increase the number of iterations (max_iter) or scale the data as shown in:\n",
      "    https://scikit-learn.org/stable/modules/preprocessing.html\n",
      "  self.n_iter_ = _check_optimize_result(\"lbfgs\", opt_res, self.max_iter)\n",
      "/home/franzele/.local/lib/python3.10/site-packages/sklearn/neural_network/_multilayer_perceptron.py:546: ConvergenceWarning: lbfgs failed to converge (status=2):\n",
      "ABNORMAL_TERMINATION_IN_LNSRCH.\n",
      "\n",
      "Increase the number of iterations (max_iter) or scale the data as shown in:\n",
      "    https://scikit-learn.org/stable/modules/preprocessing.html\n",
      "  self.n_iter_ = _check_optimize_result(\"lbfgs\", opt_res, self.max_iter)\n"
     ]
    },
    {
     "name": "stdout",
     "output_type": "stream",
     "text": [
      "[CV 1/5; 13/108] END activation=identity, hidden_layer_sizes=500, max_iter=500, solver=lbfgs;, score=0.292 total time=   1.6s\n",
      "[CV 5/5; 16/108] START activation=identity, hidden_layer_sizes=500, max_iter=1000, solver=lbfgs\n",
      "[CV 5/5; 15/108] END activation=identity, hidden_layer_sizes=500, max_iter=500, solver=adam;, score=0.234 total time=   0.3s\n",
      "[CV 1/5; 15/108] END activation=identity, hidden_layer_sizes=500, max_iter=500, solver=adam;, score=0.500 total time=   0.7s\n",
      "[CV 1/5; 17/108] START activation=identity, hidden_layer_sizes=500, max_iter=1000, solver=sgd\n",
      "[CV 2/5; 17/108] START activation=identity, hidden_layer_sizes=500, max_iter=1000, solver=sgd\n",
      "[CV 2/5; 17/108] END activation=identity, hidden_layer_sizes=500, max_iter=1000, solver=sgd;, score=0.167 total time=   0.1s\n",
      "[CV 3/5; 17/108] START activation=identity, hidden_layer_sizes=500, max_iter=1000, solver=sgd\n",
      "[CV 1/5; 17/108] END activation=identity, hidden_layer_sizes=500, max_iter=1000, solver=sgd;, score=0.104 total time=   0.2s\n",
      "[CV 2/5; 15/108] END activation=identity, hidden_layer_sizes=500, max_iter=500, solver=adam;, score=0.333 total time=   1.0s\n",
      "[CV 4/5; 17/108] START activation=identity, hidden_layer_sizes=500, max_iter=1000, solver=sgd\n",
      "[CV 5/5; 17/108] START activation=identity, hidden_layer_sizes=500, max_iter=1000, solver=sgd\n",
      "[CV 3/5; 17/108] END activation=identity, hidden_layer_sizes=500, max_iter=1000, solver=sgd;, score=0.188 total time=   0.2s\n",
      "[CV 1/5; 18/108] START activation=identity, hidden_layer_sizes=500, max_iter=1000, solver=adam\n",
      "[CV 1/5; 16/108] END activation=identity, hidden_layer_sizes=500, max_iter=1000, solver=lbfgs;, score=0.312 total time=   0.7s\n",
      "[CV 2/5; 18/108] START activation=identity, hidden_layer_sizes=500, max_iter=1000, solver=adam\n",
      "[CV 5/5; 17/108] END activation=identity, hidden_layer_sizes=500, max_iter=1000, solver=sgd;, score=0.149 total time=   0.2s\n",
      "[CV 4/5; 17/108] END activation=identity, hidden_layer_sizes=500, max_iter=1000, solver=sgd;, score=0.128 total time=   0.2s\n",
      "[CV 3/5; 18/108] START activation=identity, hidden_layer_sizes=500, max_iter=1000, solver=adam\n",
      "[CV 4/5; 18/108] START activation=identity, hidden_layer_sizes=500, max_iter=1000, solver=adam\n"
     ]
    },
    {
     "name": "stderr",
     "output_type": "stream",
     "text": [
      "/home/franzele/.local/lib/python3.10/site-packages/sklearn/neural_network/_multilayer_perceptron.py:546: ConvergenceWarning: lbfgs failed to converge (status=2):\n",
      "ABNORMAL_TERMINATION_IN_LNSRCH.\n",
      "\n",
      "Increase the number of iterations (max_iter) or scale the data as shown in:\n",
      "    https://scikit-learn.org/stable/modules/preprocessing.html\n",
      "  self.n_iter_ = _check_optimize_result(\"lbfgs\", opt_res, self.max_iter)\n"
     ]
    },
    {
     "name": "stdout",
     "output_type": "stream",
     "text": [
      "[CV 1/5; 18/108] END activation=identity, hidden_layer_sizes=500, max_iter=1000, solver=adam;, score=0.292 total time=   0.2s\n",
      "[CV 5/5; 18/108] START activation=identity, hidden_layer_sizes=500, max_iter=1000, solver=adam\n",
      "[CV 2/5; 18/108] END activation=identity, hidden_layer_sizes=500, max_iter=1000, solver=adam;, score=0.104 total time=   0.4s\n",
      "[CV 1/5; 19/108] START activation=identity, hidden_layer_sizes=1000, max_iter=200, solver=lbfgs\n",
      "[CV 4/5; 18/108] END activation=identity, hidden_layer_sizes=500, max_iter=1000, solver=adam;, score=0.277 total time=   0.3s\n",
      "[CV 2/5; 19/108] START activation=identity, hidden_layer_sizes=1000, max_iter=200, solver=lbfgs\n",
      "[CV 5/5; 18/108] END activation=identity, hidden_layer_sizes=500, max_iter=1000, solver=adam;, score=0.340 total time=   0.3s\n",
      "[CV 3/5; 19/108] START activation=identity, hidden_layer_sizes=1000, max_iter=200, solver=lbfgs\n",
      "[CV 3/5; 18/108] END activation=identity, hidden_layer_sizes=500, max_iter=1000, solver=adam;, score=0.292 total time=   0.5s\n",
      "[CV 4/5; 19/108] START activation=identity, hidden_layer_sizes=1000, max_iter=200, solver=lbfgs\n"
     ]
    },
    {
     "name": "stderr",
     "output_type": "stream",
     "text": [
      "/home/franzele/.local/lib/python3.10/site-packages/sklearn/neural_network/_multilayer_perceptron.py:546: ConvergenceWarning: lbfgs failed to converge (status=2):\n",
      "ABNORMAL_TERMINATION_IN_LNSRCH.\n",
      "\n",
      "Increase the number of iterations (max_iter) or scale the data as shown in:\n",
      "    https://scikit-learn.org/stable/modules/preprocessing.html\n",
      "  self.n_iter_ = _check_optimize_result(\"lbfgs\", opt_res, self.max_iter)\n",
      "/home/franzele/.local/lib/python3.10/site-packages/sklearn/neural_network/_multilayer_perceptron.py:546: ConvergenceWarning: lbfgs failed to converge (status=2):\n",
      "ABNORMAL_TERMINATION_IN_LNSRCH.\n",
      "\n",
      "Increase the number of iterations (max_iter) or scale the data as shown in:\n",
      "    https://scikit-learn.org/stable/modules/preprocessing.html\n",
      "  self.n_iter_ = _check_optimize_result(\"lbfgs\", opt_res, self.max_iter)\n"
     ]
    },
    {
     "name": "stdout",
     "output_type": "stream",
     "text": [
      "[CV 5/5; 16/108] END activation=identity, hidden_layer_sizes=500, max_iter=1000, solver=lbfgs;, score=0.298 total time=   1.4s\n",
      "[CV 5/5; 19/108] START activation=identity, hidden_layer_sizes=1000, max_iter=200, solver=lbfgs\n",
      "[CV 2/5; 16/108] END activation=identity, hidden_layer_sizes=500, max_iter=1000, solver=lbfgs;, score=0.396 total time=   1.7s\n",
      "[CV 1/5; 20/108] START activation=identity, hidden_layer_sizes=1000, max_iter=200, solver=sgd\n"
     ]
    },
    {
     "name": "stderr",
     "output_type": "stream",
     "text": [
      "/home/franzele/.local/lib/python3.10/site-packages/sklearn/neural_network/_multilayer_perceptron.py:546: ConvergenceWarning: lbfgs failed to converge (status=2):\n",
      "ABNORMAL_TERMINATION_IN_LNSRCH.\n",
      "\n",
      "Increase the number of iterations (max_iter) or scale the data as shown in:\n",
      "    https://scikit-learn.org/stable/modules/preprocessing.html\n",
      "  self.n_iter_ = _check_optimize_result(\"lbfgs\", opt_res, self.max_iter)\n"
     ]
    },
    {
     "name": "stdout",
     "output_type": "stream",
     "text": [
      "[CV 4/5; 16/108] END activation=identity, hidden_layer_sizes=500, max_iter=1000, solver=lbfgs;, score=0.191 total time=   1.8s\n",
      "[CV 2/5; 20/108] START activation=identity, hidden_layer_sizes=1000, max_iter=200, solver=sgd\n",
      "[CV 1/5; 20/108] END activation=identity, hidden_layer_sizes=1000, max_iter=200, solver=sgd;, score=0.146 total time=   0.4s\n",
      "[CV 3/5; 20/108] START activation=identity, hidden_layer_sizes=1000, max_iter=200, solver=sgd\n",
      "[CV 3/5; 19/108] END activation=identity, hidden_layer_sizes=1000, max_iter=200, solver=lbfgs;, score=0.188 total time=   1.1s\n"
     ]
    },
    {
     "name": "stderr",
     "output_type": "stream",
     "text": [
      "/home/franzele/.local/lib/python3.10/site-packages/sklearn/neural_network/_multilayer_perceptron.py:546: ConvergenceWarning: lbfgs failed to converge (status=2):\n",
      "ABNORMAL_TERMINATION_IN_LNSRCH.\n",
      "\n",
      "Increase the number of iterations (max_iter) or scale the data as shown in:\n",
      "    https://scikit-learn.org/stable/modules/preprocessing.html\n",
      "  self.n_iter_ = _check_optimize_result(\"lbfgs\", opt_res, self.max_iter)\n",
      "/home/franzele/.local/lib/python3.10/site-packages/sklearn/neural_network/_multilayer_perceptron.py:546: ConvergenceWarning: lbfgs failed to converge (status=2):\n",
      "ABNORMAL_TERMINATION_IN_LNSRCH.\n",
      "\n",
      "Increase the number of iterations (max_iter) or scale the data as shown in:\n",
      "    https://scikit-learn.org/stable/modules/preprocessing.html\n",
      "  self.n_iter_ = _check_optimize_result(\"lbfgs\", opt_res, self.max_iter)\n"
     ]
    },
    {
     "name": "stdout",
     "output_type": "stream",
     "text": [
      "[CV 4/5; 20/108] START activation=identity, hidden_layer_sizes=1000, max_iter=200, solver=sgd\n",
      "[CV 3/5; 16/108] END activation=identity, hidden_layer_sizes=500, max_iter=1000, solver=lbfgs;, score=0.167 total time=   2.3s\n",
      "[CV 5/5; 20/108] START activation=identity, hidden_layer_sizes=1000, max_iter=200, solver=sgd\n",
      "[CV 3/5; 20/108] END activation=identity, hidden_layer_sizes=1000, max_iter=200, solver=sgd;, score=0.104 total time=   0.3s\n",
      "[CV 1/5; 21/108] START activation=identity, hidden_layer_sizes=1000, max_iter=200, solver=adam\n",
      "[CV 2/5; 20/108] END activation=identity, hidden_layer_sizes=1000, max_iter=200, solver=sgd;, score=0.188 total time=   0.6s\n",
      "[CV 2/5; 21/108] START activation=identity, hidden_layer_sizes=1000, max_iter=200, solver=adam\n",
      "[CV 5/5; 20/108] END activation=identity, hidden_layer_sizes=1000, max_iter=200, solver=sgd;, score=0.298 total time=   0.3s\n",
      "[CV 3/5; 21/108] START activation=identity, hidden_layer_sizes=1000, max_iter=200, solver=adam\n",
      "[CV 4/5; 20/108] END activation=identity, hidden_layer_sizes=1000, max_iter=200, solver=sgd;, score=0.191 total time=   0.5s\n",
      "[CV 4/5; 21/108] START activation=identity, hidden_layer_sizes=1000, max_iter=200, solver=adam\n",
      "[CV 1/5; 21/108] END activation=identity, hidden_layer_sizes=1000, max_iter=200, solver=adam;, score=0.271 total time=   0.8s\n",
      "[CV 5/5; 21/108] START activation=identity, hidden_layer_sizes=1000, max_iter=200, solver=adam\n"
     ]
    },
    {
     "name": "stderr",
     "output_type": "stream",
     "text": [
      "/home/franzele/.local/lib/python3.10/site-packages/sklearn/neural_network/_multilayer_perceptron.py:546: ConvergenceWarning: lbfgs failed to converge (status=2):\n",
      "ABNORMAL_TERMINATION_IN_LNSRCH.\n",
      "\n",
      "Increase the number of iterations (max_iter) or scale the data as shown in:\n",
      "    https://scikit-learn.org/stable/modules/preprocessing.html\n",
      "  self.n_iter_ = _check_optimize_result(\"lbfgs\", opt_res, self.max_iter)\n"
     ]
    },
    {
     "name": "stdout",
     "output_type": "stream",
     "text": [
      "[CV 4/5; 21/108] END activation=identity, hidden_layer_sizes=1000, max_iter=200, solver=adam;, score=0.128 total time=   0.9s\n",
      "[CV 1/5; 22/108] START activation=identity, hidden_layer_sizes=1000, max_iter=500, solver=lbfgs\n",
      "[CV 1/5; 19/108] END activation=identity, hidden_layer_sizes=1000, max_iter=200, solver=lbfgs;, score=0.292 total time=   2.6s\n",
      "[CV 2/5; 22/108] START activation=identity, hidden_layer_sizes=1000, max_iter=500, solver=lbfgs\n",
      "[CV 3/5; 21/108] END activation=identity, hidden_layer_sizes=1000, max_iter=200, solver=adam;, score=0.167 total time=   1.1s\n",
      "[CV 3/5; 22/108] START activation=identity, hidden_layer_sizes=1000, max_iter=500, solver=lbfgs\n",
      "[CV 2/5; 21/108] END activation=identity, hidden_layer_sizes=1000, max_iter=200, solver=adam;, score=0.167 total time=   1.3s\n",
      "[CV 4/5; 22/108] START activation=identity, hidden_layer_sizes=1000, max_iter=500, solver=lbfgs\n"
     ]
    },
    {
     "name": "stderr",
     "output_type": "stream",
     "text": [
      "/home/franzele/.local/lib/python3.10/site-packages/sklearn/neural_network/_multilayer_perceptron.py:546: ConvergenceWarning: lbfgs failed to converge (status=2):\n",
      "ABNORMAL_TERMINATION_IN_LNSRCH.\n",
      "\n",
      "Increase the number of iterations (max_iter) or scale the data as shown in:\n",
      "    https://scikit-learn.org/stable/modules/preprocessing.html\n",
      "  self.n_iter_ = _check_optimize_result(\"lbfgs\", opt_res, self.max_iter)\n",
      "/home/franzele/.local/lib/python3.10/site-packages/sklearn/neural_network/_multilayer_perceptron.py:546: ConvergenceWarning: lbfgs failed to converge (status=2):\n",
      "ABNORMAL_TERMINATION_IN_LNSRCH.\n",
      "\n",
      "Increase the number of iterations (max_iter) or scale the data as shown in:\n",
      "    https://scikit-learn.org/stable/modules/preprocessing.html\n",
      "  self.n_iter_ = _check_optimize_result(\"lbfgs\", opt_res, self.max_iter)\n"
     ]
    },
    {
     "name": "stdout",
     "output_type": "stream",
     "text": [
      "[CV 2/5; 19/108] END activation=identity, hidden_layer_sizes=1000, max_iter=200, solver=lbfgs;, score=0.167 total time=   3.2s\n",
      "[CV 5/5; 22/108] START activation=identity, hidden_layer_sizes=1000, max_iter=500, solver=lbfgs\n",
      "[CV 5/5; 19/108] END activation=identity, hidden_layer_sizes=1000, max_iter=200, solver=lbfgs;, score=0.383 total time=   2.8s\n",
      "[CV 1/5; 23/108] START activation=identity, hidden_layer_sizes=1000, max_iter=500, solver=sgd\n",
      "[CV 5/5; 21/108] END activation=identity, hidden_layer_sizes=1000, max_iter=200, solver=adam;, score=0.213 total time=   1.5s\n",
      "[CV 2/5; 23/108] START activation=identity, hidden_layer_sizes=1000, max_iter=500, solver=sgd\n",
      "[CV 1/5; 23/108] END activation=identity, hidden_layer_sizes=1000, max_iter=500, solver=sgd;, score=0.208 total time=   0.3s\n",
      "[CV 3/5; 23/108] START activation=identity, hidden_layer_sizes=1000, max_iter=500, solver=sgd\n",
      "[CV 4/5; 19/108] END activation=identity, hidden_layer_sizes=1000, max_iter=200, solver=lbfgs;, score=0.277 total time=   3.5s\n",
      "[CV 4/5; 23/108] START activation=identity, hidden_layer_sizes=1000, max_iter=500, solver=sgd\n"
     ]
    },
    {
     "name": "stderr",
     "output_type": "stream",
     "text": [
      "/home/franzele/.local/lib/python3.10/site-packages/sklearn/neural_network/_multilayer_perceptron.py:546: ConvergenceWarning: lbfgs failed to converge (status=2):\n",
      "ABNORMAL_TERMINATION_IN_LNSRCH.\n",
      "\n",
      "Increase the number of iterations (max_iter) or scale the data as shown in:\n",
      "    https://scikit-learn.org/stable/modules/preprocessing.html\n",
      "  self.n_iter_ = _check_optimize_result(\"lbfgs\", opt_res, self.max_iter)\n"
     ]
    },
    {
     "name": "stdout",
     "output_type": "stream",
     "text": [
      "[CV 2/5; 23/108] END activation=identity, hidden_layer_sizes=1000, max_iter=500, solver=sgd;, score=0.146 total time=   0.5s\n",
      "[CV 5/5; 23/108] START activation=identity, hidden_layer_sizes=1000, max_iter=500, solver=sgd\n",
      "[CV 3/5; 23/108] END activation=identity, hidden_layer_sizes=1000, max_iter=500, solver=sgd;, score=0.104 total time=   0.5s\n",
      "[CV 1/5; 24/108] START activation=identity, hidden_layer_sizes=1000, max_iter=500, solver=adam\n",
      "[CV 4/5; 23/108] END activation=identity, hidden_layer_sizes=1000, max_iter=500, solver=sgd;, score=0.170 total time=   0.5s\n",
      "[CV 2/5; 24/108] START activation=identity, hidden_layer_sizes=1000, max_iter=500, solver=adam\n",
      "[CV 2/5; 24/108] END activation=identity, hidden_layer_sizes=1000, max_iter=500, solver=adam;, score=0.292 total time=   0.3s\n",
      "[CV 3/5; 24/108] START activation=identity, hidden_layer_sizes=1000, max_iter=500, solver=adam\n",
      "[CV 5/5; 23/108] END activation=identity, hidden_layer_sizes=1000, max_iter=500, solver=sgd;, score=0.213 total time=   0.6s\n",
      "[CV 4/5; 24/108] START activation=identity, hidden_layer_sizes=1000, max_iter=500, solver=adam\n",
      "[CV 5/5; 22/108] END activation=identity, hidden_layer_sizes=1000, max_iter=500, solver=lbfgs;, score=0.298 total time=   1.4s\n",
      "[CV 5/5; 24/108] START activation=identity, hidden_layer_sizes=1000, max_iter=500, solver=adam\n"
     ]
    },
    {
     "name": "stderr",
     "output_type": "stream",
     "text": [
      "/home/franzele/.local/lib/python3.10/site-packages/sklearn/neural_network/_multilayer_perceptron.py:546: ConvergenceWarning: lbfgs failed to converge (status=2):\n",
      "ABNORMAL_TERMINATION_IN_LNSRCH.\n",
      "\n",
      "Increase the number of iterations (max_iter) or scale the data as shown in:\n",
      "    https://scikit-learn.org/stable/modules/preprocessing.html\n",
      "  self.n_iter_ = _check_optimize_result(\"lbfgs\", opt_res, self.max_iter)\n"
     ]
    },
    {
     "name": "stdout",
     "output_type": "stream",
     "text": [
      "[CV 3/5; 24/108] END activation=identity, hidden_layer_sizes=1000, max_iter=500, solver=adam;, score=0.292 total time=   0.2s\n",
      "[CV 1/5; 25/108] START activation=identity, hidden_layer_sizes=1000, max_iter=1000, solver=lbfgs\n"
     ]
    },
    {
     "name": "stderr",
     "output_type": "stream",
     "text": [
      "/home/franzele/.local/lib/python3.10/site-packages/sklearn/neural_network/_multilayer_perceptron.py:546: ConvergenceWarning: lbfgs failed to converge (status=2):\n",
      "ABNORMAL_TERMINATION_IN_LNSRCH.\n",
      "\n",
      "Increase the number of iterations (max_iter) or scale the data as shown in:\n",
      "    https://scikit-learn.org/stable/modules/preprocessing.html\n",
      "  self.n_iter_ = _check_optimize_result(\"lbfgs\", opt_res, self.max_iter)\n"
     ]
    },
    {
     "name": "stdout",
     "output_type": "stream",
     "text": [
      "[CV 2/5; 22/108] END activation=identity, hidden_layer_sizes=1000, max_iter=500, solver=lbfgs;, score=0.312 total time=   2.4s\n",
      "[CV 2/5; 25/108] START activation=identity, hidden_layer_sizes=1000, max_iter=1000, solver=lbfgs\n",
      "[CV 4/5; 24/108] END activation=identity, hidden_layer_sizes=1000, max_iter=500, solver=adam;, score=0.277 total time=   0.5s\n",
      "[CV 3/5; 25/108] START activation=identity, hidden_layer_sizes=1000, max_iter=1000, solver=lbfgs\n",
      "[CV 5/5; 24/108] END activation=identity, hidden_layer_sizes=1000, max_iter=500, solver=adam;, score=0.255 total time=   0.5s\n",
      "[CV 4/5; 25/108] START activation=identity, hidden_layer_sizes=1000, max_iter=1000, solver=lbfgs\n",
      "[CV 1/5; 24/108] END activation=identity, hidden_layer_sizes=1000, max_iter=500, solver=adam;, score=0.229 total time=   1.4s\n",
      "[CV 5/5; 25/108] START activation=identity, hidden_layer_sizes=1000, max_iter=1000, solver=lbfgs\n"
     ]
    },
    {
     "name": "stderr",
     "output_type": "stream",
     "text": [
      "/home/franzele/.local/lib/python3.10/site-packages/sklearn/neural_network/_multilayer_perceptron.py:546: ConvergenceWarning: lbfgs failed to converge (status=2):\n",
      "ABNORMAL_TERMINATION_IN_LNSRCH.\n",
      "\n",
      "Increase the number of iterations (max_iter) or scale the data as shown in:\n",
      "    https://scikit-learn.org/stable/modules/preprocessing.html\n",
      "  self.n_iter_ = _check_optimize_result(\"lbfgs\", opt_res, self.max_iter)\n"
     ]
    },
    {
     "name": "stdout",
     "output_type": "stream",
     "text": [
      "[CV 4/5; 22/108] END activation=identity, hidden_layer_sizes=1000, max_iter=500, solver=lbfgs;, score=0.277 total time=   2.9s\n",
      "[CV 1/5; 26/108] START activation=identity, hidden_layer_sizes=1000, max_iter=1000, solver=sgd\n",
      "[CV 1/5; 26/108] END activation=identity, hidden_layer_sizes=1000, max_iter=1000, solver=sgd;, score=0.146 total time=   0.7s\n",
      "[CV 2/5; 26/108] START activation=identity, hidden_layer_sizes=1000, max_iter=1000, solver=sgd\n",
      "[CV 2/5; 26/108] END activation=identity, hidden_layer_sizes=1000, max_iter=1000, solver=sgd;, score=0.146 total time=   0.3s\n",
      "[CV 3/5; 26/108] START activation=identity, hidden_layer_sizes=1000, max_iter=1000, solver=sgd\n"
     ]
    },
    {
     "name": "stderr",
     "output_type": "stream",
     "text": [
      "/home/franzele/.local/lib/python3.10/site-packages/sklearn/neural_network/_multilayer_perceptron.py:546: ConvergenceWarning: lbfgs failed to converge (status=2):\n",
      "ABNORMAL_TERMINATION_IN_LNSRCH.\n",
      "\n",
      "Increase the number of iterations (max_iter) or scale the data as shown in:\n",
      "    https://scikit-learn.org/stable/modules/preprocessing.html\n",
      "  self.n_iter_ = _check_optimize_result(\"lbfgs\", opt_res, self.max_iter)\n",
      "/home/franzele/.local/lib/python3.10/site-packages/sklearn/neural_network/_multilayer_perceptron.py:546: ConvergenceWarning: lbfgs failed to converge (status=2):\n",
      "ABNORMAL_TERMINATION_IN_LNSRCH.\n",
      "\n",
      "Increase the number of iterations (max_iter) or scale the data as shown in:\n",
      "    https://scikit-learn.org/stable/modules/preprocessing.html\n",
      "  self.n_iter_ = _check_optimize_result(\"lbfgs\", opt_res, self.max_iter)\n"
     ]
    },
    {
     "name": "stdout",
     "output_type": "stream",
     "text": [
      "[CV 3/5; 25/108] END activation=identity, hidden_layer_sizes=1000, max_iter=1000, solver=lbfgs;, score=0.292 total time=   1.8s\n",
      "[CV 3/5; 26/108] END activation=identity, hidden_layer_sizes=1000, max_iter=1000, solver=sgd;, score=0.188 total time=   0.2s\n",
      "[CV 4/5; 26/108] START activation=identity, hidden_layer_sizes=1000, max_iter=1000, solver=sgd[CV 5/5; 26/108] START activation=identity, hidden_layer_sizes=1000, max_iter=1000, solver=sgd\n",
      "\n",
      "[CV 1/5; 22/108] END activation=identity, hidden_layer_sizes=1000, max_iter=500, solver=lbfgs;, score=0.417 total time=   4.4s\n",
      "[CV 1/5; 27/108] START activation=identity, hidden_layer_sizes=1000, max_iter=1000, solver=adam\n"
     ]
    },
    {
     "name": "stderr",
     "output_type": "stream",
     "text": [
      "/home/franzele/.local/lib/python3.10/site-packages/sklearn/neural_network/_multilayer_perceptron.py:546: ConvergenceWarning: lbfgs failed to converge (status=2):\n",
      "ABNORMAL_TERMINATION_IN_LNSRCH.\n",
      "\n",
      "Increase the number of iterations (max_iter) or scale the data as shown in:\n",
      "    https://scikit-learn.org/stable/modules/preprocessing.html\n",
      "  self.n_iter_ = _check_optimize_result(\"lbfgs\", opt_res, self.max_iter)\n"
     ]
    },
    {
     "name": "stdout",
     "output_type": "stream",
     "text": [
      "[CV 3/5; 22/108] END activation=identity, hidden_layer_sizes=1000, max_iter=500, solver=lbfgs;, score=0.146 total time=   4.7s\n",
      "[CV 2/5; 27/108] START activation=identity, hidden_layer_sizes=1000, max_iter=1000, solver=adam\n",
      "[CV 4/5; 26/108] END activation=identity, hidden_layer_sizes=1000, max_iter=1000, solver=sgd;, score=0.106 total time=   0.5s\n",
      "[CV 3/5; 27/108] START activation=identity, hidden_layer_sizes=1000, max_iter=1000, solver=adam\n",
      "[CV 5/5; 26/108] END activation=identity, hidden_layer_sizes=1000, max_iter=1000, solver=sgd;, score=0.149 total time=   0.6s\n",
      "[CV 4/5; 27/108] START activation=identity, hidden_layer_sizes=1000, max_iter=1000, solver=adam\n",
      "[CV 1/5; 27/108] END activation=identity, hidden_layer_sizes=1000, max_iter=1000, solver=adam;, score=0.104 total time=   0.6s\n",
      "[CV 5/5; 27/108] START activation=identity, hidden_layer_sizes=1000, max_iter=1000, solver=adam\n"
     ]
    },
    {
     "name": "stderr",
     "output_type": "stream",
     "text": [
      "/home/franzele/.local/lib/python3.10/site-packages/sklearn/neural_network/_multilayer_perceptron.py:546: ConvergenceWarning: lbfgs failed to converge (status=2):\n",
      "ABNORMAL_TERMINATION_IN_LNSRCH.\n",
      "\n",
      "Increase the number of iterations (max_iter) or scale the data as shown in:\n",
      "    https://scikit-learn.org/stable/modules/preprocessing.html\n",
      "  self.n_iter_ = _check_optimize_result(\"lbfgs\", opt_res, self.max_iter)\n",
      "/home/franzele/.local/lib/python3.10/site-packages/sklearn/neural_network/_multilayer_perceptron.py:546: ConvergenceWarning: lbfgs failed to converge (status=2):\n",
      "ABNORMAL_TERMINATION_IN_LNSRCH.\n",
      "\n",
      "Increase the number of iterations (max_iter) or scale the data as shown in:\n",
      "    https://scikit-learn.org/stable/modules/preprocessing.html\n",
      "  self.n_iter_ = _check_optimize_result(\"lbfgs\", opt_res, self.max_iter)\n"
     ]
    },
    {
     "name": "stdout",
     "output_type": "stream",
     "text": [
      "[CV 5/5; 25/108] END activation=identity, hidden_layer_sizes=1000, max_iter=1000, solver=lbfgs;, score=0.298 total time=   2.5s\n",
      "[CV 1/5; 28/108] START activation=logistic, hidden_layer_sizes=100, max_iter=200, solver=lbfgs\n",
      "[CV 1/5; 25/108] END activation=identity, hidden_layer_sizes=1000, max_iter=1000, solver=lbfgs;, score=0.458 total time=   3.4s\n",
      "[CV 2/5; 28/108] START activation=logistic, hidden_layer_sizes=100, max_iter=200, solver=lbfgs\n",
      "[CV 2/5; 27/108] END activation=identity, hidden_layer_sizes=1000, max_iter=1000, solver=adam;, score=0.146 total time=   0.8s\n",
      "[CV 1/5; 28/108] END activation=logistic, hidden_layer_sizes=100, max_iter=200, solver=lbfgs;, score=0.292 total time=   0.2s\n",
      "[CV 3/5; 28/108] START activation=logistic, hidden_layer_sizes=100, max_iter=200, solver=lbfgs\n",
      "[CV 4/5; 28/108] START activation=logistic, hidden_layer_sizes=100, max_iter=200, solver=lbfgs\n",
      "[CV 4/5; 27/108] END activation=identity, hidden_layer_sizes=1000, max_iter=1000, solver=adam;, score=0.277 total time=   0.6s\n",
      "[CV 5/5; 28/108] START activation=logistic, hidden_layer_sizes=100, max_iter=200, solver=lbfgs\n",
      "[CV 3/5; 27/108] END activation=identity, hidden_layer_sizes=1000, max_iter=1000, solver=adam;, score=0.167 total time=   0.7s\n",
      "[CV 1/5; 29/108] START activation=logistic, hidden_layer_sizes=100, max_iter=200, solver=sgd\n",
      "[CV 2/5; 28/108] END activation=logistic, hidden_layer_sizes=100, max_iter=200, solver=lbfgs;, score=0.292 total time=   0.2s\n",
      "[CV 2/5; 29/108] START activation=logistic, hidden_layer_sizes=100, max_iter=200, solver=sgd\n",
      "[CV 5/5; 28/108] END activation=logistic, hidden_layer_sizes=100, max_iter=200, solver=lbfgs;, score=0.298 total time=   0.1s\n",
      "[CV 3/5; 29/108] START activation=logistic, hidden_layer_sizes=100, max_iter=200, solver=sgd\n",
      "[CV 1/5; 29/108] END activation=logistic, hidden_layer_sizes=100, max_iter=200, solver=sgd;, score=0.292 total time=   0.1s\n",
      "[CV 4/5; 29/108] START activation=logistic, hidden_layer_sizes=100, max_iter=200, solver=sgd\n",
      "[CV 3/5; 28/108] END activation=logistic, hidden_layer_sizes=100, max_iter=200, solver=lbfgs;, score=0.292 total time=   0.2s\n",
      "[CV 5/5; 29/108] START activation=logistic, hidden_layer_sizes=100, max_iter=200, solver=sgd\n",
      "[CV 4/5; 29/108] END activation=logistic, hidden_layer_sizes=100, max_iter=200, solver=sgd;, score=0.277 total time=   0.1s\n",
      "[CV 1/5; 30/108] START activation=logistic, hidden_layer_sizes=100, max_iter=200, solver=adam\n",
      "[CV 5/5; 27/108] END activation=identity, hidden_layer_sizes=1000, max_iter=1000, solver=adam;, score=0.213 total time=   0.8s\n",
      "[CV 2/5; 30/108] START activation=logistic, hidden_layer_sizes=100, max_iter=200, solver=adam\n",
      "[CV 2/5; 29/108] END activation=logistic, hidden_layer_sizes=100, max_iter=200, solver=sgd;, score=0.292 total time=   0.3s\n",
      "[CV 3/5; 30/108] START activation=logistic, hidden_layer_sizes=100, max_iter=200, solver=adam\n",
      "[CV 3/5; 29/108] END activation=logistic, hidden_layer_sizes=100, max_iter=200, solver=sgd;, score=0.292 total time=   0.3s\n",
      "[CV 4/5; 30/108] START activation=logistic, hidden_layer_sizes=100, max_iter=200, solver=adam\n",
      "[CV 5/5; 29/108] END activation=logistic, hidden_layer_sizes=100, max_iter=200, solver=sgd;, score=0.298 total time=   0.3s\n",
      "[CV 5/5; 30/108] START activation=logistic, hidden_layer_sizes=100, max_iter=200, solver=adam\n",
      "[CV 1/5; 30/108] END activation=logistic, hidden_layer_sizes=100, max_iter=200, solver=adam;, score=0.292 total time=   0.4s\n",
      "[CV 1/5; 31/108] START activation=logistic, hidden_layer_sizes=100, max_iter=500, solver=lbfgs\n",
      "[CV 4/5; 30/108] END activation=logistic, hidden_layer_sizes=100, max_iter=200, solver=adam;, score=0.277 total time=   0.2s\n",
      "[CV 2/5; 31/108] START activation=logistic, hidden_layer_sizes=100, max_iter=500, solver=lbfgs\n",
      "[CV 3/5; 30/108] END activation=logistic, hidden_layer_sizes=100, max_iter=200, solver=adam;, score=0.292 total time=   0.3s\n",
      "[CV 1/5; 31/108] END activation=logistic, hidden_layer_sizes=100, max_iter=500, solver=lbfgs;, score=0.292 total time=   0.1s\n",
      "[CV 3/5; 31/108] START activation=logistic, hidden_layer_sizes=100, max_iter=500, solver=lbfgs\n",
      "[CV 4/5; 31/108] START activation=logistic, hidden_layer_sizes=100, max_iter=500, solver=lbfgs\n",
      "[CV 3/5; 31/108] END activation=logistic, hidden_layer_sizes=100, max_iter=500, solver=lbfgs;, score=0.292 total time=   0.1s\n",
      "[CV 5/5; 31/108] START activation=logistic, hidden_layer_sizes=100, max_iter=500, solver=lbfgs\n",
      "[CV 5/5; 30/108] END activation=logistic, hidden_layer_sizes=100, max_iter=200, solver=adam;, score=0.298 total time=   0.5s\n",
      "[CV 1/5; 32/108] START activation=logistic, hidden_layer_sizes=100, max_iter=500, solver=sgd\n",
      "[CV 2/5; 30/108] END activation=logistic, hidden_layer_sizes=100, max_iter=200, solver=adam;, score=0.292 total time=   0.7s\n",
      "[CV 2/5; 32/108] START activation=logistic, hidden_layer_sizes=100, max_iter=500, solver=sgd\n"
     ]
    },
    {
     "name": "stderr",
     "output_type": "stream",
     "text": [
      "/home/franzele/.local/lib/python3.10/site-packages/sklearn/neural_network/_multilayer_perceptron.py:546: ConvergenceWarning: lbfgs failed to converge (status=2):\n",
      "ABNORMAL_TERMINATION_IN_LNSRCH.\n",
      "\n",
      "Increase the number of iterations (max_iter) or scale the data as shown in:\n",
      "    https://scikit-learn.org/stable/modules/preprocessing.html\n",
      "  self.n_iter_ = _check_optimize_result(\"lbfgs\", opt_res, self.max_iter)\n"
     ]
    },
    {
     "name": "stdout",
     "output_type": "stream",
     "text": [
      "[CV 4/5; 25/108] END activation=identity, hidden_layer_sizes=1000, max_iter=1000, solver=lbfgs;, score=0.298 total time=   4.3s\n",
      "[CV 3/5; 32/108] START activation=logistic, hidden_layer_sizes=100, max_iter=500, solver=sgd\n",
      "[CV 1/5; 32/108] END activation=logistic, hidden_layer_sizes=100, max_iter=500, solver=sgd;, score=0.292 total time=   0.3s\n",
      "[CV 4/5; 32/108] START activation=logistic, hidden_layer_sizes=100, max_iter=500, solver=sgd\n",
      "[CV 2/5; 32/108] END activation=logistic, hidden_layer_sizes=100, max_iter=500, solver=sgd;, score=0.292 total time=   0.3s\n",
      "[CV 5/5; 32/108] START activation=logistic, hidden_layer_sizes=100, max_iter=500, solver=sgd\n",
      "[CV 4/5; 32/108] END activation=logistic, hidden_layer_sizes=100, max_iter=500, solver=sgd;, score=0.277 total time=   0.4s\n",
      "[CV 1/5; 33/108] START activation=logistic, hidden_layer_sizes=100, max_iter=500, solver=adam\n",
      "[CV 5/5; 32/108] END activation=logistic, hidden_layer_sizes=100, max_iter=500, solver=sgd;, score=0.298 total time=   0.5s\n",
      "[CV 2/5; 33/108] START activation=logistic, hidden_layer_sizes=100, max_iter=500, solver=adam\n",
      "[CV 5/5; 31/108] END activation=logistic, hidden_layer_sizes=100, max_iter=500, solver=lbfgs;, score=0.489 total time=   1.2s\n",
      "[CV 3/5; 33/108] START activation=logistic, hidden_layer_sizes=100, max_iter=500, solver=adam\n",
      "[CV 2/5; 33/108] END activation=logistic, hidden_layer_sizes=100, max_iter=500, solver=adam;, score=0.292 total time=   0.3s\n",
      "[CV 4/5; 33/108] START activation=logistic, hidden_layer_sizes=100, max_iter=500, solver=adam\n",
      "[CV 3/5; 32/108] END activation=logistic, hidden_layer_sizes=100, max_iter=500, solver=sgd;, score=0.292 total time=   1.1s\n",
      "[CV 4/5; 28/108] END activation=logistic, hidden_layer_sizes=100, max_iter=200, solver=lbfgs;, score=0.319 total time=   2.5s\n",
      "[CV 5/5; 33/108] START activation=logistic, hidden_layer_sizes=100, max_iter=500, solver=adam\n",
      "[CV 1/5; 34/108] START activation=logistic, hidden_layer_sizes=100, max_iter=1000, solver=lbfgs\n"
     ]
    },
    {
     "name": "stderr",
     "output_type": "stream",
     "text": [
      "/home/franzele/.local/lib/python3.10/site-packages/sklearn/neural_network/_multilayer_perceptron.py:546: ConvergenceWarning: lbfgs failed to converge (status=1):\n",
      "STOP: TOTAL NO. of ITERATIONS REACHED LIMIT.\n",
      "\n",
      "Increase the number of iterations (max_iter) or scale the data as shown in:\n",
      "    https://scikit-learn.org/stable/modules/preprocessing.html\n",
      "  self.n_iter_ = _check_optimize_result(\"lbfgs\", opt_res, self.max_iter)\n"
     ]
    },
    {
     "name": "stdout",
     "output_type": "stream",
     "text": [
      "[CV 4/5; 33/108] END activation=logistic, hidden_layer_sizes=100, max_iter=500, solver=adam;, score=0.277 total time=   0.2s\n",
      "[CV 2/5; 34/108] START activation=logistic, hidden_layer_sizes=100, max_iter=1000, solver=lbfgs\n",
      "[CV 1/5; 34/108] END activation=logistic, hidden_layer_sizes=100, max_iter=1000, solver=lbfgs;, score=0.292 total time=   0.1s\n",
      "[CV 3/5; 34/108] START activation=logistic, hidden_layer_sizes=100, max_iter=1000, solver=lbfgs\n",
      "[CV 5/5; 33/108] END activation=logistic, hidden_layer_sizes=100, max_iter=500, solver=adam;, score=0.298 total time=   0.3s\n",
      "[CV 4/5; 34/108] START activation=logistic, hidden_layer_sizes=100, max_iter=1000, solver=lbfgs\n",
      "[CV 3/5; 34/108] END activation=logistic, hidden_layer_sizes=100, max_iter=1000, solver=lbfgs;, score=0.292 total time=   0.2s\n",
      "[CV 5/5; 34/108] START activation=logistic, hidden_layer_sizes=100, max_iter=1000, solver=lbfgs\n",
      "[CV 4/5; 34/108] END activation=logistic, hidden_layer_sizes=100, max_iter=1000, solver=lbfgs;, score=0.277 total time=   0.3s\n",
      "[CV 1/5; 35/108] START activation=logistic, hidden_layer_sizes=100, max_iter=1000, solver=sgd\n",
      "[CV 1/5; 33/108] END activation=logistic, hidden_layer_sizes=100, max_iter=500, solver=adam;, score=0.479 total time=   1.4s\n",
      "[CV 2/5; 35/108] START activation=logistic, hidden_layer_sizes=100, max_iter=1000, solver=sgd\n",
      "[CV 2/5; 35/108] END activation=logistic, hidden_layer_sizes=100, max_iter=1000, solver=sgd;, score=0.292 total time=   0.3s\n",
      "[CV 3/5; 35/108] START activation=logistic, hidden_layer_sizes=100, max_iter=1000, solver=sgd\n",
      "[CV 3/5; 35/108] END activation=logistic, hidden_layer_sizes=100, max_iter=1000, solver=sgd;, score=0.292 total time=   0.2s\n",
      "[CV 4/5; 35/108] START activation=logistic, hidden_layer_sizes=100, max_iter=1000, solver=sgd\n",
      "[CV 1/5; 35/108] END activation=logistic, hidden_layer_sizes=100, max_iter=1000, solver=sgd;, score=0.292 total time=   0.8s\n",
      "[CV 5/5; 35/108] START activation=logistic, hidden_layer_sizes=100, max_iter=1000, solver=sgd\n",
      "[CV 4/5; 35/108] END activation=logistic, hidden_layer_sizes=100, max_iter=1000, solver=sgd;, score=0.277 total time=   0.3s\n",
      "[CV 1/5; 36/108] START activation=logistic, hidden_layer_sizes=100, max_iter=1000, solver=adam\n",
      "[CV 1/5; 36/108] END activation=logistic, hidden_layer_sizes=100, max_iter=1000, solver=adam;, score=0.292 total time=   0.1s\n",
      "[CV 2/5; 36/108] START activation=logistic, hidden_layer_sizes=100, max_iter=1000, solver=adam\n",
      "[CV 5/5; 35/108] END activation=logistic, hidden_layer_sizes=100, max_iter=1000, solver=sgd;, score=0.298 total time=   0.4s\n",
      "[CV 3/5; 36/108] START activation=logistic, hidden_layer_sizes=100, max_iter=1000, solver=adam\n",
      "[CV 2/5; 36/108] END activation=logistic, hidden_layer_sizes=100, max_iter=1000, solver=adam;, score=0.292 total time=   0.2s\n",
      "[CV 4/5; 36/108] START activation=logistic, hidden_layer_sizes=100, max_iter=1000, solver=adam\n",
      "[CV 3/5; 36/108] END activation=logistic, hidden_layer_sizes=100, max_iter=1000, solver=adam;, score=0.292 total time=   0.1s\n",
      "[CV 5/5; 36/108] START activation=logistic, hidden_layer_sizes=100, max_iter=1000, solver=adam\n"
     ]
    },
    {
     "name": "stderr",
     "output_type": "stream",
     "text": [
      "/home/franzele/.local/lib/python3.10/site-packages/sklearn/neural_network/_multilayer_perceptron.py:546: ConvergenceWarning: lbfgs failed to converge (status=1):\n",
      "STOP: TOTAL NO. of ITERATIONS REACHED LIMIT.\n",
      "\n",
      "Increase the number of iterations (max_iter) or scale the data as shown in:\n",
      "    https://scikit-learn.org/stable/modules/preprocessing.html\n",
      "  self.n_iter_ = _check_optimize_result(\"lbfgs\", opt_res, self.max_iter)\n"
     ]
    },
    {
     "name": "stdout",
     "output_type": "stream",
     "text": [
      "[CV 2/5; 31/108] END activation=logistic, hidden_layer_sizes=100, max_iter=500, solver=lbfgs;, score=0.625 total time=   3.8s\n",
      "[CV 1/5; 37/108] START activation=logistic, hidden_layer_sizes=500, max_iter=200, solver=lbfgs\n",
      "[CV 5/5; 36/108] END activation=logistic, hidden_layer_sizes=100, max_iter=1000, solver=adam;, score=0.298 total time=   0.3s\n",
      "[CV 2/5; 37/108] START activation=logistic, hidden_layer_sizes=500, max_iter=200, solver=lbfgs\n"
     ]
    },
    {
     "name": "stderr",
     "output_type": "stream",
     "text": [
      "/home/franzele/.local/lib/python3.10/site-packages/sklearn/neural_network/_multilayer_perceptron.py:691: ConvergenceWarning: Stochastic Optimizer: Maximum iterations (500) reached and the optimization hasn't converged yet.\n",
      "  warnings.warn(\n"
     ]
    },
    {
     "name": "stdout",
     "output_type": "stream",
     "text": [
      "[CV 3/5; 33/108] END activation=logistic, hidden_layer_sizes=100, max_iter=500, solver=adam;, score=0.479 total time=   3.3s\n",
      "[CV 3/5; 37/108] START activation=logistic, hidden_layer_sizes=500, max_iter=200, solver=lbfgs\n"
     ]
    },
    {
     "name": "stderr",
     "output_type": "stream",
     "text": [
      "/home/franzele/.local/lib/python3.10/site-packages/sklearn/neural_network/_multilayer_perceptron.py:546: ConvergenceWarning: lbfgs failed to converge (status=1):\n",
      "STOP: TOTAL NO. of ITERATIONS REACHED LIMIT.\n",
      "\n",
      "Increase the number of iterations (max_iter) or scale the data as shown in:\n",
      "    https://scikit-learn.org/stable/modules/preprocessing.html\n",
      "  self.n_iter_ = _check_optimize_result(\"lbfgs\", opt_res, self.max_iter)\n"
     ]
    },
    {
     "name": "stdout",
     "output_type": "stream",
     "text": [
      "[CV 4/5; 31/108] END activation=logistic, hidden_layer_sizes=100, max_iter=500, solver=lbfgs;, score=0.468 total time=   6.4s\n",
      "[CV 4/5; 37/108] START activation=logistic, hidden_layer_sizes=500, max_iter=200, solver=lbfgs\n"
     ]
    },
    {
     "name": "stderr",
     "output_type": "stream",
     "text": [
      "/home/franzele/.local/lib/python3.10/site-packages/sklearn/neural_network/_multilayer_perceptron.py:691: ConvergenceWarning: Stochastic Optimizer: Maximum iterations (1000) reached and the optimization hasn't converged yet.\n",
      "  warnings.warn(\n"
     ]
    },
    {
     "name": "stdout",
     "output_type": "stream",
     "text": [
      "[CV 4/5; 36/108] END activation=logistic, hidden_layer_sizes=100, max_iter=1000, solver=adam;, score=0.574 total time=   5.5s\n",
      "[CV 5/5; 37/108] START activation=logistic, hidden_layer_sizes=500, max_iter=200, solver=lbfgs\n"
     ]
    },
    {
     "name": "stderr",
     "output_type": "stream",
     "text": [
      "/home/franzele/.local/lib/python3.10/site-packages/sklearn/neural_network/_multilayer_perceptron.py:546: ConvergenceWarning: lbfgs failed to converge (status=1):\n",
      "STOP: TOTAL NO. of ITERATIONS REACHED LIMIT.\n",
      "\n",
      "Increase the number of iterations (max_iter) or scale the data as shown in:\n",
      "    https://scikit-learn.org/stable/modules/preprocessing.html\n",
      "  self.n_iter_ = _check_optimize_result(\"lbfgs\", opt_res, self.max_iter)\n"
     ]
    },
    {
     "name": "stdout",
     "output_type": "stream",
     "text": [
      "[CV 2/5; 34/108] END activation=logistic, hidden_layer_sizes=100, max_iter=1000, solver=lbfgs;, score=0.688 total time=  11.6s\n",
      "[CV 1/5; 38/108] START activation=logistic, hidden_layer_sizes=500, max_iter=200, solver=sgd\n"
     ]
    },
    {
     "name": "stderr",
     "output_type": "stream",
     "text": [
      "/home/franzele/.local/lib/python3.10/site-packages/sklearn/neural_network/_multilayer_perceptron.py:546: ConvergenceWarning: lbfgs failed to converge (status=1):\n",
      "STOP: TOTAL NO. of ITERATIONS REACHED LIMIT.\n",
      "\n",
      "Increase the number of iterations (max_iter) or scale the data as shown in:\n",
      "    https://scikit-learn.org/stable/modules/preprocessing.html\n",
      "  self.n_iter_ = _check_optimize_result(\"lbfgs\", opt_res, self.max_iter)\n"
     ]
    },
    {
     "name": "stdout",
     "output_type": "stream",
     "text": [
      "[CV 2/5; 37/108] END activation=logistic, hidden_layer_sizes=500, max_iter=200, solver=lbfgs;, score=0.542 total time=  10.4s\n",
      "[CV 2/5; 38/108] START activation=logistic, hidden_layer_sizes=500, max_iter=200, solver=sgd\n"
     ]
    },
    {
     "name": "stderr",
     "output_type": "stream",
     "text": [
      "/home/franzele/.local/lib/python3.10/site-packages/sklearn/neural_network/_multilayer_perceptron.py:546: ConvergenceWarning: lbfgs failed to converge (status=1):\n",
      "STOP: TOTAL NO. of ITERATIONS REACHED LIMIT.\n",
      "\n",
      "Increase the number of iterations (max_iter) or scale the data as shown in:\n",
      "    https://scikit-learn.org/stable/modules/preprocessing.html\n",
      "  self.n_iter_ = _check_optimize_result(\"lbfgs\", opt_res, self.max_iter)\n",
      "/home/franzele/.local/lib/python3.10/site-packages/sklearn/neural_network/_multilayer_perceptron.py:546: ConvergenceWarning: lbfgs failed to converge (status=1):\n",
      "STOP: TOTAL NO. of ITERATIONS REACHED LIMIT.\n",
      "\n",
      "Increase the number of iterations (max_iter) or scale the data as shown in:\n",
      "    https://scikit-learn.org/stable/modules/preprocessing.html\n",
      "  self.n_iter_ = _check_optimize_result(\"lbfgs\", opt_res, self.max_iter)\n"
     ]
    },
    {
     "name": "stdout",
     "output_type": "stream",
     "text": [
      "[CV 5/5; 34/108] END activation=logistic, hidden_layer_sizes=100, max_iter=1000, solver=lbfgs;, score=0.638 total time=  13.0s\n",
      "[CV 3/5; 38/108] START activation=logistic, hidden_layer_sizes=500, max_iter=200, solver=sgd\n",
      "[CV 1/5; 37/108] END activation=logistic, hidden_layer_sizes=500, max_iter=200, solver=lbfgs;, score=0.667 total time=  11.3s\n",
      "[CV 4/5; 38/108] START activation=logistic, hidden_layer_sizes=500, max_iter=200, solver=sgd\n",
      "[CV 1/5; 38/108] END activation=logistic, hidden_layer_sizes=500, max_iter=200, solver=sgd;, score=0.292 total time=   1.8s\n",
      "[CV 5/5; 38/108] START activation=logistic, hidden_layer_sizes=500, max_iter=200, solver=sgd\n"
     ]
    },
    {
     "name": "stderr",
     "output_type": "stream",
     "text": [
      "/home/franzele/.local/lib/python3.10/site-packages/sklearn/neural_network/_multilayer_perceptron.py:546: ConvergenceWarning: lbfgs failed to converge (status=1):\n",
      "STOP: TOTAL NO. of ITERATIONS REACHED LIMIT.\n",
      "\n",
      "Increase the number of iterations (max_iter) or scale the data as shown in:\n",
      "    https://scikit-learn.org/stable/modules/preprocessing.html\n",
      "  self.n_iter_ = _check_optimize_result(\"lbfgs\", opt_res, self.max_iter)\n"
     ]
    },
    {
     "name": "stdout",
     "output_type": "stream",
     "text": [
      "[CV 3/5; 37/108] END activation=logistic, hidden_layer_sizes=500, max_iter=200, solver=lbfgs;, score=0.646 total time=  10.9s\n",
      "[CV 1/5; 39/108] START activation=logistic, hidden_layer_sizes=500, max_iter=200, solver=adam\n",
      "[CV 2/5; 38/108] END activation=logistic, hidden_layer_sizes=500, max_iter=200, solver=sgd;, score=0.292 total time=   2.1s\n",
      "[CV 2/5; 39/108] START activation=logistic, hidden_layer_sizes=500, max_iter=200, solver=adam\n",
      "[CV 4/5; 37/108] END activation=logistic, hidden_layer_sizes=500, max_iter=200, solver=lbfgs;, score=0.596 total time=  10.0s\n",
      "[CV 3/5; 39/108] START activation=logistic, hidden_layer_sizes=500, max_iter=200, solver=adam\n",
      "[CV 3/5; 38/108] END activation=logistic, hidden_layer_sizes=500, max_iter=200, solver=sgd;, score=0.333 total time=   1.6s\n",
      "[CV 4/5; 39/108] START activation=logistic, hidden_layer_sizes=500, max_iter=200, solver=adam\n"
     ]
    },
    {
     "name": "stderr",
     "output_type": "stream",
     "text": [
      "/home/franzele/.local/lib/python3.10/site-packages/sklearn/neural_network/_multilayer_perceptron.py:546: ConvergenceWarning: lbfgs failed to converge (status=1):\n",
      "STOP: TOTAL NO. of ITERATIONS REACHED LIMIT.\n",
      "\n",
      "Increase the number of iterations (max_iter) or scale the data as shown in:\n",
      "    https://scikit-learn.org/stable/modules/preprocessing.html\n",
      "  self.n_iter_ = _check_optimize_result(\"lbfgs\", opt_res, self.max_iter)\n"
     ]
    },
    {
     "name": "stdout",
     "output_type": "stream",
     "text": [
      "[CV 4/5; 38/108] END activation=logistic, hidden_layer_sizes=500, max_iter=200, solver=sgd;, score=0.277 total time=   2.1s\n",
      "[CV 5/5; 39/108] START activation=logistic, hidden_layer_sizes=500, max_iter=200, solver=adam\n"
     ]
    },
    {
     "name": "stderr",
     "output_type": "stream",
     "text": [
      "/home/franzele/.local/lib/python3.10/site-packages/sklearn/neural_network/_multilayer_perceptron.py:691: ConvergenceWarning: Stochastic Optimizer: Maximum iterations (200) reached and the optimization hasn't converged yet.\n",
      "  warnings.warn(\n"
     ]
    },
    {
     "name": "stdout",
     "output_type": "stream",
     "text": [
      "[CV 1/5; 39/108] END activation=logistic, hidden_layer_sizes=500, max_iter=200, solver=adam;, score=0.500 total time=   2.4s\n",
      "[CV 1/5; 40/108] START activation=logistic, hidden_layer_sizes=500, max_iter=500, solver=lbfgs\n",
      "[CV 5/5; 38/108] END activation=logistic, hidden_layer_sizes=500, max_iter=200, solver=sgd;, score=0.298 total time=   2.9s\n",
      "[CV 2/5; 40/108] START activation=logistic, hidden_layer_sizes=500, max_iter=500, solver=lbfgs\n",
      "[CV 5/5; 39/108] END activation=logistic, hidden_layer_sizes=500, max_iter=200, solver=adam;, score=0.298 total time=   1.1s\n",
      "[CV 3/5; 40/108] START activation=logistic, hidden_layer_sizes=500, max_iter=500, solver=lbfgs\n",
      "[CV 3/5; 39/108] END activation=logistic, hidden_layer_sizes=500, max_iter=200, solver=adam;, score=0.292 total time=   3.8s\n",
      "[CV 4/5; 40/108] START activation=logistic, hidden_layer_sizes=500, max_iter=500, solver=lbfgs\n",
      "[CV 2/5; 39/108] END activation=logistic, hidden_layer_sizes=500, max_iter=200, solver=adam;, score=0.438 total time=   4.8s\n",
      "[CV 5/5; 40/108] START activation=logistic, hidden_layer_sizes=500, max_iter=500, solver=lbfgs\n",
      "[CV 4/5; 39/108] END activation=logistic, hidden_layer_sizes=500, max_iter=200, solver=adam;, score=0.277 total time=   4.8s\n",
      "[CV 1/5; 41/108] START activation=logistic, hidden_layer_sizes=500, max_iter=500, solver=sgd\n"
     ]
    },
    {
     "name": "stderr",
     "output_type": "stream",
     "text": [
      "/home/franzele/.local/lib/python3.10/site-packages/sklearn/neural_network/_multilayer_perceptron.py:691: ConvergenceWarning: Stochastic Optimizer: Maximum iterations (200) reached and the optimization hasn't converged yet.\n",
      "  warnings.warn(\n",
      "/home/franzele/.local/lib/python3.10/site-packages/sklearn/neural_network/_multilayer_perceptron.py:546: ConvergenceWarning: lbfgs failed to converge (status=1):\n",
      "STOP: TOTAL NO. of ITERATIONS REACHED LIMIT.\n",
      "\n",
      "Increase the number of iterations (max_iter) or scale the data as shown in:\n",
      "    https://scikit-learn.org/stable/modules/preprocessing.html\n",
      "  self.n_iter_ = _check_optimize_result(\"lbfgs\", opt_res, self.max_iter)\n"
     ]
    },
    {
     "name": "stdout",
     "output_type": "stream",
     "text": [
      "[CV 5/5; 37/108] END activation=logistic, hidden_layer_sizes=500, max_iter=200, solver=lbfgs;, score=0.511 total time=  13.3s\n",
      "[CV 2/5; 41/108] START activation=logistic, hidden_layer_sizes=500, max_iter=500, solver=sgd\n",
      "[CV 1/5; 41/108] END activation=logistic, hidden_layer_sizes=500, max_iter=500, solver=sgd;, score=0.292 total time=   1.1s\n",
      "[CV 3/5; 41/108] START activation=logistic, hidden_layer_sizes=500, max_iter=500, solver=sgd\n",
      "[CV 3/5; 41/108] END activation=logistic, hidden_layer_sizes=500, max_iter=500, solver=sgd;, score=0.292 total time=   1.3s\n",
      "[CV 4/5; 41/108] START activation=logistic, hidden_layer_sizes=500, max_iter=500, solver=sgd\n",
      "[CV 2/5; 41/108] END activation=logistic, hidden_layer_sizes=500, max_iter=500, solver=sgd;, score=0.417 total time=   1.7s\n",
      "[CV 5/5; 41/108] START activation=logistic, hidden_layer_sizes=500, max_iter=500, solver=sgd\n",
      "[CV 4/5; 41/108] END activation=logistic, hidden_layer_sizes=500, max_iter=500, solver=sgd;, score=0.277 total time=   0.6s\n",
      "[CV 1/5; 42/108] START activation=logistic, hidden_layer_sizes=500, max_iter=500, solver=adam\n",
      "[CV 5/5; 41/108] END activation=logistic, hidden_layer_sizes=500, max_iter=500, solver=sgd;, score=0.298 total time=   0.6s\n",
      "[CV 2/5; 42/108] START activation=logistic, hidden_layer_sizes=500, max_iter=500, solver=adam\n",
      "[CV 1/5; 42/108] END activation=logistic, hidden_layer_sizes=500, max_iter=500, solver=adam;, score=0.292 total time=   0.4s\n",
      "[CV 3/5; 42/108] START activation=logistic, hidden_layer_sizes=500, max_iter=500, solver=adam\n",
      "[CV 2/5; 42/108] END activation=logistic, hidden_layer_sizes=500, max_iter=500, solver=adam;, score=0.292 total time=   0.3s\n",
      "[CV 4/5; 42/108] START activation=logistic, hidden_layer_sizes=500, max_iter=500, solver=adam\n",
      "[CV 3/5; 42/108] END activation=logistic, hidden_layer_sizes=500, max_iter=500, solver=adam;, score=0.479 total time=   7.5s\n",
      "[CV 5/5; 42/108] START activation=logistic, hidden_layer_sizes=500, max_iter=500, solver=adam\n",
      "[CV 4/5; 42/108] END activation=logistic, hidden_layer_sizes=500, max_iter=500, solver=adam;, score=0.468 total time=   7.4s\n",
      "[CV 1/5; 43/108] START activation=logistic, hidden_layer_sizes=500, max_iter=1000, solver=lbfgs\n",
      "[CV 5/5; 42/108] END activation=logistic, hidden_layer_sizes=500, max_iter=500, solver=adam;, score=0.596 total time=   5.6s\n",
      "[CV 2/5; 43/108] START activation=logistic, hidden_layer_sizes=500, max_iter=1000, solver=lbfgs\n"
     ]
    },
    {
     "name": "stderr",
     "output_type": "stream",
     "text": [
      "/home/franzele/.local/lib/python3.10/site-packages/sklearn/neural_network/_multilayer_perceptron.py:546: ConvergenceWarning: lbfgs failed to converge (status=1):\n",
      "STOP: TOTAL NO. of ITERATIONS REACHED LIMIT.\n",
      "\n",
      "Increase the number of iterations (max_iter) or scale the data as shown in:\n",
      "    https://scikit-learn.org/stable/modules/preprocessing.html\n",
      "  self.n_iter_ = _check_optimize_result(\"lbfgs\", opt_res, self.max_iter)\n"
     ]
    },
    {
     "name": "stdout",
     "output_type": "stream",
     "text": [
      "[CV 3/5; 40/108] END activation=logistic, hidden_layer_sizes=500, max_iter=500, solver=lbfgs;, score=0.688 total time=  25.7s\n",
      "[CV 3/5; 43/108] START activation=logistic, hidden_layer_sizes=500, max_iter=1000, solver=lbfgs\n"
     ]
    },
    {
     "name": "stderr",
     "output_type": "stream",
     "text": [
      "/home/franzele/.local/lib/python3.10/site-packages/sklearn/neural_network/_multilayer_perceptron.py:546: ConvergenceWarning: lbfgs failed to converge (status=1):\n",
      "STOP: TOTAL NO. of ITERATIONS REACHED LIMIT.\n",
      "\n",
      "Increase the number of iterations (max_iter) or scale the data as shown in:\n",
      "    https://scikit-learn.org/stable/modules/preprocessing.html\n",
      "  self.n_iter_ = _check_optimize_result(\"lbfgs\", opt_res, self.max_iter)\n"
     ]
    },
    {
     "name": "stdout",
     "output_type": "stream",
     "text": [
      "[CV 1/5; 40/108] END activation=logistic, hidden_layer_sizes=500, max_iter=500, solver=lbfgs;, score=0.583 total time=  28.2s\n",
      "[CV 4/5; 43/108] START activation=logistic, hidden_layer_sizes=500, max_iter=1000, solver=lbfgs\n"
     ]
    },
    {
     "name": "stderr",
     "output_type": "stream",
     "text": [
      "/home/franzele/.local/lib/python3.10/site-packages/sklearn/neural_network/_multilayer_perceptron.py:546: ConvergenceWarning: lbfgs failed to converge (status=1):\n",
      "STOP: TOTAL NO. of ITERATIONS REACHED LIMIT.\n",
      "\n",
      "Increase the number of iterations (max_iter) or scale the data as shown in:\n",
      "    https://scikit-learn.org/stable/modules/preprocessing.html\n",
      "  self.n_iter_ = _check_optimize_result(\"lbfgs\", opt_res, self.max_iter)\n"
     ]
    },
    {
     "name": "stdout",
     "output_type": "stream",
     "text": [
      "[CV 4/5; 40/108] END activation=logistic, hidden_layer_sizes=500, max_iter=500, solver=lbfgs;, score=0.660 total time=  27.1s\n",
      "[CV 5/5; 43/108] START activation=logistic, hidden_layer_sizes=500, max_iter=1000, solver=lbfgs\n"
     ]
    },
    {
     "name": "stderr",
     "output_type": "stream",
     "text": [
      "/home/franzele/.local/lib/python3.10/site-packages/sklearn/neural_network/_multilayer_perceptron.py:546: ConvergenceWarning: lbfgs failed to converge (status=1):\n",
      "STOP: TOTAL NO. of ITERATIONS REACHED LIMIT.\n",
      "\n",
      "Increase the number of iterations (max_iter) or scale the data as shown in:\n",
      "    https://scikit-learn.org/stable/modules/preprocessing.html\n",
      "  self.n_iter_ = _check_optimize_result(\"lbfgs\", opt_res, self.max_iter)\n"
     ]
    },
    {
     "name": "stdout",
     "output_type": "stream",
     "text": [
      "[CV 2/5; 40/108] END activation=logistic, hidden_layer_sizes=500, max_iter=500, solver=lbfgs;, score=0.625 total time=  31.2s\n",
      "[CV 1/5; 44/108] START activation=logistic, hidden_layer_sizes=500, max_iter=1000, solver=sgd\n",
      "[CV 1/5; 44/108] END activation=logistic, hidden_layer_sizes=500, max_iter=1000, solver=sgd;, score=0.333 total time=   1.2s\n",
      "[CV 2/5; 44/108] START activation=logistic, hidden_layer_sizes=500, max_iter=1000, solver=sgd\n"
     ]
    },
    {
     "name": "stderr",
     "output_type": "stream",
     "text": [
      "/home/franzele/.local/lib/python3.10/site-packages/sklearn/neural_network/_multilayer_perceptron.py:546: ConvergenceWarning: lbfgs failed to converge (status=1):\n",
      "STOP: TOTAL NO. of ITERATIONS REACHED LIMIT.\n",
      "\n",
      "Increase the number of iterations (max_iter) or scale the data as shown in:\n",
      "    https://scikit-learn.org/stable/modules/preprocessing.html\n",
      "  self.n_iter_ = _check_optimize_result(\"lbfgs\", opt_res, self.max_iter)\n"
     ]
    },
    {
     "name": "stdout",
     "output_type": "stream",
     "text": [
      "[CV 5/5; 40/108] END activation=logistic, hidden_layer_sizes=500, max_iter=500, solver=lbfgs;, score=0.681 total time=  29.7s\n",
      "[CV 3/5; 44/108] START activation=logistic, hidden_layer_sizes=500, max_iter=1000, solver=sgd\n",
      "[CV 2/5; 44/108] END activation=logistic, hidden_layer_sizes=500, max_iter=1000, solver=sgd;, score=0.292 total time=   0.7s\n",
      "[CV 4/5; 44/108] START activation=logistic, hidden_layer_sizes=500, max_iter=1000, solver=sgd\n",
      "[CV 4/5; 44/108] END activation=logistic, hidden_layer_sizes=500, max_iter=1000, solver=sgd;, score=0.277 total time=   0.2s\n",
      "[CV 5/5; 44/108] START activation=logistic, hidden_layer_sizes=500, max_iter=1000, solver=sgd\n",
      "[CV 3/5; 44/108] END activation=logistic, hidden_layer_sizes=500, max_iter=1000, solver=sgd;, score=0.292 total time=   2.0s\n",
      "[CV 1/5; 45/108] START activation=logistic, hidden_layer_sizes=500, max_iter=1000, solver=adam\n",
      "[CV 5/5; 44/108] END activation=logistic, hidden_layer_sizes=500, max_iter=1000, solver=sgd;, score=0.447 total time=   2.4s\n",
      "[CV 2/5; 45/108] START activation=logistic, hidden_layer_sizes=500, max_iter=1000, solver=adam\n",
      "[CV 1/5; 45/108] END activation=logistic, hidden_layer_sizes=500, max_iter=1000, solver=adam;, score=0.292 total time=   1.0s\n",
      "[CV 3/5; 45/108] START activation=logistic, hidden_layer_sizes=500, max_iter=1000, solver=adam\n",
      "[CV 2/5; 45/108] END activation=logistic, hidden_layer_sizes=500, max_iter=1000, solver=adam;, score=0.292 total time=   0.5s\n",
      "[CV 4/5; 45/108] START activation=logistic, hidden_layer_sizes=500, max_iter=1000, solver=adam\n",
      "[CV 4/5; 45/108] END activation=logistic, hidden_layer_sizes=500, max_iter=1000, solver=adam;, score=0.277 total time=   0.3s\n",
      "[CV 5/5; 45/108] START activation=logistic, hidden_layer_sizes=500, max_iter=1000, solver=adam\n",
      "[CV 5/5; 45/108] END activation=logistic, hidden_layer_sizes=500, max_iter=1000, solver=adam;, score=0.319 total time=   0.2s\n",
      "[CV 1/5; 46/108] START activation=logistic, hidden_layer_sizes=1000, max_iter=200, solver=lbfgs\n",
      "[CV 3/5; 45/108] END activation=logistic, hidden_layer_sizes=500, max_iter=1000, solver=adam;, score=0.542 total time=   8.0s\n",
      "[CV 2/5; 46/108] START activation=logistic, hidden_layer_sizes=1000, max_iter=200, solver=lbfgs\n",
      "[CV 2/5; 25/108] END activation=identity, hidden_layer_sizes=1000, max_iter=1000, solver=lbfgs;, score=0.812 total time= 1.2min\n",
      "[CV 3/5; 46/108] START activation=logistic, hidden_layer_sizes=1000, max_iter=200, solver=lbfgs\n"
     ]
    },
    {
     "name": "stderr",
     "output_type": "stream",
     "text": [
      "/home/franzele/.local/lib/python3.10/site-packages/sklearn/neural_network/_multilayer_perceptron.py:546: ConvergenceWarning: lbfgs failed to converge (status=1):\n",
      "STOP: TOTAL NO. of ITERATIONS REACHED LIMIT.\n",
      "\n",
      "Increase the number of iterations (max_iter) or scale the data as shown in:\n",
      "    https://scikit-learn.org/stable/modules/preprocessing.html\n",
      "  self.n_iter_ = _check_optimize_result(\"lbfgs\", opt_res, self.max_iter)\n"
     ]
    },
    {
     "name": "stdout",
     "output_type": "stream",
     "text": [
      "[CV 1/5; 46/108] END activation=logistic, hidden_layer_sizes=1000, max_iter=200, solver=lbfgs;, score=0.646 total time=  17.2s\n",
      "[CV 4/5; 46/108] START activation=logistic, hidden_layer_sizes=1000, max_iter=200, solver=lbfgs\n"
     ]
    },
    {
     "name": "stderr",
     "output_type": "stream",
     "text": [
      "/home/franzele/.local/lib/python3.10/site-packages/sklearn/neural_network/_multilayer_perceptron.py:546: ConvergenceWarning: lbfgs failed to converge (status=1):\n",
      "STOP: TOTAL NO. of ITERATIONS REACHED LIMIT.\n",
      "\n",
      "Increase the number of iterations (max_iter) or scale the data as shown in:\n",
      "    https://scikit-learn.org/stable/modules/preprocessing.html\n",
      "  self.n_iter_ = _check_optimize_result(\"lbfgs\", opt_res, self.max_iter)\n"
     ]
    },
    {
     "name": "stdout",
     "output_type": "stream",
     "text": [
      "[CV 2/5; 46/108] END activation=logistic, hidden_layer_sizes=1000, max_iter=200, solver=lbfgs;, score=0.604 total time=  25.6s\n",
      "[CV 5/5; 46/108] START activation=logistic, hidden_layer_sizes=1000, max_iter=200, solver=lbfgs\n"
     ]
    },
    {
     "name": "stderr",
     "output_type": "stream",
     "text": [
      "/home/franzele/.local/lib/python3.10/site-packages/sklearn/neural_network/_multilayer_perceptron.py:546: ConvergenceWarning: lbfgs failed to converge (status=1):\n",
      "STOP: TOTAL NO. of ITERATIONS REACHED LIMIT.\n",
      "\n",
      "Increase the number of iterations (max_iter) or scale the data as shown in:\n",
      "    https://scikit-learn.org/stable/modules/preprocessing.html\n",
      "  self.n_iter_ = _check_optimize_result(\"lbfgs\", opt_res, self.max_iter)\n"
     ]
    },
    {
     "name": "stdout",
     "output_type": "stream",
     "text": [
      "[CV 1/5; 43/108] END activation=logistic, hidden_layer_sizes=500, max_iter=1000, solver=lbfgs;, score=0.792 total time=  55.9s\n",
      "[CV 1/5; 47/108] START activation=logistic, hidden_layer_sizes=1000, max_iter=200, solver=sgd\n",
      "[CV 1/5; 47/108] END activation=logistic, hidden_layer_sizes=1000, max_iter=200, solver=sgd;, score=0.333 total time=   2.6s\n",
      "[CV 2/5; 47/108] START activation=logistic, hidden_layer_sizes=1000, max_iter=200, solver=sgd\n",
      "[CV 2/5; 47/108] END activation=logistic, hidden_layer_sizes=1000, max_iter=200, solver=sgd;, score=0.375 total time=   2.8s\n",
      "[CV 3/5; 47/108] START activation=logistic, hidden_layer_sizes=1000, max_iter=200, solver=sgd\n"
     ]
    },
    {
     "name": "stderr",
     "output_type": "stream",
     "text": [
      "/home/franzele/.local/lib/python3.10/site-packages/sklearn/neural_network/_multilayer_perceptron.py:546: ConvergenceWarning: lbfgs failed to converge (status=1):\n",
      "STOP: TOTAL NO. of ITERATIONS REACHED LIMIT.\n",
      "\n",
      "Increase the number of iterations (max_iter) or scale the data as shown in:\n",
      "    https://scikit-learn.org/stable/modules/preprocessing.html\n",
      "  self.n_iter_ = _check_optimize_result(\"lbfgs\", opt_res, self.max_iter)\n"
     ]
    },
    {
     "name": "stdout",
     "output_type": "stream",
     "text": [
      "[CV 4/5; 46/108] END activation=logistic, hidden_layer_sizes=1000, max_iter=200, solver=lbfgs;, score=0.638 total time=  22.5s\n",
      "[CV 4/5; 47/108] START activation=logistic, hidden_layer_sizes=1000, max_iter=200, solver=sgd\n",
      "[CV 3/5; 47/108] END activation=logistic, hidden_layer_sizes=1000, max_iter=200, solver=sgd;, score=0.292 total time=   1.3s\n",
      "[CV 5/5; 47/108] START activation=logistic, hidden_layer_sizes=1000, max_iter=200, solver=sgd\n"
     ]
    },
    {
     "name": "stderr",
     "output_type": "stream",
     "text": [
      "/home/franzele/.local/lib/python3.10/site-packages/sklearn/neural_network/_multilayer_perceptron.py:546: ConvergenceWarning: lbfgs failed to converge (status=1):\n",
      "STOP: TOTAL NO. of ITERATIONS REACHED LIMIT.\n",
      "\n",
      "Increase the number of iterations (max_iter) or scale the data as shown in:\n",
      "    https://scikit-learn.org/stable/modules/preprocessing.html\n",
      "  self.n_iter_ = _check_optimize_result(\"lbfgs\", opt_res, self.max_iter)\n"
     ]
    },
    {
     "name": "stdout",
     "output_type": "stream",
     "text": [
      "[CV 3/5; 46/108] END activation=logistic, hidden_layer_sizes=1000, max_iter=200, solver=lbfgs;, score=0.604 total time=  27.8s\n",
      "[CV 1/5; 48/108] START activation=logistic, hidden_layer_sizes=1000, max_iter=200, solver=adam\n",
      "[CV 4/5; 47/108] END activation=logistic, hidden_layer_sizes=1000, max_iter=200, solver=sgd;, score=0.277 total time=   2.2s\n",
      "[CV 2/5; 48/108] START activation=logistic, hidden_layer_sizes=1000, max_iter=200, solver=adam\n",
      "[CV 2/5; 48/108] END activation=logistic, hidden_layer_sizes=1000, max_iter=200, solver=adam;, score=0.292 total time=   0.6s\n",
      "[CV 3/5; 48/108] START activation=logistic, hidden_layer_sizes=1000, max_iter=200, solver=adam\n",
      "[CV 5/5; 47/108] END activation=logistic, hidden_layer_sizes=1000, max_iter=200, solver=sgd;, score=0.383 total time=   2.5s\n",
      "[CV 4/5; 48/108] START activation=logistic, hidden_layer_sizes=1000, max_iter=200, solver=adam\n",
      "[CV 3/5; 48/108] END activation=logistic, hidden_layer_sizes=1000, max_iter=200, solver=adam;, score=0.292 total time=   1.0s\n",
      "[CV 5/5; 48/108] START activation=logistic, hidden_layer_sizes=1000, max_iter=200, solver=adam\n"
     ]
    },
    {
     "name": "stderr",
     "output_type": "stream",
     "text": [
      "/home/franzele/.local/lib/python3.10/site-packages/sklearn/neural_network/_multilayer_perceptron.py:546: ConvergenceWarning: lbfgs failed to converge (status=1):\n",
      "STOP: TOTAL NO. of ITERATIONS REACHED LIMIT.\n",
      "\n",
      "Increase the number of iterations (max_iter) or scale the data as shown in:\n",
      "    https://scikit-learn.org/stable/modules/preprocessing.html\n",
      "  self.n_iter_ = _check_optimize_result(\"lbfgs\", opt_res, self.max_iter)\n"
     ]
    },
    {
     "name": "stdout",
     "output_type": "stream",
     "text": [
      "[CV 2/5; 43/108] END activation=logistic, hidden_layer_sizes=500, max_iter=1000, solver=lbfgs;, score=0.729 total time= 1.0min\n",
      "[CV 1/5; 49/108] START activation=logistic, hidden_layer_sizes=1000, max_iter=500, solver=lbfgs\n",
      "[CV 4/5; 48/108] END activation=logistic, hidden_layer_sizes=1000, max_iter=200, solver=adam;, score=0.277 total time=   4.9s\n",
      "[CV 2/5; 49/108] START activation=logistic, hidden_layer_sizes=1000, max_iter=500, solver=lbfgs\n",
      "[CV 1/5; 48/108] END activation=logistic, hidden_layer_sizes=1000, max_iter=200, solver=adam;, score=0.500 total time=   7.9s\n",
      "[CV 3/5; 49/108] START activation=logistic, hidden_layer_sizes=1000, max_iter=500, solver=lbfgs\n",
      "[CV 5/5; 48/108] END activation=logistic, hidden_layer_sizes=1000, max_iter=200, solver=adam;, score=0.298 total time=   5.8s\n",
      "[CV 4/5; 49/108] START activation=logistic, hidden_layer_sizes=1000, max_iter=500, solver=lbfgs\n"
     ]
    },
    {
     "name": "stderr",
     "output_type": "stream",
     "text": [
      "/home/franzele/.local/lib/python3.10/site-packages/sklearn/neural_network/_multilayer_perceptron.py:546: ConvergenceWarning: lbfgs failed to converge (status=1):\n",
      "STOP: TOTAL NO. of ITERATIONS REACHED LIMIT.\n",
      "\n",
      "Increase the number of iterations (max_iter) or scale the data as shown in:\n",
      "    https://scikit-learn.org/stable/modules/preprocessing.html\n",
      "  self.n_iter_ = _check_optimize_result(\"lbfgs\", opt_res, self.max_iter)\n"
     ]
    },
    {
     "name": "stdout",
     "output_type": "stream",
     "text": [
      "[CV 3/5; 43/108] END activation=logistic, hidden_layer_sizes=500, max_iter=1000, solver=lbfgs;, score=0.542 total time= 1.0min\n",
      "[CV 5/5; 49/108] START activation=logistic, hidden_layer_sizes=1000, max_iter=500, solver=lbfgs\n"
     ]
    },
    {
     "name": "stderr",
     "output_type": "stream",
     "text": [
      "/home/franzele/.local/lib/python3.10/site-packages/sklearn/neural_network/_multilayer_perceptron.py:546: ConvergenceWarning: lbfgs failed to converge (status=1):\n",
      "STOP: TOTAL NO. of ITERATIONS REACHED LIMIT.\n",
      "\n",
      "Increase the number of iterations (max_iter) or scale the data as shown in:\n",
      "    https://scikit-learn.org/stable/modules/preprocessing.html\n",
      "  self.n_iter_ = _check_optimize_result(\"lbfgs\", opt_res, self.max_iter)\n"
     ]
    },
    {
     "name": "stdout",
     "output_type": "stream",
     "text": [
      "[CV 4/5; 43/108] END activation=logistic, hidden_layer_sizes=500, max_iter=1000, solver=lbfgs;, score=0.596 total time= 1.1min\n",
      "[CV 1/5; 50/108] START activation=logistic, hidden_layer_sizes=1000, max_iter=500, solver=sgd\n"
     ]
    },
    {
     "name": "stderr",
     "output_type": "stream",
     "text": [
      "/home/franzele/.local/lib/python3.10/site-packages/sklearn/neural_network/_multilayer_perceptron.py:546: ConvergenceWarning: lbfgs failed to converge (status=1):\n",
      "STOP: TOTAL NO. of ITERATIONS REACHED LIMIT.\n",
      "\n",
      "Increase the number of iterations (max_iter) or scale the data as shown in:\n",
      "    https://scikit-learn.org/stable/modules/preprocessing.html\n",
      "  self.n_iter_ = _check_optimize_result(\"lbfgs\", opt_res, self.max_iter)\n"
     ]
    },
    {
     "name": "stdout",
     "output_type": "stream",
     "text": [
      "[CV 5/5; 43/108] END activation=logistic, hidden_layer_sizes=500, max_iter=1000, solver=lbfgs;, score=0.553 total time= 1.1min\n",
      "[CV 2/5; 50/108] START activation=logistic, hidden_layer_sizes=1000, max_iter=500, solver=sgd\n",
      "[CV 2/5; 50/108] END activation=logistic, hidden_layer_sizes=1000, max_iter=500, solver=sgd;, score=0.292 total time=   1.5s\n",
      "[CV 3/5; 50/108] START activation=logistic, hidden_layer_sizes=1000, max_iter=500, solver=sgd\n",
      "[CV 5/5; 46/108] END activation=logistic, hidden_layer_sizes=1000, max_iter=200, solver=lbfgs;, score=0.532 total time=  25.4s\n"
     ]
    },
    {
     "name": "stderr",
     "output_type": "stream",
     "text": [
      "/home/franzele/.local/lib/python3.10/site-packages/sklearn/neural_network/_multilayer_perceptron.py:546: ConvergenceWarning: lbfgs failed to converge (status=1):\n",
      "STOP: TOTAL NO. of ITERATIONS REACHED LIMIT.\n",
      "\n",
      "Increase the number of iterations (max_iter) or scale the data as shown in:\n",
      "    https://scikit-learn.org/stable/modules/preprocessing.html\n",
      "  self.n_iter_ = _check_optimize_result(\"lbfgs\", opt_res, self.max_iter)\n"
     ]
    },
    {
     "name": "stdout",
     "output_type": "stream",
     "text": [
      "[CV 4/5; 50/108] START activation=logistic, hidden_layer_sizes=1000, max_iter=500, solver=sgd\n",
      "[CV 1/5; 50/108] END activation=logistic, hidden_layer_sizes=1000, max_iter=500, solver=sgd;, score=0.333 total time=   3.1s\n",
      "[CV 5/5; 50/108] START activation=logistic, hidden_layer_sizes=1000, max_iter=500, solver=sgd\n",
      "[CV 3/5; 50/108] END activation=logistic, hidden_layer_sizes=1000, max_iter=500, solver=sgd;, score=0.292 total time=   0.9s\n",
      "[CV 1/5; 51/108] START activation=logistic, hidden_layer_sizes=1000, max_iter=500, solver=adam\n",
      "[CV 4/5; 50/108] END activation=logistic, hidden_layer_sizes=1000, max_iter=500, solver=sgd;, score=0.277 total time=   1.9s\n",
      "[CV 2/5; 51/108] START activation=logistic, hidden_layer_sizes=1000, max_iter=500, solver=adam\n",
      "[CV 5/5; 50/108] END activation=logistic, hidden_layer_sizes=1000, max_iter=500, solver=sgd;, score=0.298 total time=   4.6s\n",
      "[CV 3/5; 51/108] START activation=logistic, hidden_layer_sizes=1000, max_iter=500, solver=adam\n",
      "[CV 3/5; 51/108] END activation=logistic, hidden_layer_sizes=1000, max_iter=500, solver=adam;, score=0.292 total time=   2.0s\n",
      "[CV 4/5; 51/108] START activation=logistic, hidden_layer_sizes=1000, max_iter=500, solver=adam\n",
      "[CV 4/5; 51/108] END activation=logistic, hidden_layer_sizes=1000, max_iter=500, solver=adam;, score=0.277 total time=   1.1s\n",
      "[CV 5/5; 51/108] START activation=logistic, hidden_layer_sizes=1000, max_iter=500, solver=adam\n",
      "[CV 5/5; 51/108] END activation=logistic, hidden_layer_sizes=1000, max_iter=500, solver=adam;, score=0.298 total time=   0.9s\n",
      "[CV 1/5; 52/108] START activation=logistic, hidden_layer_sizes=1000, max_iter=1000, solver=lbfgs\n",
      "[CV 2/5; 51/108] END activation=logistic, hidden_layer_sizes=1000, max_iter=500, solver=adam;, score=0.438 total time=  16.0s\n",
      "[CV 2/5; 52/108] START activation=logistic, hidden_layer_sizes=1000, max_iter=1000, solver=lbfgs\n",
      "[CV 1/5; 51/108] END activation=logistic, hidden_layer_sizes=1000, max_iter=500, solver=adam;, score=0.396 total time=  18.7s\n",
      "[CV 3/5; 52/108] START activation=logistic, hidden_layer_sizes=1000, max_iter=1000, solver=lbfgs\n"
     ]
    },
    {
     "name": "stderr",
     "output_type": "stream",
     "text": [
      "/home/franzele/.local/lib/python3.10/site-packages/sklearn/neural_network/_multilayer_perceptron.py:546: ConvergenceWarning: lbfgs failed to converge (status=1):\n",
      "STOP: TOTAL NO. of ITERATIONS REACHED LIMIT.\n",
      "\n",
      "Increase the number of iterations (max_iter) or scale the data as shown in:\n",
      "    https://scikit-learn.org/stable/modules/preprocessing.html\n",
      "  self.n_iter_ = _check_optimize_result(\"lbfgs\", opt_res, self.max_iter)\n"
     ]
    },
    {
     "name": "stdout",
     "output_type": "stream",
     "text": [
      "[CV 3/5; 49/108] END activation=logistic, hidden_layer_sizes=1000, max_iter=500, solver=lbfgs;, score=0.708 total time= 1.1min\n",
      "[CV 4/5; 52/108] START activation=logistic, hidden_layer_sizes=1000, max_iter=1000, solver=lbfgs\n"
     ]
    },
    {
     "name": "stderr",
     "output_type": "stream",
     "text": [
      "/home/franzele/.local/lib/python3.10/site-packages/sklearn/neural_network/_multilayer_perceptron.py:546: ConvergenceWarning: lbfgs failed to converge (status=1):\n",
      "STOP: TOTAL NO. of ITERATIONS REACHED LIMIT.\n",
      "\n",
      "Increase the number of iterations (max_iter) or scale the data as shown in:\n",
      "    https://scikit-learn.org/stable/modules/preprocessing.html\n",
      "  self.n_iter_ = _check_optimize_result(\"lbfgs\", opt_res, self.max_iter)\n",
      "/home/franzele/.local/lib/python3.10/site-packages/sklearn/neural_network/_multilayer_perceptron.py:546: ConvergenceWarning: lbfgs failed to converge (status=1):\n",
      "STOP: TOTAL NO. of ITERATIONS REACHED LIMIT.\n",
      "\n",
      "Increase the number of iterations (max_iter) or scale the data as shown in:\n",
      "    https://scikit-learn.org/stable/modules/preprocessing.html\n",
      "  self.n_iter_ = _check_optimize_result(\"lbfgs\", opt_res, self.max_iter)\n"
     ]
    },
    {
     "name": "stdout",
     "output_type": "stream",
     "text": [
      "[CV 5/5; 49/108] END activation=logistic, hidden_layer_sizes=1000, max_iter=500, solver=lbfgs;, score=0.574 total time= 1.1min\n",
      "[CV 5/5; 52/108] START activation=logistic, hidden_layer_sizes=1000, max_iter=1000, solver=lbfgs\n",
      "[CV 1/5; 49/108] END activation=logistic, hidden_layer_sizes=1000, max_iter=500, solver=lbfgs;, score=0.812 total time= 1.2min\n",
      "[CV 1/5; 53/108] START activation=logistic, hidden_layer_sizes=1000, max_iter=1000, solver=sgd\n",
      "[CV 1/5; 53/108] END activation=logistic, hidden_layer_sizes=1000, max_iter=1000, solver=sgd;, score=0.333 total time=   3.2s\n",
      "[CV 2/5; 53/108] START activation=logistic, hidden_layer_sizes=1000, max_iter=1000, solver=sgd\n",
      "[CV 2/5; 49/108] END activation=logistic, hidden_layer_sizes=1000, max_iter=500, solver=lbfgs;, score=0.667 total time= 1.2min\n",
      "[CV 3/5; 53/108] START activation=logistic, hidden_layer_sizes=1000, max_iter=1000, solver=sgd\n"
     ]
    },
    {
     "name": "stderr",
     "output_type": "stream",
     "text": [
      "/home/franzele/.local/lib/python3.10/site-packages/sklearn/neural_network/_multilayer_perceptron.py:546: ConvergenceWarning: lbfgs failed to converge (status=1):\n",
      "STOP: TOTAL NO. of ITERATIONS REACHED LIMIT.\n",
      "\n",
      "Increase the number of iterations (max_iter) or scale the data as shown in:\n",
      "    https://scikit-learn.org/stable/modules/preprocessing.html\n",
      "  self.n_iter_ = _check_optimize_result(\"lbfgs\", opt_res, self.max_iter)\n"
     ]
    },
    {
     "name": "stdout",
     "output_type": "stream",
     "text": [
      "[CV 3/5; 53/108] END activation=logistic, hidden_layer_sizes=1000, max_iter=1000, solver=sgd;, score=0.312 total time=   1.2s\n",
      "[CV 4/5; 53/108] START activation=logistic, hidden_layer_sizes=1000, max_iter=1000, solver=sgd\n"
     ]
    },
    {
     "name": "stderr",
     "output_type": "stream",
     "text": [
      "/home/franzele/.local/lib/python3.10/site-packages/sklearn/neural_network/_multilayer_perceptron.py:546: ConvergenceWarning: lbfgs failed to converge (status=1):\n",
      "STOP: TOTAL NO. of ITERATIONS REACHED LIMIT.\n",
      "\n",
      "Increase the number of iterations (max_iter) or scale the data as shown in:\n",
      "    https://scikit-learn.org/stable/modules/preprocessing.html\n",
      "  self.n_iter_ = _check_optimize_result(\"lbfgs\", opt_res, self.max_iter)\n"
     ]
    },
    {
     "name": "stdout",
     "output_type": "stream",
     "text": [
      "[CV 4/5; 49/108] END activation=logistic, hidden_layer_sizes=1000, max_iter=500, solver=lbfgs;, score=0.681 total time= 1.2min\n",
      "[CV 5/5; 53/108] START activation=logistic, hidden_layer_sizes=1000, max_iter=1000, solver=sgd\n",
      "[CV 2/5; 53/108] END activation=logistic, hidden_layer_sizes=1000, max_iter=1000, solver=sgd;, score=0.396 total time=   2.5s\n",
      "[CV 1/5; 54/108] START activation=logistic, hidden_layer_sizes=1000, max_iter=1000, solver=adam\n",
      "[CV 4/5; 53/108] END activation=logistic, hidden_layer_sizes=1000, max_iter=1000, solver=sgd;, score=0.362 total time=   1.7s\n",
      "[CV 2/5; 54/108] START activation=logistic, hidden_layer_sizes=1000, max_iter=1000, solver=adam\n",
      "[CV 5/5; 53/108] END activation=logistic, hidden_layer_sizes=1000, max_iter=1000, solver=sgd;, score=0.383 total time=   3.5s\n",
      "[CV 3/5; 54/108] START activation=logistic, hidden_layer_sizes=1000, max_iter=1000, solver=adam\n",
      "[CV 2/5; 54/108] END activation=logistic, hidden_layer_sizes=1000, max_iter=1000, solver=adam;, score=0.292 total time=   4.3s\n",
      "[CV 4/5; 54/108] START activation=logistic, hidden_layer_sizes=1000, max_iter=1000, solver=adam\n",
      "[CV 3/5; 54/108] END activation=logistic, hidden_layer_sizes=1000, max_iter=1000, solver=adam;, score=0.292 total time=   1.7s\n",
      "[CV 5/5; 54/108] START activation=logistic, hidden_layer_sizes=1000, max_iter=1000, solver=adam\n",
      "[CV 5/5; 54/108] END activation=logistic, hidden_layer_sizes=1000, max_iter=1000, solver=adam;, score=0.298 total time=   2.6s\n",
      "[CV 1/5; 55/108] START activation=tanh, hidden_layer_sizes=100, max_iter=200, solver=lbfgs\n",
      "[CV 1/5; 55/108] END activation=tanh, hidden_layer_sizes=100, max_iter=200, solver=lbfgs;, score=0.292 total time=   0.4s\n",
      "[CV 2/5; 55/108] START activation=tanh, hidden_layer_sizes=100, max_iter=200, solver=lbfgs\n",
      "[CV 4/5; 54/108] END activation=logistic, hidden_layer_sizes=1000, max_iter=1000, solver=adam;, score=0.277 total time=   4.0s\n",
      "[CV 3/5; 55/108] START activation=tanh, hidden_layer_sizes=100, max_iter=200, solver=lbfgs\n",
      "[CV 3/5; 55/108] END activation=tanh, hidden_layer_sizes=100, max_iter=200, solver=lbfgs;, score=0.438 total time=   2.0s\n",
      "[CV 4/5; 55/108] START activation=tanh, hidden_layer_sizes=100, max_iter=200, solver=lbfgs\n",
      "[CV 4/5; 55/108] END activation=tanh, hidden_layer_sizes=100, max_iter=200, solver=lbfgs;, score=0.277 total time=   0.2s\n",
      "[CV 5/5; 55/108] START activation=tanh, hidden_layer_sizes=100, max_iter=200, solver=lbfgs\n"
     ]
    },
    {
     "name": "stderr",
     "output_type": "stream",
     "text": [
      "/home/franzele/.local/lib/python3.10/site-packages/sklearn/neural_network/_multilayer_perceptron.py:546: ConvergenceWarning: lbfgs failed to converge (status=1):\n",
      "STOP: TOTAL NO. of ITERATIONS REACHED LIMIT.\n",
      "\n",
      "Increase the number of iterations (max_iter) or scale the data as shown in:\n",
      "    https://scikit-learn.org/stable/modules/preprocessing.html\n",
      "  self.n_iter_ = _check_optimize_result(\"lbfgs\", opt_res, self.max_iter)\n"
     ]
    },
    {
     "name": "stdout",
     "output_type": "stream",
     "text": [
      "[CV 2/5; 55/108] END activation=tanh, hidden_layer_sizes=100, max_iter=200, solver=lbfgs;, score=0.438 total time=   3.6s\n",
      "[CV 1/5; 56/108] START activation=tanh, hidden_layer_sizes=100, max_iter=200, solver=sgd\n",
      "[CV 1/5; 56/108] END activation=tanh, hidden_layer_sizes=100, max_iter=200, solver=sgd;, score=0.292 total time=   0.3s\n",
      "[CV 2/5; 56/108] START activation=tanh, hidden_layer_sizes=100, max_iter=200, solver=sgd\n",
      "[CV 2/5; 56/108] END activation=tanh, hidden_layer_sizes=100, max_iter=200, solver=sgd;, score=0.292 total time=   0.3s\n",
      "[CV 3/5; 56/108] START activation=tanh, hidden_layer_sizes=100, max_iter=200, solver=sgd\n",
      "[CV 3/5; 56/108] END activation=tanh, hidden_layer_sizes=100, max_iter=200, solver=sgd;, score=0.292 total time=   0.6s\n",
      "[CV 4/5; 56/108] START activation=tanh, hidden_layer_sizes=100, max_iter=200, solver=sgd\n",
      "[CV 5/5; 55/108] END activation=tanh, hidden_layer_sizes=100, max_iter=200, solver=lbfgs;, score=0.404 total time=   2.0s\n",
      "[CV 5/5; 56/108] START activation=tanh, hidden_layer_sizes=100, max_iter=200, solver=sgd\n",
      "[CV 4/5; 56/108] END activation=tanh, hidden_layer_sizes=100, max_iter=200, solver=sgd;, score=0.277 total time=   0.3s\n",
      "[CV 1/5; 57/108] START activation=tanh, hidden_layer_sizes=100, max_iter=200, solver=adam\n",
      "[CV 5/5; 56/108] END activation=tanh, hidden_layer_sizes=100, max_iter=200, solver=sgd;, score=0.298 total time=   0.3s\n",
      "[CV 2/5; 57/108] START activation=tanh, hidden_layer_sizes=100, max_iter=200, solver=adam\n",
      "[CV 2/5; 57/108] END activation=tanh, hidden_layer_sizes=100, max_iter=200, solver=adam;, score=0.292 total time=   0.2s\n",
      "[CV 3/5; 57/108] START activation=tanh, hidden_layer_sizes=100, max_iter=200, solver=adam\n",
      "[CV 1/5; 57/108] END activation=tanh, hidden_layer_sizes=100, max_iter=200, solver=adam;, score=0.292 total time=   0.4s\n",
      "[CV 4/5; 57/108] START activation=tanh, hidden_layer_sizes=100, max_iter=200, solver=adam\n",
      "[CV 3/5; 57/108] END activation=tanh, hidden_layer_sizes=100, max_iter=200, solver=adam;, score=0.438 total time=   0.2s\n",
      "[CV 5/5; 57/108] START activation=tanh, hidden_layer_sizes=100, max_iter=200, solver=adam\n",
      "[CV 4/5; 57/108] END activation=tanh, hidden_layer_sizes=100, max_iter=200, solver=adam;, score=0.277 total time=   0.4s\n",
      "[CV 1/5; 58/108] START activation=tanh, hidden_layer_sizes=100, max_iter=500, solver=lbfgs\n",
      "[CV 1/5; 58/108] END activation=tanh, hidden_layer_sizes=100, max_iter=500, solver=lbfgs;, score=0.292 total time=   0.1s\n",
      "[CV 2/5; 58/108] START activation=tanh, hidden_layer_sizes=100, max_iter=500, solver=lbfgs\n",
      "[CV 5/5; 57/108] END activation=tanh, hidden_layer_sizes=100, max_iter=200, solver=adam;, score=0.298 total time=   0.5s\n",
      "[CV 3/5; 58/108] START activation=tanh, hidden_layer_sizes=100, max_iter=500, solver=lbfgs\n",
      "[CV 1/5; 54/108] END activation=logistic, hidden_layer_sizes=1000, max_iter=1000, solver=adam;, score=0.292 total time=  19.5s\n",
      "[CV 4/5; 58/108] START activation=tanh, hidden_layer_sizes=100, max_iter=500, solver=lbfgs\n"
     ]
    },
    {
     "name": "stderr",
     "output_type": "stream",
     "text": [
      "/home/franzele/.local/lib/python3.10/site-packages/sklearn/neural_network/_multilayer_perceptron.py:546: ConvergenceWarning: lbfgs failed to converge (status=1):\n",
      "STOP: TOTAL NO. of ITERATIONS REACHED LIMIT.\n",
      "\n",
      "Increase the number of iterations (max_iter) or scale the data as shown in:\n",
      "    https://scikit-learn.org/stable/modules/preprocessing.html\n",
      "  self.n_iter_ = _check_optimize_result(\"lbfgs\", opt_res, self.max_iter)\n"
     ]
    },
    {
     "name": "stdout",
     "output_type": "stream",
     "text": [
      "[CV 3/5; 58/108] END activation=tanh, hidden_layer_sizes=100, max_iter=500, solver=lbfgs;, score=0.604 total time=   5.6s\n",
      "[CV 5/5; 58/108] START activation=tanh, hidden_layer_sizes=100, max_iter=500, solver=lbfgs\n",
      "[CV 5/5; 58/108] END activation=tanh, hidden_layer_sizes=100, max_iter=500, solver=lbfgs;, score=0.298 total time=   0.2s\n",
      "[CV 1/5; 59/108] START activation=tanh, hidden_layer_sizes=100, max_iter=500, solver=sgd\n",
      "[CV 1/5; 59/108] END activation=tanh, hidden_layer_sizes=100, max_iter=500, solver=sgd;, score=0.292 total time=   0.2s\n",
      "[CV 2/5; 59/108] START activation=tanh, hidden_layer_sizes=100, max_iter=500, solver=sgd\n",
      "[CV 2/5; 59/108] END activation=tanh, hidden_layer_sizes=100, max_iter=500, solver=sgd;, score=0.292 total time=   0.2s\n",
      "[CV 3/5; 59/108] START activation=tanh, hidden_layer_sizes=100, max_iter=500, solver=sgd\n",
      "[CV 3/5; 59/108] END activation=tanh, hidden_layer_sizes=100, max_iter=500, solver=sgd;, score=0.292 total time=   0.4s\n",
      "[CV 4/5; 59/108] START activation=tanh, hidden_layer_sizes=100, max_iter=500, solver=sgd\n",
      "[CV 4/5; 59/108] END activation=tanh, hidden_layer_sizes=100, max_iter=500, solver=sgd;, score=0.277 total time=   0.4s\n",
      "[CV 5/5; 59/108] START activation=tanh, hidden_layer_sizes=100, max_iter=500, solver=sgd\n",
      "[CV 5/5; 59/108] END activation=tanh, hidden_layer_sizes=100, max_iter=500, solver=sgd;, score=0.298 total time=   0.4s\n",
      "[CV 1/5; 60/108] START activation=tanh, hidden_layer_sizes=100, max_iter=500, solver=adam\n",
      "[CV 1/5; 60/108] END activation=tanh, hidden_layer_sizes=100, max_iter=500, solver=adam;, score=0.354 total time=   0.2s\n",
      "[CV 2/5; 60/108] START activation=tanh, hidden_layer_sizes=100, max_iter=500, solver=adam\n",
      "[CV 2/5; 60/108] END activation=tanh, hidden_layer_sizes=100, max_iter=500, solver=adam;, score=0.333 total time=   0.2s\n",
      "[CV 3/5; 60/108] START activation=tanh, hidden_layer_sizes=100, max_iter=500, solver=adam\n"
     ]
    },
    {
     "name": "stderr",
     "output_type": "stream",
     "text": [
      "/home/franzele/.local/lib/python3.10/site-packages/sklearn/neural_network/_multilayer_perceptron.py:546: ConvergenceWarning: lbfgs failed to converge (status=1):\n",
      "STOP: TOTAL NO. of ITERATIONS REACHED LIMIT.\n",
      "\n",
      "Increase the number of iterations (max_iter) or scale the data as shown in:\n",
      "    https://scikit-learn.org/stable/modules/preprocessing.html\n",
      "  self.n_iter_ = _check_optimize_result(\"lbfgs\", opt_res, self.max_iter)\n"
     ]
    },
    {
     "name": "stdout",
     "output_type": "stream",
     "text": [
      "[CV 2/5; 58/108] END activation=tanh, hidden_layer_sizes=100, max_iter=500, solver=lbfgs;, score=0.500 total time=   8.0s\n",
      "[CV 4/5; 60/108] START activation=tanh, hidden_layer_sizes=100, max_iter=500, solver=adam\n",
      "[CV 3/5; 60/108] END activation=tanh, hidden_layer_sizes=100, max_iter=500, solver=adam;, score=0.292 total time=   0.2s\n",
      "[CV 5/5; 60/108] START activation=tanh, hidden_layer_sizes=100, max_iter=500, solver=adam\n",
      "[CV 4/5; 60/108] END activation=tanh, hidden_layer_sizes=100, max_iter=500, solver=adam;, score=0.277 total time=   0.6s\n",
      "[CV 1/5; 61/108] START activation=tanh, hidden_layer_sizes=100, max_iter=1000, solver=lbfgs\n",
      "[CV 5/5; 60/108] END activation=tanh, hidden_layer_sizes=100, max_iter=500, solver=adam;, score=0.447 total time=   0.7s\n",
      "[CV 2/5; 61/108] START activation=tanh, hidden_layer_sizes=100, max_iter=1000, solver=lbfgs\n",
      "[CV 1/5; 61/108] END activation=tanh, hidden_layer_sizes=100, max_iter=1000, solver=lbfgs;, score=0.292 total time=   0.8s\n",
      "[CV 3/5; 61/108] START activation=tanh, hidden_layer_sizes=100, max_iter=1000, solver=lbfgs\n",
      "[CV 3/5; 61/108] END activation=tanh, hidden_layer_sizes=100, max_iter=1000, solver=lbfgs;, score=0.292 total time=   0.5s\n",
      "[CV 4/5; 61/108] START activation=tanh, hidden_layer_sizes=100, max_iter=1000, solver=lbfgs\n"
     ]
    },
    {
     "name": "stderr",
     "output_type": "stream",
     "text": [
      "/home/franzele/.local/lib/python3.10/site-packages/sklearn/neural_network/_multilayer_perceptron.py:546: ConvergenceWarning: lbfgs failed to converge (status=1):\n",
      "STOP: TOTAL NO. of ITERATIONS REACHED LIMIT.\n",
      "\n",
      "Increase the number of iterations (max_iter) or scale the data as shown in:\n",
      "    https://scikit-learn.org/stable/modules/preprocessing.html\n",
      "  self.n_iter_ = _check_optimize_result(\"lbfgs\", opt_res, self.max_iter)\n"
     ]
    },
    {
     "name": "stdout",
     "output_type": "stream",
     "text": [
      "[CV 4/5; 58/108] END activation=tanh, hidden_layer_sizes=100, max_iter=500, solver=lbfgs;, score=0.362 total time=   7.1s\n",
      "[CV 5/5; 61/108] START activation=tanh, hidden_layer_sizes=100, max_iter=1000, solver=lbfgs\n",
      "[CV 5/5; 61/108] END activation=tanh, hidden_layer_sizes=100, max_iter=1000, solver=lbfgs;, score=0.298 total time=   0.1s\n",
      "[CV 1/5; 62/108] START activation=tanh, hidden_layer_sizes=100, max_iter=1000, solver=sgd\n",
      "[CV 1/5; 62/108] END activation=tanh, hidden_layer_sizes=100, max_iter=1000, solver=sgd;, score=0.292 total time=   0.5s\n",
      "[CV 2/5; 62/108] START activation=tanh, hidden_layer_sizes=100, max_iter=1000, solver=sgd\n",
      "[CV 2/5; 62/108] END activation=tanh, hidden_layer_sizes=100, max_iter=1000, solver=sgd;, score=0.292 total time=   0.3s\n",
      "[CV 3/5; 62/108] START activation=tanh, hidden_layer_sizes=100, max_iter=1000, solver=sgd\n",
      "[CV 3/5; 62/108] END activation=tanh, hidden_layer_sizes=100, max_iter=1000, solver=sgd;, score=0.292 total time=   0.3s\n",
      "[CV 4/5; 62/108] START activation=tanh, hidden_layer_sizes=100, max_iter=1000, solver=sgd\n",
      "[CV 4/5; 62/108] END activation=tanh, hidden_layer_sizes=100, max_iter=1000, solver=sgd;, score=0.277 total time=   0.2s\n",
      "[CV 5/5; 62/108] START activation=tanh, hidden_layer_sizes=100, max_iter=1000, solver=sgd\n",
      "[CV 5/5; 62/108] END activation=tanh, hidden_layer_sizes=100, max_iter=1000, solver=sgd;, score=0.298 total time=   0.2s\n",
      "[CV 1/5; 63/108] START activation=tanh, hidden_layer_sizes=100, max_iter=1000, solver=adam\n",
      "[CV 1/5; 63/108] END activation=tanh, hidden_layer_sizes=100, max_iter=1000, solver=adam;, score=0.292 total time=   0.1s\n",
      "[CV 2/5; 63/108] START activation=tanh, hidden_layer_sizes=100, max_iter=1000, solver=adam\n",
      "[CV 2/5; 63/108] END activation=tanh, hidden_layer_sizes=100, max_iter=1000, solver=adam;, score=0.292 total time=   1.7s\n",
      "[CV 3/5; 63/108] START activation=tanh, hidden_layer_sizes=100, max_iter=1000, solver=adam\n",
      "[CV 3/5; 63/108] END activation=tanh, hidden_layer_sizes=100, max_iter=1000, solver=adam;, score=0.292 total time=   0.2s\n",
      "[CV 4/5; 63/108] START activation=tanh, hidden_layer_sizes=100, max_iter=1000, solver=adam\n",
      "[CV 4/5; 63/108] END activation=tanh, hidden_layer_sizes=100, max_iter=1000, solver=adam;, score=0.277 total time=   0.7s\n",
      "[CV 5/5; 63/108] START activation=tanh, hidden_layer_sizes=100, max_iter=1000, solver=adam\n",
      "[CV 5/5; 63/108] END activation=tanh, hidden_layer_sizes=100, max_iter=1000, solver=adam;, score=0.298 total time=   0.3s\n",
      "[CV 1/5; 64/108] START activation=tanh, hidden_layer_sizes=500, max_iter=200, solver=lbfgs\n"
     ]
    },
    {
     "name": "stderr",
     "output_type": "stream",
     "text": [
      "/home/franzele/.local/lib/python3.10/site-packages/sklearn/neural_network/_multilayer_perceptron.py:546: ConvergenceWarning: lbfgs failed to converge (status=1):\n",
      "STOP: TOTAL NO. of ITERATIONS REACHED LIMIT.\n",
      "\n",
      "Increase the number of iterations (max_iter) or scale the data as shown in:\n",
      "    https://scikit-learn.org/stable/modules/preprocessing.html\n",
      "  self.n_iter_ = _check_optimize_result(\"lbfgs\", opt_res, self.max_iter)\n"
     ]
    },
    {
     "name": "stdout",
     "output_type": "stream",
     "text": [
      "[CV 2/5; 61/108] END activation=tanh, hidden_layer_sizes=100, max_iter=1000, solver=lbfgs;, score=0.708 total time=  12.4s\n",
      "[CV 2/5; 64/108] START activation=tanh, hidden_layer_sizes=500, max_iter=200, solver=lbfgs\n"
     ]
    },
    {
     "name": "stderr",
     "output_type": "stream",
     "text": [
      "/home/franzele/.local/lib/python3.10/site-packages/sklearn/neural_network/_multilayer_perceptron.py:546: ConvergenceWarning: lbfgs failed to converge (status=1):\n",
      "STOP: TOTAL NO. of ITERATIONS REACHED LIMIT.\n",
      "\n",
      "Increase the number of iterations (max_iter) or scale the data as shown in:\n",
      "    https://scikit-learn.org/stable/modules/preprocessing.html\n",
      "  self.n_iter_ = _check_optimize_result(\"lbfgs\", opt_res, self.max_iter)\n"
     ]
    },
    {
     "name": "stdout",
     "output_type": "stream",
     "text": [
      "[CV 4/5; 61/108] END activation=tanh, hidden_layer_sizes=100, max_iter=1000, solver=lbfgs;, score=0.447 total time=  13.3s\n",
      "[CV 3/5; 64/108] START activation=tanh, hidden_layer_sizes=500, max_iter=200, solver=lbfgs\n"
     ]
    },
    {
     "name": "stderr",
     "output_type": "stream",
     "text": [
      "/home/franzele/.local/lib/python3.10/site-packages/sklearn/neural_network/_multilayer_perceptron.py:546: ConvergenceWarning: lbfgs failed to converge (status=1):\n",
      "STOP: TOTAL NO. of ITERATIONS REACHED LIMIT.\n",
      "\n",
      "Increase the number of iterations (max_iter) or scale the data as shown in:\n",
      "    https://scikit-learn.org/stable/modules/preprocessing.html\n",
      "  self.n_iter_ = _check_optimize_result(\"lbfgs\", opt_res, self.max_iter)\n"
     ]
    },
    {
     "name": "stdout",
     "output_type": "stream",
     "text": [
      "[CV 1/5; 64/108] END activation=tanh, hidden_layer_sizes=500, max_iter=200, solver=lbfgs;, score=0.500 total time=  12.4s\n",
      "[CV 4/5; 64/108] START activation=tanh, hidden_layer_sizes=500, max_iter=200, solver=lbfgs\n"
     ]
    },
    {
     "name": "stderr",
     "output_type": "stream",
     "text": [
      "/home/franzele/.local/lib/python3.10/site-packages/sklearn/neural_network/_multilayer_perceptron.py:546: ConvergenceWarning: lbfgs failed to converge (status=1):\n",
      "STOP: TOTAL NO. of ITERATIONS REACHED LIMIT.\n",
      "\n",
      "Increase the number of iterations (max_iter) or scale the data as shown in:\n",
      "    https://scikit-learn.org/stable/modules/preprocessing.html\n",
      "  self.n_iter_ = _check_optimize_result(\"lbfgs\", opt_res, self.max_iter)\n",
      "/home/franzele/.local/lib/python3.10/site-packages/sklearn/neural_network/_multilayer_perceptron.py:546: ConvergenceWarning: lbfgs failed to converge (status=1):\n",
      "STOP: TOTAL NO. of ITERATIONS REACHED LIMIT.\n",
      "\n",
      "Increase the number of iterations (max_iter) or scale the data as shown in:\n",
      "    https://scikit-learn.org/stable/modules/preprocessing.html\n",
      "  self.n_iter_ = _check_optimize_result(\"lbfgs\", opt_res, self.max_iter)\n"
     ]
    },
    {
     "name": "stdout",
     "output_type": "stream",
     "text": [
      "[CV 3/5; 64/108] END activation=tanh, hidden_layer_sizes=500, max_iter=200, solver=lbfgs;, score=0.521 total time=  11.7s\n",
      "[CV 5/5; 64/108] START activation=tanh, hidden_layer_sizes=500, max_iter=200, solver=lbfgs\n",
      "[CV 2/5; 64/108] END activation=tanh, hidden_layer_sizes=500, max_iter=200, solver=lbfgs;, score=0.583 total time=  13.9s\n",
      "[CV 1/5; 65/108] START activation=tanh, hidden_layer_sizes=500, max_iter=200, solver=sgd\n",
      "[CV 1/5; 65/108] END activation=tanh, hidden_layer_sizes=500, max_iter=200, solver=sgd;, score=0.292 total time=   0.9s\n",
      "[CV 2/5; 65/108] START activation=tanh, hidden_layer_sizes=500, max_iter=200, solver=sgd\n",
      "[CV 2/5; 65/108] END activation=tanh, hidden_layer_sizes=500, max_iter=200, solver=sgd;, score=0.292 total time=   0.5s\n",
      "[CV 3/5; 65/108] START activation=tanh, hidden_layer_sizes=500, max_iter=200, solver=sgd\n",
      "[CV 3/5; 65/108] END activation=tanh, hidden_layer_sizes=500, max_iter=200, solver=sgd;, score=0.292 total time=   0.5s\n",
      "[CV 4/5; 65/108] START activation=tanh, hidden_layer_sizes=500, max_iter=200, solver=sgd\n",
      "[CV 4/5; 65/108] END activation=tanh, hidden_layer_sizes=500, max_iter=200, solver=sgd;, score=0.277 total time=   0.8s\n",
      "[CV 5/5; 65/108] START activation=tanh, hidden_layer_sizes=500, max_iter=200, solver=sgd\n",
      "[CV 5/5; 65/108] END activation=tanh, hidden_layer_sizes=500, max_iter=200, solver=sgd;, score=0.298 total time=   0.6s\n",
      "[CV 1/5; 66/108] START activation=tanh, hidden_layer_sizes=500, max_iter=200, solver=adam\n",
      "[CV 1/5; 66/108] END activation=tanh, hidden_layer_sizes=500, max_iter=200, solver=adam;, score=0.292 total time=   0.5s\n",
      "[CV 2/5; 66/108] START activation=tanh, hidden_layer_sizes=500, max_iter=200, solver=adam\n",
      "[CV 2/5; 66/108] END activation=tanh, hidden_layer_sizes=500, max_iter=200, solver=adam;, score=0.292 total time=   1.1s\n",
      "[CV 3/5; 66/108] START activation=tanh, hidden_layer_sizes=500, max_iter=200, solver=adam\n",
      "[CV 3/5; 66/108] END activation=tanh, hidden_layer_sizes=500, max_iter=200, solver=adam;, score=0.292 total time=   1.7s\n",
      "[CV 4/5; 66/108] START activation=tanh, hidden_layer_sizes=500, max_iter=200, solver=adam\n"
     ]
    },
    {
     "name": "stderr",
     "output_type": "stream",
     "text": [
      "/home/franzele/.local/lib/python3.10/site-packages/sklearn/neural_network/_multilayer_perceptron.py:546: ConvergenceWarning: lbfgs failed to converge (status=1):\n",
      "STOP: TOTAL NO. of ITERATIONS REACHED LIMIT.\n",
      "\n",
      "Increase the number of iterations (max_iter) or scale the data as shown in:\n",
      "    https://scikit-learn.org/stable/modules/preprocessing.html\n",
      "  self.n_iter_ = _check_optimize_result(\"lbfgs\", opt_res, self.max_iter)\n"
     ]
    },
    {
     "name": "stdout",
     "output_type": "stream",
     "text": [
      "[CV 4/5; 64/108] END activation=tanh, hidden_layer_sizes=500, max_iter=200, solver=lbfgs;, score=0.447 total time=  12.9s\n",
      "[CV 5/5; 66/108] START activation=tanh, hidden_layer_sizes=500, max_iter=200, solver=adam\n",
      "[CV 5/5; 66/108] END activation=tanh, hidden_layer_sizes=500, max_iter=200, solver=adam;, score=0.298 total time=   0.4s\n",
      "[CV 1/5; 67/108] START activation=tanh, hidden_layer_sizes=500, max_iter=500, solver=lbfgs\n",
      "[CV 4/5; 66/108] END activation=tanh, hidden_layer_sizes=500, max_iter=200, solver=adam;, score=0.447 total time=   2.5s\n",
      "[CV 2/5; 67/108] START activation=tanh, hidden_layer_sizes=500, max_iter=500, solver=lbfgs\n"
     ]
    },
    {
     "name": "stderr",
     "output_type": "stream",
     "text": [
      "/home/franzele/.local/lib/python3.10/site-packages/sklearn/neural_network/_multilayer_perceptron.py:546: ConvergenceWarning: lbfgs failed to converge (status=1):\n",
      "STOP: TOTAL NO. of ITERATIONS REACHED LIMIT.\n",
      "\n",
      "Increase the number of iterations (max_iter) or scale the data as shown in:\n",
      "    https://scikit-learn.org/stable/modules/preprocessing.html\n",
      "  self.n_iter_ = _check_optimize_result(\"lbfgs\", opt_res, self.max_iter)\n"
     ]
    },
    {
     "name": "stdout",
     "output_type": "stream",
     "text": [
      "[CV 5/5; 64/108] END activation=tanh, hidden_layer_sizes=500, max_iter=200, solver=lbfgs;, score=0.383 total time=  13.9s\n",
      "[CV 3/5; 67/108] START activation=tanh, hidden_layer_sizes=500, max_iter=500, solver=lbfgs\n"
     ]
    },
    {
     "name": "stderr",
     "output_type": "stream",
     "text": [
      "/home/franzele/.local/lib/python3.10/site-packages/sklearn/neural_network/_multilayer_perceptron.py:546: ConvergenceWarning: lbfgs failed to converge (status=1):\n",
      "STOP: TOTAL NO. of ITERATIONS REACHED LIMIT.\n",
      "\n",
      "Increase the number of iterations (max_iter) or scale the data as shown in:\n",
      "    https://scikit-learn.org/stable/modules/preprocessing.html\n",
      "  self.n_iter_ = _check_optimize_result(\"lbfgs\", opt_res, self.max_iter)\n"
     ]
    },
    {
     "name": "stdout",
     "output_type": "stream",
     "text": [
      "[CV 1/5; 52/108] END activation=logistic, hidden_layer_sizes=1000, max_iter=1000, solver=lbfgs;, score=0.833 total time= 2.1min\n",
      "[CV 4/5; 67/108] START activation=tanh, hidden_layer_sizes=500, max_iter=500, solver=lbfgs\n"
     ]
    },
    {
     "name": "stderr",
     "output_type": "stream",
     "text": [
      "/home/franzele/.local/lib/python3.10/site-packages/sklearn/neural_network/_multilayer_perceptron.py:546: ConvergenceWarning: lbfgs failed to converge (status=1):\n",
      "STOP: TOTAL NO. of ITERATIONS REACHED LIMIT.\n",
      "\n",
      "Increase the number of iterations (max_iter) or scale the data as shown in:\n",
      "    https://scikit-learn.org/stable/modules/preprocessing.html\n",
      "  self.n_iter_ = _check_optimize_result(\"lbfgs\", opt_res, self.max_iter)\n"
     ]
    },
    {
     "name": "stdout",
     "output_type": "stream",
     "text": [
      "[CV 3/5; 52/108] END activation=logistic, hidden_layer_sizes=1000, max_iter=1000, solver=lbfgs;, score=0.708 total time= 2.1min\n",
      "[CV 5/5; 67/108] START activation=tanh, hidden_layer_sizes=500, max_iter=500, solver=lbfgs\n"
     ]
    },
    {
     "name": "stderr",
     "output_type": "stream",
     "text": [
      "/home/franzele/.local/lib/python3.10/site-packages/sklearn/neural_network/_multilayer_perceptron.py:546: ConvergenceWarning: lbfgs failed to converge (status=1):\n",
      "STOP: TOTAL NO. of ITERATIONS REACHED LIMIT.\n",
      "\n",
      "Increase the number of iterations (max_iter) or scale the data as shown in:\n",
      "    https://scikit-learn.org/stable/modules/preprocessing.html\n",
      "  self.n_iter_ = _check_optimize_result(\"lbfgs\", opt_res, self.max_iter)\n"
     ]
    },
    {
     "name": "stdout",
     "output_type": "stream",
     "text": [
      "[CV 1/5; 67/108] END activation=tanh, hidden_layer_sizes=500, max_iter=500, solver=lbfgs;, score=0.562 total time=  29.6s\n",
      "[CV 1/5; 68/108] START activation=tanh, hidden_layer_sizes=500, max_iter=500, solver=sgd\n",
      "[CV 1/5; 68/108] END activation=tanh, hidden_layer_sizes=500, max_iter=500, solver=sgd;, score=0.292 total time=   1.2s\n",
      "[CV 2/5; 68/108] START activation=tanh, hidden_layer_sizes=500, max_iter=500, solver=sgd\n",
      "[CV 2/5; 68/108] END activation=tanh, hidden_layer_sizes=500, max_iter=500, solver=sgd;, score=0.292 total time=   0.3s\n",
      "[CV 3/5; 68/108] START activation=tanh, hidden_layer_sizes=500, max_iter=500, solver=sgd\n",
      "[CV 3/5; 68/108] END activation=tanh, hidden_layer_sizes=500, max_iter=500, solver=sgd;, score=0.292 total time=   0.5s\n",
      "[CV 4/5; 68/108] START activation=tanh, hidden_layer_sizes=500, max_iter=500, solver=sgd\n",
      "[CV 4/5; 68/108] END activation=tanh, hidden_layer_sizes=500, max_iter=500, solver=sgd;, score=0.277 total time=   0.7s\n",
      "[CV 5/5; 68/108] START activation=tanh, hidden_layer_sizes=500, max_iter=500, solver=sgd\n"
     ]
    },
    {
     "name": "stderr",
     "output_type": "stream",
     "text": [
      "/home/franzele/.local/lib/python3.10/site-packages/sklearn/neural_network/_multilayer_perceptron.py:546: ConvergenceWarning: lbfgs failed to converge (status=1):\n",
      "STOP: TOTAL NO. of ITERATIONS REACHED LIMIT.\n",
      "\n",
      "Increase the number of iterations (max_iter) or scale the data as shown in:\n",
      "    https://scikit-learn.org/stable/modules/preprocessing.html\n",
      "  self.n_iter_ = _check_optimize_result(\"lbfgs\", opt_res, self.max_iter)\n"
     ]
    },
    {
     "name": "stdout",
     "output_type": "stream",
     "text": [
      "[CV 2/5; 67/108] END activation=tanh, hidden_layer_sizes=500, max_iter=500, solver=lbfgs;, score=0.542 total time=  31.2s\n",
      "[CV 1/5; 69/108] START activation=tanh, hidden_layer_sizes=500, max_iter=500, solver=adam\n",
      "[CV 5/5; 68/108] END activation=tanh, hidden_layer_sizes=500, max_iter=500, solver=sgd;, score=0.298 total time=   0.7s\n",
      "[CV 2/5; 69/108] START activation=tanh, hidden_layer_sizes=500, max_iter=500, solver=adam\n",
      "[CV 2/5; 69/108] END activation=tanh, hidden_layer_sizes=500, max_iter=500, solver=adam;, score=0.479 total time=   0.4s\n",
      "[CV 3/5; 69/108] START activation=tanh, hidden_layer_sizes=500, max_iter=500, solver=adam\n"
     ]
    },
    {
     "name": "stderr",
     "output_type": "stream",
     "text": [
      "/home/franzele/.local/lib/python3.10/site-packages/sklearn/neural_network/_multilayer_perceptron.py:546: ConvergenceWarning: lbfgs failed to converge (status=1):\n",
      "STOP: TOTAL NO. of ITERATIONS REACHED LIMIT.\n",
      "\n",
      "Increase the number of iterations (max_iter) or scale the data as shown in:\n",
      "    https://scikit-learn.org/stable/modules/preprocessing.html\n",
      "  self.n_iter_ = _check_optimize_result(\"lbfgs\", opt_res, self.max_iter)\n"
     ]
    },
    {
     "name": "stdout",
     "output_type": "stream",
     "text": [
      "[CV 2/5; 52/108] END activation=logistic, hidden_layer_sizes=1000, max_iter=1000, solver=lbfgs;, score=0.771 total time= 2.3min\n",
      "[CV 4/5; 69/108] START activation=tanh, hidden_layer_sizes=500, max_iter=500, solver=adam\n",
      "[CV 4/5; 69/108] END activation=tanh, hidden_layer_sizes=500, max_iter=500, solver=adam;, score=0.404 total time=   0.2s\n",
      "[CV 5/5; 69/108] START activation=tanh, hidden_layer_sizes=500, max_iter=500, solver=adam\n",
      "[CV 1/5; 69/108] END activation=tanh, hidden_layer_sizes=500, max_iter=500, solver=adam;, score=0.542 total time=   3.6s\n",
      "[CV 1/5; 70/108] START activation=tanh, hidden_layer_sizes=500, max_iter=1000, solver=lbfgs\n",
      "[CV 3/5; 69/108] END activation=tanh, hidden_layer_sizes=500, max_iter=500, solver=adam;, score=0.438 total time=   3.4s\n",
      "[CV 2/5; 70/108] START activation=tanh, hidden_layer_sizes=500, max_iter=1000, solver=lbfgs\n"
     ]
    },
    {
     "name": "stderr",
     "output_type": "stream",
     "text": [
      "/home/franzele/.local/lib/python3.10/site-packages/sklearn/neural_network/_multilayer_perceptron.py:546: ConvergenceWarning: lbfgs failed to converge (status=1):\n",
      "STOP: TOTAL NO. of ITERATIONS REACHED LIMIT.\n",
      "\n",
      "Increase the number of iterations (max_iter) or scale the data as shown in:\n",
      "    https://scikit-learn.org/stable/modules/preprocessing.html\n",
      "  self.n_iter_ = _check_optimize_result(\"lbfgs\", opt_res, self.max_iter)\n"
     ]
    },
    {
     "name": "stdout",
     "output_type": "stream",
     "text": [
      "[CV 3/5; 67/108] END activation=tanh, hidden_layer_sizes=500, max_iter=500, solver=lbfgs;, score=0.562 total time=  31.0s\n",
      "[CV 3/5; 70/108] START activation=tanh, hidden_layer_sizes=500, max_iter=1000, solver=lbfgs\n",
      "[CV 5/5; 69/108] END activation=tanh, hidden_layer_sizes=500, max_iter=500, solver=adam;, score=0.298 total time=   1.4s\n",
      "[CV 4/5; 70/108] START activation=tanh, hidden_layer_sizes=500, max_iter=1000, solver=lbfgs\n"
     ]
    },
    {
     "name": "stderr",
     "output_type": "stream",
     "text": [
      "/home/franzele/.local/lib/python3.10/site-packages/sklearn/neural_network/_multilayer_perceptron.py:546: ConvergenceWarning: lbfgs failed to converge (status=1):\n",
      "STOP: TOTAL NO. of ITERATIONS REACHED LIMIT.\n",
      "\n",
      "Increase the number of iterations (max_iter) or scale the data as shown in:\n",
      "    https://scikit-learn.org/stable/modules/preprocessing.html\n",
      "  self.n_iter_ = _check_optimize_result(\"lbfgs\", opt_res, self.max_iter)\n"
     ]
    },
    {
     "name": "stdout",
     "output_type": "stream",
     "text": [
      "[CV 4/5; 67/108] END activation=tanh, hidden_layer_sizes=500, max_iter=500, solver=lbfgs;, score=0.596 total time=  30.9s\n",
      "[CV 5/5; 70/108] START activation=tanh, hidden_layer_sizes=500, max_iter=1000, solver=lbfgs\n"
     ]
    },
    {
     "name": "stderr",
     "output_type": "stream",
     "text": [
      "/home/franzele/.local/lib/python3.10/site-packages/sklearn/neural_network/_multilayer_perceptron.py:546: ConvergenceWarning: lbfgs failed to converge (status=1):\n",
      "STOP: TOTAL NO. of ITERATIONS REACHED LIMIT.\n",
      "\n",
      "Increase the number of iterations (max_iter) or scale the data as shown in:\n",
      "    https://scikit-learn.org/stable/modules/preprocessing.html\n",
      "  self.n_iter_ = _check_optimize_result(\"lbfgs\", opt_res, self.max_iter)\n"
     ]
    },
    {
     "name": "stdout",
     "output_type": "stream",
     "text": [
      "[CV 5/5; 67/108] END activation=tanh, hidden_layer_sizes=500, max_iter=500, solver=lbfgs;, score=0.596 total time=  30.5s\n",
      "[CV 1/5; 71/108] START activation=tanh, hidden_layer_sizes=500, max_iter=1000, solver=sgd\n",
      "[CV 1/5; 71/108] END activation=tanh, hidden_layer_sizes=500, max_iter=1000, solver=sgd;, score=0.292 total time=   0.3s\n",
      "[CV 2/5; 71/108] START activation=tanh, hidden_layer_sizes=500, max_iter=1000, solver=sgd\n",
      "[CV 2/5; 71/108] END activation=tanh, hidden_layer_sizes=500, max_iter=1000, solver=sgd;, score=0.292 total time=   0.6s\n",
      "[CV 3/5; 71/108] START activation=tanh, hidden_layer_sizes=500, max_iter=1000, solver=sgd\n"
     ]
    },
    {
     "name": "stderr",
     "output_type": "stream",
     "text": [
      "/home/franzele/.local/lib/python3.10/site-packages/sklearn/neural_network/_multilayer_perceptron.py:546: ConvergenceWarning: lbfgs failed to converge (status=1):\n",
      "STOP: TOTAL NO. of ITERATIONS REACHED LIMIT.\n",
      "\n",
      "Increase the number of iterations (max_iter) or scale the data as shown in:\n",
      "    https://scikit-learn.org/stable/modules/preprocessing.html\n",
      "  self.n_iter_ = _check_optimize_result(\"lbfgs\", opt_res, self.max_iter)\n"
     ]
    },
    {
     "name": "stdout",
     "output_type": "stream",
     "text": [
      "[CV 4/5; 52/108] END activation=logistic, hidden_layer_sizes=1000, max_iter=1000, solver=lbfgs;, score=0.617 total time= 2.0min\n",
      "[CV 4/5; 71/108] START activation=tanh, hidden_layer_sizes=500, max_iter=1000, solver=sgd\n",
      "[CV 4/5; 71/108] END activation=tanh, hidden_layer_sizes=500, max_iter=1000, solver=sgd;, score=0.277 total time=   0.4s\n",
      "[CV 5/5; 71/108] START activation=tanh, hidden_layer_sizes=500, max_iter=1000, solver=sgd\n",
      "[CV 3/5; 71/108] END activation=tanh, hidden_layer_sizes=500, max_iter=1000, solver=sgd;, score=0.292 total time=   1.4s\n",
      "[CV 1/5; 72/108] START activation=tanh, hidden_layer_sizes=500, max_iter=1000, solver=adam\n",
      "[CV 1/5; 72/108] END activation=tanh, hidden_layer_sizes=500, max_iter=1000, solver=adam;, score=0.500 total time=   0.7s\n",
      "[CV 2/5; 72/108] START activation=tanh, hidden_layer_sizes=500, max_iter=1000, solver=adam\n",
      "[CV 2/5; 72/108] END activation=tanh, hidden_layer_sizes=500, max_iter=1000, solver=adam;, score=0.354 total time=   0.3s\n",
      "[CV 3/5; 72/108] START activation=tanh, hidden_layer_sizes=500, max_iter=1000, solver=adam\n",
      "[CV 3/5; 72/108] END activation=tanh, hidden_layer_sizes=500, max_iter=1000, solver=adam;, score=0.292 total time=   0.7s\n",
      "[CV 4/5; 72/108] START activation=tanh, hidden_layer_sizes=500, max_iter=1000, solver=adam\n",
      "[CV 4/5; 72/108] END activation=tanh, hidden_layer_sizes=500, max_iter=1000, solver=adam;, score=0.447 total time=   0.4s\n",
      "[CV 5/5; 72/108] START activation=tanh, hidden_layer_sizes=500, max_iter=1000, solver=adam\n",
      "[CV 5/5; 72/108] END activation=tanh, hidden_layer_sizes=500, max_iter=1000, solver=adam;, score=0.298 total time=   0.3s\n",
      "[CV 1/5; 73/108] START activation=tanh, hidden_layer_sizes=1000, max_iter=200, solver=lbfgs\n"
     ]
    },
    {
     "name": "stderr",
     "output_type": "stream",
     "text": [
      "/home/franzele/.local/lib/python3.10/site-packages/sklearn/neural_network/_multilayer_perceptron.py:546: ConvergenceWarning: lbfgs failed to converge (status=1):\n",
      "STOP: TOTAL NO. of ITERATIONS REACHED LIMIT.\n",
      "\n",
      "Increase the number of iterations (max_iter) or scale the data as shown in:\n",
      "    https://scikit-learn.org/stable/modules/preprocessing.html\n",
      "  self.n_iter_ = _check_optimize_result(\"lbfgs\", opt_res, self.max_iter)\n"
     ]
    },
    {
     "name": "stdout",
     "output_type": "stream",
     "text": [
      "[CV 5/5; 52/108] END activation=logistic, hidden_layer_sizes=1000, max_iter=1000, solver=lbfgs;, score=0.723 total time= 2.1min\n",
      "[CV 2/5; 73/108] START activation=tanh, hidden_layer_sizes=1000, max_iter=200, solver=lbfgs\n",
      "[CV 5/5; 71/108] END activation=tanh, hidden_layer_sizes=500, max_iter=1000, solver=sgd;, score=0.426 total time=  15.9s\n",
      "[CV 3/5; 73/108] START activation=tanh, hidden_layer_sizes=1000, max_iter=200, solver=lbfgs\n"
     ]
    },
    {
     "name": "stderr",
     "output_type": "stream",
     "text": [
      "/home/franzele/.local/lib/python3.10/site-packages/sklearn/neural_network/_multilayer_perceptron.py:546: ConvergenceWarning: lbfgs failed to converge (status=1):\n",
      "STOP: TOTAL NO. of ITERATIONS REACHED LIMIT.\n",
      "\n",
      "Increase the number of iterations (max_iter) or scale the data as shown in:\n",
      "    https://scikit-learn.org/stable/modules/preprocessing.html\n",
      "  self.n_iter_ = _check_optimize_result(\"lbfgs\", opt_res, self.max_iter)\n",
      "/home/franzele/.local/lib/python3.10/site-packages/sklearn/neural_network/_multilayer_perceptron.py:546: ConvergenceWarning: lbfgs failed to converge (status=1):\n",
      "STOP: TOTAL NO. of ITERATIONS REACHED LIMIT.\n",
      "\n",
      "Increase the number of iterations (max_iter) or scale the data as shown in:\n",
      "    https://scikit-learn.org/stable/modules/preprocessing.html\n",
      "  self.n_iter_ = _check_optimize_result(\"lbfgs\", opt_res, self.max_iter)\n"
     ]
    },
    {
     "name": "stdout",
     "output_type": "stream",
     "text": [
      "[CV 2/5; 73/108] END activation=tanh, hidden_layer_sizes=1000, max_iter=200, solver=lbfgs;, score=0.583 total time=  24.4s\n",
      "[CV 4/5; 73/108] START activation=tanh, hidden_layer_sizes=1000, max_iter=200, solver=lbfgs\n",
      "[CV 1/5; 73/108] END activation=tanh, hidden_layer_sizes=1000, max_iter=200, solver=lbfgs;, score=0.646 total time=  27.1s\n",
      "[CV 5/5; 73/108] START activation=tanh, hidden_layer_sizes=1000, max_iter=200, solver=lbfgs\n"
     ]
    },
    {
     "name": "stderr",
     "output_type": "stream",
     "text": [
      "/home/franzele/.local/lib/python3.10/site-packages/sklearn/neural_network/_multilayer_perceptron.py:546: ConvergenceWarning: lbfgs failed to converge (status=1):\n",
      "STOP: TOTAL NO. of ITERATIONS REACHED LIMIT.\n",
      "\n",
      "Increase the number of iterations (max_iter) or scale the data as shown in:\n",
      "    https://scikit-learn.org/stable/modules/preprocessing.html\n",
      "  self.n_iter_ = _check_optimize_result(\"lbfgs\", opt_res, self.max_iter)\n",
      "/home/franzele/.local/lib/python3.10/site-packages/sklearn/neural_network/_multilayer_perceptron.py:546: ConvergenceWarning: lbfgs failed to converge (status=1):\n",
      "STOP: TOTAL NO. of ITERATIONS REACHED LIMIT.\n",
      "\n",
      "Increase the number of iterations (max_iter) or scale the data as shown in:\n",
      "    https://scikit-learn.org/stable/modules/preprocessing.html\n",
      "  self.n_iter_ = _check_optimize_result(\"lbfgs\", opt_res, self.max_iter)\n"
     ]
    },
    {
     "name": "stdout",
     "output_type": "stream",
     "text": [
      "[CV 2/5; 70/108] END activation=tanh, hidden_layer_sizes=500, max_iter=1000, solver=lbfgs;, score=0.562 total time=  58.6s\n",
      "[CV 1/5; 74/108] START activation=tanh, hidden_layer_sizes=1000, max_iter=200, solver=sgd\n",
      "[CV 4/5; 70/108] END activation=tanh, hidden_layer_sizes=500, max_iter=1000, solver=lbfgs;, score=0.638 total time=  58.2s\n",
      "[CV 2/5; 74/108] START activation=tanh, hidden_layer_sizes=1000, max_iter=200, solver=sgd\n",
      "[CV 2/5; 74/108] END activation=tanh, hidden_layer_sizes=1000, max_iter=200, solver=sgd;, score=0.312 total time=   0.3s\n",
      "[CV 3/5; 74/108] START activation=tanh, hidden_layer_sizes=1000, max_iter=200, solver=sgd\n",
      "[CV 3/5; 74/108] END activation=tanh, hidden_layer_sizes=1000, max_iter=200, solver=sgd;, score=0.292 total time=   0.9s\n",
      "[CV 4/5; 74/108] START activation=tanh, hidden_layer_sizes=1000, max_iter=200, solver=sgd\n",
      "[CV 4/5; 74/108] END activation=tanh, hidden_layer_sizes=1000, max_iter=200, solver=sgd;, score=0.277 total time=   0.4s\n",
      "[CV 5/5; 74/108] START activation=tanh, hidden_layer_sizes=1000, max_iter=200, solver=sgd\n",
      "[CV 1/5; 74/108] END activation=tanh, hidden_layer_sizes=1000, max_iter=200, solver=sgd;, score=0.354 total time=   2.0s\n",
      "[CV 1/5; 75/108] START activation=tanh, hidden_layer_sizes=1000, max_iter=200, solver=adam\n",
      "[CV 5/5; 74/108] END activation=tanh, hidden_layer_sizes=1000, max_iter=200, solver=sgd;, score=0.298 total time=   0.4s\n",
      "[CV 2/5; 75/108] START activation=tanh, hidden_layer_sizes=1000, max_iter=200, solver=adam\n"
     ]
    },
    {
     "name": "stderr",
     "output_type": "stream",
     "text": [
      "/home/franzele/.local/lib/python3.10/site-packages/sklearn/neural_network/_multilayer_perceptron.py:546: ConvergenceWarning: lbfgs failed to converge (status=1):\n",
      "STOP: TOTAL NO. of ITERATIONS REACHED LIMIT.\n",
      "\n",
      "Increase the number of iterations (max_iter) or scale the data as shown in:\n",
      "    https://scikit-learn.org/stable/modules/preprocessing.html\n",
      "  self.n_iter_ = _check_optimize_result(\"lbfgs\", opt_res, self.max_iter)\n"
     ]
    },
    {
     "name": "stdout",
     "output_type": "stream",
     "text": [
      "[CV 3/5; 70/108] END activation=tanh, hidden_layer_sizes=500, max_iter=1000, solver=lbfgs;, score=0.729 total time= 1.0min\n",
      "[CV 3/5; 75/108] START activation=tanh, hidden_layer_sizes=1000, max_iter=200, solver=adam\n",
      "[CV 1/5; 75/108] END activation=tanh, hidden_layer_sizes=1000, max_iter=200, solver=adam;, score=0.292 total time=   1.7s\n",
      "[CV 4/5; 75/108] START activation=tanh, hidden_layer_sizes=1000, max_iter=200, solver=adam[CV 2/5; 75/108] END activation=tanh, hidden_layer_sizes=1000, max_iter=200, solver=adam;, score=0.292 total time=   1.5s\n",
      "\n",
      "[CV 5/5; 75/108] START activation=tanh, hidden_layer_sizes=1000, max_iter=200, solver=adam\n",
      "[CV 5/5; 75/108] END activation=tanh, hidden_layer_sizes=1000, max_iter=200, solver=adam;, score=0.298 total time=   2.9s\n",
      "[CV 1/5; 76/108] START activation=tanh, hidden_layer_sizes=1000, max_iter=500, solver=lbfgs\n",
      "[CV 3/5; 73/108] END activation=tanh, hidden_layer_sizes=1000, max_iter=200, solver=lbfgs;, score=0.458 total time=  26.9s\n",
      "[CV 2/5; 76/108] START activation=tanh, hidden_layer_sizes=1000, max_iter=500, solver=lbfgs\n"
     ]
    },
    {
     "name": "stderr",
     "output_type": "stream",
     "text": [
      "/home/franzele/.local/lib/python3.10/site-packages/sklearn/neural_network/_multilayer_perceptron.py:546: ConvergenceWarning: lbfgs failed to converge (status=1):\n",
      "STOP: TOTAL NO. of ITERATIONS REACHED LIMIT.\n",
      "\n",
      "Increase the number of iterations (max_iter) or scale the data as shown in:\n",
      "    https://scikit-learn.org/stable/modules/preprocessing.html\n",
      "  self.n_iter_ = _check_optimize_result(\"lbfgs\", opt_res, self.max_iter)\n",
      "/home/franzele/.local/lib/python3.10/site-packages/sklearn/neural_network/_multilayer_perceptron.py:546: ConvergenceWarning: lbfgs failed to converge (status=1):\n",
      "STOP: TOTAL NO. of ITERATIONS REACHED LIMIT.\n",
      "\n",
      "Increase the number of iterations (max_iter) or scale the data as shown in:\n",
      "    https://scikit-learn.org/stable/modules/preprocessing.html\n",
      "  self.n_iter_ = _check_optimize_result(\"lbfgs\", opt_res, self.max_iter)\n"
     ]
    },
    {
     "name": "stdout",
     "output_type": "stream",
     "text": [
      "[CV 5/5; 70/108] END activation=tanh, hidden_layer_sizes=500, max_iter=1000, solver=lbfgs;, score=0.681 total time=  57.5s\n",
      "[CV 3/5; 76/108] START activation=tanh, hidden_layer_sizes=1000, max_iter=500, solver=lbfgs\n"
     ]
    },
    {
     "name": "stderr",
     "output_type": "stream",
     "text": [
      "/home/franzele/.local/lib/python3.10/site-packages/sklearn/neural_network/_multilayer_perceptron.py:546: ConvergenceWarning: lbfgs failed to converge (status=1):\n",
      "STOP: TOTAL NO. of ITERATIONS REACHED LIMIT.\n",
      "\n",
      "Increase the number of iterations (max_iter) or scale the data as shown in:\n",
      "    https://scikit-learn.org/stable/modules/preprocessing.html\n",
      "  self.n_iter_ = _check_optimize_result(\"lbfgs\", opt_res, self.max_iter)\n"
     ]
    },
    {
     "name": "stdout",
     "output_type": "stream",
     "text": [
      "[CV 1/5; 70/108] END activation=tanh, hidden_layer_sizes=500, max_iter=1000, solver=lbfgs;, score=0.729 total time= 1.1min\n",
      "[CV 4/5; 76/108] START activation=tanh, hidden_layer_sizes=1000, max_iter=500, solver=lbfgs\n",
      "[CV 3/5; 75/108] END activation=tanh, hidden_layer_sizes=1000, max_iter=200, solver=adam;, score=0.542 total time=   4.9s\n",
      "[CV 5/5; 76/108] START activation=tanh, hidden_layer_sizes=1000, max_iter=500, solver=lbfgs\n",
      "[CV 4/5; 75/108] END activation=tanh, hidden_layer_sizes=1000, max_iter=200, solver=adam;, score=0.511 total time=   4.2s\n",
      "[CV 1/5; 77/108] START activation=tanh, hidden_layer_sizes=1000, max_iter=500, solver=sgd\n",
      "[CV 1/5; 77/108] END activation=tanh, hidden_layer_sizes=1000, max_iter=500, solver=sgd;, score=0.292 total time=   0.9s\n",
      "[CV 2/5; 77/108] START activation=tanh, hidden_layer_sizes=1000, max_iter=500, solver=sgd\n",
      "[CV 2/5; 77/108] END activation=tanh, hidden_layer_sizes=1000, max_iter=500, solver=sgd;, score=0.292 total time=   0.7s\n",
      "[CV 3/5; 77/108] START activation=tanh, hidden_layer_sizes=1000, max_iter=500, solver=sgd\n",
      "[CV 3/5; 77/108] END activation=tanh, hidden_layer_sizes=1000, max_iter=500, solver=sgd;, score=0.292 total time=   0.9s\n",
      "[CV 4/5; 77/108] START activation=tanh, hidden_layer_sizes=1000, max_iter=500, solver=sgd\n",
      "[CV 4/5; 77/108] END activation=tanh, hidden_layer_sizes=1000, max_iter=500, solver=sgd;, score=0.277 total time=   0.7s\n",
      "[CV 5/5; 77/108] START activation=tanh, hidden_layer_sizes=1000, max_iter=500, solver=sgd\n",
      "[CV 5/5; 77/108] END activation=tanh, hidden_layer_sizes=1000, max_iter=500, solver=sgd;, score=0.298 total time=   0.7s\n",
      "[CV 1/5; 78/108] START activation=tanh, hidden_layer_sizes=1000, max_iter=500, solver=adam\n",
      "[CV 1/5; 78/108] END activation=tanh, hidden_layer_sizes=1000, max_iter=500, solver=adam;, score=0.292 total time=   1.8s\n",
      "[CV 2/5; 78/108] START activation=tanh, hidden_layer_sizes=1000, max_iter=500, solver=adam\n",
      "[CV 2/5; 78/108] END activation=tanh, hidden_layer_sizes=1000, max_iter=500, solver=adam;, score=0.292 total time=   0.4s\n",
      "[CV 3/5; 78/108] START activation=tanh, hidden_layer_sizes=1000, max_iter=500, solver=adam\n",
      "[CV 3/5; 78/108] END activation=tanh, hidden_layer_sizes=1000, max_iter=500, solver=adam;, score=0.292 total time=   1.1s\n",
      "[CV 4/5; 78/108] START activation=tanh, hidden_layer_sizes=1000, max_iter=500, solver=adam\n",
      "[CV 4/5; 78/108] END activation=tanh, hidden_layer_sizes=1000, max_iter=500, solver=adam;, score=0.277 total time=   0.7s\n",
      "[CV 5/5; 78/108] START activation=tanh, hidden_layer_sizes=1000, max_iter=500, solver=adam\n"
     ]
    },
    {
     "name": "stderr",
     "output_type": "stream",
     "text": [
      "/home/franzele/.local/lib/python3.10/site-packages/sklearn/neural_network/_multilayer_perceptron.py:546: ConvergenceWarning: lbfgs failed to converge (status=1):\n",
      "STOP: TOTAL NO. of ITERATIONS REACHED LIMIT.\n",
      "\n",
      "Increase the number of iterations (max_iter) or scale the data as shown in:\n",
      "    https://scikit-learn.org/stable/modules/preprocessing.html\n",
      "  self.n_iter_ = _check_optimize_result(\"lbfgs\", opt_res, self.max_iter)\n"
     ]
    },
    {
     "name": "stdout",
     "output_type": "stream",
     "text": [
      "[CV 4/5; 73/108] END activation=tanh, hidden_layer_sizes=1000, max_iter=200, solver=lbfgs;, score=0.553 total time=  23.2s\n",
      "[CV 1/5; 79/108] START activation=tanh, hidden_layer_sizes=1000, max_iter=1000, solver=lbfgs\n",
      "[CV 5/5; 78/108] END activation=tanh, hidden_layer_sizes=1000, max_iter=500, solver=adam;, score=0.298 total time=   2.0s\n",
      "[CV 2/5; 79/108] START activation=tanh, hidden_layer_sizes=1000, max_iter=1000, solver=lbfgs\n"
     ]
    },
    {
     "name": "stderr",
     "output_type": "stream",
     "text": [
      "/home/franzele/.local/lib/python3.10/site-packages/sklearn/neural_network/_multilayer_perceptron.py:546: ConvergenceWarning: lbfgs failed to converge (status=1):\n",
      "STOP: TOTAL NO. of ITERATIONS REACHED LIMIT.\n",
      "\n",
      "Increase the number of iterations (max_iter) or scale the data as shown in:\n",
      "    https://scikit-learn.org/stable/modules/preprocessing.html\n",
      "  self.n_iter_ = _check_optimize_result(\"lbfgs\", opt_res, self.max_iter)\n"
     ]
    },
    {
     "name": "stdout",
     "output_type": "stream",
     "text": [
      "[CV 5/5; 73/108] END activation=tanh, hidden_layer_sizes=1000, max_iter=200, solver=lbfgs;, score=0.511 total time=  31.0s\n",
      "[CV 3/5; 79/108] START activation=tanh, hidden_layer_sizes=1000, max_iter=1000, solver=lbfgs\n"
     ]
    },
    {
     "name": "stderr",
     "output_type": "stream",
     "text": [
      "/home/franzele/.local/lib/python3.10/site-packages/sklearn/neural_network/_multilayer_perceptron.py:546: ConvergenceWarning: lbfgs failed to converge (status=1):\n",
      "STOP: TOTAL NO. of ITERATIONS REACHED LIMIT.\n",
      "\n",
      "Increase the number of iterations (max_iter) or scale the data as shown in:\n",
      "    https://scikit-learn.org/stable/modules/preprocessing.html\n",
      "  self.n_iter_ = _check_optimize_result(\"lbfgs\", opt_res, self.max_iter)\n"
     ]
    },
    {
     "name": "stdout",
     "output_type": "stream",
     "text": [
      "[CV 1/5; 76/108] END activation=tanh, hidden_layer_sizes=1000, max_iter=500, solver=lbfgs;, score=0.750 total time= 1.1min\n",
      "[CV 4/5; 79/108] START activation=tanh, hidden_layer_sizes=1000, max_iter=1000, solver=lbfgs\n"
     ]
    },
    {
     "name": "stderr",
     "output_type": "stream",
     "text": [
      "/home/franzele/.local/lib/python3.10/site-packages/sklearn/neural_network/_multilayer_perceptron.py:546: ConvergenceWarning: lbfgs failed to converge (status=1):\n",
      "STOP: TOTAL NO. of ITERATIONS REACHED LIMIT.\n",
      "\n",
      "Increase the number of iterations (max_iter) or scale the data as shown in:\n",
      "    https://scikit-learn.org/stable/modules/preprocessing.html\n",
      "  self.n_iter_ = _check_optimize_result(\"lbfgs\", opt_res, self.max_iter)\n"
     ]
    },
    {
     "name": "stdout",
     "output_type": "stream",
     "text": [
      "[CV 3/5; 76/108] END activation=tanh, hidden_layer_sizes=1000, max_iter=500, solver=lbfgs;, score=0.667 total time= 1.2min\n",
      "[CV 5/5; 79/108] START activation=tanh, hidden_layer_sizes=1000, max_iter=1000, solver=lbfgs\n"
     ]
    },
    {
     "name": "stderr",
     "output_type": "stream",
     "text": [
      "/home/franzele/.local/lib/python3.10/site-packages/sklearn/neural_network/_multilayer_perceptron.py:546: ConvergenceWarning: lbfgs failed to converge (status=1):\n",
      "STOP: TOTAL NO. of ITERATIONS REACHED LIMIT.\n",
      "\n",
      "Increase the number of iterations (max_iter) or scale the data as shown in:\n",
      "    https://scikit-learn.org/stable/modules/preprocessing.html\n",
      "  self.n_iter_ = _check_optimize_result(\"lbfgs\", opt_res, self.max_iter)\n"
     ]
    },
    {
     "name": "stdout",
     "output_type": "stream",
     "text": [
      "[CV 4/5; 76/108] END activation=tanh, hidden_layer_sizes=1000, max_iter=500, solver=lbfgs;, score=0.638 total time= 1.2min\n",
      "[CV 1/5; 80/108] START activation=tanh, hidden_layer_sizes=1000, max_iter=1000, solver=sgd\n",
      "[CV 1/5; 80/108] END activation=tanh, hidden_layer_sizes=1000, max_iter=1000, solver=sgd;, score=0.292 total time=   2.0s\n",
      "[CV 2/5; 80/108] START activation=tanh, hidden_layer_sizes=1000, max_iter=1000, solver=sgd\n",
      "[CV 5/5; 76/108] END activation=tanh, hidden_layer_sizes=1000, max_iter=500, solver=lbfgs;, score=0.638 total time= 1.3min\n",
      "[CV 3/5; 80/108] START activation=tanh, hidden_layer_sizes=1000, max_iter=1000, solver=sgd\n"
     ]
    },
    {
     "name": "stderr",
     "output_type": "stream",
     "text": [
      "/home/franzele/.local/lib/python3.10/site-packages/sklearn/neural_network/_multilayer_perceptron.py:546: ConvergenceWarning: lbfgs failed to converge (status=1):\n",
      "STOP: TOTAL NO. of ITERATIONS REACHED LIMIT.\n",
      "\n",
      "Increase the number of iterations (max_iter) or scale the data as shown in:\n",
      "    https://scikit-learn.org/stable/modules/preprocessing.html\n",
      "  self.n_iter_ = _check_optimize_result(\"lbfgs\", opt_res, self.max_iter)\n"
     ]
    },
    {
     "name": "stdout",
     "output_type": "stream",
     "text": [
      "[CV 2/5; 80/108] END activation=tanh, hidden_layer_sizes=1000, max_iter=1000, solver=sgd;, score=0.292 total time=   0.6s\n",
      "[CV 4/5; 80/108] START activation=tanh, hidden_layer_sizes=1000, max_iter=1000, solver=sgd\n",
      "[CV 4/5; 80/108] END activation=tanh, hidden_layer_sizes=1000, max_iter=1000, solver=sgd;, score=0.277 total time=   0.3s\n",
      "[CV 5/5; 80/108] START activation=tanh, hidden_layer_sizes=1000, max_iter=1000, solver=sgd\n",
      "[CV 2/5; 76/108] END activation=tanh, hidden_layer_sizes=1000, max_iter=500, solver=lbfgs;, score=0.646 total time= 1.3min\n",
      "[CV 1/5; 81/108] START activation=tanh, hidden_layer_sizes=1000, max_iter=1000, solver=adam\n"
     ]
    },
    {
     "name": "stderr",
     "output_type": "stream",
     "text": [
      "/home/franzele/.local/lib/python3.10/site-packages/sklearn/neural_network/_multilayer_perceptron.py:546: ConvergenceWarning: lbfgs failed to converge (status=1):\n",
      "STOP: TOTAL NO. of ITERATIONS REACHED LIMIT.\n",
      "\n",
      "Increase the number of iterations (max_iter) or scale the data as shown in:\n",
      "    https://scikit-learn.org/stable/modules/preprocessing.html\n",
      "  self.n_iter_ = _check_optimize_result(\"lbfgs\", opt_res, self.max_iter)\n"
     ]
    },
    {
     "name": "stdout",
     "output_type": "stream",
     "text": [
      "[CV 5/5; 80/108] END activation=tanh, hidden_layer_sizes=1000, max_iter=1000, solver=sgd;, score=0.298 total time=   0.9s\n",
      "[CV 2/5; 81/108] START activation=tanh, hidden_layer_sizes=1000, max_iter=1000, solver=adam\n",
      "[CV 2/5; 81/108] END activation=tanh, hidden_layer_sizes=1000, max_iter=1000, solver=adam;, score=0.292 total time=   0.4s\n",
      "[CV 3/5; 81/108] START activation=tanh, hidden_layer_sizes=1000, max_iter=1000, solver=adam\n",
      "[CV 3/5; 80/108] END activation=tanh, hidden_layer_sizes=1000, max_iter=1000, solver=sgd;, score=0.292 total time=   2.4s\n",
      "[CV 4/5; 81/108] START activation=tanh, hidden_layer_sizes=1000, max_iter=1000, solver=adam\n",
      "[CV 4/5; 81/108] END activation=tanh, hidden_layer_sizes=1000, max_iter=1000, solver=adam;, score=0.383 total time=   0.7s\n",
      "[CV 5/5; 81/108] START activation=tanh, hidden_layer_sizes=1000, max_iter=1000, solver=adam\n",
      "[CV 1/5; 81/108] END activation=tanh, hidden_layer_sizes=1000, max_iter=1000, solver=adam;, score=0.292 total time=   2.4s\n",
      "[CV 1/5; 82/108] START activation=relu, hidden_layer_sizes=100, max_iter=200, solver=lbfgs\n",
      "[CV 3/5; 81/108] END activation=tanh, hidden_layer_sizes=1000, max_iter=1000, solver=adam;, score=0.292 total time=   1.5s\n",
      "[CV 2/5; 82/108] START activation=relu, hidden_layer_sizes=100, max_iter=200, solver=lbfgs\n",
      "[CV 2/5; 82/108] END activation=relu, hidden_layer_sizes=100, max_iter=200, solver=lbfgs;, score=0.375 total time=   0.2s\n"
     ]
    },
    {
     "name": "stderr",
     "output_type": "stream",
     "text": [
      "/home/franzele/.local/lib/python3.10/site-packages/sklearn/neural_network/_multilayer_perceptron.py:546: ConvergenceWarning: lbfgs failed to converge (status=2):\n",
      "ABNORMAL_TERMINATION_IN_LNSRCH.\n",
      "\n",
      "Increase the number of iterations (max_iter) or scale the data as shown in:\n",
      "    https://scikit-learn.org/stable/modules/preprocessing.html\n",
      "  self.n_iter_ = _check_optimize_result(\"lbfgs\", opt_res, self.max_iter)\n",
      "/home/franzele/.local/lib/python3.10/site-packages/sklearn/neural_network/_multilayer_perceptron.py:546: ConvergenceWarning: lbfgs failed to converge (status=2):\n",
      "ABNORMAL_TERMINATION_IN_LNSRCH.\n",
      "\n",
      "Increase the number of iterations (max_iter) or scale the data as shown in:\n",
      "    https://scikit-learn.org/stable/modules/preprocessing.html\n",
      "  self.n_iter_ = _check_optimize_result(\"lbfgs\", opt_res, self.max_iter)\n"
     ]
    },
    {
     "name": "stdout",
     "output_type": "stream",
     "text": [
      "[CV 3/5; 82/108] START activation=relu, hidden_layer_sizes=100, max_iter=200, solver=lbfgs\n",
      "[CV 1/5; 82/108] END activation=relu, hidden_layer_sizes=100, max_iter=200, solver=lbfgs;, score=0.292 total time=   0.5s\n",
      "[CV 4/5; 82/108] START activation=relu, hidden_layer_sizes=100, max_iter=200, solver=lbfgs\n"
     ]
    },
    {
     "name": "stderr",
     "output_type": "stream",
     "text": [
      "/home/franzele/.local/lib/python3.10/site-packages/sklearn/neural_network/_multilayer_perceptron.py:546: ConvergenceWarning: lbfgs failed to converge (status=2):\n",
      "ABNORMAL_TERMINATION_IN_LNSRCH.\n",
      "\n",
      "Increase the number of iterations (max_iter) or scale the data as shown in:\n",
      "    https://scikit-learn.org/stable/modules/preprocessing.html\n",
      "  self.n_iter_ = _check_optimize_result(\"lbfgs\", opt_res, self.max_iter)\n"
     ]
    },
    {
     "name": "stdout",
     "output_type": "stream",
     "text": [
      "[CV 3/5; 82/108] END activation=relu, hidden_layer_sizes=100, max_iter=200, solver=lbfgs;, score=0.292 total time=   0.3s\n",
      "[CV 5/5; 82/108] START activation=relu, hidden_layer_sizes=100, max_iter=200, solver=lbfgs\n",
      "[CV 5/5; 81/108] END activation=tanh, hidden_layer_sizes=1000, max_iter=1000, solver=adam;, score=0.298 total time=   0.9s\n",
      "[CV 1/5; 83/108] START activation=relu, hidden_layer_sizes=100, max_iter=200, solver=sgd\n",
      "[CV 1/5; 83/108] END activation=relu, hidden_layer_sizes=100, max_iter=200, solver=sgd;, score=0.146 total time=   0.1s\n",
      "[CV 2/5; 83/108] START activation=relu, hidden_layer_sizes=100, max_iter=200, solver=sgd\n",
      "[CV 5/5; 82/108] END activation=relu, hidden_layer_sizes=100, max_iter=200, solver=lbfgs;, score=0.234 total time=   0.3s\n",
      "[CV 3/5; 83/108] START activation=relu, hidden_layer_sizes=100, max_iter=200, solver=sgd\n",
      "[CV 3/5; 83/108] END activation=relu, hidden_layer_sizes=100, max_iter=200, solver=sgd;, score=0.188 total time=   0.1s\n",
      "[CV 4/5; 83/108] START activation=relu, hidden_layer_sizes=100, max_iter=200, solver=sgd\n",
      "[CV 4/5; 83/108] END activation=relu, hidden_layer_sizes=100, max_iter=200, solver=sgd;, score=0.277 total time=   0.1s\n",
      "[CV 5/5; 83/108] START activation=relu, hidden_layer_sizes=100, max_iter=200, solver=sgd\n"
     ]
    },
    {
     "name": "stderr",
     "output_type": "stream",
     "text": [
      "/home/franzele/.local/lib/python3.10/site-packages/sklearn/neural_network/_multilayer_perceptron.py:546: ConvergenceWarning: lbfgs failed to converge (status=2):\n",
      "ABNORMAL_TERMINATION_IN_LNSRCH.\n",
      "\n",
      "Increase the number of iterations (max_iter) or scale the data as shown in:\n",
      "    https://scikit-learn.org/stable/modules/preprocessing.html\n",
      "  self.n_iter_ = _check_optimize_result(\"lbfgs\", opt_res, self.max_iter)\n",
      "/home/franzele/.local/lib/python3.10/site-packages/sklearn/neural_network/_multilayer_perceptron.py:546: ConvergenceWarning: lbfgs failed to converge (status=2):\n",
      "ABNORMAL_TERMINATION_IN_LNSRCH.\n",
      "\n",
      "Increase the number of iterations (max_iter) or scale the data as shown in:\n",
      "    https://scikit-learn.org/stable/modules/preprocessing.html\n",
      "  self.n_iter_ = _check_optimize_result(\"lbfgs\", opt_res, self.max_iter)\n"
     ]
    },
    {
     "name": "stdout",
     "output_type": "stream",
     "text": [
      "[CV 2/5; 83/108] END activation=relu, hidden_layer_sizes=100, max_iter=200, solver=sgd;, score=0.104 total time=   0.2s\n",
      "[CV 5/5; 83/108] END activation=relu, hidden_layer_sizes=100, max_iter=200, solver=sgd;, score=0.106 total time=   0.1s\n",
      "[CV 1/5; 84/108] START activation=relu, hidden_layer_sizes=100, max_iter=200, solver=adam\n",
      "[CV 2/5; 84/108] START activation=relu, hidden_layer_sizes=100, max_iter=200, solver=adam\n",
      "[CV 2/5; 84/108] END activation=relu, hidden_layer_sizes=100, max_iter=200, solver=adam;, score=0.292 total time=   0.0s\n",
      "[CV 3/5; 84/108] START activation=relu, hidden_layer_sizes=100, max_iter=200, solver=adam\n",
      "[CV 4/5; 82/108] END activation=relu, hidden_layer_sizes=100, max_iter=200, solver=lbfgs;, score=0.277 total time=   0.8s\n",
      "[CV 4/5; 84/108] START activation=relu, hidden_layer_sizes=100, max_iter=200, solver=adam\n",
      "[CV 1/5; 84/108] END activation=relu, hidden_layer_sizes=100, max_iter=200, solver=adam;, score=0.312 total time=   0.2s\n",
      "[CV 5/5; 84/108] START activation=relu, hidden_layer_sizes=100, max_iter=200, solver=adam\n",
      "[CV 3/5; 84/108] END activation=relu, hidden_layer_sizes=100, max_iter=200, solver=adam;, score=0.312 total time=   0.3s\n",
      "[CV 1/5; 85/108] START activation=relu, hidden_layer_sizes=100, max_iter=500, solver=lbfgs\n",
      "[CV 4/5; 84/108] END activation=relu, hidden_layer_sizes=100, max_iter=200, solver=adam;, score=0.404 total time=   0.4s\n",
      "[CV 2/5; 85/108] START activation=relu, hidden_layer_sizes=100, max_iter=500, solver=lbfgs\n",
      "[CV 1/5; 85/108] END activation=relu, hidden_layer_sizes=100, max_iter=500, solver=lbfgs;, score=0.229 total time=   0.2s\n",
      "[CV 3/5; 85/108] START activation=relu, hidden_layer_sizes=100, max_iter=500, solver=lbfgs\n"
     ]
    },
    {
     "name": "stderr",
     "output_type": "stream",
     "text": [
      "/home/franzele/.local/lib/python3.10/site-packages/sklearn/neural_network/_multilayer_perceptron.py:546: ConvergenceWarning: lbfgs failed to converge (status=2):\n",
      "ABNORMAL_TERMINATION_IN_LNSRCH.\n",
      "\n",
      "Increase the number of iterations (max_iter) or scale the data as shown in:\n",
      "    https://scikit-learn.org/stable/modules/preprocessing.html\n",
      "  self.n_iter_ = _check_optimize_result(\"lbfgs\", opt_res, self.max_iter)\n",
      "/home/franzele/.local/lib/python3.10/site-packages/sklearn/neural_network/_multilayer_perceptron.py:546: ConvergenceWarning: lbfgs failed to converge (status=2):\n",
      "ABNORMAL_TERMINATION_IN_LNSRCH.\n",
      "\n",
      "Increase the number of iterations (max_iter) or scale the data as shown in:\n",
      "    https://scikit-learn.org/stable/modules/preprocessing.html\n",
      "  self.n_iter_ = _check_optimize_result(\"lbfgs\", opt_res, self.max_iter)\n"
     ]
    },
    {
     "name": "stdout",
     "output_type": "stream",
     "text": [
      "[CV 3/5; 85/108] END activation=relu, hidden_layer_sizes=100, max_iter=500, solver=lbfgs;, score=0.167 total time=   0.2s\n",
      "[CV 4/5; 85/108] START activation=relu, hidden_layer_sizes=100, max_iter=500, solver=lbfgs\n"
     ]
    },
    {
     "name": "stderr",
     "output_type": "stream",
     "text": [
      "/home/franzele/.local/lib/python3.10/site-packages/sklearn/neural_network/_multilayer_perceptron.py:546: ConvergenceWarning: lbfgs failed to converge (status=2):\n",
      "ABNORMAL_TERMINATION_IN_LNSRCH.\n",
      "\n",
      "Increase the number of iterations (max_iter) or scale the data as shown in:\n",
      "    https://scikit-learn.org/stable/modules/preprocessing.html\n",
      "  self.n_iter_ = _check_optimize_result(\"lbfgs\", opt_res, self.max_iter)\n",
      "/home/franzele/.local/lib/python3.10/site-packages/sklearn/neural_network/_multilayer_perceptron.py:546: ConvergenceWarning: lbfgs failed to converge (status=2):\n",
      "ABNORMAL_TERMINATION_IN_LNSRCH.\n",
      "\n",
      "Increase the number of iterations (max_iter) or scale the data as shown in:\n",
      "    https://scikit-learn.org/stable/modules/preprocessing.html\n",
      "  self.n_iter_ = _check_optimize_result(\"lbfgs\", opt_res, self.max_iter)\n"
     ]
    },
    {
     "name": "stdout",
     "output_type": "stream",
     "text": [
      "[CV 4/5; 85/108] END activation=relu, hidden_layer_sizes=100, max_iter=500, solver=lbfgs;, score=0.149 total time=   0.2s\n",
      "[CV 5/5; 85/108] START activation=relu, hidden_layer_sizes=100, max_iter=500, solver=lbfgs\n",
      "[CV 2/5; 85/108] END activation=relu, hidden_layer_sizes=100, max_iter=500, solver=lbfgs;, score=0.146 total time=   0.5s\n",
      "[CV 1/5; 86/108] START activation=relu, hidden_layer_sizes=100, max_iter=500, solver=sgd\n",
      "[CV 1/5; 86/108] END activation=relu, hidden_layer_sizes=100, max_iter=500, solver=sgd;, score=0.146 total time=   0.1s\n",
      "[CV 2/5; 86/108] START activation=relu, hidden_layer_sizes=100, max_iter=500, solver=sgd\n",
      "[CV 2/5; 86/108] END activation=relu, hidden_layer_sizes=100, max_iter=500, solver=sgd;, score=0.104 total time=   0.2s\n",
      "[CV 3/5; 86/108] START activation=relu, hidden_layer_sizes=100, max_iter=500, solver=sgd\n"
     ]
    },
    {
     "name": "stderr",
     "output_type": "stream",
     "text": [
      "/home/franzele/.local/lib/python3.10/site-packages/sklearn/neural_network/_multilayer_perceptron.py:546: ConvergenceWarning: lbfgs failed to converge (status=2):\n",
      "ABNORMAL_TERMINATION_IN_LNSRCH.\n",
      "\n",
      "Increase the number of iterations (max_iter) or scale the data as shown in:\n",
      "    https://scikit-learn.org/stable/modules/preprocessing.html\n",
      "  self.n_iter_ = _check_optimize_result(\"lbfgs\", opt_res, self.max_iter)\n"
     ]
    },
    {
     "name": "stdout",
     "output_type": "stream",
     "text": [
      "[CV 5/5; 85/108] END activation=relu, hidden_layer_sizes=100, max_iter=500, solver=lbfgs;, score=0.298 total time=   0.5s\n",
      "[CV 4/5; 86/108] START activation=relu, hidden_layer_sizes=100, max_iter=500, solver=sgd\n",
      "[CV 3/5; 86/108] END activation=relu, hidden_layer_sizes=100, max_iter=500, solver=sgd;, score=0.146 total time=   0.3s\n",
      "[CV 5/5; 86/108] START activation=relu, hidden_layer_sizes=100, max_iter=500, solver=sgd\n",
      "[CV 4/5; 86/108] END activation=relu, hidden_layer_sizes=100, max_iter=500, solver=sgd;, score=0.106 total time=   0.2s\n",
      "[CV 1/5; 87/108] START activation=relu, hidden_layer_sizes=100, max_iter=500, solver=adam\n",
      "[CV 5/5; 86/108] END activation=relu, hidden_layer_sizes=100, max_iter=500, solver=sgd;, score=0.298 total time=   0.2s\n",
      "[CV 2/5; 87/108] START activation=relu, hidden_layer_sizes=100, max_iter=500, solver=adam\n",
      "[CV 5/5; 84/108] END activation=relu, hidden_layer_sizes=100, max_iter=200, solver=adam;, score=0.383 total time=   1.6s\n",
      "[CV 3/5; 87/108] START activation=relu, hidden_layer_sizes=100, max_iter=500, solver=adam\n",
      "[CV 1/5; 87/108] END activation=relu, hidden_layer_sizes=100, max_iter=500, solver=adam;, score=0.333 total time=   0.2s\n",
      "[CV 4/5; 87/108] START activation=relu, hidden_layer_sizes=100, max_iter=500, solver=adam\n",
      "[CV 2/5; 87/108] END activation=relu, hidden_layer_sizes=100, max_iter=500, solver=adam;, score=0.104 total time=   0.3s\n",
      "[CV 5/5; 87/108] START activation=relu, hidden_layer_sizes=100, max_iter=500, solver=adam\n",
      "[CV 4/5; 87/108] END activation=relu, hidden_layer_sizes=100, max_iter=500, solver=adam;, score=0.085 total time=   0.4s\n",
      "[CV 1/5; 88/108] START activation=relu, hidden_layer_sizes=100, max_iter=1000, solver=lbfgs\n",
      "[CV 5/5; 87/108] END activation=relu, hidden_layer_sizes=100, max_iter=500, solver=adam;, score=0.170 total time=   0.3s\n",
      "[CV 2/5; 88/108] START activation=relu, hidden_layer_sizes=100, max_iter=1000, solver=lbfgs\n",
      "[CV 3/5; 87/108] END activation=relu, hidden_layer_sizes=100, max_iter=500, solver=adam;, score=0.500 total time=   1.3s\n",
      "[CV 3/5; 88/108] START activation=relu, hidden_layer_sizes=100, max_iter=1000, solver=lbfgs\n",
      "[CV 1/5; 88/108] END activation=relu, hidden_layer_sizes=100, max_iter=1000, solver=lbfgs;, score=0.250 total time=   0.8s\n",
      "[CV 4/5; 88/108] START activation=relu, hidden_layer_sizes=100, max_iter=1000, solver=lbfgs\n"
     ]
    },
    {
     "name": "stderr",
     "output_type": "stream",
     "text": [
      "/home/franzele/.local/lib/python3.10/site-packages/sklearn/neural_network/_multilayer_perceptron.py:546: ConvergenceWarning: lbfgs failed to converge (status=2):\n",
      "ABNORMAL_TERMINATION_IN_LNSRCH.\n",
      "\n",
      "Increase the number of iterations (max_iter) or scale the data as shown in:\n",
      "    https://scikit-learn.org/stable/modules/preprocessing.html\n",
      "  self.n_iter_ = _check_optimize_result(\"lbfgs\", opt_res, self.max_iter)\n",
      "/home/franzele/.local/lib/python3.10/site-packages/sklearn/neural_network/_multilayer_perceptron.py:546: ConvergenceWarning: lbfgs failed to converge (status=2):\n",
      "ABNORMAL_TERMINATION_IN_LNSRCH.\n",
      "\n",
      "Increase the number of iterations (max_iter) or scale the data as shown in:\n",
      "    https://scikit-learn.org/stable/modules/preprocessing.html\n",
      "  self.n_iter_ = _check_optimize_result(\"lbfgs\", opt_res, self.max_iter)\n"
     ]
    },
    {
     "name": "stdout",
     "output_type": "stream",
     "text": [
      "[CV 4/5; 88/108] END activation=relu, hidden_layer_sizes=100, max_iter=1000, solver=lbfgs;, score=0.255 total time=   0.1s\n",
      "[CV 5/5; 88/108] START activation=relu, hidden_layer_sizes=100, max_iter=1000, solver=lbfgs\n"
     ]
    },
    {
     "name": "stderr",
     "output_type": "stream",
     "text": [
      "/home/franzele/.local/lib/python3.10/site-packages/sklearn/neural_network/_multilayer_perceptron.py:546: ConvergenceWarning: lbfgs failed to converge (status=2):\n",
      "ABNORMAL_TERMINATION_IN_LNSRCH.\n",
      "\n",
      "Increase the number of iterations (max_iter) or scale the data as shown in:\n",
      "    https://scikit-learn.org/stable/modules/preprocessing.html\n",
      "  self.n_iter_ = _check_optimize_result(\"lbfgs\", opt_res, self.max_iter)\n",
      "/home/franzele/.local/lib/python3.10/site-packages/sklearn/neural_network/_multilayer_perceptron.py:546: ConvergenceWarning: lbfgs failed to converge (status=2):\n",
      "ABNORMAL_TERMINATION_IN_LNSRCH.\n",
      "\n",
      "Increase the number of iterations (max_iter) or scale the data as shown in:\n",
      "    https://scikit-learn.org/stable/modules/preprocessing.html\n",
      "  self.n_iter_ = _check_optimize_result(\"lbfgs\", opt_res, self.max_iter)\n"
     ]
    },
    {
     "name": "stdout",
     "output_type": "stream",
     "text": [
      "[CV 5/5; 88/108] END activation=relu, hidden_layer_sizes=100, max_iter=1000, solver=lbfgs;, score=0.340 total time=   0.3s\n",
      "[CV 1/5; 89/108] START activation=relu, hidden_layer_sizes=100, max_iter=1000, solver=sgd\n",
      "[CV 1/5; 89/108] END activation=relu, hidden_layer_sizes=100, max_iter=1000, solver=sgd;, score=0.146 total time=   0.1s\n",
      "[CV 2/5; 89/108] START activation=relu, hidden_layer_sizes=100, max_iter=1000, solver=sgd\n",
      "[CV 2/5; 89/108] END activation=relu, hidden_layer_sizes=100, max_iter=1000, solver=sgd;, score=0.292 total time=   0.1s\n",
      "[CV 3/5; 89/108] START activation=relu, hidden_layer_sizes=100, max_iter=1000, solver=sgd\n",
      "[CV 3/5; 88/108] END activation=relu, hidden_layer_sizes=100, max_iter=1000, solver=lbfgs;, score=0.167 total time=   0.7s\n",
      "[CV 4/5; 89/108] START activation=relu, hidden_layer_sizes=100, max_iter=1000, solver=sgd\n",
      "[CV 3/5; 89/108] END activation=relu, hidden_layer_sizes=100, max_iter=1000, solver=sgd;, score=0.312 total time=   0.1s\n",
      "[CV 5/5; 89/108] START activation=relu, hidden_layer_sizes=100, max_iter=1000, solver=sgd\n",
      "[CV 2/5; 88/108] END activation=relu, hidden_layer_sizes=100, max_iter=1000, solver=lbfgs;, score=0.312 total time=   1.4s\n",
      "[CV 1/5; 90/108] START activation=relu, hidden_layer_sizes=100, max_iter=1000, solver=adam\n",
      "[CV 5/5; 89/108] END activation=relu, hidden_layer_sizes=100, max_iter=1000, solver=sgd;, score=0.128 total time=   0.1s\n",
      "[CV 2/5; 90/108] START activation=relu, hidden_layer_sizes=100, max_iter=1000, solver=adam\n",
      "[CV 4/5; 89/108] END activation=relu, hidden_layer_sizes=100, max_iter=1000, solver=sgd;, score=0.277 total time=   0.2s\n",
      "[CV 2/5; 90/108] END activation=relu, hidden_layer_sizes=100, max_iter=1000, solver=adam;, score=0.333 total time=   0.1s\n",
      "[CV 4/5; 90/108] START activation=relu, hidden_layer_sizes=100, max_iter=1000, solver=adam\n",
      "[CV 3/5; 90/108] START activation=relu, hidden_layer_sizes=100, max_iter=1000, solver=adam\n"
     ]
    },
    {
     "name": "stderr",
     "output_type": "stream",
     "text": [
      "/home/franzele/.local/lib/python3.10/site-packages/sklearn/neural_network/_multilayer_perceptron.py:546: ConvergenceWarning: lbfgs failed to converge (status=2):\n",
      "ABNORMAL_TERMINATION_IN_LNSRCH.\n",
      "\n",
      "Increase the number of iterations (max_iter) or scale the data as shown in:\n",
      "    https://scikit-learn.org/stable/modules/preprocessing.html\n",
      "  self.n_iter_ = _check_optimize_result(\"lbfgs\", opt_res, self.max_iter)\n"
     ]
    },
    {
     "name": "stdout",
     "output_type": "stream",
     "text": [
      "[CV 1/5; 90/108] END activation=relu, hidden_layer_sizes=100, max_iter=1000, solver=adam;, score=0.208 total time=   0.4s\n",
      "[CV 5/5; 90/108] START activation=relu, hidden_layer_sizes=100, max_iter=1000, solver=adam\n",
      "[CV 3/5; 90/108] END activation=relu, hidden_layer_sizes=100, max_iter=1000, solver=adam;, score=0.271 total time=   0.3s\n",
      "[CV 1/5; 91/108] START activation=relu, hidden_layer_sizes=500, max_iter=200, solver=lbfgs\n",
      "[CV 4/5; 90/108] END activation=relu, hidden_layer_sizes=100, max_iter=1000, solver=adam;, score=0.511 total time=   0.4s\n",
      "[CV 2/5; 91/108] START activation=relu, hidden_layer_sizes=500, max_iter=200, solver=lbfgs\n",
      "[CV 5/5; 90/108] END activation=relu, hidden_layer_sizes=100, max_iter=1000, solver=adam;, score=0.149 total time=   0.3s\n",
      "[CV 3/5; 91/108] START activation=relu, hidden_layer_sizes=500, max_iter=200, solver=lbfgs\n"
     ]
    },
    {
     "name": "stderr",
     "output_type": "stream",
     "text": [
      "/home/franzele/.local/lib/python3.10/site-packages/sklearn/neural_network/_multilayer_perceptron.py:546: ConvergenceWarning: lbfgs failed to converge (status=2):\n",
      "ABNORMAL_TERMINATION_IN_LNSRCH.\n",
      "\n",
      "Increase the number of iterations (max_iter) or scale the data as shown in:\n",
      "    https://scikit-learn.org/stable/modules/preprocessing.html\n",
      "  self.n_iter_ = _check_optimize_result(\"lbfgs\", opt_res, self.max_iter)\n"
     ]
    },
    {
     "name": "stdout",
     "output_type": "stream",
     "text": [
      "[CV 1/5; 91/108] END activation=relu, hidden_layer_sizes=500, max_iter=200, solver=lbfgs;, score=0.292 total time=   1.2s\n",
      "[CV 4/5; 91/108] START activation=relu, hidden_layer_sizes=500, max_iter=200, solver=lbfgs\n"
     ]
    },
    {
     "name": "stderr",
     "output_type": "stream",
     "text": [
      "/home/franzele/.local/lib/python3.10/site-packages/sklearn/neural_network/_multilayer_perceptron.py:546: ConvergenceWarning: lbfgs failed to converge (status=2):\n",
      "ABNORMAL_TERMINATION_IN_LNSRCH.\n",
      "\n",
      "Increase the number of iterations (max_iter) or scale the data as shown in:\n",
      "    https://scikit-learn.org/stable/modules/preprocessing.html\n",
      "  self.n_iter_ = _check_optimize_result(\"lbfgs\", opt_res, self.max_iter)\n"
     ]
    },
    {
     "name": "stdout",
     "output_type": "stream",
     "text": [
      "[CV 4/5; 91/108] END activation=relu, hidden_layer_sizes=500, max_iter=200, solver=lbfgs;, score=0.277 total time=   0.5s\n",
      "[CV 5/5; 91/108] START activation=relu, hidden_layer_sizes=500, max_iter=200, solver=lbfgs\n"
     ]
    },
    {
     "name": "stderr",
     "output_type": "stream",
     "text": [
      "/home/franzele/.local/lib/python3.10/site-packages/sklearn/neural_network/_multilayer_perceptron.py:546: ConvergenceWarning: lbfgs failed to converge (status=2):\n",
      "ABNORMAL_TERMINATION_IN_LNSRCH.\n",
      "\n",
      "Increase the number of iterations (max_iter) or scale the data as shown in:\n",
      "    https://scikit-learn.org/stable/modules/preprocessing.html\n",
      "  self.n_iter_ = _check_optimize_result(\"lbfgs\", opt_res, self.max_iter)\n"
     ]
    },
    {
     "name": "stdout",
     "output_type": "stream",
     "text": [
      "[CV 3/5; 91/108] END activation=relu, hidden_layer_sizes=500, max_iter=200, solver=lbfgs;, score=0.292 total time=   2.0s\n",
      "[CV 1/5; 92/108] START activation=relu, hidden_layer_sizes=500, max_iter=200, solver=sgd\n",
      "[CV 1/5; 92/108] END activation=relu, hidden_layer_sizes=500, max_iter=200, solver=sgd;, score=0.292 total time=   0.6s\n",
      "[CV 2/5; 92/108] START activation=relu, hidden_layer_sizes=500, max_iter=200, solver=sgd\n"
     ]
    },
    {
     "name": "stderr",
     "output_type": "stream",
     "text": [
      "/home/franzele/.local/lib/python3.10/site-packages/sklearn/neural_network/_multilayer_perceptron.py:546: ConvergenceWarning: lbfgs failed to converge (status=2):\n",
      "ABNORMAL_TERMINATION_IN_LNSRCH.\n",
      "\n",
      "Increase the number of iterations (max_iter) or scale the data as shown in:\n",
      "    https://scikit-learn.org/stable/modules/preprocessing.html\n",
      "  self.n_iter_ = _check_optimize_result(\"lbfgs\", opt_res, self.max_iter)\n"
     ]
    },
    {
     "name": "stdout",
     "output_type": "stream",
     "text": [
      "[CV 5/5; 91/108] END activation=relu, hidden_layer_sizes=500, max_iter=200, solver=lbfgs;, score=0.319 total time=   1.5s\n",
      "[CV 3/5; 92/108] START activation=relu, hidden_layer_sizes=500, max_iter=200, solver=sgd\n",
      "[CV 2/5; 92/108] END activation=relu, hidden_layer_sizes=500, max_iter=200, solver=sgd;, score=0.146 total time=   0.6s\n",
      "[CV 4/5; 92/108] START activation=relu, hidden_layer_sizes=500, max_iter=200, solver=sgd\n",
      "[CV 3/5; 92/108] END activation=relu, hidden_layer_sizes=500, max_iter=200, solver=sgd;, score=0.167 total time=   0.4s\n",
      "[CV 5/5; 92/108] START activation=relu, hidden_layer_sizes=500, max_iter=200, solver=sgd\n",
      "[CV 5/5; 92/108] END activation=relu, hidden_layer_sizes=500, max_iter=200, solver=sgd;, score=0.106 total time=   0.6s\n",
      "[CV 1/5; 93/108] START activation=relu, hidden_layer_sizes=500, max_iter=200, solver=adam\n",
      "[CV 4/5; 92/108] END activation=relu, hidden_layer_sizes=500, max_iter=200, solver=sgd;, score=0.128 total time=   0.7s\n",
      "[CV 2/5; 93/108] START activation=relu, hidden_layer_sizes=500, max_iter=200, solver=adam\n",
      "[CV 2/5; 93/108] END activation=relu, hidden_layer_sizes=500, max_iter=200, solver=adam;, score=0.188 total time=   0.7s\n",
      "[CV 3/5; 93/108] START activation=relu, hidden_layer_sizes=500, max_iter=200, solver=adam\n",
      "[CV 1/5; 93/108] END activation=relu, hidden_layer_sizes=500, max_iter=200, solver=adam;, score=0.312 total time=   1.2s\n",
      "[CV 4/5; 93/108] START activation=relu, hidden_layer_sizes=500, max_iter=200, solver=adam\n",
      "[CV 3/5; 93/108] END activation=relu, hidden_layer_sizes=500, max_iter=200, solver=adam;, score=0.104 total time=   0.7s\n",
      "[CV 5/5; 93/108] START activation=relu, hidden_layer_sizes=500, max_iter=200, solver=adam\n",
      "[CV 4/5; 93/108] END activation=relu, hidden_layer_sizes=500, max_iter=200, solver=adam;, score=0.191 total time=   0.7s\n",
      "[CV 1/5; 94/108] START activation=relu, hidden_layer_sizes=500, max_iter=500, solver=lbfgs\n",
      "[CV 5/5; 93/108] END activation=relu, hidden_layer_sizes=500, max_iter=200, solver=adam;, score=0.319 total time=   0.6s\n",
      "[CV 2/5; 94/108] START activation=relu, hidden_layer_sizes=500, max_iter=500, solver=lbfgs\n"
     ]
    },
    {
     "name": "stderr",
     "output_type": "stream",
     "text": [
      "/home/franzele/.local/lib/python3.10/site-packages/sklearn/neural_network/_multilayer_perceptron.py:546: ConvergenceWarning: lbfgs failed to converge (status=2):\n",
      "ABNORMAL_TERMINATION_IN_LNSRCH.\n",
      "\n",
      "Increase the number of iterations (max_iter) or scale the data as shown in:\n",
      "    https://scikit-learn.org/stable/modules/preprocessing.html\n",
      "  self.n_iter_ = _check_optimize_result(\"lbfgs\", opt_res, self.max_iter)\n",
      "/home/franzele/.local/lib/python3.10/site-packages/sklearn/neural_network/_multilayer_perceptron.py:546: ConvergenceWarning: lbfgs failed to converge (status=2):\n",
      "ABNORMAL_TERMINATION_IN_LNSRCH.\n",
      "\n",
      "Increase the number of iterations (max_iter) or scale the data as shown in:\n",
      "    https://scikit-learn.org/stable/modules/preprocessing.html\n",
      "  self.n_iter_ = _check_optimize_result(\"lbfgs\", opt_res, self.max_iter)\n"
     ]
    },
    {
     "name": "stdout",
     "output_type": "stream",
     "text": [
      "[CV 1/5; 94/108] END activation=relu, hidden_layer_sizes=500, max_iter=500, solver=lbfgs;, score=0.208 total time=   1.1s\n",
      "[CV 3/5; 94/108] START activation=relu, hidden_layer_sizes=500, max_iter=500, solver=lbfgs\n",
      "[CV 2/5; 94/108] END activation=relu, hidden_layer_sizes=500, max_iter=500, solver=lbfgs;, score=0.396 total time=   0.9s\n",
      "[CV 4/5; 94/108] START activation=relu, hidden_layer_sizes=500, max_iter=500, solver=lbfgs\n"
     ]
    },
    {
     "name": "stderr",
     "output_type": "stream",
     "text": [
      "/home/franzele/.local/lib/python3.10/site-packages/sklearn/neural_network/_multilayer_perceptron.py:546: ConvergenceWarning: lbfgs failed to converge (status=2):\n",
      "ABNORMAL_TERMINATION_IN_LNSRCH.\n",
      "\n",
      "Increase the number of iterations (max_iter) or scale the data as shown in:\n",
      "    https://scikit-learn.org/stable/modules/preprocessing.html\n",
      "  self.n_iter_ = _check_optimize_result(\"lbfgs\", opt_res, self.max_iter)\n"
     ]
    },
    {
     "name": "stdout",
     "output_type": "stream",
     "text": [
      "[CV 2/5; 91/108] END activation=relu, hidden_layer_sizes=500, max_iter=200, solver=lbfgs;, score=0.271 total time=   7.4s\n",
      "[CV 5/5; 94/108] START activation=relu, hidden_layer_sizes=500, max_iter=500, solver=lbfgs\n"
     ]
    },
    {
     "name": "stderr",
     "output_type": "stream",
     "text": [
      "/home/franzele/.local/lib/python3.10/site-packages/sklearn/neural_network/_multilayer_perceptron.py:546: ConvergenceWarning: lbfgs failed to converge (status=2):\n",
      "ABNORMAL_TERMINATION_IN_LNSRCH.\n",
      "\n",
      "Increase the number of iterations (max_iter) or scale the data as shown in:\n",
      "    https://scikit-learn.org/stable/modules/preprocessing.html\n",
      "  self.n_iter_ = _check_optimize_result(\"lbfgs\", opt_res, self.max_iter)\n"
     ]
    },
    {
     "name": "stdout",
     "output_type": "stream",
     "text": [
      "[CV 4/5; 94/108] END activation=relu, hidden_layer_sizes=500, max_iter=500, solver=lbfgs;, score=0.340 total time=   0.7s\n",
      "[CV 1/5; 95/108] START activation=relu, hidden_layer_sizes=500, max_iter=500, solver=sgd\n",
      "[CV 1/5; 95/108] END activation=relu, hidden_layer_sizes=500, max_iter=500, solver=sgd;, score=0.146 total time=   0.2s\n",
      "[CV 2/5; 95/108] START activation=relu, hidden_layer_sizes=500, max_iter=500, solver=sgd\n",
      "[CV 2/5; 95/108] END activation=relu, hidden_layer_sizes=500, max_iter=500, solver=sgd;, score=0.104 total time=   0.2s\n",
      "[CV 3/5; 95/108] START activation=relu, hidden_layer_sizes=500, max_iter=500, solver=sgd\n",
      "[CV 3/5; 95/108] END activation=relu, hidden_layer_sizes=500, max_iter=500, solver=sgd;, score=0.188 total time=   0.2s\n",
      "[CV 4/5; 95/108] START activation=relu, hidden_layer_sizes=500, max_iter=500, solver=sgd\n"
     ]
    },
    {
     "name": "stderr",
     "output_type": "stream",
     "text": [
      "/home/franzele/.local/lib/python3.10/site-packages/sklearn/neural_network/_multilayer_perceptron.py:546: ConvergenceWarning: lbfgs failed to converge (status=2):\n",
      "ABNORMAL_TERMINATION_IN_LNSRCH.\n",
      "\n",
      "Increase the number of iterations (max_iter) or scale the data as shown in:\n",
      "    https://scikit-learn.org/stable/modules/preprocessing.html\n",
      "  self.n_iter_ = _check_optimize_result(\"lbfgs\", opt_res, self.max_iter)\n"
     ]
    },
    {
     "name": "stdout",
     "output_type": "stream",
     "text": [
      "[CV 4/5; 95/108] END activation=relu, hidden_layer_sizes=500, max_iter=500, solver=sgd;, score=0.170 total time=   0.2s\n",
      "[CV 5/5; 94/108] END activation=relu, hidden_layer_sizes=500, max_iter=500, solver=lbfgs;, score=0.298 total time=   1.3s\n",
      "[CV 5/5; 95/108] START activation=relu, hidden_layer_sizes=500, max_iter=500, solver=sgd\n",
      "[CV 1/5; 96/108] START activation=relu, hidden_layer_sizes=500, max_iter=500, solver=adam\n",
      "[CV 5/5; 95/108] END activation=relu, hidden_layer_sizes=500, max_iter=500, solver=sgd;, score=0.149 total time=   0.2s\n",
      "[CV 2/5; 96/108] START activation=relu, hidden_layer_sizes=500, max_iter=500, solver=adam\n"
     ]
    },
    {
     "name": "stderr",
     "output_type": "stream",
     "text": [
      "/home/franzele/.local/lib/python3.10/site-packages/sklearn/neural_network/_multilayer_perceptron.py:546: ConvergenceWarning: lbfgs failed to converge (status=2):\n",
      "ABNORMAL_TERMINATION_IN_LNSRCH.\n",
      "\n",
      "Increase the number of iterations (max_iter) or scale the data as shown in:\n",
      "    https://scikit-learn.org/stable/modules/preprocessing.html\n",
      "  self.n_iter_ = _check_optimize_result(\"lbfgs\", opt_res, self.max_iter)\n"
     ]
    },
    {
     "name": "stdout",
     "output_type": "stream",
     "text": [
      "[CV 3/5; 94/108] END activation=relu, hidden_layer_sizes=500, max_iter=500, solver=lbfgs;, score=0.292 total time=   2.0s\n",
      "[CV 2/5; 96/108] END activation=relu, hidden_layer_sizes=500, max_iter=500, solver=adam;, score=0.167 total time=   0.3s\n",
      "[CV 3/5; 96/108] START activation=relu, hidden_layer_sizes=500, max_iter=500, solver=adam\n",
      "[CV 4/5; 96/108] START activation=relu, hidden_layer_sizes=500, max_iter=500, solver=adam\n",
      "[CV 4/5; 96/108] END activation=relu, hidden_layer_sizes=500, max_iter=500, solver=adam;, score=0.170 total time=   0.5s\n",
      "[CV 5/5; 96/108] START activation=relu, hidden_layer_sizes=500, max_iter=500, solver=adam\n",
      "[CV 3/5; 96/108] END activation=relu, hidden_layer_sizes=500, max_iter=500, solver=adam;, score=0.208 total time=   1.2s\n",
      "[CV 1/5; 97/108] START activation=relu, hidden_layer_sizes=500, max_iter=1000, solver=lbfgs[CV 1/5; 96/108] END activation=relu, hidden_layer_sizes=500, max_iter=500, solver=adam;, score=0.333 total time=   1.7s\n",
      "\n",
      "[CV 2/5; 97/108] START activation=relu, hidden_layer_sizes=500, max_iter=1000, solver=lbfgs\n",
      "[CV 5/5; 96/108] END activation=relu, hidden_layer_sizes=500, max_iter=500, solver=adam;, score=0.468 total time=   1.1s\n",
      "[CV 3/5; 97/108] START activation=relu, hidden_layer_sizes=500, max_iter=1000, solver=lbfgs\n"
     ]
    },
    {
     "name": "stderr",
     "output_type": "stream",
     "text": [
      "/home/franzele/.local/lib/python3.10/site-packages/sklearn/neural_network/_multilayer_perceptron.py:546: ConvergenceWarning: lbfgs failed to converge (status=2):\n",
      "ABNORMAL_TERMINATION_IN_LNSRCH.\n",
      "\n",
      "Increase the number of iterations (max_iter) or scale the data as shown in:\n",
      "    https://scikit-learn.org/stable/modules/preprocessing.html\n",
      "  self.n_iter_ = _check_optimize_result(\"lbfgs\", opt_res, self.max_iter)\n"
     ]
    },
    {
     "name": "stdout",
     "output_type": "stream",
     "text": [
      "[CV 1/5; 97/108] END activation=relu, hidden_layer_sizes=500, max_iter=1000, solver=lbfgs;, score=0.229 total time=   1.9s\n",
      "[CV 4/5; 97/108] START activation=relu, hidden_layer_sizes=500, max_iter=1000, solver=lbfgs\n"
     ]
    },
    {
     "name": "stderr",
     "output_type": "stream",
     "text": [
      "/home/franzele/.local/lib/python3.10/site-packages/sklearn/neural_network/_multilayer_perceptron.py:546: ConvergenceWarning: lbfgs failed to converge (status=2):\n",
      "ABNORMAL_TERMINATION_IN_LNSRCH.\n",
      "\n",
      "Increase the number of iterations (max_iter) or scale the data as shown in:\n",
      "    https://scikit-learn.org/stable/modules/preprocessing.html\n",
      "  self.n_iter_ = _check_optimize_result(\"lbfgs\", opt_res, self.max_iter)\n"
     ]
    },
    {
     "name": "stdout",
     "output_type": "stream",
     "text": [
      "[CV 2/5; 97/108] END activation=relu, hidden_layer_sizes=500, max_iter=1000, solver=lbfgs;, score=0.229 total time=   2.3s\n",
      "[CV 5/5; 97/108] START activation=relu, hidden_layer_sizes=500, max_iter=1000, solver=lbfgs\n"
     ]
    },
    {
     "name": "stderr",
     "output_type": "stream",
     "text": [
      "/home/franzele/.local/lib/python3.10/site-packages/sklearn/neural_network/_multilayer_perceptron.py:546: ConvergenceWarning: lbfgs failed to converge (status=2):\n",
      "ABNORMAL_TERMINATION_IN_LNSRCH.\n",
      "\n",
      "Increase the number of iterations (max_iter) or scale the data as shown in:\n",
      "    https://scikit-learn.org/stable/modules/preprocessing.html\n",
      "  self.n_iter_ = _check_optimize_result(\"lbfgs\", opt_res, self.max_iter)\n"
     ]
    },
    {
     "name": "stdout",
     "output_type": "stream",
     "text": [
      "[CV 3/5; 97/108] END activation=relu, hidden_layer_sizes=500, max_iter=1000, solver=lbfgs;, score=0.188 total time=   3.8s\n",
      "[CV 1/5; 98/108] START activation=relu, hidden_layer_sizes=500, max_iter=1000, solver=sgd\n"
     ]
    },
    {
     "name": "stderr",
     "output_type": "stream",
     "text": [
      "/home/franzele/.local/lib/python3.10/site-packages/sklearn/neural_network/_multilayer_perceptron.py:546: ConvergenceWarning: lbfgs failed to converge (status=2):\n",
      "ABNORMAL_TERMINATION_IN_LNSRCH.\n",
      "\n",
      "Increase the number of iterations (max_iter) or scale the data as shown in:\n",
      "    https://scikit-learn.org/stable/modules/preprocessing.html\n",
      "  self.n_iter_ = _check_optimize_result(\"lbfgs\", opt_res, self.max_iter)\n",
      "/home/franzele/.local/lib/python3.10/site-packages/sklearn/neural_network/_multilayer_perceptron.py:546: ConvergenceWarning: lbfgs failed to converge (status=2):\n",
      "ABNORMAL_TERMINATION_IN_LNSRCH.\n",
      "\n",
      "Increase the number of iterations (max_iter) or scale the data as shown in:\n",
      "    https://scikit-learn.org/stable/modules/preprocessing.html\n",
      "  self.n_iter_ = _check_optimize_result(\"lbfgs\", opt_res, self.max_iter)\n"
     ]
    },
    {
     "name": "stdout",
     "output_type": "stream",
     "text": [
      "[CV 4/5; 97/108] END activation=relu, hidden_layer_sizes=500, max_iter=1000, solver=lbfgs;, score=0.191 total time=   2.6s[CV 5/5; 97/108] END activation=relu, hidden_layer_sizes=500, max_iter=1000, solver=lbfgs;, score=0.085 total time=   2.3s\n",
      "\n",
      "[CV 2/5; 98/108] START activation=relu, hidden_layer_sizes=500, max_iter=1000, solver=sgd\n",
      "[CV 3/5; 98/108] START activation=relu, hidden_layer_sizes=500, max_iter=1000, solver=sgd\n",
      "[CV 1/5; 98/108] END activation=relu, hidden_layer_sizes=500, max_iter=1000, solver=sgd;, score=0.292 total time=   0.5s\n",
      "[CV 4/5; 98/108] START activation=relu, hidden_layer_sizes=500, max_iter=1000, solver=sgd\n",
      "[CV 3/5; 98/108] END activation=relu, hidden_layer_sizes=500, max_iter=1000, solver=sgd;, score=0.167 total time=   0.5s\n",
      "[CV 5/5; 98/108] START activation=relu, hidden_layer_sizes=500, max_iter=1000, solver=sgd\n",
      "[CV 2/5; 98/108] END activation=relu, hidden_layer_sizes=500, max_iter=1000, solver=sgd;, score=0.104 total time=   0.6s\n",
      "[CV 1/5; 99/108] START activation=relu, hidden_layer_sizes=500, max_iter=1000, solver=adam\n",
      "[CV 4/5; 98/108] END activation=relu, hidden_layer_sizes=500, max_iter=1000, solver=sgd;, score=0.128 total time=   0.6s\n",
      "[CV 2/5; 99/108] START activation=relu, hidden_layer_sizes=500, max_iter=1000, solver=adam\n",
      "[CV 5/5; 98/108] END activation=relu, hidden_layer_sizes=500, max_iter=1000, solver=sgd;, score=0.106 total time=   0.3s\n",
      "[CV 3/5; 99/108] START activation=relu, hidden_layer_sizes=500, max_iter=1000, solver=adam\n",
      "[CV 3/5; 99/108] END activation=relu, hidden_layer_sizes=500, max_iter=1000, solver=adam;, score=0.104 total time=   0.4s\n",
      "[CV 4/5; 99/108] START activation=relu, hidden_layer_sizes=500, max_iter=1000, solver=adam\n",
      "[CV 1/5; 99/108] END activation=relu, hidden_layer_sizes=500, max_iter=1000, solver=adam;, score=0.083 total time=   1.0s\n",
      "[CV 5/5; 99/108] START activation=relu, hidden_layer_sizes=500, max_iter=1000, solver=adam\n",
      "[CV 2/5; 99/108] END activation=relu, hidden_layer_sizes=500, max_iter=1000, solver=adam;, score=0.146 total time=   1.4s\n",
      "[CV 1/5; 100/108] START activation=relu, hidden_layer_sizes=1000, max_iter=200, solver=lbfgs\n",
      "[CV 4/5; 99/108] END activation=relu, hidden_layer_sizes=500, max_iter=1000, solver=adam;, score=0.298 total time=   0.8s\n",
      "[CV 2/5; 100/108] START activation=relu, hidden_layer_sizes=1000, max_iter=200, solver=lbfgs\n",
      "[CV 5/5; 99/108] END activation=relu, hidden_layer_sizes=500, max_iter=1000, solver=adam;, score=0.149 total time=   0.7s\n",
      "[CV 3/5; 100/108] START activation=relu, hidden_layer_sizes=1000, max_iter=200, solver=lbfgs\n"
     ]
    },
    {
     "name": "stderr",
     "output_type": "stream",
     "text": [
      "/home/franzele/.local/lib/python3.10/site-packages/sklearn/neural_network/_multilayer_perceptron.py:546: ConvergenceWarning: lbfgs failed to converge (status=2):\n",
      "ABNORMAL_TERMINATION_IN_LNSRCH.\n",
      "\n",
      "Increase the number of iterations (max_iter) or scale the data as shown in:\n",
      "    https://scikit-learn.org/stable/modules/preprocessing.html\n",
      "  self.n_iter_ = _check_optimize_result(\"lbfgs\", opt_res, self.max_iter)\n"
     ]
    },
    {
     "name": "stdout",
     "output_type": "stream",
     "text": [
      "[CV 2/5; 100/108] END activation=relu, hidden_layer_sizes=1000, max_iter=200, solver=lbfgs;, score=0.292 total time=   3.3s\n",
      "[CV 4/5; 100/108] START activation=relu, hidden_layer_sizes=1000, max_iter=200, solver=lbfgs\n"
     ]
    },
    {
     "name": "stderr",
     "output_type": "stream",
     "text": [
      "/home/franzele/.local/lib/python3.10/site-packages/sklearn/neural_network/_multilayer_perceptron.py:546: ConvergenceWarning: lbfgs failed to converge (status=2):\n",
      "ABNORMAL_TERMINATION_IN_LNSRCH.\n",
      "\n",
      "Increase the number of iterations (max_iter) or scale the data as shown in:\n",
      "    https://scikit-learn.org/stable/modules/preprocessing.html\n",
      "  self.n_iter_ = _check_optimize_result(\"lbfgs\", opt_res, self.max_iter)\n"
     ]
    },
    {
     "name": "stdout",
     "output_type": "stream",
     "text": [
      "[CV 3/5; 100/108] END activation=relu, hidden_layer_sizes=1000, max_iter=200, solver=lbfgs;, score=0.125 total time=   3.5s\n",
      "[CV 5/5; 100/108] START activation=relu, hidden_layer_sizes=1000, max_iter=200, solver=lbfgs\n"
     ]
    },
    {
     "name": "stderr",
     "output_type": "stream",
     "text": [
      "/home/franzele/.local/lib/python3.10/site-packages/sklearn/neural_network/_multilayer_perceptron.py:546: ConvergenceWarning: lbfgs failed to converge (status=2):\n",
      "ABNORMAL_TERMINATION_IN_LNSRCH.\n",
      "\n",
      "Increase the number of iterations (max_iter) or scale the data as shown in:\n",
      "    https://scikit-learn.org/stable/modules/preprocessing.html\n",
      "  self.n_iter_ = _check_optimize_result(\"lbfgs\", opt_res, self.max_iter)\n"
     ]
    },
    {
     "name": "stdout",
     "output_type": "stream",
     "text": [
      "[CV 1/5; 100/108] END activation=relu, hidden_layer_sizes=1000, max_iter=200, solver=lbfgs;, score=0.292 total time=   4.0s\n",
      "[CV 1/5; 101/108] START activation=relu, hidden_layer_sizes=1000, max_iter=200, solver=sgd\n",
      "[CV 1/5; 101/108] END activation=relu, hidden_layer_sizes=1000, max_iter=200, solver=sgd;, score=0.146 total time=   0.9s\n",
      "[CV 2/5; 101/108] START activation=relu, hidden_layer_sizes=1000, max_iter=200, solver=sgd\n",
      "[CV 2/5; 101/108] END activation=relu, hidden_layer_sizes=1000, max_iter=200, solver=sgd;, score=0.292 total time=   1.1s\n",
      "[CV 3/5; 101/108] START activation=relu, hidden_layer_sizes=1000, max_iter=200, solver=sgd\n",
      "[CV 3/5; 101/108] END activation=relu, hidden_layer_sizes=1000, max_iter=200, solver=sgd;, score=0.083 total time=   0.5s\n",
      "[CV 4/5; 101/108] START activation=relu, hidden_layer_sizes=1000, max_iter=200, solver=sgd\n",
      "[CV 4/5; 101/108] END activation=relu, hidden_layer_sizes=1000, max_iter=200, solver=sgd;, score=0.191 total time=   0.3s\n",
      "[CV 5/5; 101/108] START activation=relu, hidden_layer_sizes=1000, max_iter=200, solver=sgd\n",
      "[CV 4/5; 100/108] END activation=relu, hidden_layer_sizes=1000, max_iter=200, solver=lbfgs;, score=0.277 total time=   3.7s\n",
      "[CV 1/5; 102/108] START activation=relu, hidden_layer_sizes=1000, max_iter=200, solver=adam\n"
     ]
    },
    {
     "name": "stderr",
     "output_type": "stream",
     "text": [
      "/home/franzele/.local/lib/python3.10/site-packages/sklearn/neural_network/_multilayer_perceptron.py:546: ConvergenceWarning: lbfgs failed to converge (status=2):\n",
      "ABNORMAL_TERMINATION_IN_LNSRCH.\n",
      "\n",
      "Increase the number of iterations (max_iter) or scale the data as shown in:\n",
      "    https://scikit-learn.org/stable/modules/preprocessing.html\n",
      "  self.n_iter_ = _check_optimize_result(\"lbfgs\", opt_res, self.max_iter)\n"
     ]
    },
    {
     "name": "stdout",
     "output_type": "stream",
     "text": [
      "[CV 5/5; 101/108] END activation=relu, hidden_layer_sizes=1000, max_iter=200, solver=sgd;, score=0.149 total time=   0.4s\n",
      "[CV 2/5; 102/108] START activation=relu, hidden_layer_sizes=1000, max_iter=200, solver=adam\n",
      "[CV 2/5; 102/108] END activation=relu, hidden_layer_sizes=1000, max_iter=200, solver=adam;, score=0.167 total time=   0.8s\n",
      "[CV 3/5; 102/108] START activation=relu, hidden_layer_sizes=1000, max_iter=200, solver=adam\n",
      "[CV 1/5; 102/108] END activation=relu, hidden_layer_sizes=1000, max_iter=200, solver=adam;, score=0.375 total time=   1.7s\n",
      "[CV 4/5; 102/108] START activation=relu, hidden_layer_sizes=1000, max_iter=200, solver=adam\n",
      "[CV 3/5; 102/108] END activation=relu, hidden_layer_sizes=1000, max_iter=200, solver=adam;, score=0.208 total time=   0.7s\n",
      "[CV 5/5; 102/108] START activation=relu, hidden_layer_sizes=1000, max_iter=200, solver=adam\n",
      "[CV 4/5; 102/108] END activation=relu, hidden_layer_sizes=1000, max_iter=200, solver=adam;, score=0.128 total time=   1.2s\n",
      "[CV 1/5; 103/108] START activation=relu, hidden_layer_sizes=1000, max_iter=500, solver=lbfgs\n",
      "[CV 5/5; 102/108] END activation=relu, hidden_layer_sizes=1000, max_iter=200, solver=adam;, score=0.298 total time=   2.7s\n",
      "[CV 2/5; 103/108] START activation=relu, hidden_layer_sizes=1000, max_iter=500, solver=lbfgs\n",
      "[CV 5/5; 100/108] END activation=relu, hidden_layer_sizes=1000, max_iter=200, solver=lbfgs;, score=0.340 total time=   8.0s\n",
      "[CV 3/5; 103/108] START activation=relu, hidden_layer_sizes=1000, max_iter=500, solver=lbfgs\n"
     ]
    },
    {
     "name": "stderr",
     "output_type": "stream",
     "text": [
      "/home/franzele/.local/lib/python3.10/site-packages/sklearn/neural_network/_multilayer_perceptron.py:546: ConvergenceWarning: lbfgs failed to converge (status=2):\n",
      "ABNORMAL_TERMINATION_IN_LNSRCH.\n",
      "\n",
      "Increase the number of iterations (max_iter) or scale the data as shown in:\n",
      "    https://scikit-learn.org/stable/modules/preprocessing.html\n",
      "  self.n_iter_ = _check_optimize_result(\"lbfgs\", opt_res, self.max_iter)\n",
      "/home/franzele/.local/lib/python3.10/site-packages/sklearn/neural_network/_multilayer_perceptron.py:546: ConvergenceWarning: lbfgs failed to converge (status=2):\n",
      "ABNORMAL_TERMINATION_IN_LNSRCH.\n",
      "\n",
      "Increase the number of iterations (max_iter) or scale the data as shown in:\n",
      "    https://scikit-learn.org/stable/modules/preprocessing.html\n",
      "  self.n_iter_ = _check_optimize_result(\"lbfgs\", opt_res, self.max_iter)\n",
      "/home/franzele/.local/lib/python3.10/site-packages/sklearn/neural_network/_multilayer_perceptron.py:546: ConvergenceWarning: lbfgs failed to converge (status=2):\n",
      "ABNORMAL_TERMINATION_IN_LNSRCH.\n",
      "\n",
      "Increase the number of iterations (max_iter) or scale the data as shown in:\n",
      "    https://scikit-learn.org/stable/modules/preprocessing.html\n",
      "  self.n_iter_ = _check_optimize_result(\"lbfgs\", opt_res, self.max_iter)\n"
     ]
    },
    {
     "name": "stdout",
     "output_type": "stream",
     "text": [
      "[CV 2/5; 103/108] END activation=relu, hidden_layer_sizes=1000, max_iter=500, solver=lbfgs;, score=0.292 total time=   2.8s\n",
      "[CV 4/5; 103/108] START activation=relu, hidden_layer_sizes=1000, max_iter=500, solver=lbfgs\n",
      "[CV 1/5; 103/108] END activation=relu, hidden_layer_sizes=1000, max_iter=500, solver=lbfgs;, score=0.208 total time=   4.5s\n",
      "[CV 5/5; 103/108] START activation=relu, hidden_layer_sizes=1000, max_iter=500, solver=lbfgs\n"
     ]
    },
    {
     "name": "stderr",
     "output_type": "stream",
     "text": [
      "/home/franzele/.local/lib/python3.10/site-packages/sklearn/neural_network/_multilayer_perceptron.py:546: ConvergenceWarning: lbfgs failed to converge (status=2):\n",
      "ABNORMAL_TERMINATION_IN_LNSRCH.\n",
      "\n",
      "Increase the number of iterations (max_iter) or scale the data as shown in:\n",
      "    https://scikit-learn.org/stable/modules/preprocessing.html\n",
      "  self.n_iter_ = _check_optimize_result(\"lbfgs\", opt_res, self.max_iter)\n"
     ]
    },
    {
     "name": "stdout",
     "output_type": "stream",
     "text": [
      "[CV 3/5; 103/108] END activation=relu, hidden_layer_sizes=1000, max_iter=500, solver=lbfgs;, score=0.250 total time=   3.7s\n",
      "[CV 1/5; 104/108] START activation=relu, hidden_layer_sizes=1000, max_iter=500, solver=sgd\n"
     ]
    },
    {
     "name": "stderr",
     "output_type": "stream",
     "text": [
      "/home/franzele/.local/lib/python3.10/site-packages/sklearn/neural_network/_multilayer_perceptron.py:546: ConvergenceWarning: lbfgs failed to converge (status=2):\n",
      "ABNORMAL_TERMINATION_IN_LNSRCH.\n",
      "\n",
      "Increase the number of iterations (max_iter) or scale the data as shown in:\n",
      "    https://scikit-learn.org/stable/modules/preprocessing.html\n",
      "  self.n_iter_ = _check_optimize_result(\"lbfgs\", opt_res, self.max_iter)\n"
     ]
    },
    {
     "name": "stdout",
     "output_type": "stream",
     "text": [
      "[CV 5/5; 103/108] END activation=relu, hidden_layer_sizes=1000, max_iter=500, solver=lbfgs;, score=0.213 total time=   1.6s\n",
      "[CV 2/5; 104/108] START activation=relu, hidden_layer_sizes=1000, max_iter=500, solver=sgd\n",
      "[CV 2/5; 104/108] END activation=relu, hidden_layer_sizes=1000, max_iter=500, solver=sgd;, score=0.104 total time=   0.4s\n",
      "[CV 3/5; 104/108] START activation=relu, hidden_layer_sizes=1000, max_iter=500, solver=sgd\n",
      "[CV 1/5; 104/108] END activation=relu, hidden_layer_sizes=1000, max_iter=500, solver=sgd;, score=0.312 total time=   1.2s\n",
      "[CV 4/5; 104/108] START activation=relu, hidden_layer_sizes=1000, max_iter=500, solver=sgd\n",
      "[CV 3/5; 104/108] END activation=relu, hidden_layer_sizes=1000, max_iter=500, solver=sgd;, score=0.104 total time=   1.1s\n",
      "[CV 5/5; 104/108] START activation=relu, hidden_layer_sizes=1000, max_iter=500, solver=sgd\n",
      "[CV 4/5; 104/108] END activation=relu, hidden_layer_sizes=1000, max_iter=500, solver=sgd;, score=0.277 total time=   1.0s\n",
      "[CV 1/5; 105/108] START activation=relu, hidden_layer_sizes=1000, max_iter=500, solver=adam\n",
      "[CV 5/5; 104/108] END activation=relu, hidden_layer_sizes=1000, max_iter=500, solver=sgd;, score=0.128 total time=   1.1s\n",
      "[CV 2/5; 105/108] START activation=relu, hidden_layer_sizes=1000, max_iter=500, solver=adam\n"
     ]
    },
    {
     "name": "stderr",
     "output_type": "stream",
     "text": [
      "/home/franzele/.local/lib/python3.10/site-packages/sklearn/neural_network/_multilayer_perceptron.py:546: ConvergenceWarning: lbfgs failed to converge (status=2):\n",
      "ABNORMAL_TERMINATION_IN_LNSRCH.\n",
      "\n",
      "Increase the number of iterations (max_iter) or scale the data as shown in:\n",
      "    https://scikit-learn.org/stable/modules/preprocessing.html\n",
      "  self.n_iter_ = _check_optimize_result(\"lbfgs\", opt_res, self.max_iter)\n"
     ]
    },
    {
     "name": "stdout",
     "output_type": "stream",
     "text": [
      "[CV 4/5; 103/108] END activation=relu, hidden_layer_sizes=1000, max_iter=500, solver=lbfgs;, score=0.255 total time=   5.8s\n",
      "[CV 3/5; 105/108] START activation=relu, hidden_layer_sizes=1000, max_iter=500, solver=adam\n",
      "[CV 2/5; 105/108] END activation=relu, hidden_layer_sizes=1000, max_iter=500, solver=adam;, score=0.146 total time=   1.5s\n",
      "[CV 4/5; 105/108] START activation=relu, hidden_layer_sizes=1000, max_iter=500, solver=adam\n",
      "[CV 1/5; 105/108] END activation=relu, hidden_layer_sizes=1000, max_iter=500, solver=adam;, score=0.333 total time=   2.9s\n",
      "[CV 5/5; 105/108] START activation=relu, hidden_layer_sizes=1000, max_iter=500, solver=adam\n",
      "[CV 3/5; 105/108] END activation=relu, hidden_layer_sizes=1000, max_iter=500, solver=adam;, score=0.104 total time=   0.7s\n",
      "[CV 1/5; 106/108] START activation=relu, hidden_layer_sizes=1000, max_iter=1000, solver=lbfgs\n",
      "[CV 4/5; 105/108] END activation=relu, hidden_layer_sizes=1000, max_iter=500, solver=adam;, score=0.277 total time=   0.8s\n",
      "[CV 2/5; 106/108] START activation=relu, hidden_layer_sizes=1000, max_iter=1000, solver=lbfgs\n",
      "[CV 5/5; 105/108] END activation=relu, hidden_layer_sizes=1000, max_iter=500, solver=adam;, score=0.149 total time=   1.0s\n",
      "[CV 3/5; 106/108] START activation=relu, hidden_layer_sizes=1000, max_iter=1000, solver=lbfgs\n"
     ]
    },
    {
     "name": "stderr",
     "output_type": "stream",
     "text": [
      "/home/franzele/.local/lib/python3.10/site-packages/sklearn/neural_network/_multilayer_perceptron.py:546: ConvergenceWarning: lbfgs failed to converge (status=2):\n",
      "ABNORMAL_TERMINATION_IN_LNSRCH.\n",
      "\n",
      "Increase the number of iterations (max_iter) or scale the data as shown in:\n",
      "    https://scikit-learn.org/stable/modules/preprocessing.html\n",
      "  self.n_iter_ = _check_optimize_result(\"lbfgs\", opt_res, self.max_iter)\n"
     ]
    },
    {
     "name": "stdout",
     "output_type": "stream",
     "text": [
      "[CV 1/5; 106/108] END activation=relu, hidden_layer_sizes=1000, max_iter=1000, solver=lbfgs;, score=0.292 total time=   3.4s\n",
      "[CV 4/5; 106/108] START activation=relu, hidden_layer_sizes=1000, max_iter=1000, solver=lbfgs\n"
     ]
    },
    {
     "name": "stderr",
     "output_type": "stream",
     "text": [
      "/home/franzele/.local/lib/python3.10/site-packages/sklearn/neural_network/_multilayer_perceptron.py:546: ConvergenceWarning: lbfgs failed to converge (status=2):\n",
      "ABNORMAL_TERMINATION_IN_LNSRCH.\n",
      "\n",
      "Increase the number of iterations (max_iter) or scale the data as shown in:\n",
      "    https://scikit-learn.org/stable/modules/preprocessing.html\n",
      "  self.n_iter_ = _check_optimize_result(\"lbfgs\", opt_res, self.max_iter)\n"
     ]
    },
    {
     "name": "stdout",
     "output_type": "stream",
     "text": [
      "[CV 2/5; 106/108] END activation=relu, hidden_layer_sizes=1000, max_iter=1000, solver=lbfgs;, score=0.292 total time=   3.6s\n",
      "[CV 5/5; 106/108] START activation=relu, hidden_layer_sizes=1000, max_iter=1000, solver=lbfgs\n"
     ]
    },
    {
     "name": "stderr",
     "output_type": "stream",
     "text": [
      "/home/franzele/.local/lib/python3.10/site-packages/sklearn/neural_network/_multilayer_perceptron.py:546: ConvergenceWarning: lbfgs failed to converge (status=2):\n",
      "ABNORMAL_TERMINATION_IN_LNSRCH.\n",
      "\n",
      "Increase the number of iterations (max_iter) or scale the data as shown in:\n",
      "    https://scikit-learn.org/stable/modules/preprocessing.html\n",
      "  self.n_iter_ = _check_optimize_result(\"lbfgs\", opt_res, self.max_iter)\n"
     ]
    },
    {
     "name": "stdout",
     "output_type": "stream",
     "text": [
      "[CV 3/5; 106/108] END activation=relu, hidden_layer_sizes=1000, max_iter=1000, solver=lbfgs;, score=0.250 total time=   3.5s\n",
      "[CV 1/5; 107/108] START activation=relu, hidden_layer_sizes=1000, max_iter=1000, solver=sgd\n",
      "[CV 1/5; 107/108] END activation=relu, hidden_layer_sizes=1000, max_iter=1000, solver=sgd;, score=0.104 total time=   0.7s\n",
      "[CV 2/5; 107/108] START activation=relu, hidden_layer_sizes=1000, max_iter=1000, solver=sgd\n",
      "[CV 2/5; 107/108] END activation=relu, hidden_layer_sizes=1000, max_iter=1000, solver=sgd;, score=0.188 total time=   1.1s\n",
      "[CV 3/5; 107/108] START activation=relu, hidden_layer_sizes=1000, max_iter=1000, solver=sgd\n"
     ]
    },
    {
     "name": "stderr",
     "output_type": "stream",
     "text": [
      "/home/franzele/.local/lib/python3.10/site-packages/sklearn/neural_network/_multilayer_perceptron.py:546: ConvergenceWarning: lbfgs failed to converge (status=2):\n",
      "ABNORMAL_TERMINATION_IN_LNSRCH.\n",
      "\n",
      "Increase the number of iterations (max_iter) or scale the data as shown in:\n",
      "    https://scikit-learn.org/stable/modules/preprocessing.html\n",
      "  self.n_iter_ = _check_optimize_result(\"lbfgs\", opt_res, self.max_iter)\n"
     ]
    },
    {
     "name": "stdout",
     "output_type": "stream",
     "text": [
      "[CV 4/5; 106/108] END activation=relu, hidden_layer_sizes=1000, max_iter=1000, solver=lbfgs;, score=0.213 total time=   3.1s\n",
      "[CV 4/5; 107/108] START activation=relu, hidden_layer_sizes=1000, max_iter=1000, solver=sgd\n",
      "[CV 3/5; 107/108] END activation=relu, hidden_layer_sizes=1000, max_iter=1000, solver=sgd;, score=0.292 total time=   0.8s\n",
      "[CV 5/5; 107/108] START activation=relu, hidden_layer_sizes=1000, max_iter=1000, solver=sgd\n",
      "[CV 5/5; 107/108] END activation=relu, hidden_layer_sizes=1000, max_iter=1000, solver=sgd;, score=0.128 total time=   0.3s\n",
      "[CV 1/5; 108/108] START activation=relu, hidden_layer_sizes=1000, max_iter=1000, solver=adam\n",
      "[CV 4/5; 107/108] END activation=relu, hidden_layer_sizes=1000, max_iter=1000, solver=sgd;, score=0.106 total time=   1.0s\n",
      "[CV 2/5; 108/108] START activation=relu, hidden_layer_sizes=1000, max_iter=1000, solver=adam\n",
      "[CV 1/5; 108/108] END activation=relu, hidden_layer_sizes=1000, max_iter=1000, solver=adam;, score=0.292 total time=   0.8s\n",
      "[CV 3/5; 108/108] START activation=relu, hidden_layer_sizes=1000, max_iter=1000, solver=adam\n",
      "[CV 2/5; 108/108] END activation=relu, hidden_layer_sizes=1000, max_iter=1000, solver=adam;, score=0.479 total time=   1.4s\n",
      "[CV 4/5; 108/108] START activation=relu, hidden_layer_sizes=1000, max_iter=1000, solver=adam\n",
      "[CV 3/5; 108/108] END activation=relu, hidden_layer_sizes=1000, max_iter=1000, solver=adam;, score=0.146 total time=   1.1s\n",
      "[CV 5/5; 108/108] START activation=relu, hidden_layer_sizes=1000, max_iter=1000, solver=adam\n"
     ]
    },
    {
     "name": "stderr",
     "output_type": "stream",
     "text": [
      "/home/franzele/.local/lib/python3.10/site-packages/sklearn/neural_network/_multilayer_perceptron.py:546: ConvergenceWarning: lbfgs failed to converge (status=1):\n",
      "STOP: TOTAL NO. of ITERATIONS REACHED LIMIT.\n",
      "\n",
      "Increase the number of iterations (max_iter) or scale the data as shown in:\n",
      "    https://scikit-learn.org/stable/modules/preprocessing.html\n",
      "  self.n_iter_ = _check_optimize_result(\"lbfgs\", opt_res, self.max_iter)\n"
     ]
    },
    {
     "name": "stdout",
     "output_type": "stream",
     "text": [
      "[CV 1/5; 79/108] END activation=tanh, hidden_layer_sizes=1000, max_iter=1000, solver=lbfgs;, score=0.854 total time= 2.0min\n",
      "[CV 4/5; 108/108] END activation=relu, hidden_layer_sizes=1000, max_iter=1000, solver=adam;, score=0.170 total time=   0.8s\n",
      "[CV 5/5; 108/108] END activation=relu, hidden_layer_sizes=1000, max_iter=1000, solver=adam;, score=0.106 total time=   1.1s\n"
     ]
    },
    {
     "name": "stderr",
     "output_type": "stream",
     "text": [
      "/home/franzele/.local/lib/python3.10/site-packages/sklearn/neural_network/_multilayer_perceptron.py:546: ConvergenceWarning: lbfgs failed to converge (status=2):\n",
      "ABNORMAL_TERMINATION_IN_LNSRCH.\n",
      "\n",
      "Increase the number of iterations (max_iter) or scale the data as shown in:\n",
      "    https://scikit-learn.org/stable/modules/preprocessing.html\n",
      "  self.n_iter_ = _check_optimize_result(\"lbfgs\", opt_res, self.max_iter)\n"
     ]
    },
    {
     "name": "stdout",
     "output_type": "stream",
     "text": [
      "[CV 5/5; 106/108] END activation=relu, hidden_layer_sizes=1000, max_iter=1000, solver=lbfgs;, score=0.191 total time=   9.0s\n"
     ]
    },
    {
     "name": "stderr",
     "output_type": "stream",
     "text": [
      "/home/franzele/.local/lib/python3.10/site-packages/sklearn/neural_network/_multilayer_perceptron.py:546: ConvergenceWarning: lbfgs failed to converge (status=1):\n",
      "STOP: TOTAL NO. of ITERATIONS REACHED LIMIT.\n",
      "\n",
      "Increase the number of iterations (max_iter) or scale the data as shown in:\n",
      "    https://scikit-learn.org/stable/modules/preprocessing.html\n",
      "  self.n_iter_ = _check_optimize_result(\"lbfgs\", opt_res, self.max_iter)\n"
     ]
    },
    {
     "name": "stdout",
     "output_type": "stream",
     "text": [
      "[CV 2/5; 79/108] END activation=tanh, hidden_layer_sizes=1000, max_iter=1000, solver=lbfgs;, score=0.812 total time= 2.2min\n"
     ]
    },
    {
     "name": "stderr",
     "output_type": "stream",
     "text": [
      "/home/franzele/.local/lib/python3.10/site-packages/sklearn/neural_network/_multilayer_perceptron.py:546: ConvergenceWarning: lbfgs failed to converge (status=1):\n",
      "STOP: TOTAL NO. of ITERATIONS REACHED LIMIT.\n",
      "\n",
      "Increase the number of iterations (max_iter) or scale the data as shown in:\n",
      "    https://scikit-learn.org/stable/modules/preprocessing.html\n",
      "  self.n_iter_ = _check_optimize_result(\"lbfgs\", opt_res, self.max_iter)\n"
     ]
    },
    {
     "name": "stdout",
     "output_type": "stream",
     "text": [
      "[CV 3/5; 79/108] END activation=tanh, hidden_layer_sizes=1000, max_iter=1000, solver=lbfgs;, score=0.688 total time= 2.2min\n"
     ]
    },
    {
     "name": "stderr",
     "output_type": "stream",
     "text": [
      "/home/franzele/.local/lib/python3.10/site-packages/sklearn/neural_network/_multilayer_perceptron.py:546: ConvergenceWarning: lbfgs failed to converge (status=1):\n",
      "STOP: TOTAL NO. of ITERATIONS REACHED LIMIT.\n",
      "\n",
      "Increase the number of iterations (max_iter) or scale the data as shown in:\n",
      "    https://scikit-learn.org/stable/modules/preprocessing.html\n",
      "  self.n_iter_ = _check_optimize_result(\"lbfgs\", opt_res, self.max_iter)\n"
     ]
    },
    {
     "name": "stdout",
     "output_type": "stream",
     "text": [
      "[CV 4/5; 79/108] END activation=tanh, hidden_layer_sizes=1000, max_iter=1000, solver=lbfgs;, score=0.723 total time= 1.4min\n"
     ]
    },
    {
     "name": "stderr",
     "output_type": "stream",
     "text": [
      "/home/franzele/.local/lib/python3.10/site-packages/sklearn/neural_network/_multilayer_perceptron.py:546: ConvergenceWarning: lbfgs failed to converge (status=1):\n",
      "STOP: TOTAL NO. of ITERATIONS REACHED LIMIT.\n",
      "\n",
      "Increase the number of iterations (max_iter) or scale the data as shown in:\n",
      "    https://scikit-learn.org/stable/modules/preprocessing.html\n",
      "  self.n_iter_ = _check_optimize_result(\"lbfgs\", opt_res, self.max_iter)\n"
     ]
    },
    {
     "name": "stdout",
     "output_type": "stream",
     "text": [
      "[CV 5/5; 79/108] END activation=tanh, hidden_layer_sizes=1000, max_iter=1000, solver=lbfgs;, score=0.702 total time= 1.4min\n"
     ]
    },
    {
     "data": {
      "text/html": [
       "<style>#sk-container-id-5 {color: black;}#sk-container-id-5 pre{padding: 0;}#sk-container-id-5 div.sk-toggleable {background-color: white;}#sk-container-id-5 label.sk-toggleable__label {cursor: pointer;display: block;width: 100%;margin-bottom: 0;padding: 0.3em;box-sizing: border-box;text-align: center;}#sk-container-id-5 label.sk-toggleable__label-arrow:before {content: \"▸\";float: left;margin-right: 0.25em;color: #696969;}#sk-container-id-5 label.sk-toggleable__label-arrow:hover:before {color: black;}#sk-container-id-5 div.sk-estimator:hover label.sk-toggleable__label-arrow:before {color: black;}#sk-container-id-5 div.sk-toggleable__content {max-height: 0;max-width: 0;overflow: hidden;text-align: left;background-color: #f0f8ff;}#sk-container-id-5 div.sk-toggleable__content pre {margin: 0.2em;color: black;border-radius: 0.25em;background-color: #f0f8ff;}#sk-container-id-5 input.sk-toggleable__control:checked~div.sk-toggleable__content {max-height: 200px;max-width: 100%;overflow: auto;}#sk-container-id-5 input.sk-toggleable__control:checked~label.sk-toggleable__label-arrow:before {content: \"▾\";}#sk-container-id-5 div.sk-estimator input.sk-toggleable__control:checked~label.sk-toggleable__label {background-color: #d4ebff;}#sk-container-id-5 div.sk-label input.sk-toggleable__control:checked~label.sk-toggleable__label {background-color: #d4ebff;}#sk-container-id-5 input.sk-hidden--visually {border: 0;clip: rect(1px 1px 1px 1px);clip: rect(1px, 1px, 1px, 1px);height: 1px;margin: -1px;overflow: hidden;padding: 0;position: absolute;width: 1px;}#sk-container-id-5 div.sk-estimator {font-family: monospace;background-color: #f0f8ff;border: 1px dotted black;border-radius: 0.25em;box-sizing: border-box;margin-bottom: 0.5em;}#sk-container-id-5 div.sk-estimator:hover {background-color: #d4ebff;}#sk-container-id-5 div.sk-parallel-item::after {content: \"\";width: 100%;border-bottom: 1px solid gray;flex-grow: 1;}#sk-container-id-5 div.sk-label:hover label.sk-toggleable__label {background-color: #d4ebff;}#sk-container-id-5 div.sk-serial::before {content: \"\";position: absolute;border-left: 1px solid gray;box-sizing: border-box;top: 0;bottom: 0;left: 50%;z-index: 0;}#sk-container-id-5 div.sk-serial {display: flex;flex-direction: column;align-items: center;background-color: white;padding-right: 0.2em;padding-left: 0.2em;position: relative;}#sk-container-id-5 div.sk-item {position: relative;z-index: 1;}#sk-container-id-5 div.sk-parallel {display: flex;align-items: stretch;justify-content: center;background-color: white;position: relative;}#sk-container-id-5 div.sk-item::before, #sk-container-id-5 div.sk-parallel-item::before {content: \"\";position: absolute;border-left: 1px solid gray;box-sizing: border-box;top: 0;bottom: 0;left: 50%;z-index: -1;}#sk-container-id-5 div.sk-parallel-item {display: flex;flex-direction: column;z-index: 1;position: relative;background-color: white;}#sk-container-id-5 div.sk-parallel-item:first-child::after {align-self: flex-end;width: 50%;}#sk-container-id-5 div.sk-parallel-item:last-child::after {align-self: flex-start;width: 50%;}#sk-container-id-5 div.sk-parallel-item:only-child::after {width: 0;}#sk-container-id-5 div.sk-dashed-wrapped {border: 1px dashed gray;margin: 0 0.4em 0.5em 0.4em;box-sizing: border-box;padding-bottom: 0.4em;background-color: white;}#sk-container-id-5 div.sk-label label {font-family: monospace;font-weight: bold;display: inline-block;line-height: 1.2em;}#sk-container-id-5 div.sk-label-container {text-align: center;}#sk-container-id-5 div.sk-container {/* jupyter's `normalize.less` sets `[hidden] { display: none; }` but bootstrap.min.css set `[hidden] { display: none !important; }` so we also need the `!important` here to be able to override the default hidden behavior on the sphinx rendered scikit-learn.org. See: https://github.com/scikit-learn/scikit-learn/issues/21755 */display: inline-block !important;position: relative;}#sk-container-id-5 div.sk-text-repr-fallback {display: none;}</style><div id=\"sk-container-id-5\" class=\"sk-top-container\"><div class=\"sk-text-repr-fallback\"><pre>GridSearchCV(estimator=MLPClassifier(), n_jobs=-1,\n",
       "             param_grid={&#x27;activation&#x27;: [&#x27;identity&#x27;, &#x27;logistic&#x27;, &#x27;tanh&#x27;, &#x27;relu&#x27;],\n",
       "                         &#x27;hidden_layer_sizes&#x27;: [100, 500, 1000],\n",
       "                         &#x27;max_iter&#x27;: [200, 500, 1000],\n",
       "                         &#x27;solver&#x27;: [&#x27;lbfgs&#x27;, &#x27;sgd&#x27;, &#x27;adam&#x27;]},\n",
       "             verbose=10)</pre><b>In a Jupyter environment, please rerun this cell to show the HTML representation or trust the notebook. <br />On GitHub, the HTML representation is unable to render, please try loading this page with nbviewer.org.</b></div><div class=\"sk-container\" hidden><div class=\"sk-item sk-dashed-wrapped\"><div class=\"sk-label-container\"><div class=\"sk-label sk-toggleable\"><input class=\"sk-toggleable__control sk-hidden--visually\" id=\"sk-estimator-id-9\" type=\"checkbox\" ><label for=\"sk-estimator-id-9\" class=\"sk-toggleable__label sk-toggleable__label-arrow\">GridSearchCV</label><div class=\"sk-toggleable__content\"><pre>GridSearchCV(estimator=MLPClassifier(), n_jobs=-1,\n",
       "             param_grid={&#x27;activation&#x27;: [&#x27;identity&#x27;, &#x27;logistic&#x27;, &#x27;tanh&#x27;, &#x27;relu&#x27;],\n",
       "                         &#x27;hidden_layer_sizes&#x27;: [100, 500, 1000],\n",
       "                         &#x27;max_iter&#x27;: [200, 500, 1000],\n",
       "                         &#x27;solver&#x27;: [&#x27;lbfgs&#x27;, &#x27;sgd&#x27;, &#x27;adam&#x27;]},\n",
       "             verbose=10)</pre></div></div></div><div class=\"sk-parallel\"><div class=\"sk-parallel-item\"><div class=\"sk-item\"><div class=\"sk-label-container\"><div class=\"sk-label sk-toggleable\"><input class=\"sk-toggleable__control sk-hidden--visually\" id=\"sk-estimator-id-10\" type=\"checkbox\" ><label for=\"sk-estimator-id-10\" class=\"sk-toggleable__label sk-toggleable__label-arrow\">estimator: MLPClassifier</label><div class=\"sk-toggleable__content\"><pre>MLPClassifier()</pre></div></div></div><div class=\"sk-serial\"><div class=\"sk-item\"><div class=\"sk-estimator sk-toggleable\"><input class=\"sk-toggleable__control sk-hidden--visually\" id=\"sk-estimator-id-11\" type=\"checkbox\" ><label for=\"sk-estimator-id-11\" class=\"sk-toggleable__label sk-toggleable__label-arrow\">MLPClassifier</label><div class=\"sk-toggleable__content\"><pre>MLPClassifier()</pre></div></div></div></div></div></div></div></div></div></div>"
      ],
      "text/plain": [
       "GridSearchCV(estimator=MLPClassifier(), n_jobs=-1,\n",
       "             param_grid={'activation': ['identity', 'logistic', 'tanh', 'relu'],\n",
       "                         'hidden_layer_sizes': [100, 500, 1000],\n",
       "                         'max_iter': [200, 500, 1000],\n",
       "                         'solver': ['lbfgs', 'sgd', 'adam']},\n",
       "             verbose=10)"
      ]
     },
     "execution_count": 151,
     "metadata": {},
     "output_type": "execute_result"
    }
   ],
   "source": [
    "grid_search_mlp = GridSearchCV(MLPClassifier(), param_grid=params_mlp, verbose=10, n_jobs=-1)\n",
    "grid_search_mlp.fit(X_train, y_train)"
   ]
  },
  {
   "cell_type": "code",
   "execution_count": 152,
   "metadata": {},
   "outputs": [
    {
     "data": {
      "text/html": [
       "<style>#sk-container-id-6 {color: black;}#sk-container-id-6 pre{padding: 0;}#sk-container-id-6 div.sk-toggleable {background-color: white;}#sk-container-id-6 label.sk-toggleable__label {cursor: pointer;display: block;width: 100%;margin-bottom: 0;padding: 0.3em;box-sizing: border-box;text-align: center;}#sk-container-id-6 label.sk-toggleable__label-arrow:before {content: \"▸\";float: left;margin-right: 0.25em;color: #696969;}#sk-container-id-6 label.sk-toggleable__label-arrow:hover:before {color: black;}#sk-container-id-6 div.sk-estimator:hover label.sk-toggleable__label-arrow:before {color: black;}#sk-container-id-6 div.sk-toggleable__content {max-height: 0;max-width: 0;overflow: hidden;text-align: left;background-color: #f0f8ff;}#sk-container-id-6 div.sk-toggleable__content pre {margin: 0.2em;color: black;border-radius: 0.25em;background-color: #f0f8ff;}#sk-container-id-6 input.sk-toggleable__control:checked~div.sk-toggleable__content {max-height: 200px;max-width: 100%;overflow: auto;}#sk-container-id-6 input.sk-toggleable__control:checked~label.sk-toggleable__label-arrow:before {content: \"▾\";}#sk-container-id-6 div.sk-estimator input.sk-toggleable__control:checked~label.sk-toggleable__label {background-color: #d4ebff;}#sk-container-id-6 div.sk-label input.sk-toggleable__control:checked~label.sk-toggleable__label {background-color: #d4ebff;}#sk-container-id-6 input.sk-hidden--visually {border: 0;clip: rect(1px 1px 1px 1px);clip: rect(1px, 1px, 1px, 1px);height: 1px;margin: -1px;overflow: hidden;padding: 0;position: absolute;width: 1px;}#sk-container-id-6 div.sk-estimator {font-family: monospace;background-color: #f0f8ff;border: 1px dotted black;border-radius: 0.25em;box-sizing: border-box;margin-bottom: 0.5em;}#sk-container-id-6 div.sk-estimator:hover {background-color: #d4ebff;}#sk-container-id-6 div.sk-parallel-item::after {content: \"\";width: 100%;border-bottom: 1px solid gray;flex-grow: 1;}#sk-container-id-6 div.sk-label:hover label.sk-toggleable__label {background-color: #d4ebff;}#sk-container-id-6 div.sk-serial::before {content: \"\";position: absolute;border-left: 1px solid gray;box-sizing: border-box;top: 0;bottom: 0;left: 50%;z-index: 0;}#sk-container-id-6 div.sk-serial {display: flex;flex-direction: column;align-items: center;background-color: white;padding-right: 0.2em;padding-left: 0.2em;position: relative;}#sk-container-id-6 div.sk-item {position: relative;z-index: 1;}#sk-container-id-6 div.sk-parallel {display: flex;align-items: stretch;justify-content: center;background-color: white;position: relative;}#sk-container-id-6 div.sk-item::before, #sk-container-id-6 div.sk-parallel-item::before {content: \"\";position: absolute;border-left: 1px solid gray;box-sizing: border-box;top: 0;bottom: 0;left: 50%;z-index: -1;}#sk-container-id-6 div.sk-parallel-item {display: flex;flex-direction: column;z-index: 1;position: relative;background-color: white;}#sk-container-id-6 div.sk-parallel-item:first-child::after {align-self: flex-end;width: 50%;}#sk-container-id-6 div.sk-parallel-item:last-child::after {align-self: flex-start;width: 50%;}#sk-container-id-6 div.sk-parallel-item:only-child::after {width: 0;}#sk-container-id-6 div.sk-dashed-wrapped {border: 1px dashed gray;margin: 0 0.4em 0.5em 0.4em;box-sizing: border-box;padding-bottom: 0.4em;background-color: white;}#sk-container-id-6 div.sk-label label {font-family: monospace;font-weight: bold;display: inline-block;line-height: 1.2em;}#sk-container-id-6 div.sk-label-container {text-align: center;}#sk-container-id-6 div.sk-container {/* jupyter's `normalize.less` sets `[hidden] { display: none; }` but bootstrap.min.css set `[hidden] { display: none !important; }` so we also need the `!important` here to be able to override the default hidden behavior on the sphinx rendered scikit-learn.org. See: https://github.com/scikit-learn/scikit-learn/issues/21755 */display: inline-block !important;position: relative;}#sk-container-id-6 div.sk-text-repr-fallback {display: none;}</style><div id=\"sk-container-id-6\" class=\"sk-top-container\"><div class=\"sk-text-repr-fallback\"><pre>MLPClassifier(activation=&#x27;tanh&#x27;, hidden_layer_sizes=1000, max_iter=1000,\n",
       "              solver=&#x27;lbfgs&#x27;)</pre><b>In a Jupyter environment, please rerun this cell to show the HTML representation or trust the notebook. <br />On GitHub, the HTML representation is unable to render, please try loading this page with nbviewer.org.</b></div><div class=\"sk-container\" hidden><div class=\"sk-item\"><div class=\"sk-estimator sk-toggleable\"><input class=\"sk-toggleable__control sk-hidden--visually\" id=\"sk-estimator-id-12\" type=\"checkbox\" checked><label for=\"sk-estimator-id-12\" class=\"sk-toggleable__label sk-toggleable__label-arrow\">MLPClassifier</label><div class=\"sk-toggleable__content\"><pre>MLPClassifier(activation=&#x27;tanh&#x27;, hidden_layer_sizes=1000, max_iter=1000,\n",
       "              solver=&#x27;lbfgs&#x27;)</pre></div></div></div></div></div>"
      ],
      "text/plain": [
       "MLPClassifier(activation='tanh', hidden_layer_sizes=1000, max_iter=1000,\n",
       "              solver='lbfgs')"
      ]
     },
     "execution_count": 152,
     "metadata": {},
     "output_type": "execute_result"
    }
   ],
   "source": [
    "grid_search_mlp.best_estimator_"
   ]
  },
  {
   "cell_type": "code",
   "execution_count": 173,
   "metadata": {},
   "outputs": [],
   "source": [
    "mlp = MLPClassifier(activation=\"tanh\", hidden_layer_sizes=1000, max_iter=1000, solver=\"lbfgs\")"
   ]
  },
  {
   "cell_type": "code",
   "execution_count": 174,
   "metadata": {},
   "outputs": [
    {
     "data": {
      "text/plain": [
       "0.7435283687943264"
      ]
     },
     "execution_count": 174,
     "metadata": {},
     "output_type": "execute_result"
    }
   ],
   "source": [
    "cross_val_score(mlp, X_train, y_train, cv=5).mean()"
   ]
  },
  {
   "cell_type": "code",
   "execution_count": 175,
   "metadata": {},
   "outputs": [
    {
     "data": {
      "text/plain": [
       "0.7394957983193278"
      ]
     },
     "execution_count": 175,
     "metadata": {},
     "output_type": "execute_result"
    }
   ],
   "source": [
    "mlp.fit(X_train, y_train)\n",
    "mlp.score(X_test, y_test)"
   ]
  },
  {
   "cell_type": "markdown",
   "metadata": {},
   "source": [
    "## Logistic Regression"
   ]
  },
  {
   "cell_type": "code",
   "execution_count": 176,
   "metadata": {},
   "outputs": [],
   "source": [
    "lr = LogisticRegression(solver=\"newton-cg\")"
   ]
  },
  {
   "cell_type": "code",
   "execution_count": 177,
   "metadata": {},
   "outputs": [
    {
     "data": {
      "text/plain": [
       "0.8906028368794328"
      ]
     },
     "execution_count": 177,
     "metadata": {},
     "output_type": "execute_result"
    }
   ],
   "source": [
    "cross_val_score(lr, X_train, y_train, cv=5).mean()"
   ]
  },
  {
   "cell_type": "code",
   "execution_count": 178,
   "metadata": {},
   "outputs": [
    {
     "data": {
      "text/plain": [
       "0.8823529411764706"
      ]
     },
     "execution_count": 178,
     "metadata": {},
     "output_type": "execute_result"
    }
   ],
   "source": [
    "lr.fit(X_train, y_train)\n",
    "lr.score(X_test, y_test)"
   ]
  },
  {
   "cell_type": "markdown",
   "metadata": {},
   "source": [
    "## SVC"
   ]
  },
  {
   "cell_type": "code",
   "execution_count": 95,
   "metadata": {},
   "outputs": [],
   "source": [
    "params_svc = {\n",
    "    \"C\": [0.01, 0.1, 1],\n",
    "    \"kernel\": [\"linear\", \"poly\", \"rbf\", \"sigmoid\"],\n",
    "    \"gamma\": [\"scale\", \"auto\"]\n",
    "}"
   ]
  },
  {
   "cell_type": "code",
   "execution_count": 96,
   "metadata": {},
   "outputs": [
    {
     "data": {
      "text/html": [
       "<style>#sk-container-id-3 {color: black;}#sk-container-id-3 pre{padding: 0;}#sk-container-id-3 div.sk-toggleable {background-color: white;}#sk-container-id-3 label.sk-toggleable__label {cursor: pointer;display: block;width: 100%;margin-bottom: 0;padding: 0.3em;box-sizing: border-box;text-align: center;}#sk-container-id-3 label.sk-toggleable__label-arrow:before {content: \"▸\";float: left;margin-right: 0.25em;color: #696969;}#sk-container-id-3 label.sk-toggleable__label-arrow:hover:before {color: black;}#sk-container-id-3 div.sk-estimator:hover label.sk-toggleable__label-arrow:before {color: black;}#sk-container-id-3 div.sk-toggleable__content {max-height: 0;max-width: 0;overflow: hidden;text-align: left;background-color: #f0f8ff;}#sk-container-id-3 div.sk-toggleable__content pre {margin: 0.2em;color: black;border-radius: 0.25em;background-color: #f0f8ff;}#sk-container-id-3 input.sk-toggleable__control:checked~div.sk-toggleable__content {max-height: 200px;max-width: 100%;overflow: auto;}#sk-container-id-3 input.sk-toggleable__control:checked~label.sk-toggleable__label-arrow:before {content: \"▾\";}#sk-container-id-3 div.sk-estimator input.sk-toggleable__control:checked~label.sk-toggleable__label {background-color: #d4ebff;}#sk-container-id-3 div.sk-label input.sk-toggleable__control:checked~label.sk-toggleable__label {background-color: #d4ebff;}#sk-container-id-3 input.sk-hidden--visually {border: 0;clip: rect(1px 1px 1px 1px);clip: rect(1px, 1px, 1px, 1px);height: 1px;margin: -1px;overflow: hidden;padding: 0;position: absolute;width: 1px;}#sk-container-id-3 div.sk-estimator {font-family: monospace;background-color: #f0f8ff;border: 1px dotted black;border-radius: 0.25em;box-sizing: border-box;margin-bottom: 0.5em;}#sk-container-id-3 div.sk-estimator:hover {background-color: #d4ebff;}#sk-container-id-3 div.sk-parallel-item::after {content: \"\";width: 100%;border-bottom: 1px solid gray;flex-grow: 1;}#sk-container-id-3 div.sk-label:hover label.sk-toggleable__label {background-color: #d4ebff;}#sk-container-id-3 div.sk-serial::before {content: \"\";position: absolute;border-left: 1px solid gray;box-sizing: border-box;top: 0;bottom: 0;left: 50%;z-index: 0;}#sk-container-id-3 div.sk-serial {display: flex;flex-direction: column;align-items: center;background-color: white;padding-right: 0.2em;padding-left: 0.2em;position: relative;}#sk-container-id-3 div.sk-item {position: relative;z-index: 1;}#sk-container-id-3 div.sk-parallel {display: flex;align-items: stretch;justify-content: center;background-color: white;position: relative;}#sk-container-id-3 div.sk-item::before, #sk-container-id-3 div.sk-parallel-item::before {content: \"\";position: absolute;border-left: 1px solid gray;box-sizing: border-box;top: 0;bottom: 0;left: 50%;z-index: -1;}#sk-container-id-3 div.sk-parallel-item {display: flex;flex-direction: column;z-index: 1;position: relative;background-color: white;}#sk-container-id-3 div.sk-parallel-item:first-child::after {align-self: flex-end;width: 50%;}#sk-container-id-3 div.sk-parallel-item:last-child::after {align-self: flex-start;width: 50%;}#sk-container-id-3 div.sk-parallel-item:only-child::after {width: 0;}#sk-container-id-3 div.sk-dashed-wrapped {border: 1px dashed gray;margin: 0 0.4em 0.5em 0.4em;box-sizing: border-box;padding-bottom: 0.4em;background-color: white;}#sk-container-id-3 div.sk-label label {font-family: monospace;font-weight: bold;display: inline-block;line-height: 1.2em;}#sk-container-id-3 div.sk-label-container {text-align: center;}#sk-container-id-3 div.sk-container {/* jupyter's `normalize.less` sets `[hidden] { display: none; }` but bootstrap.min.css set `[hidden] { display: none !important; }` so we also need the `!important` here to be able to override the default hidden behavior on the sphinx rendered scikit-learn.org. See: https://github.com/scikit-learn/scikit-learn/issues/21755 */display: inline-block !important;position: relative;}#sk-container-id-3 div.sk-text-repr-fallback {display: none;}</style><div id=\"sk-container-id-3\" class=\"sk-top-container\"><div class=\"sk-text-repr-fallback\"><pre>GridSearchCV(estimator=SVC(),\n",
       "             param_grid={&#x27;C&#x27;: [0.01, 0.1, 1], &#x27;gamma&#x27;: [&#x27;scale&#x27;, &#x27;auto&#x27;],\n",
       "                         &#x27;kernel&#x27;: [&#x27;linear&#x27;, &#x27;poly&#x27;, &#x27;rbf&#x27;, &#x27;sigmoid&#x27;]})</pre><b>In a Jupyter environment, please rerun this cell to show the HTML representation or trust the notebook. <br />On GitHub, the HTML representation is unable to render, please try loading this page with nbviewer.org.</b></div><div class=\"sk-container\" hidden><div class=\"sk-item sk-dashed-wrapped\"><div class=\"sk-label-container\"><div class=\"sk-label sk-toggleable\"><input class=\"sk-toggleable__control sk-hidden--visually\" id=\"sk-estimator-id-5\" type=\"checkbox\" ><label for=\"sk-estimator-id-5\" class=\"sk-toggleable__label sk-toggleable__label-arrow\">GridSearchCV</label><div class=\"sk-toggleable__content\"><pre>GridSearchCV(estimator=SVC(),\n",
       "             param_grid={&#x27;C&#x27;: [0.01, 0.1, 1], &#x27;gamma&#x27;: [&#x27;scale&#x27;, &#x27;auto&#x27;],\n",
       "                         &#x27;kernel&#x27;: [&#x27;linear&#x27;, &#x27;poly&#x27;, &#x27;rbf&#x27;, &#x27;sigmoid&#x27;]})</pre></div></div></div><div class=\"sk-parallel\"><div class=\"sk-parallel-item\"><div class=\"sk-item\"><div class=\"sk-label-container\"><div class=\"sk-label sk-toggleable\"><input class=\"sk-toggleable__control sk-hidden--visually\" id=\"sk-estimator-id-6\" type=\"checkbox\" ><label for=\"sk-estimator-id-6\" class=\"sk-toggleable__label sk-toggleable__label-arrow\">estimator: SVC</label><div class=\"sk-toggleable__content\"><pre>SVC()</pre></div></div></div><div class=\"sk-serial\"><div class=\"sk-item\"><div class=\"sk-estimator sk-toggleable\"><input class=\"sk-toggleable__control sk-hidden--visually\" id=\"sk-estimator-id-7\" type=\"checkbox\" ><label for=\"sk-estimator-id-7\" class=\"sk-toggleable__label sk-toggleable__label-arrow\">SVC</label><div class=\"sk-toggleable__content\"><pre>SVC()</pre></div></div></div></div></div></div></div></div></div></div>"
      ],
      "text/plain": [
       "GridSearchCV(estimator=SVC(),\n",
       "             param_grid={'C': [0.01, 0.1, 1], 'gamma': ['scale', 'auto'],\n",
       "                         'kernel': ['linear', 'poly', 'rbf', 'sigmoid']})"
      ]
     },
     "execution_count": 96,
     "metadata": {},
     "output_type": "execute_result"
    }
   ],
   "source": [
    "grid_search_svc = GridSearchCV(SVC(), param_grid=params_svc)\n",
    "grid_search_svc.fit(X_train, y_train)"
   ]
  },
  {
   "cell_type": "code",
   "execution_count": 97,
   "metadata": {},
   "outputs": [
    {
     "data": {
      "text/html": [
       "<style>#sk-container-id-4 {color: black;}#sk-container-id-4 pre{padding: 0;}#sk-container-id-4 div.sk-toggleable {background-color: white;}#sk-container-id-4 label.sk-toggleable__label {cursor: pointer;display: block;width: 100%;margin-bottom: 0;padding: 0.3em;box-sizing: border-box;text-align: center;}#sk-container-id-4 label.sk-toggleable__label-arrow:before {content: \"▸\";float: left;margin-right: 0.25em;color: #696969;}#sk-container-id-4 label.sk-toggleable__label-arrow:hover:before {color: black;}#sk-container-id-4 div.sk-estimator:hover label.sk-toggleable__label-arrow:before {color: black;}#sk-container-id-4 div.sk-toggleable__content {max-height: 0;max-width: 0;overflow: hidden;text-align: left;background-color: #f0f8ff;}#sk-container-id-4 div.sk-toggleable__content pre {margin: 0.2em;color: black;border-radius: 0.25em;background-color: #f0f8ff;}#sk-container-id-4 input.sk-toggleable__control:checked~div.sk-toggleable__content {max-height: 200px;max-width: 100%;overflow: auto;}#sk-container-id-4 input.sk-toggleable__control:checked~label.sk-toggleable__label-arrow:before {content: \"▾\";}#sk-container-id-4 div.sk-estimator input.sk-toggleable__control:checked~label.sk-toggleable__label {background-color: #d4ebff;}#sk-container-id-4 div.sk-label input.sk-toggleable__control:checked~label.sk-toggleable__label {background-color: #d4ebff;}#sk-container-id-4 input.sk-hidden--visually {border: 0;clip: rect(1px 1px 1px 1px);clip: rect(1px, 1px, 1px, 1px);height: 1px;margin: -1px;overflow: hidden;padding: 0;position: absolute;width: 1px;}#sk-container-id-4 div.sk-estimator {font-family: monospace;background-color: #f0f8ff;border: 1px dotted black;border-radius: 0.25em;box-sizing: border-box;margin-bottom: 0.5em;}#sk-container-id-4 div.sk-estimator:hover {background-color: #d4ebff;}#sk-container-id-4 div.sk-parallel-item::after {content: \"\";width: 100%;border-bottom: 1px solid gray;flex-grow: 1;}#sk-container-id-4 div.sk-label:hover label.sk-toggleable__label {background-color: #d4ebff;}#sk-container-id-4 div.sk-serial::before {content: \"\";position: absolute;border-left: 1px solid gray;box-sizing: border-box;top: 0;bottom: 0;left: 50%;z-index: 0;}#sk-container-id-4 div.sk-serial {display: flex;flex-direction: column;align-items: center;background-color: white;padding-right: 0.2em;padding-left: 0.2em;position: relative;}#sk-container-id-4 div.sk-item {position: relative;z-index: 1;}#sk-container-id-4 div.sk-parallel {display: flex;align-items: stretch;justify-content: center;background-color: white;position: relative;}#sk-container-id-4 div.sk-item::before, #sk-container-id-4 div.sk-parallel-item::before {content: \"\";position: absolute;border-left: 1px solid gray;box-sizing: border-box;top: 0;bottom: 0;left: 50%;z-index: -1;}#sk-container-id-4 div.sk-parallel-item {display: flex;flex-direction: column;z-index: 1;position: relative;background-color: white;}#sk-container-id-4 div.sk-parallel-item:first-child::after {align-self: flex-end;width: 50%;}#sk-container-id-4 div.sk-parallel-item:last-child::after {align-self: flex-start;width: 50%;}#sk-container-id-4 div.sk-parallel-item:only-child::after {width: 0;}#sk-container-id-4 div.sk-dashed-wrapped {border: 1px dashed gray;margin: 0 0.4em 0.5em 0.4em;box-sizing: border-box;padding-bottom: 0.4em;background-color: white;}#sk-container-id-4 div.sk-label label {font-family: monospace;font-weight: bold;display: inline-block;line-height: 1.2em;}#sk-container-id-4 div.sk-label-container {text-align: center;}#sk-container-id-4 div.sk-container {/* jupyter's `normalize.less` sets `[hidden] { display: none; }` but bootstrap.min.css set `[hidden] { display: none !important; }` so we also need the `!important` here to be able to override the default hidden behavior on the sphinx rendered scikit-learn.org. See: https://github.com/scikit-learn/scikit-learn/issues/21755 */display: inline-block !important;position: relative;}#sk-container-id-4 div.sk-text-repr-fallback {display: none;}</style><div id=\"sk-container-id-4\" class=\"sk-top-container\"><div class=\"sk-text-repr-fallback\"><pre>SVC(C=0.01, kernel=&#x27;linear&#x27;)</pre><b>In a Jupyter environment, please rerun this cell to show the HTML representation or trust the notebook. <br />On GitHub, the HTML representation is unable to render, please try loading this page with nbviewer.org.</b></div><div class=\"sk-container\" hidden><div class=\"sk-item\"><div class=\"sk-estimator sk-toggleable\"><input class=\"sk-toggleable__control sk-hidden--visually\" id=\"sk-estimator-id-8\" type=\"checkbox\" checked><label for=\"sk-estimator-id-8\" class=\"sk-toggleable__label sk-toggleable__label-arrow\">SVC</label><div class=\"sk-toggleable__content\"><pre>SVC(C=0.01, kernel=&#x27;linear&#x27;)</pre></div></div></div></div></div>"
      ],
      "text/plain": [
       "SVC(C=0.01, kernel='linear')"
      ]
     },
     "execution_count": 97,
     "metadata": {},
     "output_type": "execute_result"
    }
   ],
   "source": [
    "grid_search_svc.best_estimator_"
   ]
  },
  {
   "cell_type": "code",
   "execution_count": 179,
   "metadata": {},
   "outputs": [],
   "source": [
    "svc = SVC(C=0.01, kernel=\"linear\")"
   ]
  },
  {
   "cell_type": "code",
   "execution_count": 180,
   "metadata": {},
   "outputs": [
    {
     "data": {
      "text/plain": [
       "0.8400709219858156"
      ]
     },
     "execution_count": 180,
     "metadata": {},
     "output_type": "execute_result"
    }
   ],
   "source": [
    "cross_val_score(svc, X_train, y_train, cv=5).mean()"
   ]
  },
  {
   "cell_type": "code",
   "execution_count": 181,
   "metadata": {},
   "outputs": [
    {
     "data": {
      "text/plain": [
       "0.8739495798319328"
      ]
     },
     "execution_count": 181,
     "metadata": {},
     "output_type": "execute_result"
    }
   ],
   "source": [
    "svc.fit(X_train, y_train)\n",
    "svc.score(X_test, y_test)"
   ]
  },
  {
   "cell_type": "markdown",
   "metadata": {},
   "source": [
    "# With a lot of randomly added data"
   ]
  },
  {
   "cell_type": "code",
   "execution_count": 259,
   "metadata": {},
   "outputs": [],
   "source": [
    "train, test = train_test_split(facial_points, test_size=0.33)"
   ]
  },
  {
   "cell_type": "code",
   "execution_count": 260,
   "metadata": {},
   "outputs": [],
   "source": [
    "train = create_data(train, 5000, 5)"
   ]
  },
  {
   "cell_type": "code",
   "execution_count": 261,
   "metadata": {},
   "outputs": [],
   "source": [
    "X_train, y_train = train.loc[:, \"0\":\"135\"], train[\"emotion\"]"
   ]
  },
  {
   "cell_type": "code",
   "execution_count": 262,
   "metadata": {},
   "outputs": [],
   "source": [
    "X_test, y_test = test.loc[:, \"0\":\"135\"], test[\"emotion\"]"
   ]
  },
  {
   "cell_type": "markdown",
   "metadata": {},
   "source": [
    "## Decision Tree"
   ]
  },
  {
   "cell_type": "code",
   "execution_count": 263,
   "metadata": {},
   "outputs": [],
   "source": [
    "tree = DecisionTreeClassifier(criterion='log_loss', max_depth=13, max_leaf_nodes=100,\n",
    "                                min_samples_leaf=5, min_samples_split=6)"
   ]
  },
  {
   "cell_type": "code",
   "execution_count": 264,
   "metadata": {},
   "outputs": [
    {
     "data": {
      "text/plain": [
       "0.9386101898101898"
      ]
     },
     "execution_count": 264,
     "metadata": {},
     "output_type": "execute_result"
    }
   ],
   "source": [
    "cross_val_score(tree, X_train, y_train, cv=5).mean()"
   ]
  },
  {
   "cell_type": "code",
   "execution_count": 265,
   "metadata": {},
   "outputs": [
    {
     "data": {
      "text/plain": [
       "0.5084745762711864"
      ]
     },
     "execution_count": 265,
     "metadata": {},
     "output_type": "execute_result"
    }
   ],
   "source": [
    "tree.fit(X_train, y_train)\n",
    "tree.score(X_test, y_test)"
   ]
  },
  {
   "cell_type": "markdown",
   "metadata": {},
   "source": [
    "## Random Forest"
   ]
  },
  {
   "cell_type": "code",
   "execution_count": 266,
   "metadata": {},
   "outputs": [],
   "source": [
    "rd_forest = RandomForestClassifier(criterion=\"log_loss\", max_depth=9, max_features=None)"
   ]
  },
  {
   "cell_type": "code",
   "execution_count": 267,
   "metadata": {},
   "outputs": [
    {
     "data": {
      "text/plain": [
       "0.9956005994005993"
      ]
     },
     "execution_count": 267,
     "metadata": {},
     "output_type": "execute_result"
    }
   ],
   "source": [
    "cross_val_score(rd_forest, X_train, y_train, cv=5).mean()"
   ]
  },
  {
   "cell_type": "code",
   "execution_count": 268,
   "metadata": {},
   "outputs": [
    {
     "data": {
      "text/plain": [
       "0.559322033898305"
      ]
     },
     "execution_count": 268,
     "metadata": {},
     "output_type": "execute_result"
    }
   ],
   "source": [
    "rd_forest.fit(X_train, y_train)\n",
    "rd_forest.score(X_test, y_test)"
   ]
  },
  {
   "cell_type": "markdown",
   "metadata": {},
   "source": [
    "## MLP"
   ]
  },
  {
   "cell_type": "code",
   "execution_count": 269,
   "metadata": {},
   "outputs": [],
   "source": [
    "mlp = MLPClassifier(activation=\"tanh\", hidden_layer_sizes=1000, max_iter=1000, solver=\"lbfgs\")"
   ]
  },
  {
   "cell_type": "code",
   "execution_count": 270,
   "metadata": {},
   "outputs": [
    {
     "data": {
      "text/plain": [
       "0.9384127872127872"
      ]
     },
     "execution_count": 270,
     "metadata": {},
     "output_type": "execute_result"
    }
   ],
   "source": [
    "cross_val_score(mlp, X_train, y_train, cv=5).mean()"
   ]
  },
  {
   "cell_type": "code",
   "execution_count": 271,
   "metadata": {},
   "outputs": [
    {
     "data": {
      "text/plain": [
       "0.7372881355932204"
      ]
     },
     "execution_count": 271,
     "metadata": {},
     "output_type": "execute_result"
    }
   ],
   "source": [
    "mlp.fit(X_train, y_train)\n",
    "mlp.score(X_test, y_test)"
   ]
  },
  {
   "cell_type": "markdown",
   "metadata": {},
   "source": [
    "## Logistic Regression"
   ]
  },
  {
   "cell_type": "code",
   "execution_count": 272,
   "metadata": {},
   "outputs": [],
   "source": [
    "lr = LogisticRegression(solver=\"newton-cg\")"
   ]
  },
  {
   "cell_type": "code",
   "execution_count": 273,
   "metadata": {},
   "outputs": [
    {
     "data": {
      "text/plain": [
       "0.9942013986013987"
      ]
     },
     "execution_count": 273,
     "metadata": {},
     "output_type": "execute_result"
    }
   ],
   "source": [
    "cross_val_score(lr, X_train, y_train, cv=5).mean()"
   ]
  },
  {
   "cell_type": "code",
   "execution_count": 274,
   "metadata": {},
   "outputs": [
    {
     "data": {
      "text/plain": [
       "0.8559322033898306"
      ]
     },
     "execution_count": 274,
     "metadata": {},
     "output_type": "execute_result"
    }
   ],
   "source": [
    "lr.fit(X_train, y_train)\n",
    "lr.score(X_test, y_test)"
   ]
  },
  {
   "cell_type": "markdown",
   "metadata": {},
   "source": [
    "## SVC"
   ]
  },
  {
   "cell_type": "code",
   "execution_count": 275,
   "metadata": {},
   "outputs": [],
   "source": [
    "svc = SVC(C=0.01, kernel=\"linear\")"
   ]
  },
  {
   "cell_type": "code",
   "execution_count": 276,
   "metadata": {},
   "outputs": [
    {
     "data": {
      "text/plain": [
       "0.9958005994005994"
      ]
     },
     "execution_count": 276,
     "metadata": {},
     "output_type": "execute_result"
    }
   ],
   "source": [
    "cross_val_score(svc, X_train, y_train, cv=5).mean()"
   ]
  },
  {
   "cell_type": "code",
   "execution_count": 277,
   "metadata": {},
   "outputs": [
    {
     "data": {
      "text/plain": [
       "0.8389830508474576"
      ]
     },
     "execution_count": 277,
     "metadata": {},
     "output_type": "execute_result"
    }
   ],
   "source": [
    "svc.fit(X_train, y_train)\n",
    "svc.score(X_test, y_test)"
   ]
  },
  {
   "cell_type": "markdown",
   "metadata": {},
   "source": [
    "## Avec nombre de sample ajouté optmi"
   ]
  },
  {
   "cell_type": "code",
   "execution_count": 278,
   "metadata": {},
   "outputs": [],
   "source": [
    "train, test = train_test_split(facial_points, test_size=0.33)"
   ]
  },
  {
   "cell_type": "code",
   "execution_count": 279,
   "metadata": {},
   "outputs": [],
   "source": [
    "train = create_data(train, 3000, 12)"
   ]
  },
  {
   "cell_type": "code",
   "execution_count": 280,
   "metadata": {},
   "outputs": [],
   "source": [
    "X_train, y_train = train.loc[:, \"0\":\"135\"], train[\"emotion\"]"
   ]
  },
  {
   "cell_type": "code",
   "execution_count": 281,
   "metadata": {},
   "outputs": [],
   "source": [
    "X_test, y_test = test.loc[:, \"0\":\"135\"], test[\"emotion\"]"
   ]
  },
  {
   "cell_type": "markdown",
   "metadata": {},
   "source": [
    "## Decision Tree"
   ]
  },
  {
   "cell_type": "code",
   "execution_count": 282,
   "metadata": {},
   "outputs": [],
   "source": [
    "tree = DecisionTreeClassifier(criterion='log_loss', max_depth=13, max_leaf_nodes=100,\n",
    "                                min_samples_leaf=5, min_samples_split=6)"
   ]
  },
  {
   "cell_type": "code",
   "execution_count": 283,
   "metadata": {},
   "outputs": [
    {
     "data": {
      "text/plain": [
       "0.769"
      ]
     },
     "execution_count": 283,
     "metadata": {},
     "output_type": "execute_result"
    }
   ],
   "source": [
    "cross_val_score(tree, X_train, y_train).mean()"
   ]
  },
  {
   "cell_type": "code",
   "execution_count": 284,
   "metadata": {},
   "outputs": [
    {
     "data": {
      "text/plain": [
       "0.5508474576271186"
      ]
     },
     "execution_count": 284,
     "metadata": {},
     "output_type": "execute_result"
    }
   ],
   "source": [
    "tree.fit(X_train, y_train)\n",
    "tree.score(X_test, y_test)"
   ]
  },
  {
   "cell_type": "markdown",
   "metadata": {},
   "source": [
    "## Random Forest"
   ]
  },
  {
   "cell_type": "code",
   "execution_count": 285,
   "metadata": {},
   "outputs": [],
   "source": [
    "rd_forest = RandomForestClassifier(criterion=\"log_loss\", max_depth=9, max_features=None)"
   ]
  },
  {
   "cell_type": "code",
   "execution_count": 286,
   "metadata": {},
   "outputs": [
    {
     "data": {
      "text/plain": [
       "0.9263333333333333"
      ]
     },
     "execution_count": 286,
     "metadata": {},
     "output_type": "execute_result"
    }
   ],
   "source": [
    "cross_val_score(rd_forest, X_train, y_train).mean()"
   ]
  },
  {
   "cell_type": "code",
   "execution_count": 287,
   "metadata": {},
   "outputs": [
    {
     "data": {
      "text/plain": [
       "0.7033898305084746"
      ]
     },
     "execution_count": 287,
     "metadata": {},
     "output_type": "execute_result"
    }
   ],
   "source": [
    "rd_forest.fit(X_train, y_train)\n",
    "rd_forest.score(X_test, y_test)"
   ]
  },
  {
   "cell_type": "markdown",
   "metadata": {},
   "source": [
    "## MLP "
   ]
  },
  {
   "cell_type": "code",
   "execution_count": 288,
   "metadata": {},
   "outputs": [],
   "source": [
    "mlp = MLPClassifier(activation=\"tanh\", hidden_layer_sizes=1000, max_iter=1000, solver=\"lbfgs\")"
   ]
  },
  {
   "cell_type": "code",
   "execution_count": 289,
   "metadata": {},
   "outputs": [
    {
     "data": {
      "text/plain": [
       "0.8773333333333333"
      ]
     },
     "execution_count": 289,
     "metadata": {},
     "output_type": "execute_result"
    }
   ],
   "source": [
    "cross_val_score(mlp, X_train, y_train, cv=5).mean()"
   ]
  },
  {
   "cell_type": "code",
   "execution_count": 290,
   "metadata": {},
   "outputs": [
    {
     "data": {
      "text/plain": [
       "0.864406779661017"
      ]
     },
     "execution_count": 290,
     "metadata": {},
     "output_type": "execute_result"
    }
   ],
   "source": [
    "mlp.fit(X_train, y_train)\n",
    "mlp.score(X_test, y_test)"
   ]
  },
  {
   "cell_type": "markdown",
   "metadata": {},
   "source": [
    "## Regression Logistique"
   ]
  },
  {
   "cell_type": "code",
   "execution_count": 291,
   "metadata": {},
   "outputs": [],
   "source": [
    "lr = LogisticRegression(solver=\"newton-cg\")"
   ]
  },
  {
   "cell_type": "code",
   "execution_count": 292,
   "metadata": {},
   "outputs": [
    {
     "data": {
      "text/plain": [
       "0.8673333333333332"
      ]
     },
     "execution_count": 292,
     "metadata": {},
     "output_type": "execute_result"
    }
   ],
   "source": [
    "cross_val_score(lr, X_train, y_train).mean()"
   ]
  },
  {
   "cell_type": "code",
   "execution_count": 293,
   "metadata": {},
   "outputs": [
    {
     "data": {
      "text/plain": [
       "0.9322033898305084"
      ]
     },
     "execution_count": 293,
     "metadata": {},
     "output_type": "execute_result"
    }
   ],
   "source": [
    "lr.fit(X_train, y_train)\n",
    "lr.score(X_test, y_test)"
   ]
  },
  {
   "cell_type": "markdown",
   "metadata": {},
   "source": [
    "## SVC"
   ]
  },
  {
   "cell_type": "code",
   "execution_count": 294,
   "metadata": {},
   "outputs": [],
   "source": [
    "svc = SVC(C=0.01, kernel=\"linear\")"
   ]
  },
  {
   "cell_type": "code",
   "execution_count": 295,
   "metadata": {},
   "outputs": [
    {
     "data": {
      "text/plain": [
       "0.9120000000000001"
      ]
     },
     "execution_count": 295,
     "metadata": {},
     "output_type": "execute_result"
    }
   ],
   "source": [
    "cross_val_score(svc, X_train, y_train).mean()"
   ]
  },
  {
   "cell_type": "code",
   "execution_count": 296,
   "metadata": {},
   "outputs": [
    {
     "data": {
      "text/plain": [
       "0.8728813559322034"
      ]
     },
     "execution_count": 296,
     "metadata": {},
     "output_type": "execute_result"
    }
   ],
   "source": [
    "svc.fit(X_train, y_train)\n",
    "svc.score(X_test, y_test)"
   ]
  },
  {
   "cell_type": "markdown",
   "metadata": {},
   "source": [
    "## <span style=\"color:blue\">Bagging with Logistic Regression / SVC"
   ]
  },
  {
   "cell_type": "code",
   "execution_count": 77,
   "metadata": {},
   "outputs": [],
   "source": [
    "from sklearn.ensemble import BaggingClassifier"
   ]
  },
  {
   "cell_type": "code",
   "execution_count": 85,
   "metadata": {},
   "outputs": [],
   "source": [
    "bag = BaggingClassifier(estimator=LogisticRegression(multi_class=\"ovr\"), n_estimators=50)"
   ]
  },
  {
   "cell_type": "code",
   "execution_count": 86,
   "metadata": {},
   "outputs": [
    {
     "data": {
      "text/plain": [
       "0.9165261845386533"
      ]
     },
     "execution_count": 86,
     "metadata": {},
     "output_type": "execute_result"
    }
   ],
   "source": [
    "cross_val_score(bag, X_train, y_train).mean()"
   ]
  },
  {
   "cell_type": "code",
   "execution_count": 87,
   "metadata": {},
   "outputs": [
    {
     "data": {
      "text/plain": [
       "0.8728813559322034"
      ]
     },
     "execution_count": 87,
     "metadata": {},
     "output_type": "execute_result"
    }
   ],
   "source": [
    "bag.fit(X_train, y_train)\n",
    "bag.score(X_test, y_test)"
   ]
  },
  {
   "cell_type": "code",
   "execution_count": 297,
   "metadata": {},
   "outputs": [],
   "source": [
    "bag2 = BaggingClassifier(estimator=SVC(C=0.01, kernel=\"linear\"), n_estimators=500)"
   ]
  },
  {
   "cell_type": "code",
   "execution_count": 298,
   "metadata": {},
   "outputs": [
    {
     "data": {
      "text/plain": [
       "0.933"
      ]
     },
     "execution_count": 298,
     "metadata": {},
     "output_type": "execute_result"
    }
   ],
   "source": [
    "cross_val_score(bag2, X_train, y_train).mean()"
   ]
  },
  {
   "cell_type": "code",
   "execution_count": 299,
   "metadata": {},
   "outputs": [
    {
     "data": {
      "text/plain": [
       "0.864406779661017"
      ]
     },
     "execution_count": 299,
     "metadata": {},
     "output_type": "execute_result"
    }
   ],
   "source": [
    "bag2.fit(X_train, y_train)\n",
    "bag2.score(X_test, y_test)"
   ]
  },
  {
   "cell_type": "markdown",
   "metadata": {},
   "source": [
    "## Confusion Matrix"
   ]
  },
  {
   "cell_type": "code",
   "execution_count": 301,
   "metadata": {},
   "outputs": [],
   "source": [
    "emotions = [\"happy\", \"fear\", \"surprise\", \"anger\", \"disgust\", \"sadness\"]"
   ]
  },
  {
   "cell_type": "code",
   "execution_count": 304,
   "metadata": {},
   "outputs": [
    {
     "data": {
      "image/png": "[encoded data removed]",
      "text/plain": [
       "<Figure size 432x432 with 2 Axes>"
      ]
     },
     "metadata": {
      "needs_background": "light"
     },
     "output_type": "display_data"
    }
   ],
   "source": [
    "matrix = ConfusionMatrixDisplay(confusion_matrix(test.loc[:, \"emotion\"], lr.predict(test.loc[:, \"0\":\"135\"])), display_labels=emotions)\n",
    "matrix.plot()\n",
    "matrix.ax_.set_title(\"Confusion Matrix for the Logistic Regression\")\n",
    "fig = matrix.ax_.get_figure() \n",
    "fig.set_figwidth(6)\n",
    "fig.set_figheight(6) "
   ]
  },
  {
   "cell_type": "code",
   "execution_count": 306,
   "metadata": {},
   "outputs": [
    {
     "data": {
      "image/png": "[encoded data removed]",
      "text/plain": [
       "<Figure size 432x432 with 2 Axes>"
      ]
     },
     "metadata": {
      "needs_background": "light"
     },
     "output_type": "display_data"
    }
   ],
   "source": [
    "matrix = ConfusionMatrixDisplay(confusion_matrix(test.loc[:, \"emotion\"], svc.predict(test.loc[:, \"0\":\"135\"])), display_labels=emotions)\n",
    "matrix.plot()\n",
    "matrix.ax_.set_title(\"Confusion Matrix for the SVC\")\n",
    "fig = matrix.ax_.get_figure() \n",
    "fig.set_figwidth(6)\n",
    "fig.set_figheight(6) "
   ]
  },
  {
   "cell_type": "code",
   "execution_count": 307,
   "metadata": {},
   "outputs": [
    {
     "data": {
      "image/png": "[encoded data removed]",
      "text/plain": [
       "<Figure size 432x432 with 2 Axes>"
      ]
     },
     "metadata": {
      "needs_background": "light"
     },
     "output_type": "display_data"
    }
   ],
   "source": [
    "matrix = ConfusionMatrixDisplay(confusion_matrix(test.loc[:, \"emotion\"], tree.predict(test.loc[:, \"0\":\"135\"])), display_labels=emotions)\n",
    "matrix.plot()\n",
    "matrix.ax_.set_title(\"Confusion Matrix for the Decision Tree\")\n",
    "fig = matrix.ax_.get_figure() \n",
    "fig.set_figwidth(6)\n",
    "fig.set_figheight(6) "
   ]
  },
  {
   "cell_type": "code",
   "execution_count": null,
   "metadata": {},
   "outputs": [],
   "source": []
  }
 ],
 "metadata": {
  "kernelspec": {
   "display_name": "Python 3",
   "language": "python",
   "name": "python3"
  },
  "language_info": {
   "codemirror_mode": {
    "name": "ipython",
    "version": 3
   },
   "file_extension": ".py",
   "mimetype": "text/x-python",
   "name": "python",
   "nbconvert_exporter": "python",
   "pygments_lexer": "ipython3",
   "version": "3.10.12"
  }
 },
 "nbformat": 4,
 "nbformat_minor": 2
}
